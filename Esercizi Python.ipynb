{
  "nbformat": 4,
  "nbformat_minor": 0,
  "metadata": {
    "colab": {
      "name": "Untitled22.ipynb",
      "provenance": [],
      "collapsed_sections": [],
      "authorship_tag": "ABX9TyOo7nSYbCjl8j48xqutlER9",
      "include_colab_link": true
    },
    "kernelspec": {
      "name": "python3",
      "display_name": "Python 3"
    },
    "language_info": {
      "name": "python"
    }
  },
  "cells": [
    {
      "cell_type": "markdown",
      "metadata": {
        "id": "view-in-github",
        "colab_type": "text"
      },
      "source": [
        "<a href=\"https://colab.research.google.com/github/MichelaPascale/AI_Python/blob/main/Esercizi%20Python.ipynb\" target=\"_parent\"><img src=\"https://colab.research.google.com/assets/colab-badge.svg\" alt=\"Open In Colab\"/></a>"
      ]
    },
    {
      "cell_type": "markdown",
      "metadata": {
        "id": "0WumFxrQYsng"
      },
      "source": [
        "Scrivere un programma Python che memorizzi il numero di occorrenze delle parole in un testo"
      ]
    },
    {
      "cell_type": "code",
      "metadata": {
        "id": "GH7Yd9g9Y4QT"
      },
      "source": [
        "def num_parole(frase):\n",
        "  d = {}  #oppure posso inizializzarlo con d = dict()\n",
        "  \n",
        "  for parola in frase:\n",
        "    if(parola not in d):\n",
        "      d[parola] = 1\n",
        "    else:\n",
        "      d[parola] = d[parola] + 1\n",
        "\n",
        "  print(d)"
      ],
      "execution_count": null,
      "outputs": []
    },
    {
      "cell_type": "code",
      "metadata": {
        "colab": {
          "base_uri": "https://localhost:8080/"
        },
        "id": "KPK9b96EZeCT",
        "outputId": "ca561452-3ba3-435b-a5c1-f7bdf7bfd4ca"
      },
      "source": [
        "num_parole('Oggi sono depressa perchè sono nella merda più totale')"
      ],
      "execution_count": null,
      "outputs": [
        {
          "output_type": "stream",
          "text": [
            "{'O': 1, 'g': 2, 'i': 2, ' ': 8, 's': 4, 'o': 5, 'n': 3, 'd': 2, 'e': 6, 'p': 3, 'r': 3, 'a': 4, 'c': 1, 'h': 1, 'è': 1, 'l': 3, 'm': 1, 'ù': 1, 't': 2}\n"
          ],
          "name": "stdout"
        }
      ]
    },
    {
      "cell_type": "code",
      "metadata": {
        "colab": {
          "base_uri": "https://localhost:8080/"
        },
        "id": "tjNocnKnJQk2",
        "outputId": "76558c8f-526a-4706-d1f0-499d3961ba26"
      },
      "source": [
        "values = [1, 2, 4, 6, 3, 8, 3, 7]\n",
        "\n",
        "print('[ %d' % values[0], end='')\n",
        "for i in range(1, len(values)):\n",
        "  print(\",\", values[i], end='')\n",
        "print(' ]')\n",
        "print(values)"
      ],
      "execution_count": null,
      "outputs": [
        {
          "output_type": "stream",
          "text": [
            "[ 1, 2, 4, 6, 3, 8, 3, 7 ]\n",
            "[1, 2, 4, 6, 3, 8, 3, 7]\n"
          ],
          "name": "stdout"
        }
      ]
    },
    {
      "cell_type": "code",
      "metadata": {
        "colab": {
          "base_uri": "https://localhost:8080/"
        },
        "id": "QmwinJ-VXagX",
        "outputId": "fd811314-7266-4f6d-8d5f-b00422b2db38"
      },
      "source": [
        "print([3]*4)\n",
        "print(3*[4])"
      ],
      "execution_count": null,
      "outputs": [
        {
          "output_type": "stream",
          "text": [
            "[3, 3, 3, 3]\n",
            "[4, 4, 4]\n"
          ],
          "name": "stdout"
        }
      ]
    },
    {
      "cell_type": "markdown",
      "metadata": {
        "id": "b37FT_3aifac"
      },
      "source": [
        "###Numpy vs liste"
      ]
    },
    {
      "cell_type": "code",
      "metadata": {
        "colab": {
          "base_uri": "https://localhost:8080/"
        },
        "id": "3ZE3ZeIEhzI8",
        "outputId": "760de4fd-b11a-4fcf-b22f-553db17decf6"
      },
      "source": [
        "l * 4"
      ],
      "execution_count": null,
      "outputs": [
        {
          "output_type": "execute_result",
          "data": {
            "text/plain": [
              "[2, 4, 6, 7, 2, 9, 2, 4, 6, 7, 2, 9, 2, 4, 6, 7, 2, 9, 2, 4, 6, 7, 2, 9]"
            ]
          },
          "metadata": {
            "tags": []
          },
          "execution_count": 71
        }
      ]
    },
    {
      "cell_type": "code",
      "metadata": {
        "colab": {
          "base_uri": "https://localhost:8080/"
        },
        "id": "QXKORxxUiGYL",
        "outputId": "d9844a8c-9628-4c8a-fd08-bf6f0fd30d72"
      },
      "source": [
        "import numpy as np\n",
        "\n",
        "array = np.arange(1,5)\n",
        "print(array)"
      ],
      "execution_count": null,
      "outputs": [
        {
          "output_type": "stream",
          "text": [
            "[1 2 3 4]\n"
          ],
          "name": "stdout"
        }
      ]
    },
    {
      "cell_type": "code",
      "metadata": {
        "colab": {
          "base_uri": "https://localhost:8080/"
        },
        "id": "ntiUwbCjiTCu",
        "outputId": "80d9ed20-a6fd-41a1-947e-1b70c2821ee6"
      },
      "source": [
        "array * 4"
      ],
      "execution_count": null,
      "outputs": [
        {
          "output_type": "execute_result",
          "data": {
            "text/plain": [
              "array([ 4,  8, 12, 16])"
            ]
          },
          "metadata": {
            "tags": []
          },
          "execution_count": 74
        }
      ]
    },
    {
      "cell_type": "markdown",
      "metadata": {
        "id": "jPIuAZzYaAAt"
      },
      "source": [
        "##**Esercizi Python, presi da internet**"
      ]
    },
    {
      "cell_type": "markdown",
      "metadata": {
        "id": "6R1QMJC0aeCB"
      },
      "source": [
        "###Max tra Due Numeri\n",
        "Scrivi una funzione che prende due numeri come parametro e manda in print il più grande tra i due.\n",
        "Per quanto Python disponga di una funzione max(), sei invitato a utilizzare le istruzioni If, Elif ed Else per la scrittura dell'algoritmo."
      ]
    },
    {
      "cell_type": "code",
      "metadata": {
        "id": "ufHFbX_6adqM"
      },
      "source": [
        "def max_tra_due_numeri(num1, num2):\n",
        "  if(num1 > num2):\n",
        "    print('Il più grande è: %d' %num1)\n",
        "  elif(num1 < num2):\n",
        "    print('Il più grande è: %d' %num2)\n",
        "  else:\n",
        "    print('I due numeri sono uguali')"
      ],
      "execution_count": null,
      "outputs": []
    },
    {
      "cell_type": "code",
      "metadata": {
        "id": "ZEvsP77iXgWH"
      },
      "source": [
        "#main\n",
        "def main():\n",
        "  num1 = input('Indica il primo numero da confrontare: ')\n",
        "  num2 = input('Indica il secondo numero da confrontare: ')\n",
        "\n",
        "  try:\n",
        "    n1 = int(num1)\n",
        "    n2 = int(num2)\n",
        "    max_tra_due_numeri(n1,n2)\n",
        "  except:\n",
        "    print('I valori inseriti non sono numeri, quindi non possono essere confrontati')\n",
        "    print('Vuoi continuare? Si/No')\n",
        "    risposta = input()\n",
        "    risp = risposta.capitalize()\n",
        "    if risp == 'Si':\n",
        "      main()\n",
        "    else:\n",
        "      print('Ok ciao!')"
      ],
      "execution_count": null,
      "outputs": []
    },
    {
      "cell_type": "code",
      "metadata": {
        "colab": {
          "base_uri": "https://localhost:8080/"
        },
        "id": "A5k8sq9bbfn-",
        "outputId": "38b9250e-4fd2-443f-ef82-a3a0d5e74d6c"
      },
      "source": [
        "main()"
      ],
      "execution_count": null,
      "outputs": [
        {
          "output_type": "stream",
          "text": [
            "Indica il primo numero da confrontare: 2\n",
            "Indica il secondo numero da confrontare: ciao\n",
            "I valori inseriti non sono numeri, quindi non possono essere confrontati\n",
            "Vuoi continuare? Si/No\n",
            "si\n",
            "Indica il primo numero da confrontare: 3\n",
            "Indica il secondo numero da confrontare: 6\n",
            "Il più grande è: 6\n"
          ],
          "name": "stdout"
        }
      ]
    },
    {
      "cell_type": "markdown",
      "metadata": {
        "id": "A4FP8GbwfhcR"
      },
      "source": [
        "###Maggiore tra tutti\n",
        "Scrivi un programma che, passata come parametro una lista di interi, fornisce in output il maggiore tra i numeri contenuti nella lista."
      ]
    },
    {
      "cell_type": "code",
      "metadata": {
        "id": "tNpwRstte2B1"
      },
      "source": [
        "def maggiore(lista):\n",
        "\n",
        "  max = 0\n",
        "  for n in lista:\n",
        "    if(n > max):\n",
        "      max = n\n",
        "  return max"
      ],
      "execution_count": null,
      "outputs": []
    },
    {
      "cell_type": "code",
      "metadata": {
        "id": "4iNgTwzJgHow"
      },
      "source": [
        "def maggiore2(lista):\n",
        "\n",
        "  max = 0\n",
        "  i = 0\n",
        "  while i < len(lista):\n",
        "    if(lista[i] > max):\n",
        "      max = lista[i]\n",
        "    else:\n",
        "      i = i + 1\n",
        "  return max"
      ],
      "execution_count": null,
      "outputs": []
    },
    {
      "cell_type": "code",
      "metadata": {
        "colab": {
          "base_uri": "https://localhost:8080/"
        },
        "id": "qgjZYiynfw_5",
        "outputId": "14c52bfc-8e85-40ea-9df3-91730b7820ee"
      },
      "source": [
        "l = [2, 4, 6, 7, 2, 9]\n",
        "max = maggiore(l)\n",
        "max2 = maggiore2(l)\n",
        "print(max)\n",
        "print(max2)"
      ],
      "execution_count": null,
      "outputs": [
        {
          "output_type": "stream",
          "text": [
            "9\n",
            "9\n"
          ],
          "name": "stdout"
        }
      ]
    },
    {
      "cell_type": "markdown",
      "metadata": {
        "id": "WwJ750C7gxe1"
      },
      "source": [
        "###Sei una vocale?\n",
        "Scrivi una funzione a cui viene passato un carattere come parametro, e che ci dice se il carattere è o meno una vocale."
      ]
    },
    {
      "cell_type": "code",
      "metadata": {
        "id": "6TYQEAibgoja"
      },
      "source": [
        "def vocale(c):\n",
        "  char = c.capitalize()\n",
        "  if(char == 'A' or char == 'E' or char == 'I' or char == 'O' or char == 'U'):\n",
        "    return True\n",
        "  else:\n",
        "    return False"
      ],
      "execution_count": null,
      "outputs": []
    },
    {
      "cell_type": "code",
      "metadata": {
        "colab": {
          "base_uri": "https://localhost:8080/"
        },
        "id": "fY-cO8scg3gU",
        "outputId": "f40f1f17-4f1f-42f9-a991-920b6f82b251"
      },
      "source": [
        "vocale('a')"
      ],
      "execution_count": null,
      "outputs": [
        {
          "output_type": "execute_result",
          "data": {
            "text/plain": [
              "True"
            ]
          },
          "metadata": {
            "tags": []
          },
          "execution_count": 65
        }
      ]
    },
    {
      "cell_type": "code",
      "metadata": {
        "colab": {
          "base_uri": "https://localhost:8080/"
        },
        "id": "omrEU0V9hSoL",
        "outputId": "f77c70d2-151d-4c25-e6b6-f54fbfacf2f4"
      },
      "source": [
        "vocale('b')"
      ],
      "execution_count": null,
      "outputs": [
        {
          "output_type": "execute_result",
          "data": {
            "text/plain": [
              "False"
            ]
          },
          "metadata": {
            "tags": []
          },
          "execution_count": 66
        }
      ]
    },
    {
      "cell_type": "code",
      "metadata": {
        "colab": {
          "base_uri": "https://localhost:8080/"
        },
        "id": "LO7Feonvj2Aw",
        "outputId": "c239b304-a8db-48b8-e76a-e5737a95c2e9"
      },
      "source": [
        "vocale('A')"
      ],
      "execution_count": null,
      "outputs": [
        {
          "output_type": "execute_result",
          "data": {
            "text/plain": [
              "True"
            ]
          },
          "metadata": {
            "tags": []
          },
          "execution_count": 80
        }
      ]
    },
    {
      "cell_type": "code",
      "metadata": {
        "id": "Slh2n4sqjXlV"
      },
      "source": [
        "# ALTRA SOLUZIONE\n",
        "\n",
        "def cerca_vocali(carattere):\n",
        "    vocali = \"aeiou\"\n",
        "    if carattere in vocali:\n",
        "        print(f\"Il carattere {carattere} è una vocale\")\n",
        "    else:\n",
        "        print(f\"Il carattere {carattere} non è una vocale\")"
      ],
      "execution_count": null,
      "outputs": []
    },
    {
      "cell_type": "code",
      "metadata": {
        "colab": {
          "base_uri": "https://localhost:8080/"
        },
        "id": "uAryRNOJjpS-",
        "outputId": "6d0e4f91-4886-4d4e-de23-7dcdcd0ce0fb"
      },
      "source": [
        "cerca_vocali('a')"
      ],
      "execution_count": null,
      "outputs": [
        {
          "output_type": "stream",
          "text": [
            "Il carattere a è una vocale\n"
          ],
          "name": "stdout"
        }
      ]
    },
    {
      "cell_type": "markdown",
      "metadata": {
        "id": "QDDv3-hIhdYs"
      },
      "source": [
        "###Somma elementi\n",
        "Scrivi una funzione \"sommatrice\" che somma tra loro tutti gli elementi di una lista di numeri."
      ]
    },
    {
      "cell_type": "code",
      "metadata": {
        "id": "Sc01sKEPhZne"
      },
      "source": [
        "def sommatrice(lista):\n",
        "  \n",
        "  somma = 0\n",
        "  for n in lista:\n",
        "    somma = somma + n\n",
        "  \n",
        "  print('Il risultato della somma è: %s' %str(somma))"
      ],
      "execution_count": null,
      "outputs": []
    },
    {
      "cell_type": "code",
      "metadata": {
        "colab": {
          "base_uri": "https://localhost:8080/"
        },
        "id": "SYDtbn2XhjDx",
        "outputId": "ed9b4aa6-c42f-45c0-d7ae-8d798f2351c4"
      },
      "source": [
        "sommatrice(l)"
      ],
      "execution_count": null,
      "outputs": [
        {
          "output_type": "stream",
          "text": [
            "Il risultato della somma è: 30\n"
          ],
          "name": "stdout"
        }
      ]
    },
    {
      "cell_type": "markdown",
      "metadata": {
        "id": "g7_H9AdVi7cG"
      },
      "source": [
        "###Reverser\n",
        "Scrivi una funzione a cui passerai come parametro una stringa, e che manderà in print una versione inversa (al contrario) della stessa stringa (ad esempio \"abcd\" diventerà \"dcba\")"
      ]
    },
    {
      "cell_type": "code",
      "metadata": {
        "id": "U7WDDtnljDzl"
      },
      "source": [
        "def reverser(stringa):\n",
        "\n",
        "  new_s = ''\n",
        "  i = len(stringa) - 1\n",
        "\n",
        "  while i >= 0:\n",
        "\n",
        "    new_s = new_s + stringa[i]  #il + è la concatenazione\n",
        "    i = i - 1\n",
        "  \n",
        "  print(new_s)"
      ],
      "execution_count": null,
      "outputs": []
    },
    {
      "cell_type": "code",
      "metadata": {
        "colab": {
          "base_uri": "https://localhost:8080/"
        },
        "id": "Y_4ceaeFmfY2",
        "outputId": "eac800a8-02ad-4b2c-d4e9-19454cf0d576"
      },
      "source": [
        "s = 'abcd'\n",
        "reverser(s)"
      ],
      "execution_count": null,
      "outputs": [
        {
          "output_type": "stream",
          "text": [
            "dcba\n"
          ],
          "name": "stdout"
        }
      ]
    },
    {
      "cell_type": "code",
      "metadata": {
        "id": "fCbcG85Cnu4O"
      },
      "source": [
        "def reverser_pro(stringa):\n",
        "    reverse = stringa[::-1]\n",
        "    print(reverse)"
      ],
      "execution_count": null,
      "outputs": []
    },
    {
      "cell_type": "code",
      "metadata": {
        "colab": {
          "base_uri": "https://localhost:8080/"
        },
        "id": "nXUsBqrRnxKw",
        "outputId": "52fd61d2-88fe-4280-864b-bd01e94c9b71"
      },
      "source": [
        "s = 'abcd'\n",
        "reverser_pro(s)"
      ],
      "execution_count": null,
      "outputs": [
        {
          "output_type": "stream",
          "text": [
            "dcba\n"
          ],
          "name": "stdout"
        }
      ]
    },
    {
      "cell_type": "code",
      "metadata": {
        "colab": {
          "base_uri": "https://localhost:8080/"
        },
        "id": "WaJyyPg8j8y6",
        "outputId": "3932b037-ae2b-4f0e-9a16-7ee6c5715791"
      },
      "source": [
        "s = 'ciao'\n",
        "print(s.lstrip('c'))\n",
        "print(s)\n",
        "print(s[1])"
      ],
      "execution_count": null,
      "outputs": [
        {
          "output_type": "stream",
          "text": [
            "iao\n",
            "ciao\n",
            "i\n"
          ],
          "name": "stdout"
        }
      ]
    },
    {
      "cell_type": "markdown",
      "metadata": {
        "id": "8nXEWCIhoCEC"
      },
      "source": [
        "###Palindromo\n",
        "Scrivi una funzione a cui viene passata una parola e riconosce se si tratta di un palindromo (parole che si leggono uguali anche al contrario) oppure meno."
      ]
    },
    {
      "cell_type": "code",
      "metadata": {
        "id": "mSQ4ipywpUoG"
      },
      "source": [
        "def palindromo(stringa):\n",
        "  \n",
        "  new_s = ''\n",
        "  index = len(stringa) - 1\n",
        "\n",
        "  while index >= 0:\n",
        "    new_s = new_s + stringa[index]\n",
        "    index = index - 1\n",
        "  \n",
        "  if new_s == stringa:\n",
        "    print('La stringa %s è palindroma' %stringa)\n",
        "  else:\n",
        "    print('La stringa %s non è palindroma' %stringa)\n"
      ],
      "execution_count": null,
      "outputs": []
    },
    {
      "cell_type": "code",
      "metadata": {
        "colab": {
          "base_uri": "https://localhost:8080/"
        },
        "id": "s_73A9IKq-QV",
        "outputId": "d63509a8-560f-45ad-f9a9-affc1ce4b4af"
      },
      "source": [
        "palindromo('ababa')"
      ],
      "execution_count": null,
      "outputs": [
        {
          "output_type": "stream",
          "text": [
            "La stringa ababa è palindroma\n"
          ],
          "name": "stdout"
        }
      ]
    },
    {
      "cell_type": "code",
      "metadata": {
        "colab": {
          "base_uri": "https://localhost:8080/"
        },
        "id": "k8o_nMSnkD8U",
        "outputId": "416abc3a-6f56-4e05-f642-448962606960"
      },
      "source": [
        "palindroma = 'ababa'\n",
        "\n",
        "len = len(palindroma)\n",
        "\n",
        "split1 = palindroma[:len//2]\n",
        "split2 = palindroma[len//2:]\n",
        "\n",
        "print(split1)\n",
        "print(split2)"
      ],
      "execution_count": null,
      "outputs": [
        {
          "output_type": "stream",
          "text": [
            "ab\n",
            "aba\n"
          ],
          "name": "stdout"
        }
      ]
    },
    {
      "cell_type": "markdown",
      "metadata": {
        "id": "HtRy6ByCrNm0"
      },
      "source": [
        "##Len()"
      ]
    },
    {
      "cell_type": "code",
      "metadata": {
        "id": "AlApGDjUo_Hb"
      },
      "source": [
        "def lunghezza(list_or_string):\n",
        "\n",
        "  len = 0\n",
        "  for i in list_or_string:\n",
        "    len = len + 1\n",
        "\n",
        "  return len"
      ],
      "execution_count": null,
      "outputs": []
    },
    {
      "cell_type": "code",
      "metadata": {
        "colab": {
          "base_uri": "https://localhost:8080/"
        },
        "id": "gD4GBkyErYD3",
        "outputId": "876d79a3-3249-4b6e-8364-c3aadb76cc22"
      },
      "source": [
        "stanchezza = 'stanchezza'\n",
        "print(lunghezza(stanchezza))"
      ],
      "execution_count": null,
      "outputs": [
        {
          "output_type": "stream",
          "text": [
            "10\n"
          ],
          "name": "stdout"
        }
      ]
    },
    {
      "cell_type": "code",
      "metadata": {
        "colab": {
          "base_uri": "https://localhost:8080/"
        },
        "id": "LEOuwncNtaKf",
        "outputId": "70bcfcb4-8985-481a-ff02-f1ff95d2b105"
      },
      "source": [
        "s = stanchezza.split()\n",
        "print(s)\n",
        "print('Lunghezza stringa:', lunghezza(s))"
      ],
      "execution_count": null,
      "outputs": [
        {
          "output_type": "stream",
          "text": [
            "['stanchezza']\n",
            "Lunghezza stringa: 1\n"
          ],
          "name": "stdout"
        }
      ]
    },
    {
      "cell_type": "code",
      "metadata": {
        "colab": {
          "base_uri": "https://localhost:8080/"
        },
        "id": "CA7HoMfGtkgS",
        "outputId": "b7128fca-cab6-423a-c65e-3e1ae0c144f1"
      },
      "source": [
        "s1 = list(stanchezza)\n",
        "print(s1)\n",
        "print('Lunghezza stringa:', lunghezza(s1))"
      ],
      "execution_count": null,
      "outputs": [
        {
          "output_type": "stream",
          "text": [
            "['s', 't', 'a', 'n', 'c', 'h', 'e', 'z', 'z', 'a']\n",
            "Lunghezza stringa: 10\n"
          ],
          "name": "stdout"
        }
      ]
    },
    {
      "cell_type": "markdown",
      "metadata": {
        "id": "kLtnurN1vD4B"
      },
      "source": [
        "###Generatore di Istogrammi\n",
        "Scrivi una funzione che, data una lista di numeri, fornisce in output un istogramma basato su questi numeri, usando asterischi per disegnarlo.\n",
        "\n",
        "Data ad esempio la lista [3, 7, 9, 5], la funzione dovrà produrre questa sequenza:\n",
        "\n",
        "[***]\n",
        "\n",
        "[*******]\n",
        "\n",
        "[*********]\n",
        "\n",
        "[*****]"
      ]
    },
    {
      "cell_type": "code",
      "metadata": {
        "id": "_qrYcJv-uzHn"
      },
      "source": [
        "def istogramma(lista_num):\n",
        "\n",
        "  for n in lista_num:\n",
        "    i = 1\n",
        "    while i<=n:\n",
        "      print('*', end='')\n",
        "      i = i + 1\n",
        "    print(end='\\n')"
      ],
      "execution_count": null,
      "outputs": []
    },
    {
      "cell_type": "code",
      "metadata": {
        "colab": {
          "base_uri": "https://localhost:8080/"
        },
        "id": "XmAdfUNdwDjy",
        "outputId": "36b0a7de-9e13-4dfa-e2d7-b1da38fd76d2"
      },
      "source": [
        "istogramma([3, 7, 9, 5])"
      ],
      "execution_count": null,
      "outputs": [
        {
          "output_type": "stream",
          "text": [
            "***\n",
            "*******\n",
            "*********\n",
            "*****\n"
          ],
          "name": "stdout"
        }
      ]
    },
    {
      "cell_type": "code",
      "metadata": {
        "id": "KNuPFInlwhMm"
      },
      "source": [
        "def istogramma2(lista_num):\n",
        "\n",
        "  for n in lista_num:\n",
        "    print('*' * n)"
      ],
      "execution_count": null,
      "outputs": []
    },
    {
      "cell_type": "code",
      "metadata": {
        "colab": {
          "base_uri": "https://localhost:8080/"
        },
        "id": "ggKDbfo1w_Rw",
        "outputId": "d4ae5848-390a-4310-ccad-9a4a80897faa"
      },
      "source": [
        "istogramma2([3, 7, 9, 5])"
      ],
      "execution_count": null,
      "outputs": [
        {
          "output_type": "stream",
          "text": [
            "***\n",
            "*******\n",
            "*********\n",
            "*****\n"
          ],
          "name": "stdout"
        }
      ]
    },
    {
      "cell_type": "markdown",
      "metadata": {
        "id": "To6mHeIoxNEg"
      },
      "source": [
        "###A ciascuno il suo\n",
        "Scrivi una funzione che data in ingresso una lista A contenente n parole, restituisca in output una lista B di interi che rappresentano la lunghezza delle parole contenute in A."
      ]
    },
    {
      "cell_type": "code",
      "metadata": {
        "id": "7a0r7GnJxBC7"
      },
      "source": [
        "def words_to_len(words_list):\n",
        "\n",
        "  len_list = []\n",
        "  for word in words_list:\n",
        "    lun = len(word)\n",
        "    len_list.append(lun)\n",
        "\n",
        "  print(words_list)\n",
        "  print(len_list)"
      ],
      "execution_count": null,
      "outputs": []
    },
    {
      "cell_type": "code",
      "metadata": {
        "colab": {
          "base_uri": "https://localhost:8080/"
        },
        "id": "TeAFsIMzyLpS",
        "outputId": "932c1ce4-8e2c-412a-ee53-b965eae70d7a"
      },
      "source": [
        "words_list = ['ciao', 'come', 'stai', '?']\n",
        "words_to_len(words_list)"
      ],
      "execution_count": null,
      "outputs": [
        {
          "output_type": "stream",
          "text": [
            "['ciao', 'come', 'stai', '?']\n",
            "[4, 4, 4, 1]\n"
          ],
          "name": "stdout"
        }
      ]
    },
    {
      "cell_type": "markdown",
      "metadata": {
        "id": "EHSbvcofz3o0"
      },
      "source": [
        "###Solamente per soci\n",
        "Scrivi una funzione a cui vengono passati come parametro un elemento e una lista di elementi, e che ti dica in output se l'elemento passato sia presente o meno nella lista.\n",
        "\n",
        "Qualora l'elemento sia presente nella lista, la funzione dovrà inoltre comunicarci l'indice dell'elemento."
      ]
    },
    {
      "cell_type": "code",
      "metadata": {
        "id": "Uy07LeGUx7U7"
      },
      "source": [
        "def member(lista, x):\n",
        "\n",
        "  i = 0\n",
        "  while i<len(lista):\n",
        "    if lista[i] == x:\n",
        "      print(\"Ok! L'elemento %s\" %x + \" è presente nella lista, e l'indice è: %d\" %i)\n",
        "      break\n",
        "    i = i + 1"
      ],
      "execution_count": 183,
      "outputs": []
    },
    {
      "cell_type": "code",
      "metadata": {
        "colab": {
          "base_uri": "https://localhost:8080/"
        },
        "id": "lvXuWfWq4IGm",
        "outputId": "5b6b6df1-ed06-49b2-a626-96f52bffb2ac"
      },
      "source": [
        "lista = ['a', 1, '3', '1', 'b']\n",
        "member(lista, 1)"
      ],
      "execution_count": null,
      "outputs": [
        {
          "output_type": "stream",
          "text": [
            "Ok! L'elemento 1 è presente nella lista, e l'indice è: 1\n"
          ],
          "name": "stdout"
        }
      ]
    },
    {
      "cell_type": "code",
      "metadata": {
        "colab": {
          "base_uri": "https://localhost:8080/"
        },
        "id": "ypcziiy74tQj",
        "outputId": "f35b6dab-99d2-46a2-f984-857b35600fb5"
      },
      "source": [
        "member(lista, '1')"
      ],
      "execution_count": null,
      "outputs": [
        {
          "output_type": "stream",
          "text": [
            "Ok! L'elemento 1 è presente nella lista, e l'indice è: 3\n"
          ],
          "name": "stdout"
        }
      ]
    },
    {
      "cell_type": "code",
      "metadata": {
        "id": "RdW5cXjM5K7v"
      },
      "source": [
        "def membro_di(lista, el):\n",
        "    if el in lista:\n",
        "        print(f\"Il carattere '{el}' è presente nella lista passata, all'indice {lista.index(el)}!\")\n",
        "    else:\n",
        "        print(f\"Il carattere '{el}' NON è presente nella lista passata...\")"
      ],
      "execution_count": 188,
      "outputs": []
    },
    {
      "cell_type": "code",
      "metadata": {
        "colab": {
          "base_uri": "https://localhost:8080/"
        },
        "id": "TtiWcNyU5RKb",
        "outputId": "648e12a0-1b7e-411b-cfab-836749b93a4f"
      },
      "source": [
        "lista = ['a','3', '1', 'b']\n",
        "membro_di(lista, 'a')"
      ],
      "execution_count": 189,
      "outputs": [
        {
          "output_type": "stream",
          "text": [
            "Il carattere 'a' è presente nella lista passata, all'indice 0!\n"
          ],
          "name": "stdout"
        }
      ]
    },
    {
      "cell_type": "markdown",
      "metadata": {
        "id": "M3hoXA5q6f1M"
      },
      "source": [
        "###Il linguaggio dei furfanti\n",
        "In Svezia, i bambini giocano spesso utilizzando un linguaggio un po' particolare detto \"rövarspråket\", che significa \"linguaggio dei furfanti\": consiste nel raddoppiare ogni consonante di una parola e inserire una \"o\" nel mezzo. Ad esempio la parola \"mangiare\" diventa \"momanongogiarore\".\n",
        "\n",
        "Scrivi una funzione in grado di tradurre una parola o frase passata tramite input in \"rövarspråket\".\n",
        "\n",
        "Dopo aver tradotto una frase, il programma dovrà chiedere all'utente se intende tradurne un'altra, e in caso di risposta positiva, dovrà attendere l'inserimento di una nuova parola da parte dell'utente."
      ]
    },
    {
      "cell_type": "code",
      "metadata": {
        "id": "NCbFifkg5R1c"
      },
      "source": [
        "def traslate_rövarspråket(word):\n",
        "  vocali = 'aeiou'\n",
        "  traslated = ''\n",
        "\n",
        "  i = 0\n",
        "  for char in word:\n",
        "    print(char)\n",
        "    if char not in vocali:\n",
        "      traslated = traslated + word[i+2:]\n",
        "    else:\n",
        "      traslated = traslated + char\n",
        "    i = i + 1\n",
        "  \n",
        "  print(traslated)"
      ],
      "execution_count": 204,
      "outputs": []
    },
    {
      "cell_type": "code",
      "metadata": {
        "colab": {
          "base_uri": "https://localhost:8080/"
        },
        "id": "16lZlPr38fRL",
        "outputId": "93feda2c-9dc6-46af-dd51-359b48fd3d1b"
      },
      "source": [
        "word = 'momanongogiarore'\n",
        "traslate_rövarspråket(word)"
      ],
      "execution_count": 205,
      "outputs": [
        {
          "output_type": "stream",
          "text": [
            "m\n",
            "o\n",
            "m\n",
            "a\n",
            "n\n",
            "o\n",
            "n\n",
            "g\n",
            "o\n",
            "g\n",
            "i\n",
            "a\n",
            "r\n",
            "o\n",
            "r\n",
            "e\n",
            "manongogiaroreonongogiaroreangogiaroreoogiaroregiaroreoaroreiareoe\n"
          ],
          "name": "stdout"
        }
      ]
    },
    {
      "cell_type": "code",
      "metadata": {
        "colab": {
          "base_uri": "https://localhost:8080/"
        },
        "id": "C7tgoFHa75I-",
        "outputId": "186d36fa-872a-4d11-a886-7a61b2a8208d"
      },
      "source": [
        "word = 'momanongogiarore'\n",
        "stringa = ''\n",
        "traslated = stringa + word[2:]\n",
        "print(traslated)"
      ],
      "execution_count": 194,
      "outputs": [
        {
          "output_type": "stream",
          "text": [
            "manongogiarore\n"
          ],
          "name": "stdout"
        }
      ]
    }
  ]
}