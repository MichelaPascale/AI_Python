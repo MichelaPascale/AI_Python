{
  "nbformat": 4,
  "nbformat_minor": 0,
  "metadata": {
    "colab": {
      "name": "Untitled15.ipynb",
      "provenance": [],
      "collapsed_sections": [
        "X_nIP5BcTiTo"
      ],
      "authorship_tag": "ABX9TyNSicV9GTp7/j8kWrGZCwNE",
      "include_colab_link": true
    },
    "kernelspec": {
      "name": "python3",
      "display_name": "Python 3"
    },
    "language_info": {
      "name": "python"
    }
  },
  "cells": [
    {
      "cell_type": "markdown",
      "metadata": {
        "id": "view-in-github",
        "colab_type": "text"
      },
      "source": [
        "<a href=\"https://colab.research.google.com/github/MichelaPascale/AI_Python/blob/main/Intro%20Python%20(Liste%2C%20Dizionari%20e%20Tuple)%20-%20Lezione%2022%20Marzo%202021.ipynb\" target=\"_parent\"><img src=\"https://colab.research.google.com/assets/colab-badge.svg\" alt=\"Open In Colab\"/></a>"
      ]
    },
    {
      "cell_type": "markdown",
      "metadata": {
        "id": "07gqc1mJOc9n"
      },
      "source": [
        "# **LEZIONE DEL 22 MARZO 2021 - (INTRO PYTHON) - INTELLIGENZA ARTIFICIALE**"
      ]
    },
    {
      "cell_type": "markdown",
      "metadata": {
        "id": "X_nIP5BcTiTo"
      },
      "source": [
        "## **Liste**"
      ]
    },
    {
      "cell_type": "code",
      "metadata": {
        "colab": {
          "base_uri": "https://localhost:8080/"
        },
        "id": "_nmvWfOMObsg",
        "outputId": "0a3f28db-bd53-4277-9229-ddd92c19b3ba"
      },
      "source": [
        "numeri = [17,23]\n",
        "print(numeri)\n",
        "\n",
        "#modifica del secondo carattere\n",
        "numeri[1] = 5\n",
        "print(numeri)"
      ],
      "execution_count": null,
      "outputs": [
        {
          "output_type": "stream",
          "text": [
            "[17, 23]\n",
            "[17, 5]\n"
          ],
          "name": "stdout"
        }
      ]
    },
    {
      "cell_type": "code",
      "metadata": {
        "colab": {
          "base_uri": "https://localhost:8080/"
        },
        "id": "z7vP8C3-Uj9J",
        "outputId": "bfacd3fb-527a-471b-c298-17ba2e2879d6"
      },
      "source": [
        "formaggi = ['Asiago', 'Brigante', 'Gorgonzola']\n",
        "\n",
        "for formaggio in formaggi:\n",
        "  print(formaggio)"
      ],
      "execution_count": null,
      "outputs": [
        {
          "output_type": "stream",
          "text": [
            "Asiago\n",
            "Brigante\n",
            "Gorgonzola\n"
          ],
          "name": "stdout"
        }
      ]
    },
    {
      "cell_type": "code",
      "metadata": {
        "colab": {
          "base_uri": "https://localhost:8080/"
        },
        "id": "Yi6w_MXsUrCb",
        "outputId": "3d725116-2ea9-4230-80d5-3667a9b4293e"
      },
      "source": [
        "for i in range(len(numeri)): #con range la variabile i varia dal primo \n",
        "                             #elemento della lista all'ultimo (l'ultimo è soecificato tra parentesi)\n",
        "  numeri[i] = numeri[i]*2\n",
        "\n",
        "print(numeri)"
      ],
      "execution_count": null,
      "outputs": [
        {
          "output_type": "stream",
          "text": [
            "[34, 10]\n"
          ],
          "name": "stdout"
        }
      ]
    },
    {
      "cell_type": "code",
      "metadata": {
        "colab": {
          "base_uri": "https://localhost:8080/"
        },
        "id": "QRQLwInBV-Bp",
        "outputId": "02a1b080-c047-40a0-86dd-75888099b82c"
      },
      "source": [
        "numeri2 = [2, 3, 5, 2 , 4, 4, 5 , 6, 6]\n",
        "\n",
        "for i in range(3): #modifica fino al terzo valore -> quindi fino alla posizione 2\n",
        "  numeri2[i] = numeri2[i]*2\n",
        "\n",
        "print(numeri2)"
      ],
      "execution_count": null,
      "outputs": [
        {
          "output_type": "stream",
          "text": [
            "[4, 6, 10, 2, 4, 4, 5, 6, 6]\n"
          ],
          "name": "stdout"
        }
      ]
    },
    {
      "cell_type": "code",
      "metadata": {
        "colab": {
          "base_uri": "https://localhost:8080/"
        },
        "id": "jYAUjD-0WJtm",
        "outputId": "fcaf9340-2f60-45fd-ccf4-246bfae09c1f"
      },
      "source": [
        "a = [1,2,3]\n",
        "b = [4,5,6]\n",
        "c = a+b\n",
        "print(c)"
      ],
      "execution_count": null,
      "outputs": [
        {
          "output_type": "stream",
          "text": [
            "[1, 2, 3, 4, 5, 6]\n"
          ],
          "name": "stdout"
        }
      ]
    },
    {
      "cell_type": "code",
      "metadata": {
        "colab": {
          "base_uri": "https://localhost:8080/"
        },
        "id": "bX5X7S-pWcy0",
        "outputId": "64917330-7fcb-4546-9d50-c7533e24ae8f"
      },
      "source": [
        "a = [1,2,3]\n",
        "b = a*3\n",
        "\n",
        "print(b)"
      ],
      "execution_count": null,
      "outputs": [
        {
          "output_type": "stream",
          "text": [
            "[1, 2, 3, 1, 2, 3, 1, 2, 3]\n"
          ],
          "name": "stdout"
        }
      ]
    },
    {
      "cell_type": "markdown",
      "metadata": {
        "id": "94Ri786UWqlc"
      },
      "source": [
        "**Slice**"
      ]
    },
    {
      "cell_type": "code",
      "metadata": {
        "colab": {
          "base_uri": "https://localhost:8080/"
        },
        "id": "aXKOYeTKWpbs",
        "outputId": "612ce31c-11c5-402e-e197-4f5b2cf93298"
      },
      "source": [
        "t = ['a', 'b', 'c', 'd', 'e']\n",
        "t[1:3]"
      ],
      "execution_count": null,
      "outputs": [
        {
          "output_type": "execute_result",
          "data": {
            "text/plain": [
              "['b', 'c']"
            ]
          },
          "metadata": {
            "tags": []
          },
          "execution_count": 17
        }
      ]
    },
    {
      "cell_type": "code",
      "metadata": {
        "colab": {
          "base_uri": "https://localhost:8080/"
        },
        "id": "OB7EN2eIW4bn",
        "outputId": "c527436f-8ebf-4a35-d1ef-e01dbae466e8"
      },
      "source": [
        "t[:]"
      ],
      "execution_count": null,
      "outputs": [
        {
          "output_type": "execute_result",
          "data": {
            "text/plain": [
              "['a', 'b', 'c', 'd', 'e']"
            ]
          },
          "metadata": {
            "tags": []
          },
          "execution_count": 18
        }
      ]
    },
    {
      "cell_type": "code",
      "metadata": {
        "colab": {
          "base_uri": "https://localhost:8080/"
        },
        "id": "dFumIPSoXAYA",
        "outputId": "ee668a14-9b4d-4bb1-afe8-1327360e75d3"
      },
      "source": [
        "t[1:3] = ['x', 'y']\n",
        "print(t)"
      ],
      "execution_count": null,
      "outputs": [
        {
          "output_type": "stream",
          "text": [
            "['a', 'x', 'y', 'd', 'e']\n"
          ],
          "name": "stdout"
        }
      ]
    },
    {
      "cell_type": "markdown",
      "metadata": {
        "id": "SW9yNcjWXhrW"
      },
      "source": [
        "**Append**"
      ]
    },
    {
      "cell_type": "code",
      "metadata": {
        "colab": {
          "base_uri": "https://localhost:8080/"
        },
        "id": "k1wh5KnxXjgZ",
        "outputId": "ba7508f3-d9f0-40db-a213-1e206b0cd4a9"
      },
      "source": [
        "a = [1,2,3]\n",
        "a.append('d')\n",
        "print(a)"
      ],
      "execution_count": null,
      "outputs": [
        {
          "output_type": "stream",
          "text": [
            "[1, 2, 3, 'd']\n"
          ],
          "name": "stdout"
        }
      ]
    },
    {
      "cell_type": "markdown",
      "metadata": {
        "id": "sv62aptQXL-3"
      },
      "source": [
        "**Extend**"
      ]
    },
    {
      "cell_type": "code",
      "metadata": {
        "colab": {
          "base_uri": "https://localhost:8080/"
        },
        "id": "1IzB-CZPXOir",
        "outputId": "c490bbff-5a39-4757-81dd-511b6dd44e17"
      },
      "source": [
        "a = [1,2,3]\n",
        "b = [4,5,6]\n",
        "a.extend(b)\n",
        "print(a)"
      ],
      "execution_count": 3,
      "outputs": [
        {
          "output_type": "stream",
          "text": [
            "[1, 2, 3, 4, 5, 6]\n"
          ],
          "name": "stdout"
        }
      ]
    },
    {
      "cell_type": "markdown",
      "metadata": {
        "id": "USYLicu4XqYC"
      },
      "source": [
        "**Sort**"
      ]
    },
    {
      "cell_type": "code",
      "metadata": {
        "colab": {
          "base_uri": "https://localhost:8080/"
        },
        "id": "c05_tBX9XpEL",
        "outputId": "2ca64dc0-2643-4570-e488-29132966ee40"
      },
      "source": [
        "n = [2, 3, 5, 2 , 4, 4, 5 , 6, 6]\n",
        "n1 = n.sort()\n",
        "print(n)"
      ],
      "execution_count": null,
      "outputs": [
        {
          "output_type": "stream",
          "text": [
            "[2, 2, 3, 4, 4, 5, 5, 6, 6]\n"
          ],
          "name": "stdout"
        }
      ]
    },
    {
      "cell_type": "code",
      "metadata": {
        "id": "d1MIMYghYP2T",
        "outputId": "3969f52d-c414-47b3-fa68-c5844f9c8428",
        "colab": {
          "base_uri": "https://localhost:8080/"
        }
      },
      "source": [
        "t = ['d', 'c', 'e', 'b', 'a']\n",
        "t.sort()\n",
        "print(t)"
      ],
      "execution_count": 4,
      "outputs": [
        {
          "output_type": "stream",
          "text": [
            "['a', 'b', 'c', 'd', 'e']\n"
          ],
          "name": "stdout"
        }
      ]
    },
    {
      "cell_type": "code",
      "metadata": {
        "colab": {
          "base_uri": "https://localhost:8080/"
        },
        "id": "yUNQOLNoX206",
        "outputId": "803af12c-42ed-4cb2-eeb5-57994e12615e"
      },
      "source": [
        "print(n1) #non vine aggiornata la lista in una variabile, ma è la lista stessa che viene aggiornata"
      ],
      "execution_count": null,
      "outputs": [
        {
          "output_type": "stream",
          "text": [
            "None\n"
          ],
          "name": "stdout"
        }
      ]
    },
    {
      "cell_type": "markdown",
      "metadata": {
        "id": "EEY2e8mRYcBb"
      },
      "source": [
        "**Pop**"
      ]
    },
    {
      "cell_type": "code",
      "metadata": {
        "colab": {
          "base_uri": "https://localhost:8080/"
        },
        "id": "8FwS5GvNYK4r",
        "outputId": "70007801-1637-460d-c586-5e46602d4cb6"
      },
      "source": [
        "a = [1,2,3]\n",
        "x = a.pop(2)  #posizione\n",
        "\n",
        "print(a)\n",
        "print(x)"
      ],
      "execution_count": null,
      "outputs": [
        {
          "output_type": "stream",
          "text": [
            "[1, 2]\n",
            "3\n"
          ],
          "name": "stdout"
        }
      ]
    },
    {
      "cell_type": "markdown",
      "metadata": {
        "id": "xL6qEOTcYfdv"
      },
      "source": [
        "**Del**"
      ]
    },
    {
      "cell_type": "code",
      "metadata": {
        "colab": {
          "base_uri": "https://localhost:8080/"
        },
        "id": "OkDZ7evbYbWl",
        "outputId": "d7aa64ff-8091-4d12-dcf3-dfc02b6c9af5"
      },
      "source": [
        "a = [1,2,3]\n",
        "\n",
        "del a[1]  #posizione\n",
        "print(a)"
      ],
      "execution_count": null,
      "outputs": [
        {
          "output_type": "stream",
          "text": [
            "[1, 3]\n"
          ],
          "name": "stdout"
        }
      ]
    },
    {
      "cell_type": "code",
      "metadata": {
        "colab": {
          "base_uri": "https://localhost:8080/"
        },
        "id": "DU2YNLApY8D3",
        "outputId": "a1ed9168-4041-4c92-d8ee-a97d31c3c115"
      },
      "source": [
        "a = [1, 5, 6, 9, 4, 6, 6 ,7, 7]\n",
        "del a[1:4]\n",
        "print(a)"
      ],
      "execution_count": null,
      "outputs": [
        {
          "output_type": "stream",
          "text": [
            "[1, 4, 6, 6, 7, 7]\n"
          ],
          "name": "stdout"
        }
      ]
    },
    {
      "cell_type": "markdown",
      "metadata": {
        "id": "6UShT2NRY47Z"
      },
      "source": [
        "**Remove**"
      ]
    },
    {
      "cell_type": "code",
      "metadata": {
        "colab": {
          "base_uri": "https://localhost:8080/"
        },
        "id": "aPK4co7uYm7A",
        "outputId": "54272096-df94-4baa-879a-13dc090b119c"
      },
      "source": [
        "a = [1,2,3]\n",
        "x = a.remove(1) #numero da eliminare\n",
        "\n",
        "print(a)\n",
        "print(x)"
      ],
      "execution_count": null,
      "outputs": [
        {
          "output_type": "stream",
          "text": [
            "[2, 3]\n",
            "None\n"
          ],
          "name": "stdout"
        }
      ]
    },
    {
      "cell_type": "markdown",
      "metadata": {
        "id": "LKV-L9D_cpyl"
      },
      "source": [
        "**List**"
      ]
    },
    {
      "cell_type": "code",
      "metadata": {
        "colab": {
          "base_uri": "https://localhost:8080/"
        },
        "id": "Rc4qdEKPcify",
        "outputId": "153d9a75-9902-44d2-acf1-594ef251bbdc"
      },
      "source": [
        "s = 'spam'\n",
        "t = list(s)\n",
        "print(t)"
      ],
      "execution_count": 11,
      "outputs": [
        {
          "output_type": "stream",
          "text": [
            "['s', 'p', 'a', 'm']\n"
          ],
          "name": "stdout"
        }
      ]
    },
    {
      "cell_type": "markdown",
      "metadata": {
        "id": "eHlF7eb_cxn4"
      },
      "source": [
        "**Split**"
      ]
    },
    {
      "cell_type": "code",
      "metadata": {
        "colab": {
          "base_uri": "https://localhost:8080/"
        },
        "id": "mBwDLK7YczAw",
        "outputId": "ae545406-c78f-4544-e968-8757fecb3220"
      },
      "source": [
        "s = 'Intro a Python'\n",
        "t = s.split()\n",
        "print(t)\n",
        "print(t[2])"
      ],
      "execution_count": null,
      "outputs": [
        {
          "output_type": "stream",
          "text": [
            "['Intro', 'a', 'Python']\n",
            "Python\n"
          ],
          "name": "stdout"
        }
      ]
    },
    {
      "cell_type": "code",
      "metadata": {
        "colab": {
          "base_uri": "https://localhost:8080/"
        },
        "id": "0kiEhSWfc85p",
        "outputId": "b2bfe482-ffd1-4944-fb7b-d22da3d73047"
      },
      "source": [
        "s = 'Intro-a-Python'\n",
        "delimiter = '-'\n",
        "s.split(delimiter)"
      ],
      "execution_count": null,
      "outputs": [
        {
          "output_type": "execute_result",
          "data": {
            "text/plain": [
              "['Intro', 'a', 'Python']"
            ]
          },
          "metadata": {
            "tags": []
          },
          "execution_count": 40
        }
      ]
    },
    {
      "cell_type": "markdown",
      "metadata": {
        "id": "GpH5N2uVdINa"
      },
      "source": [
        "**Join**"
      ]
    },
    {
      "cell_type": "code",
      "metadata": {
        "colab": {
          "base_uri": "https://localhost:8080/"
        },
        "id": "qjfonu_pdJlM",
        "outputId": "5f0a4a6b-3992-4b3f-ead3-569365a81a45"
      },
      "source": [
        "t = ['Intro', 'a', 'Python']\n",
        "delimiter = ' '\n",
        "delimiter.join(t)  #quindi join serve per concatenare le stringhe della lista"
      ],
      "execution_count": null,
      "outputs": [
        {
          "output_type": "execute_result",
          "data": {
            "application/vnd.google.colaboratory.intrinsic+json": {
              "type": "string"
            },
            "text/plain": [
              "'Intro a Python'"
            ]
          },
          "metadata": {
            "tags": []
          },
          "execution_count": 43
        }
      ]
    },
    {
      "cell_type": "markdown",
      "metadata": {
        "id": "5xFzTh5deD3a"
      },
      "source": [
        "**Aliasing**"
      ]
    },
    {
      "cell_type": "code",
      "metadata": {
        "colab": {
          "base_uri": "https://localhost:8080/"
        },
        "id": "udr8Ix9teDTI",
        "outputId": "97b63b9d-039a-4d23-8a7f-ef70de206765"
      },
      "source": [
        "a = [1,2,3]\n",
        "b = a\n",
        "a is b\n",
        "b is a"
      ],
      "execution_count": 12,
      "outputs": [
        {
          "output_type": "execute_result",
          "data": {
            "text/plain": [
              "True"
            ]
          },
          "metadata": {
            "tags": []
          },
          "execution_count": 12
        }
      ]
    },
    {
      "cell_type": "code",
      "metadata": {
        "id": "m2LmY1vobFGS",
        "outputId": "148712f2-e9d7-451c-ee3d-257d8c0685ec",
        "colab": {
          "base_uri": "https://localhost:8080/"
        }
      },
      "source": [
        "b[0] = 17\n",
        "print(a)"
      ],
      "execution_count": 13,
      "outputs": [
        {
          "output_type": "stream",
          "text": [
            "[17, 2, 3]\n"
          ],
          "name": "stdout"
        }
      ]
    },
    {
      "cell_type": "markdown",
      "metadata": {
        "id": "BbLlYRG0f15T"
      },
      "source": [
        "##**Dizionari**"
      ]
    },
    {
      "cell_type": "code",
      "metadata": {
        "colab": {
          "base_uri": "https://localhost:8080/"
        },
        "id": "Q25E__i7f59o",
        "outputId": "9ceb1c0f-7660-42d4-8532-c9716053585c"
      },
      "source": [
        "eng2sp = dict()\n",
        "print(eng2sp)"
      ],
      "execution_count": null,
      "outputs": [
        {
          "output_type": "stream",
          "text": [
            "{}\n"
          ],
          "name": "stdout"
        }
      ]
    },
    {
      "cell_type": "code",
      "metadata": {
        "colab": {
          "base_uri": "https://localhost:8080/"
        },
        "id": "s8kPlrfegL1o",
        "outputId": "a7b52d87-425e-4994-bc63-2b36ee2041af"
      },
      "source": [
        "eng2sp['one'] = 'uno'\n",
        "print(eng2sp)"
      ],
      "execution_count": null,
      "outputs": [
        {
          "output_type": "stream",
          "text": [
            "{'one': 'uno'}\n"
          ],
          "name": "stdout"
        }
      ]
    },
    {
      "cell_type": "code",
      "metadata": {
        "colab": {
          "base_uri": "https://localhost:8080/"
        },
        "id": "2F1-HhaagVAk",
        "outputId": "7087a0b1-b584-432f-cb21-638830c78f13"
      },
      "source": [
        "eng2sp = {'one': 'uno', 'two': 'dos', 'tree': 'tres'}\n",
        "print(eng2sp)"
      ],
      "execution_count": 15,
      "outputs": [
        {
          "output_type": "stream",
          "text": [
            "{'one': 'uno', 'two': 'dos', 'tree': 'tres'}\n"
          ],
          "name": "stdout"
        }
      ]
    },
    {
      "cell_type": "code",
      "metadata": {
        "colab": {
          "base_uri": "https://localhost:8080/"
        },
        "id": "-rHQflhDgh0H",
        "outputId": "1b6714fa-d79f-411d-e0ff-b1bafad660e5"
      },
      "source": [
        "print(eng2sp['two'])"
      ],
      "execution_count": null,
      "outputs": [
        {
          "output_type": "stream",
          "text": [
            "dos\n"
          ],
          "name": "stdout"
        }
      ]
    },
    {
      "cell_type": "code",
      "metadata": {
        "colab": {
          "base_uri": "https://localhost:8080/"
        },
        "id": "oRhscFVZgqUL",
        "outputId": "1b497ff2-2ea7-496b-c1c1-a8460720fb2d"
      },
      "source": [
        "len(eng2sp)"
      ],
      "execution_count": null,
      "outputs": [
        {
          "output_type": "execute_result",
          "data": {
            "text/plain": [
              "3"
            ]
          },
          "metadata": {
            "tags": []
          },
          "execution_count": 52
        }
      ]
    },
    {
      "cell_type": "code",
      "metadata": {
        "colab": {
          "base_uri": "https://localhost:8080/"
        },
        "id": "hvJtjzXpgxzt",
        "outputId": "32313aea-a1ab-4e36-c5f0-f7846266935d"
      },
      "source": [
        "vals = list(eng2sp.values())\n",
        "print(vals)"
      ],
      "execution_count": null,
      "outputs": [
        {
          "output_type": "stream",
          "text": [
            "['uno', 'dos', 'tres']\n"
          ],
          "name": "stdout"
        }
      ]
    },
    {
      "cell_type": "code",
      "metadata": {
        "colab": {
          "base_uri": "https://localhost:8080/"
        },
        "id": "tG84CzD-hBB4",
        "outputId": "36f30fb8-9ad1-4b70-e54d-10d988d72ea8"
      },
      "source": [
        "'uno' in vals  #in ricerca solo per chiave"
      ],
      "execution_count": null,
      "outputs": [
        {
          "output_type": "execute_result",
          "data": {
            "text/plain": [
              "True"
            ]
          },
          "metadata": {
            "tags": []
          },
          "execution_count": 56
        }
      ]
    },
    {
      "cell_type": "code",
      "metadata": {
        "id": "Ha-_xNmJc4wF",
        "outputId": "46011541-8244-489d-bec4-4f8f7ba2adca",
        "colab": {
          "base_uri": "https://localhost:8080/"
        }
      },
      "source": [
        "'uno' in eng2sp"
      ],
      "execution_count": 16,
      "outputs": [
        {
          "output_type": "execute_result",
          "data": {
            "text/plain": [
              "False"
            ]
          },
          "metadata": {
            "tags": []
          },
          "execution_count": 16
        }
      ]
    },
    {
      "cell_type": "markdown",
      "metadata": {
        "id": "WOS-cl6e5jQV"
      },
      "source": [
        "###**Tuple - Zip**"
      ]
    },
    {
      "cell_type": "code",
      "metadata": {
        "id": "oZUaNc01fJij",
        "outputId": "80f461ae-9eb2-4c7f-f926-de2c1289709d",
        "colab": {
          "base_uri": "https://localhost:8080/"
        }
      },
      "source": [
        "#COMPARAZIONE\n",
        "\n",
        "txt = 'but soft what light in yonder window breaks'\n",
        "words = txt.split()\n",
        "print(words)\n",
        "t = list()\n",
        "\n",
        "for word in words:\n",
        "  t.append((len(word), word))\n",
        "print(t)\n",
        "\n",
        "t.sort(reverse=True)\n",
        "res = list()\n",
        "print(t)\n",
        "\n",
        "for length, word in t:\n",
        "  res.append(word)\n",
        "\n",
        "print(res)"
      ],
      "execution_count": 19,
      "outputs": [
        {
          "output_type": "stream",
          "text": [
            "['but', 'soft', 'what', 'light', 'in', 'yonder', 'window', 'breaks']\n",
            "[(3, 'but'), (4, 'soft'), (4, 'what'), (5, 'light'), (2, 'in'), (6, 'yonder'), (6, 'window'), (6, 'breaks')]\n",
            "[(6, 'yonder'), (6, 'window'), (6, 'breaks'), (5, 'light'), (4, 'what'), (4, 'soft'), (3, 'but'), (2, 'in')]\n",
            "['yonder', 'window', 'breaks', 'light', 'what', 'soft', 'but', 'in']\n"
          ],
          "name": "stdout"
        }
      ]
    },
    {
      "cell_type": "code",
      "metadata": {
        "colab": {
          "base_uri": "https://localhost:8080/"
        },
        "id": "8d6v9L_rhDJ2",
        "outputId": "2bf55ee5-06c7-46a0-a6c4-7fd6de4e0aed"
      },
      "source": [
        "#ASSEGNAZIONE\n",
        "\n",
        "m = ['have', 'fun']\n",
        "x,y = m\n",
        "print(x)\n",
        "print(y)"
      ],
      "execution_count": null,
      "outputs": [
        {
          "output_type": "stream",
          "text": [
            "have\n",
            "fun\n"
          ],
          "name": "stdout"
        }
      ]
    },
    {
      "cell_type": "code",
      "metadata": {
        "colab": {
          "base_uri": "https://localhost:8080/"
        },
        "id": "CNYWKaKrkRp8",
        "outputId": "eaf65094-d527-4d84-8aa0-f0b6a7923028"
      },
      "source": [
        "addr = 'monty@python.org'\n",
        "user,domain = addr.split('@')\n",
        "print(user)\n",
        "print(domain)"
      ],
      "execution_count": null,
      "outputs": [
        {
          "output_type": "stream",
          "text": [
            "monty\n",
            "python.org\n"
          ],
          "name": "stdout"
        }
      ]
    },
    {
      "cell_type": "code",
      "metadata": {
        "id": "-8EI0azMgs66",
        "outputId": "31789ade-4b44-4ff6-fe05-54e4b0006038",
        "colab": {
          "base_uri": "https://localhost:8080/"
        }
      },
      "source": [
        "d = {'a':10, 'b':1, 'c':22}\n",
        "print(d.items())\n",
        "\n",
        "t = list(d.items())\n",
        "print(t)\n",
        "\n",
        "for key, value in (d.items()):\n",
        "  print(value, key)"
      ],
      "execution_count": 24,
      "outputs": [
        {
          "output_type": "stream",
          "text": [
            "dict_items([('a', 10), ('b', 1), ('c', 22)])\n",
            "[('a', 10), ('b', 1), ('c', 22)]\n",
            "10 a\n",
            "1 b\n",
            "22 c\n"
          ],
          "name": "stdout"
        }
      ]
    },
    {
      "cell_type": "code",
      "metadata": {
        "id": "9ZWNUL91hsoX",
        "outputId": "59c782d8-5fcc-48cd-b0f8-ad1fc1e0792a",
        "colab": {
          "base_uri": "https://localhost:8080/"
        }
      },
      "source": [
        "l = list()\n",
        "\n",
        "for key, val in d.items():\n",
        "  l.append((val,key))\n",
        "print(l)\n",
        "\n",
        "l.sort(reverse=True)\n",
        "print(l)"
      ],
      "execution_count": 25,
      "outputs": [
        {
          "output_type": "stream",
          "text": [
            "[(10, 'a'), (1, 'b'), (22, 'c')]\n",
            "[(22, 'c'), (10, 'a'), (1, 'b')]\n"
          ],
          "name": "stdout"
        }
      ]
    },
    {
      "cell_type": "code",
      "metadata": {
        "colab": {
          "base_uri": "https://localhost:8080/"
        },
        "id": "ldrvpNs-5guo",
        "outputId": "3139f331-1a07-4569-c92f-1c409621da54"
      },
      "source": [
        "#ZIP\n",
        "\n",
        "l1 = [1,2,3,4]\n",
        "l2 = ['a', 'b', 'c', 'd']\n",
        "\n",
        "#Voglio scandire le liste in parallelo\n",
        "\n",
        "for pair in zip(l1,l2):\n",
        "  print(pair)\n",
        "  "
      ],
      "execution_count": null,
      "outputs": [
        {
          "output_type": "stream",
          "text": [
            "(1, 'a')\n",
            "(2, 'b')\n",
            "(3, 'c')\n",
            "(4, 'd')\n"
          ],
          "name": "stdout"
        }
      ]
    },
    {
      "cell_type": "code",
      "metadata": {
        "colab": {
          "base_uri": "https://localhost:8080/"
        },
        "id": "whLxKYaL6Any",
        "outputId": "966c7560-a007-4594-8c8c-c15bcfad9d25"
      },
      "source": [
        "list(zip(l1,l2))"
      ],
      "execution_count": null,
      "outputs": [
        {
          "output_type": "execute_result",
          "data": {
            "text/plain": [
              "[(1, 'a'), (2, 'b'), (3, 'c'), (4, 'd')]"
            ]
          },
          "metadata": {
            "tags": []
          },
          "execution_count": 61
        }
      ]
    },
    {
      "cell_type": "code",
      "metadata": {
        "colab": {
          "base_uri": "https://localhost:8080/"
        },
        "id": "zL3JIReV6D9g",
        "outputId": "d040c919-adb4-4d95-db41-1b65d3644e2e"
      },
      "source": [
        "z = zip(l1,l2)\n",
        "\n",
        "A, B = zip(*z)  #A e B sono le due \"colonne\"\n",
        "\n",
        "print(A)\n",
        "print(B)"
      ],
      "execution_count": null,
      "outputs": [
        {
          "output_type": "stream",
          "text": [
            "(1, 2, 3, 4)\n",
            "('a', 'b', 'c', 'd')\n"
          ],
          "name": "stdout"
        }
      ]
    },
    {
      "cell_type": "code",
      "metadata": {
        "colab": {
          "base_uri": "https://localhost:8080/"
        },
        "id": "0zQxaEXV6pEM",
        "outputId": "90fdb0e1-378d-4a0a-9f90-01f034f0534c"
      },
      "source": [
        "list(A)"
      ],
      "execution_count": null,
      "outputs": [
        {
          "output_type": "execute_result",
          "data": {
            "text/plain": [
              "[1, 2, 3, 4]"
            ]
          },
          "metadata": {
            "tags": []
          },
          "execution_count": 66
        }
      ]
    }
  ]
}