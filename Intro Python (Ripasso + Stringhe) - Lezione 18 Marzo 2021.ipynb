{
  "nbformat": 4,
  "nbformat_minor": 0,
  "metadata": {
    "colab": {
      "name": "Untitled13.ipynb",
      "provenance": [],
      "authorship_tag": "ABX9TyPHJTkKsyXADJeKtQzFAzJX",
      "include_colab_link": true
    },
    "kernelspec": {
      "name": "python3",
      "display_name": "Python 3"
    },
    "language_info": {
      "name": "python"
    }
  },
  "cells": [
    {
      "cell_type": "markdown",
      "metadata": {
        "id": "view-in-github",
        "colab_type": "text"
      },
      "source": [
        "<a href=\"https://colab.research.google.com/github/MichelaPascale/AI_Python/blob/main/Intro%20Python%20(Ripasso%20%2B%20Stringhe)%20-%20Lezione%2018%20Marzo%202021.ipynb\" target=\"_parent\"><img src=\"https://colab.research.google.com/assets/colab-badge.svg\" alt=\"Open In Colab\"/></a>"
      ]
    },
    {
      "cell_type": "markdown",
      "metadata": {
        "id": "ACi42qHr_n3m"
      },
      "source": [
        "### **LEZIONE DEL 18 MARZO 2021 (INTRO PYTHON) - INTELLIGENZA ARTIFICIALE**"
      ]
    },
    {
      "cell_type": "code",
      "metadata": {
        "colab": {
          "base_uri": "https://localhost:8080/",
          "height": 35
        },
        "id": "ZADyDsbA_0mP",
        "outputId": "3b76f8ba-3080-4805-840e-7623436e0438"
      },
      "source": [
        "fruit = 'banana'\n",
        "fruit[0]"
      ],
      "execution_count": null,
      "outputs": [
        {
          "output_type": "execute_result",
          "data": {
            "application/vnd.google.colaboratory.intrinsic+json": {
              "type": "string"
            },
            "text/plain": [
              "'b'"
            ]
          },
          "metadata": {
            "tags": []
          },
          "execution_count": 66
        }
      ]
    },
    {
      "cell_type": "code",
      "metadata": {
        "colab": {
          "base_uri": "https://localhost:8080/"
        },
        "id": "9nt0JZorAahk",
        "outputId": "57227b38-df5e-4244-d43a-eca12e374582"
      },
      "source": [
        "length = len(fruit)\n",
        "print(length)"
      ],
      "execution_count": null,
      "outputs": [
        {
          "output_type": "stream",
          "text": [
            "6\n"
          ],
          "name": "stdout"
        }
      ]
    },
    {
      "cell_type": "code",
      "metadata": {
        "colab": {
          "base_uri": "https://localhost:8080/"
        },
        "id": "KOZZYHdlAkKm",
        "outputId": "eab3866f-867d-4786-d431-5883b83f8c91"
      },
      "source": [
        "last = fruit[length-1]\n",
        "print(last)"
      ],
      "execution_count": null,
      "outputs": [
        {
          "output_type": "stream",
          "text": [
            "a\n"
          ],
          "name": "stdout"
        }
      ]
    },
    {
      "cell_type": "code",
      "metadata": {
        "colab": {
          "base_uri": "https://localhost:8080/"
        },
        "id": "DDpeUPDnA5EN",
        "outputId": "33d2b16d-1943-4b14-dd71-7c65676e64de"
      },
      "source": [
        "i = 0\n",
        "while i < len(fruit):\n",
        "  letter = fruit[i]\n",
        "  print(letter)\n",
        "  i = i+1"
      ],
      "execution_count": null,
      "outputs": [
        {
          "output_type": "stream",
          "text": [
            "b\n",
            "a\n",
            "n\n",
            "a\n",
            "n\n",
            "a\n"
          ],
          "name": "stdout"
        }
      ]
    },
    {
      "cell_type": "code",
      "metadata": {
        "colab": {
          "base_uri": "https://localhost:8080/"
        },
        "id": "09T3d_gCBH_z",
        "outputId": "699be061-59d8-481f-a5c8-a1810d14fab1"
      },
      "source": [
        "for char in fruit:  #posso pensare una stringa come una lista di caratteri\n",
        "  print(char)"
      ],
      "execution_count": null,
      "outputs": [
        {
          "output_type": "stream",
          "text": [
            "b\n",
            "a\n",
            "n\n",
            "a\n",
            "n\n",
            "a\n"
          ],
          "name": "stdout"
        }
      ]
    },
    {
      "cell_type": "code",
      "metadata": {
        "colab": {
          "base_uri": "https://localhost:8080/"
        },
        "id": "37BcGNM9BXeh",
        "outputId": "40eecaca-55f3-4589-ffe1-9b83cba544a0"
      },
      "source": [
        "s = 'Monty Python'\n",
        "print(s[0:5])  #o anche s[:5], quindi lo zero è sottointeso"
      ],
      "execution_count": null,
      "outputs": [
        {
          "output_type": "stream",
          "text": [
            "Monty\n"
          ],
          "name": "stdout"
        }
      ]
    },
    {
      "cell_type": "code",
      "metadata": {
        "id": "Kn8-Wx1NSYeN",
        "outputId": "e17f7d65-2906-4413-c10e-7faeab5e2f4c",
        "colab": {
          "base_uri": "https://localhost:8080/"
        }
      },
      "source": [
        "s1 = 'abcdefeg'\n",
        "print(s1[:5])  #la posizione 5 non viene considerata"
      ],
      "execution_count": 1,
      "outputs": [
        {
          "output_type": "stream",
          "text": [
            "abcde\n"
          ],
          "name": "stdout"
        }
      ]
    },
    {
      "cell_type": "code",
      "metadata": {
        "colab": {
          "base_uri": "https://localhost:8080/"
        },
        "id": "AkUE7G1jBlha",
        "outputId": "ae679f72-a47e-4dd8-ec9d-c21456e166bb"
      },
      "source": [
        "print(s[6:])"
      ],
      "execution_count": null,
      "outputs": [
        {
          "output_type": "stream",
          "text": [
            "Python\n"
          ],
          "name": "stdout"
        }
      ]
    },
    {
      "cell_type": "code",
      "metadata": {
        "colab": {
          "base_uri": "https://localhost:8080/"
        },
        "id": "jNNYJhRkBz74",
        "outputId": "e99f979e-9216-4aa3-b33f-ac07c1c911a7"
      },
      "source": [
        "# MODIFICA DEL PRIMO CARATTERE NELLA STRINGA\n",
        "\n",
        "g = 'Hello World'\n",
        "new_g = 'J' + g[1:] #da 1 in poi\n",
        "print(new_g)\n",
        "\n",
        "new_g = 'H' + g[4:] #Ok, mi elimina tutto quello che c'è prima\n",
        "print(new_g) "
      ],
      "execution_count": null,
      "outputs": [
        {
          "output_type": "stream",
          "text": [
            "Jello World\n",
            "Ho World\n"
          ],
          "name": "stdout"
        }
      ]
    },
    {
      "cell_type": "code",
      "metadata": {
        "colab": {
          "base_uri": "https://localhost:8080/"
        },
        "id": "1UhALxwgCI1S",
        "outputId": "e52c1207-061c-4f9f-bc5e-918488815213"
      },
      "source": [
        "'a' in 'banana'"
      ],
      "execution_count": null,
      "outputs": [
        {
          "output_type": "execute_result",
          "data": {
            "text/plain": [
              "True"
            ]
          },
          "metadata": {
            "tags": []
          },
          "execution_count": 78
        }
      ]
    },
    {
      "cell_type": "code",
      "metadata": {
        "id": "eCwRHfhuS0FS",
        "outputId": "8755fc6d-3ae8-4878-a58b-e56e58300ffe",
        "colab": {
          "base_uri": "https://localhost:8080/"
        }
      },
      "source": [
        "'bn' in 'banana'"
      ],
      "execution_count": 2,
      "outputs": [
        {
          "output_type": "execute_result",
          "data": {
            "text/plain": [
              "False"
            ]
          },
          "metadata": {
            "tags": []
          },
          "execution_count": 2
        }
      ]
    },
    {
      "cell_type": "code",
      "metadata": {
        "colab": {
          "base_uri": "https://localhost:8080/"
        },
        "id": "tsdw_ROCCs5G",
        "outputId": "6d018d26-e055-4ae3-9877-547cb2d3c05b"
      },
      "source": [
        " c = 42\n",
        " stringa = '%d' %c\n",
        " print(stringa)\n",
        " print(type(stringa))"
      ],
      "execution_count": null,
      "outputs": [
        {
          "output_type": "stream",
          "text": [
            "42\n",
            "<class 'str'>\n"
          ],
          "name": "stdout"
        }
      ]
    },
    {
      "cell_type": "code",
      "metadata": {
        "id": "cv2OLD9STIr4",
        "outputId": "d65fb104-06c8-428b-db09-6bc622fd4efc",
        "colab": {
          "base_uri": "https://localhost:8080/"
        }
      },
      "source": [
        "while True:\n",
        "  \n",
        "  word = input('> ')\n",
        "\n",
        "  if (word == 'banana'):\n",
        "    print('All right, bananas.')\n",
        "  elif (word == 'done'):\n",
        "    break\n",
        "  else: \n",
        "    print('This is not a banana')\n",
        "\n",
        "print('Ok, done!')"
      ],
      "execution_count": 6,
      "outputs": [
        {
          "output_type": "stream",
          "text": [
            "> banana\n",
            "All right, bananas.\n",
            "> ciao\n",
            "This is not a banana\n",
            "> done\n",
            "Ok, done!\n"
          ],
          "name": "stdout"
        }
      ]
    },
    {
      "cell_type": "code",
      "metadata": {
        "id": "v2pNp4NDUZfC",
        "outputId": "a7d8a9dc-d1cc-4ce7-b958-7b0266a5847c",
        "colab": {
          "base_uri": "https://localhost:8080/"
        }
      },
      "source": [
        "while True:\n",
        "  \n",
        "  word = input('> ')\n",
        "\n",
        "  if (word == 'done'):\n",
        "    break\n",
        "    \n",
        "  if word < 'banana':\n",
        "    print('Your word,' + word + ', comes before banana.')\n",
        "  elif word > 'banana':\n",
        "    print('Your word, ' + word + ', comes after banana.')\n",
        "  else:\n",
        "    print('All right, bananas.')\n",
        "\n",
        "print('Ok! done')"
      ],
      "execution_count": 11,
      "outputs": [
        {
          "output_type": "stream",
          "text": [
            "> banana\n",
            "All right, bananas.\n",
            "> mandarino\n",
            "Your word, mandarino, comes after banana.\n",
            "> ananas\n",
            "Your word,ananas, comes before banana.\n",
            "> ballo\n",
            "Your word,ballo, comes before banana.\n",
            "> ciao\n",
            "Your word, ciao, comes after banana.\n",
            "> done\n",
            "Ok! done\n"
          ],
          "name": "stdout"
        }
      ]
    },
    {
      "cell_type": "markdown",
      "metadata": {
        "id": "oHktB-zgGtQ3"
      },
      "source": [
        "###**Tipi dati di base**###"
      ]
    },
    {
      "cell_type": "markdown",
      "metadata": {
        "id": "R_TboKJhHAg1"
      },
      "source": [
        "**Interi**"
      ]
    },
    {
      "cell_type": "code",
      "metadata": {
        "colab": {
          "base_uri": "https://localhost:8080/"
        },
        "id": "Vs4Nkb8gGhHi",
        "outputId": "2357be32-2f43-44a1-b9b7-69b935483bc6"
      },
      "source": [
        "a = 1\n",
        "a"
      ],
      "execution_count": null,
      "outputs": [
        {
          "output_type": "execute_result",
          "data": {
            "text/plain": [
              "1"
            ]
          },
          "metadata": {
            "tags": []
          },
          "execution_count": 84
        }
      ]
    },
    {
      "cell_type": "code",
      "metadata": {
        "colab": {
          "base_uri": "https://localhost:8080/"
        },
        "id": "ociQZWftHOW3",
        "outputId": "aa99e230-163d-49a9-c86b-648f282b5854"
      },
      "source": [
        "type(a)"
      ],
      "execution_count": null,
      "outputs": [
        {
          "output_type": "execute_result",
          "data": {
            "text/plain": [
              "int"
            ]
          },
          "metadata": {
            "tags": []
          },
          "execution_count": 85
        }
      ]
    },
    {
      "cell_type": "code",
      "metadata": {
        "colab": {
          "base_uri": "https://localhost:8080/"
        },
        "id": "4IhmxO8OHQMq",
        "outputId": "0aa47dd5-35a0-4924-9f1b-ba0e82ef2dd8"
      },
      "source": [
        "a.bit_length()"
      ],
      "execution_count": null,
      "outputs": [
        {
          "output_type": "execute_result",
          "data": {
            "text/plain": [
              "1"
            ]
          },
          "metadata": {
            "tags": []
          },
          "execution_count": 86
        }
      ]
    },
    {
      "cell_type": "code",
      "metadata": {
        "colab": {
          "base_uri": "https://localhost:8080/"
        },
        "id": "8acqJrrRHVpH",
        "outputId": "186f8044-a5fc-4415-912c-dcd2723d9761"
      },
      "source": [
        "a = 3\n",
        "a.bit_length()"
      ],
      "execution_count": null,
      "outputs": [
        {
          "output_type": "execute_result",
          "data": {
            "text/plain": [
              "2"
            ]
          },
          "metadata": {
            "tags": []
          },
          "execution_count": 88
        }
      ]
    },
    {
      "cell_type": "code",
      "metadata": {
        "colab": {
          "base_uri": "https://localhost:8080/"
        },
        "id": "Ad996BJtHdDO",
        "outputId": "9acf2ad7-8d2e-4523-dd92-94fe46803c2f"
      },
      "source": [
        "googol = 10 ** 100\n",
        "googol"
      ],
      "execution_count": null,
      "outputs": [
        {
          "output_type": "execute_result",
          "data": {
            "text/plain": [
              "10000000000000000000000000000000000000000000000000000000000000000000000000000000000000000000000000000"
            ]
          },
          "metadata": {
            "tags": []
          },
          "execution_count": 89
        }
      ]
    },
    {
      "cell_type": "code",
      "metadata": {
        "colab": {
          "base_uri": "https://localhost:8080/"
        },
        "id": "9VY7o563Hn3z",
        "outputId": "49c03a51-8b71-4382-8df4-d7f54356372d"
      },
      "source": [
        "googol * googol"
      ],
      "execution_count": null,
      "outputs": [
        {
          "output_type": "execute_result",
          "data": {
            "text/plain": [
              "100000000000000000000000000000000000000000000000000000000000000000000000000000000000000000000000000000000000000000000000000000000000000000000000000000000000000000000000000000000000000000000000000000000"
            ]
          },
          "metadata": {
            "tags": []
          },
          "execution_count": 90
        }
      ]
    },
    {
      "cell_type": "code",
      "metadata": {
        "colab": {
          "base_uri": "https://localhost:8080/"
        },
        "id": "L0g82zSkHvj2",
        "outputId": "8448187a-df30-4d1c-e2d0-e86400274c0d"
      },
      "source": [
        "googol.bit_length()"
      ],
      "execution_count": null,
      "outputs": [
        {
          "output_type": "execute_result",
          "data": {
            "text/plain": [
              "333"
            ]
          },
          "metadata": {
            "tags": []
          },
          "execution_count": 91
        }
      ]
    },
    {
      "cell_type": "markdown",
      "metadata": {
        "id": "KUGhwfsfICgN"
      },
      "source": [
        "**Floats**"
      ]
    },
    {
      "cell_type": "code",
      "metadata": {
        "colab": {
          "base_uri": "https://localhost:8080/"
        },
        "id": "X7GvAyyIH2Y9",
        "outputId": "69732d9d-9c36-4475-8c3d-c618bab7dddb"
      },
      "source": [
        "1 / 4"
      ],
      "execution_count": null,
      "outputs": [
        {
          "output_type": "execute_result",
          "data": {
            "text/plain": [
              "0.25"
            ]
          },
          "metadata": {
            "tags": []
          },
          "execution_count": 93
        }
      ]
    },
    {
      "cell_type": "code",
      "metadata": {
        "colab": {
          "base_uri": "https://localhost:8080/"
        },
        "id": "Hobdo5J8H-VG",
        "outputId": "2baa9497-95ed-4cc4-a57a-c86310da0054"
      },
      "source": [
        "2.6 / 2"
      ],
      "execution_count": null,
      "outputs": [
        {
          "output_type": "execute_result",
          "data": {
            "text/plain": [
              "1.3"
            ]
          },
          "metadata": {
            "tags": []
          },
          "execution_count": 94
        }
      ]
    },
    {
      "cell_type": "code",
      "metadata": {
        "colab": {
          "base_uri": "https://localhost:8080/"
        },
        "id": "E0J0y98hIKU-",
        "outputId": "4fc0a58c-351d-46f9-b24c-52c5be854421"
      },
      "source": [
        "2.6 // 2  #parte intera -> limite inferiore"
      ],
      "execution_count": null,
      "outputs": [
        {
          "output_type": "execute_result",
          "data": {
            "text/plain": [
              "1.0"
            ]
          },
          "metadata": {
            "tags": []
          },
          "execution_count": 95
        }
      ]
    },
    {
      "cell_type": "markdown",
      "metadata": {
        "id": "QiE3A30HITkG"
      },
      "source": [
        "**Decimal**"
      ]
    },
    {
      "cell_type": "code",
      "metadata": {
        "id": "VBTojs8XIMj9"
      },
      "source": [
        "import decimal\n",
        "from decimal import Decimal"
      ],
      "execution_count": null,
      "outputs": []
    },
    {
      "cell_type": "code",
      "metadata": {
        "colab": {
          "base_uri": "https://localhost:8080/"
        },
        "id": "N1KqDNXqIbY3",
        "outputId": "2f608145-91c1-42f6-cd00-6eaa7cfc766a"
      },
      "source": [
        "1/11"
      ],
      "execution_count": null,
      "outputs": [
        {
          "output_type": "execute_result",
          "data": {
            "text/plain": [
              "0.09090909090909091"
            ]
          },
          "metadata": {
            "tags": []
          },
          "execution_count": 97
        }
      ]
    },
    {
      "cell_type": "code",
      "metadata": {
        "colab": {
          "base_uri": "https://localhost:8080/"
        },
        "id": "Y8clpfg-Idza",
        "outputId": "fe4a0eda-73cc-462f-d986-08a6e2c03090"
      },
      "source": [
        "d = Decimal(1) / Decimal(11)  #maggiore precisione\n",
        "d"
      ],
      "execution_count": null,
      "outputs": [
        {
          "output_type": "execute_result",
          "data": {
            "text/plain": [
              "Decimal('0.09090909090909090909090909091')"
            ]
          },
          "metadata": {
            "tags": []
          },
          "execution_count": 99
        }
      ]
    },
    {
      "cell_type": "code",
      "metadata": {
        "colab": {
          "base_uri": "https://localhost:8080/"
        },
        "id": "0g0ZNY97Isoe",
        "outputId": "ae73c7b2-edaf-4ca3-ec4e-53e0481c1537"
      },
      "source": [
        "decimal.getcontext()"
      ],
      "execution_count": null,
      "outputs": [
        {
          "output_type": "execute_result",
          "data": {
            "text/plain": [
              "Context(prec=28, rounding=ROUND_HALF_EVEN, Emin=-999999, Emax=999999, capitals=1, clamp=0, flags=[Inexact, Rounded], traps=[InvalidOperation, DivisionByZero, Overflow])"
            ]
          },
          "metadata": {
            "tags": []
          },
          "execution_count": 100
        }
      ]
    },
    {
      "cell_type": "code",
      "metadata": {
        "id": "doMdEqgeIyID"
      },
      "source": [
        "#Il valore di default per la precisione è settato a 28"
      ],
      "execution_count": null,
      "outputs": []
    },
    {
      "cell_type": "code",
      "metadata": {
        "id": "8hDVvvIrI2jc"
      },
      "source": [
        "#Se voglio cambiarlo\n",
        "\n",
        "decimal.getcontext().prec = 4"
      ],
      "execution_count": null,
      "outputs": []
    },
    {
      "cell_type": "code",
      "metadata": {
        "colab": {
          "base_uri": "https://localhost:8080/"
        },
        "id": "_pYrnvb4I_tk",
        "outputId": "5b0f8c1c-cdc6-4ba7-8393-f7c26ad044ca"
      },
      "source": [
        "e = Decimal(1) / Decimal(11)  #maggiore precisione\n",
        "e"
      ],
      "execution_count": null,
      "outputs": [
        {
          "output_type": "execute_result",
          "data": {
            "text/plain": [
              "Decimal('0.09091')"
            ]
          },
          "metadata": {
            "tags": []
          },
          "execution_count": 102
        }
      ]
    },
    {
      "cell_type": "markdown",
      "metadata": {
        "id": "ZzkagPgRJIGy"
      },
      "source": [
        "**Booleani**"
      ]
    },
    {
      "cell_type": "code",
      "metadata": {
        "colab": {
          "base_uri": "https://localhost:8080/"
        },
        "id": "-CGTphtaJDAo",
        "outputId": "737e68bc-8e87-4e75-d2b9-3b04c654f323"
      },
      "source": [
        "4 > 3"
      ],
      "execution_count": null,
      "outputs": [
        {
          "output_type": "execute_result",
          "data": {
            "text/plain": [
              "True"
            ]
          },
          "metadata": {
            "tags": []
          },
          "execution_count": 103
        }
      ]
    },
    {
      "cell_type": "code",
      "metadata": {
        "colab": {
          "base_uri": "https://localhost:8080/"
        },
        "id": "gV7t_NLNJLwg",
        "outputId": "55eb55dd-825e-44db-dc7e-bdfebd2e6075"
      },
      "source": [
        "type(4 > 3)"
      ],
      "execution_count": null,
      "outputs": [
        {
          "output_type": "execute_result",
          "data": {
            "text/plain": [
              "bool"
            ]
          },
          "metadata": {
            "tags": []
          },
          "execution_count": 104
        }
      ]
    },
    {
      "cell_type": "code",
      "metadata": {
        "id": "x2wvqfDrJOfk"
      },
      "source": [
        "import keyword"
      ],
      "execution_count": null,
      "outputs": []
    },
    {
      "cell_type": "code",
      "metadata": {
        "colab": {
          "base_uri": "https://localhost:8080/"
        },
        "id": "bmgNMBBhJTCY",
        "outputId": "cb72c633-635a-47db-bce0-c5e09cb0caf8"
      },
      "source": [
        "keyword.kwlist"
      ],
      "execution_count": null,
      "outputs": [
        {
          "output_type": "execute_result",
          "data": {
            "text/plain": [
              "['False',\n",
              " 'None',\n",
              " 'True',\n",
              " 'and',\n",
              " 'as',\n",
              " 'assert',\n",
              " 'async',\n",
              " 'await',\n",
              " 'break',\n",
              " 'class',\n",
              " 'continue',\n",
              " 'def',\n",
              " 'del',\n",
              " 'elif',\n",
              " 'else',\n",
              " 'except',\n",
              " 'finally',\n",
              " 'for',\n",
              " 'from',\n",
              " 'global',\n",
              " 'if',\n",
              " 'import',\n",
              " 'in',\n",
              " 'is',\n",
              " 'lambda',\n",
              " 'nonlocal',\n",
              " 'not',\n",
              " 'or',\n",
              " 'pass',\n",
              " 'raise',\n",
              " 'return',\n",
              " 'try',\n",
              " 'while',\n",
              " 'with',\n",
              " 'yield']"
            ]
          },
          "metadata": {
            "tags": []
          },
          "execution_count": 106
        }
      ]
    },
    {
      "cell_type": "code",
      "metadata": {
        "colab": {
          "base_uri": "https://localhost:8080/"
        },
        "id": "38JfPmdwJXfP",
        "outputId": "d1c65f2b-1310-45df-81a9-075ce9132528"
      },
      "source": [
        "a == 3"
      ],
      "execution_count": null,
      "outputs": [
        {
          "output_type": "execute_result",
          "data": {
            "text/plain": [
              "True"
            ]
          },
          "metadata": {
            "tags": []
          },
          "execution_count": 107
        }
      ]
    },
    {
      "cell_type": "code",
      "metadata": {
        "colab": {
          "base_uri": "https://localhost:8080/"
        },
        "id": "hQ6Ih5uhJZ7N",
        "outputId": "55e5ce97-d972-44cb-b9df-3a2cb35f98cb"
      },
      "source": [
        "4 != 3"
      ],
      "execution_count": null,
      "outputs": [
        {
          "output_type": "execute_result",
          "data": {
            "text/plain": [
              "True"
            ]
          },
          "metadata": {
            "tags": []
          },
          "execution_count": 108
        }
      ]
    },
    {
      "cell_type": "code",
      "metadata": {
        "colab": {
          "base_uri": "https://localhost:8080/"
        },
        "id": "f-ZdfZFBJdTe",
        "outputId": "f7b96e62-a6e1-40c5-9a6b-0420fcddae3f"
      },
      "source": [
        "True and True"
      ],
      "execution_count": null,
      "outputs": [
        {
          "output_type": "execute_result",
          "data": {
            "text/plain": [
              "True"
            ]
          },
          "metadata": {
            "tags": []
          },
          "execution_count": 109
        }
      ]
    },
    {
      "cell_type": "code",
      "metadata": {
        "colab": {
          "base_uri": "https://localhost:8080/"
        },
        "id": "O4yW4F9zJfxU",
        "outputId": "68505930-c316-4ada-9c7b-6c32e37d6f63"
      },
      "source": [
        "not False"
      ],
      "execution_count": null,
      "outputs": [
        {
          "output_type": "execute_result",
          "data": {
            "text/plain": [
              "True"
            ]
          },
          "metadata": {
            "tags": []
          },
          "execution_count": 110
        }
      ]
    },
    {
      "cell_type": "code",
      "metadata": {
        "colab": {
          "base_uri": "https://localhost:8080/"
        },
        "id": "KETyLpy2JiOH",
        "outputId": "84cc3bfb-0b01-42f0-b706-d1e17208a3e6"
      },
      "source": [
        "(4 > 3) and (2 > 3)"
      ],
      "execution_count": null,
      "outputs": [
        {
          "output_type": "execute_result",
          "data": {
            "text/plain": [
              "False"
            ]
          },
          "metadata": {
            "tags": []
          },
          "execution_count": 111
        }
      ]
    },
    {
      "cell_type": "code",
      "metadata": {
        "colab": {
          "base_uri": "https://localhost:8080/"
        },
        "id": "PV-OIRwVJmcG",
        "outputId": "22bc057e-b3b3-4aa9-aa6f-ca7c89b3fa26"
      },
      "source": [
        "int(True)"
      ],
      "execution_count": null,
      "outputs": [
        {
          "output_type": "execute_result",
          "data": {
            "text/plain": [
              "1"
            ]
          },
          "metadata": {
            "tags": []
          },
          "execution_count": 112
        }
      ]
    },
    {
      "cell_type": "code",
      "metadata": {
        "colab": {
          "base_uri": "https://localhost:8080/"
        },
        "id": "nMMlwjOxJq3q",
        "outputId": "35b87573-74b1-42ca-944e-83d7074936be"
      },
      "source": [
        "int(False)"
      ],
      "execution_count": null,
      "outputs": [
        {
          "output_type": "execute_result",
          "data": {
            "text/plain": [
              "0"
            ]
          },
          "metadata": {
            "tags": []
          },
          "execution_count": 113
        }
      ]
    },
    {
      "cell_type": "code",
      "metadata": {
        "colab": {
          "base_uri": "https://localhost:8080/"
        },
        "id": "ZlNjBcBoJtnk",
        "outputId": "1d13172a-571e-4fd5-a6ff-a88774d9bb97"
      },
      "source": [
        "float(True)"
      ],
      "execution_count": null,
      "outputs": [
        {
          "output_type": "execute_result",
          "data": {
            "text/plain": [
              "1.0"
            ]
          },
          "metadata": {
            "tags": []
          },
          "execution_count": 114
        }
      ]
    },
    {
      "cell_type": "code",
      "metadata": {
        "colab": {
          "base_uri": "https://localhost:8080/"
        },
        "id": "ZV17LDxPJy7H",
        "outputId": "7eb8e013-1244-41e0-abe0-44aeb930de97"
      },
      "source": [
        "float(False)"
      ],
      "execution_count": null,
      "outputs": [
        {
          "output_type": "execute_result",
          "data": {
            "text/plain": [
              "0.0"
            ]
          },
          "metadata": {
            "tags": []
          },
          "execution_count": 115
        }
      ]
    },
    {
      "cell_type": "code",
      "metadata": {
        "colab": {
          "base_uri": "https://localhost:8080/"
        },
        "id": "Wuulth1zJ1la",
        "outputId": "015e0256-426d-46cf-f9d6-2d17e1bb6bba"
      },
      "source": [
        "bool(12.3)"
      ],
      "execution_count": null,
      "outputs": [
        {
          "output_type": "execute_result",
          "data": {
            "text/plain": [
              "True"
            ]
          },
          "metadata": {
            "tags": []
          },
          "execution_count": 116
        }
      ]
    },
    {
      "cell_type": "markdown",
      "metadata": {
        "id": "lig15mgdJ6-D"
      },
      "source": [
        "**Stringhe**"
      ]
    },
    {
      "cell_type": "code",
      "metadata": {
        "id": "CKfCtTepJ6O-"
      },
      "source": [
        "t = 'this is a string object'"
      ],
      "execution_count": null,
      "outputs": []
    },
    {
      "cell_type": "markdown",
      "metadata": {
        "id": "7VyexEdtKWZ8"
      },
      "source": [
        "**Capitalize**"
      ]
    },
    {
      "cell_type": "code",
      "metadata": {
        "colab": {
          "base_uri": "https://localhost:8080/",
          "height": 35
        },
        "id": "SrsJnWVvKCG_",
        "outputId": "afa32f86-6fb8-445b-c902-0bc421a51e93"
      },
      "source": [
        "t.capitalize()"
      ],
      "execution_count": null,
      "outputs": [
        {
          "output_type": "execute_result",
          "data": {
            "application/vnd.google.colaboratory.intrinsic+json": {
              "type": "string"
            },
            "text/plain": [
              "'This is a string object'"
            ]
          },
          "metadata": {
            "tags": []
          },
          "execution_count": 119
        }
      ]
    },
    {
      "cell_type": "markdown",
      "metadata": {
        "id": "G_Bw1KCOKfB5"
      },
      "source": [
        "**Split**"
      ]
    },
    {
      "cell_type": "code",
      "metadata": {
        "colab": {
          "base_uri": "https://localhost:8080/"
        },
        "id": "TvCPUms4Kbuv",
        "outputId": "7e2db69e-5de2-419a-866f-501907c3a99a"
      },
      "source": [
        "t.split()  #divide la stringa nelle singole parole che la compongono"
      ],
      "execution_count": null,
      "outputs": [
        {
          "output_type": "execute_result",
          "data": {
            "text/plain": [
              "['this', 'is', 'a', 'string', 'object']"
            ]
          },
          "metadata": {
            "tags": []
          },
          "execution_count": 120
        }
      ]
    },
    {
      "cell_type": "markdown",
      "metadata": {
        "id": "WbWfZiY_Km-6"
      },
      "source": [
        "**Find**"
      ]
    },
    {
      "cell_type": "code",
      "metadata": {
        "colab": {
          "base_uri": "https://localhost:8080/"
        },
        "id": "VzrEJ1U0KhL8",
        "outputId": "5c45e118-cfd2-4ef4-db3c-7cd10987bd09"
      },
      "source": [
        "t.find('string')"
      ],
      "execution_count": null,
      "outputs": [
        {
          "output_type": "execute_result",
          "data": {
            "text/plain": [
              "10"
            ]
          },
          "metadata": {
            "tags": []
          },
          "execution_count": 121
        }
      ]
    },
    {
      "cell_type": "code",
      "metadata": {
        "colab": {
          "base_uri": "https://localhost:8080/"
        },
        "id": "KOzBoCigKw9z",
        "outputId": "8fdcae63-0c00-43f7-d7e1-385d2c0d7ab3"
      },
      "source": [
        "t.find('python')"
      ],
      "execution_count": null,
      "outputs": [
        {
          "output_type": "execute_result",
          "data": {
            "text/plain": [
              "-1"
            ]
          },
          "metadata": {
            "tags": []
          },
          "execution_count": 122
        }
      ]
    },
    {
      "cell_type": "markdown",
      "metadata": {
        "id": "JbznVR4EK4pm"
      },
      "source": [
        "**Replace**"
      ]
    },
    {
      "cell_type": "code",
      "metadata": {
        "colab": {
          "base_uri": "https://localhost:8080/",
          "height": 35
        },
        "id": "0ZDN4KNbK2Bz",
        "outputId": "83b7463b-3687-43f8-cb40-63e6cfee1f35"
      },
      "source": [
        "t.replace(' ', '|')"
      ],
      "execution_count": null,
      "outputs": [
        {
          "output_type": "execute_result",
          "data": {
            "application/vnd.google.colaboratory.intrinsic+json": {
              "type": "string"
            },
            "text/plain": [
              "'this|is|a|string|object'"
            ]
          },
          "metadata": {
            "tags": []
          },
          "execution_count": 123
        }
      ]
    },
    {
      "cell_type": "markdown",
      "metadata": {
        "id": "8PdQNAeuLDNm"
      },
      "source": [
        "**Strip**"
      ]
    },
    {
      "cell_type": "code",
      "metadata": {
        "colab": {
          "base_uri": "https://localhost:8080/",
          "height": 35
        },
        "id": "rlEYSke9LCaQ",
        "outputId": "3aed0744-b31d-4d14-b155-4fb5384b1dbe"
      },
      "source": [
        "'http://www.python.org'.strip('htp:/')"
      ],
      "execution_count": null,
      "outputs": [
        {
          "output_type": "execute_result",
          "data": {
            "application/vnd.google.colaboratory.intrinsic+json": {
              "type": "string"
            },
            "text/plain": [
              "'www.python.org'"
            ]
          },
          "metadata": {
            "tags": []
          },
          "execution_count": 125
        }
      ]
    },
    {
      "cell_type": "markdown",
      "metadata": {
        "id": "h0bEQhHcLeFj"
      },
      "source": [
        "**Formattazione tradizionale**"
      ]
    },
    {
      "cell_type": "code",
      "metadata": {
        "colab": {
          "base_uri": "https://localhost:8080/",
          "height": 35
        },
        "id": "4cjyWtwGLR1Q",
        "outputId": "a61563bd-b185-47d2-9f99-90b1be6bf8ca"
      },
      "source": [
        "'this is an integer %d' %15"
      ],
      "execution_count": null,
      "outputs": [
        {
          "output_type": "execute_result",
          "data": {
            "application/vnd.google.colaboratory.intrinsic+json": {
              "type": "string"
            },
            "text/plain": [
              "'this is an integer 15'"
            ]
          },
          "metadata": {
            "tags": []
          },
          "execution_count": 126
        }
      ]
    },
    {
      "cell_type": "code",
      "metadata": {
        "colab": {
          "base_uri": "https://localhost:8080/",
          "height": 35
        },
        "id": "ViZoHOq9LsmO",
        "outputId": "fd34147c-301e-40a5-a542-a0bc4615fc25"
      },
      "source": [
        "'this is an integer %4d' %15  #spazio di 4-1=3 caratteri"
      ],
      "execution_count": null,
      "outputs": [
        {
          "output_type": "execute_result",
          "data": {
            "application/vnd.google.colaboratory.intrinsic+json": {
              "type": "string"
            },
            "text/plain": [
              "'this is an integer   15'"
            ]
          },
          "metadata": {
            "tags": []
          },
          "execution_count": 127
        }
      ]
    },
    {
      "cell_type": "code",
      "metadata": {
        "id": "7jXIQX2XYRSd",
        "outputId": "774076bd-cfef-469a-ecd3-335ccd8b0fe0",
        "colab": {
          "base_uri": "https://localhost:8080/",
          "height": 35
        }
      },
      "source": [
        "'this is an integer %2d' %15  #spazio di 2-1=1 carattere"
      ],
      "execution_count": 12,
      "outputs": [
        {
          "output_type": "execute_result",
          "data": {
            "application/vnd.google.colaboratory.intrinsic+json": {
              "type": "string"
            },
            "text/plain": [
              "'this is an integer 15'"
            ]
          },
          "metadata": {
            "tags": []
          },
          "execution_count": 12
        }
      ]
    },
    {
      "cell_type": "code",
      "metadata": {
        "id": "9_jttfyzYfMB",
        "outputId": "d1e17568-47b9-4b92-b7ed-2e61e1b3edf1",
        "colab": {
          "base_uri": "https://localhost:8080/",
          "height": 35
        }
      },
      "source": [
        "'this is an integer %6d' %15  #spazio di 6-1=5 caratteri"
      ],
      "execution_count": 13,
      "outputs": [
        {
          "output_type": "execute_result",
          "data": {
            "application/vnd.google.colaboratory.intrinsic+json": {
              "type": "string"
            },
            "text/plain": [
              "'this is an integer     15'"
            ]
          },
          "metadata": {
            "tags": []
          },
          "execution_count": 13
        }
      ]
    },
    {
      "cell_type": "code",
      "metadata": {
        "colab": {
          "base_uri": "https://localhost:8080/",
          "height": 35
        },
        "id": "-GRg45c9Lz9O",
        "outputId": "64a8b0f3-b040-4a4c-8aec-f6256d79bdd8"
      },
      "source": [
        "'this is an integer %04d' %15"
      ],
      "execution_count": null,
      "outputs": [
        {
          "output_type": "execute_result",
          "data": {
            "application/vnd.google.colaboratory.intrinsic+json": {
              "type": "string"
            },
            "text/plain": [
              "'this is an integer 0015'"
            ]
          },
          "metadata": {
            "tags": []
          },
          "execution_count": 128
        }
      ]
    },
    {
      "cell_type": "code",
      "metadata": {
        "colab": {
          "base_uri": "https://localhost:8080/",
          "height": 35
        },
        "id": "zGEMF25PL4zK",
        "outputId": "55d22568-9aaa-4bb3-be16-a6bcc1a7e518"
      },
      "source": [
        "'this is an integer %f' %15"
      ],
      "execution_count": null,
      "outputs": [
        {
          "output_type": "execute_result",
          "data": {
            "application/vnd.google.colaboratory.intrinsic+json": {
              "type": "string"
            },
            "text/plain": [
              "'this is an integer 15.000000'"
            ]
          },
          "metadata": {
            "tags": []
          },
          "execution_count": 129
        }
      ]
    },
    {
      "cell_type": "code",
      "metadata": {
        "colab": {
          "base_uri": "https://localhost:8080/",
          "height": 35
        },
        "id": "hdsKnQQUL9Ps",
        "outputId": "3b4630a6-0695-414b-98db-ea524860d1ee"
      },
      "source": [
        "'this is an integer %.2f' %15.3456  #con arrotondamento"
      ],
      "execution_count": null,
      "outputs": [
        {
          "output_type": "execute_result",
          "data": {
            "application/vnd.google.colaboratory.intrinsic+json": {
              "type": "string"
            },
            "text/plain": [
              "'this is an integer 15.35'"
            ]
          },
          "metadata": {
            "tags": []
          },
          "execution_count": 130
        }
      ]
    },
    {
      "cell_type": "code",
      "metadata": {
        "colab": {
          "base_uri": "https://localhost:8080/",
          "height": 35
        },
        "id": "1dpVkMYuMDWV",
        "outputId": "71d8d018-7f6c-4db7-d8dc-2f32a7cde009"
      },
      "source": [
        "'this is an integer %8f' %15.3456"
      ],
      "execution_count": null,
      "outputs": [
        {
          "output_type": "execute_result",
          "data": {
            "application/vnd.google.colaboratory.intrinsic+json": {
              "type": "string"
            },
            "text/plain": [
              "'this is an integer 15.345600'"
            ]
          },
          "metadata": {
            "tags": []
          },
          "execution_count": 132
        }
      ]
    },
    {
      "cell_type": "code",
      "metadata": {
        "colab": {
          "base_uri": "https://localhost:8080/",
          "height": 35
        },
        "id": "7v4T3_5NMIdI",
        "outputId": "1f07c81d-c4e0-4569-809e-25381e177843"
      },
      "source": [
        "'this is an integer %8.2f' %15.3456"
      ],
      "execution_count": null,
      "outputs": [
        {
          "output_type": "execute_result",
          "data": {
            "application/vnd.google.colaboratory.intrinsic+json": {
              "type": "string"
            },
            "text/plain": [
              "'this is an integer    15.35'"
            ]
          },
          "metadata": {
            "tags": []
          },
          "execution_count": 133
        }
      ]
    },
    {
      "cell_type": "code",
      "metadata": {
        "colab": {
          "base_uri": "https://localhost:8080/",
          "height": 35
        },
        "id": "r4ZSgHoaMTAn",
        "outputId": "e8e90358-2708-4906-a253-021fe4a09c80"
      },
      "source": [
        "'this is an integer %08.2f' %15.3456"
      ],
      "execution_count": null,
      "outputs": [
        {
          "output_type": "execute_result",
          "data": {
            "application/vnd.google.colaboratory.intrinsic+json": {
              "type": "string"
            },
            "text/plain": [
              "'this is an integer 00015.35'"
            ]
          },
          "metadata": {
            "tags": []
          },
          "execution_count": 134
        }
      ]
    },
    {
      "cell_type": "code",
      "metadata": {
        "colab": {
          "base_uri": "https://localhost:8080/",
          "height": 35
        },
        "id": "L_M-SiZsMXcJ",
        "outputId": "bbbbc579-0441-4c4d-ac91-886ee295238c"
      },
      "source": [
        "'this is a string %s' %'Python'"
      ],
      "execution_count": null,
      "outputs": [
        {
          "output_type": "execute_result",
          "data": {
            "application/vnd.google.colaboratory.intrinsic+json": {
              "type": "string"
            },
            "text/plain": [
              "'this is a string Python'"
            ]
          },
          "metadata": {
            "tags": []
          },
          "execution_count": 135
        }
      ]
    },
    {
      "cell_type": "code",
      "metadata": {
        "colab": {
          "base_uri": "https://localhost:8080/",
          "height": 35
        },
        "id": "VTbIGKhBMe_d",
        "outputId": "653fb615-6b19-4b79-aa36-b0d6de551bc0"
      },
      "source": [
        "'this is a string %10s' %'Python'"
      ],
      "execution_count": null,
      "outputs": [
        {
          "output_type": "execute_result",
          "data": {
            "application/vnd.google.colaboratory.intrinsic+json": {
              "type": "string"
            },
            "text/plain": [
              "'this is a string     Python'"
            ]
          },
          "metadata": {
            "tags": []
          },
          "execution_count": 136
        }
      ]
    },
    {
      "cell_type": "markdown",
      "metadata": {
        "id": "6zO5SrAkMxjm"
      },
      "source": [
        "**Nuova formattazione**"
      ]
    },
    {
      "cell_type": "code",
      "metadata": {
        "colab": {
          "base_uri": "https://localhost:8080/",
          "height": 35
        },
        "id": "gCkuIrq-Mwbm",
        "outputId": "4d31a9d1-5e60-4380-ea37-9847ef578614"
      },
      "source": [
        "'this is an integer {:d}'.format(15)"
      ],
      "execution_count": null,
      "outputs": [
        {
          "output_type": "execute_result",
          "data": {
            "application/vnd.google.colaboratory.intrinsic+json": {
              "type": "string"
            },
            "text/plain": [
              "'this is an integer 15'"
            ]
          },
          "metadata": {
            "tags": []
          },
          "execution_count": 142
        }
      ]
    },
    {
      "cell_type": "code",
      "metadata": {
        "colab": {
          "base_uri": "https://localhost:8080/",
          "height": 35
        },
        "id": "TXTN_38GMtGi",
        "outputId": "62109ba0-f3b3-49b8-aad1-b9c47d37c597"
      },
      "source": [
        "'this is an integer {:4d}'.format(15)"
      ],
      "execution_count": null,
      "outputs": [
        {
          "output_type": "execute_result",
          "data": {
            "application/vnd.google.colaboratory.intrinsic+json": {
              "type": "string"
            },
            "text/plain": [
              "'this is an integer   15'"
            ]
          },
          "metadata": {
            "tags": []
          },
          "execution_count": 138
        }
      ]
    },
    {
      "cell_type": "code",
      "metadata": {
        "colab": {
          "base_uri": "https://localhost:8080/",
          "height": 35
        },
        "id": "JRSlKoGTND7u",
        "outputId": "94301b41-cb2b-42ec-f185-3d791136f64d"
      },
      "source": [
        "'this is an integer {:04d}'.format(15)"
      ],
      "execution_count": null,
      "outputs": [
        {
          "output_type": "execute_result",
          "data": {
            "application/vnd.google.colaboratory.intrinsic+json": {
              "type": "string"
            },
            "text/plain": [
              "'this is an integer 0015'"
            ]
          },
          "metadata": {
            "tags": []
          },
          "execution_count": 139
        }
      ]
    },
    {
      "cell_type": "code",
      "metadata": {
        "colab": {
          "base_uri": "https://localhost:8080/",
          "height": 35
        },
        "id": "94AsnCM4NG2U",
        "outputId": "902f23e8-f400-4685-ce43-d043ded1606a"
      },
      "source": [
        "'this is an float {:f}'.format(15.3456)"
      ],
      "execution_count": null,
      "outputs": [
        {
          "output_type": "execute_result",
          "data": {
            "application/vnd.google.colaboratory.intrinsic+json": {
              "type": "string"
            },
            "text/plain": [
              "'this is an integer 15.345600'"
            ]
          },
          "metadata": {
            "tags": []
          },
          "execution_count": 140
        }
      ]
    },
    {
      "cell_type": "code",
      "metadata": {
        "colab": {
          "base_uri": "https://localhost:8080/",
          "height": 35
        },
        "id": "eDIcVxhuNLu9",
        "outputId": "f8a3b2e4-bd32-4e30-a34e-31aa2d246651"
      },
      "source": [
        "'this is a string {:s}'.format('Python')"
      ],
      "execution_count": null,
      "outputs": [
        {
          "output_type": "execute_result",
          "data": {
            "application/vnd.google.colaboratory.intrinsic+json": {
              "type": "string"
            },
            "text/plain": [
              "'this is a string Python'"
            ]
          },
          "metadata": {
            "tags": []
          },
          "execution_count": 141
        }
      ]
    }
  ]
}