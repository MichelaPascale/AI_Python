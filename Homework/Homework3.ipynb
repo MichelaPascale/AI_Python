{
  "nbformat": 4,
  "nbformat_minor": 0,
  "metadata": {
    "colab": {
      "name": "Untitled14.ipynb",
      "provenance": [],
      "authorship_tag": "ABX9TyPY8CQCJ8iEVnX99f2PEPZJ",
      "include_colab_link": true
    },
    "kernelspec": {
      "name": "python3",
      "display_name": "Python 3"
    },
    "language_info": {
      "name": "python"
    }
  },
  "cells": [
    {
      "cell_type": "markdown",
      "metadata": {
        "id": "view-in-github",
        "colab_type": "text"
      },
      "source": [
        "<a href=\"https://colab.research.google.com/github/MichelaPascale/AI_Python/blob/main/Homework/Homework3.ipynb\" target=\"_parent\"><img src=\"https://colab.research.google.com/assets/colab-badge.svg\" alt=\"Open In Colab\"/></a>"
      ]
    },
    {
      "cell_type": "code",
      "metadata": {
        "id": "NAPhyRVT71qr"
      },
      "source": [
        "# ESERCIZIO 1.\n",
        "# Dato un intero positivo n, scrivere una funzione Python che calcola il fattoriale dei numeri interi da 1 a n.\n",
        "\n",
        "n = int(input('Inserire il numero: '))\n",
        "\n",
        "def fattoriale(n):\n",
        "  if (n==0):\n",
        "    return 1\n",
        "  else:\n",
        "    return n*fattoriale(n-1)\n",
        "  \n",
        "print('Il fattoriale di ' + '%s' %n + ' è: '+ \"%s\" %fattoriale(n));"
      ],
      "execution_count": null,
      "outputs": []
    }
  ]
}