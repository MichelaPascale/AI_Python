{
  "nbformat": 4,
  "nbformat_minor": 0,
  "metadata": {
    "colab": {
      "name": "Untitled14.ipynb",
      "provenance": [],
      "authorship_tag": "ABX9TyNT1hHfOFXiNaryRdHG6/je",
      "include_colab_link": true
    },
    "kernelspec": {
      "name": "python3",
      "display_name": "Python 3"
    },
    "language_info": {
      "name": "python"
    }
  },
  "cells": [
    {
      "cell_type": "markdown",
      "metadata": {
        "id": "view-in-github",
        "colab_type": "text"
      },
      "source": [
        "<a href=\"https://colab.research.google.com/github/MichelaPascale/AI_Python/blob/main/Homework/Homework3.ipynb\" target=\"_parent\"><img src=\"https://colab.research.google.com/assets/colab-badge.svg\" alt=\"Open In Colab\"/></a>"
      ]
    },
    {
      "cell_type": "markdown",
      "metadata": {
        "id": "QmbDller-ZaC"
      },
      "source": [
        "##**Fattoriale**"
      ]
    },
    {
      "cell_type": "code",
      "metadata": {
        "id": "d5nWpNIVb5ok"
      },
      "source": [
        "def fattoriale(n):\n",
        "  if (n==0):\n",
        "    return 1\n",
        "  else:\n",
        "    return n*fattoriale(n-1)"
      ],
      "execution_count": 3,
      "outputs": []
    },
    {
      "cell_type": "code",
      "metadata": {
        "id": "NAPhyRVT71qr",
        "colab": {
          "base_uri": "https://localhost:8080/"
        },
        "outputId": "c9cddea0-d499-4b58-a791-f96e75a62587"
      },
      "source": [
        "# ESERCIZIO 1.\n",
        "# Dato un intero positivo n, scrivere una funzione Python che calcola il fattoriale dei numeri interi da 1 a n.\n",
        "\n",
        "n = int(input('Inserire il numero: '))\n",
        "\n",
        "lista_fattoriali_da_1_a_n = list()\n",
        "\n",
        "count = 1\n",
        "while(count <= n):\n",
        "  fatt = fattoriale(count)\n",
        "  print('Il fattoriale di ' + '%s' %count + ' è: '+ \"%s\" %fatt);\n",
        "  lista_fattoriali_da_1_a_n.append(fatt)\n",
        "  count = count + 1\n",
        "\n",
        "print('Ecco la lista dei fattoriali da 1 a ' + '%d' %n + ': %s' %lista_fattoriali_da_1_a_n);"
      ],
      "execution_count": 4,
      "outputs": [
        {
          "output_type": "stream",
          "text": [
            "Inserire il numero: 10\n",
            "Il fattoriale di 1 è: 1\n",
            "Il fattoriale di 2 è: 2\n",
            "Il fattoriale di 3 è: 6\n",
            "Il fattoriale di 4 è: 24\n",
            "Il fattoriale di 5 è: 120\n",
            "Il fattoriale di 6 è: 720\n",
            "Il fattoriale di 7 è: 5040\n",
            "Il fattoriale di 8 è: 40320\n",
            "Il fattoriale di 9 è: 362880\n",
            "Il fattoriale di 10 è: 3628800\n",
            "Ecco la lista dei fattoriali da 1 a 10: [1, 2, 6, 24, 120, 720, 5040, 40320, 362880, 3628800]\n"
          ],
          "name": "stdout"
        }
      ]
    },
    {
      "cell_type": "code",
      "metadata": {
        "id": "8zBNK17N-dX4"
      },
      "source": [
        "# VERSIONE PIU' EFFICIENTE DI QUELLA SOPRA\n",
        "\n",
        "def fatt(n):\n",
        "  if n<=1 :\n",
        "    return [1]\n",
        "  else:\n",
        "    lista_fatt = fatt(n-1)  #con fatt(n-1) restituisco la lista dei fattoriali di n-1 => devo aggiungerci n\n",
        "    lista_fatt.append(lista_fatt[-1] * n) #restituisco l'ultimo elemento moltiplicato per n\n",
        "    return lista_fatt"
      ],
      "execution_count": 1,
      "outputs": []
    },
    {
      "cell_type": "code",
      "metadata": {
        "id": "6XhEaUug-zyI",
        "outputId": "1f4f72cb-f5d6-48ac-c334-94c882414d98",
        "colab": {
          "base_uri": "https://localhost:8080/"
        }
      },
      "source": [
        "fatt(10)"
      ],
      "execution_count": 2,
      "outputs": [
        {
          "output_type": "execute_result",
          "data": {
            "text/plain": [
              "[1, 2, 6, 24, 120, 720, 5040, 40320, 362880, 3628800]"
            ]
          },
          "metadata": {
            "tags": []
          },
          "execution_count": 2
        }
      ]
    },
    {
      "cell_type": "markdown",
      "metadata": {
        "id": "kpQjVzQW-7TG"
      },
      "source": [
        "##**Fibonacci**"
      ]
    },
    {
      "cell_type": "code",
      "metadata": {
        "id": "pGjciEiU-67Z"
      },
      "source": [
        "#Funzione che calcola una sequenza dei primi n elementi della seq di Fibonacci (i primi due elementi sommati danno il terzo)\n",
        "\n",
        "def fibonacci(n):\n",
        "  if n == 2 :\n",
        "    return [1, 1]  #primi due elementi della lista\n",
        "  else:\n",
        "    seq_fibo = fibonacci(n-1)\n",
        "    seq_fibo.append(seq_fibo[-1] + seq_fibo[-2])  #somma degli ultimi due elementi\n",
        "    return seq_fibo"
      ],
      "execution_count": 6,
      "outputs": []
    },
    {
      "cell_type": "code",
      "metadata": {
        "id": "YHF2nZ5P_Bvr",
        "outputId": "3f335534-71be-4fe8-cef5-db27ff6d99b7",
        "colab": {
          "base_uri": "https://localhost:8080/"
        }
      },
      "source": [
        "fibonacci(10)"
      ],
      "execution_count": 7,
      "outputs": [
        {
          "output_type": "execute_result",
          "data": {
            "text/plain": [
              "[1, 1, 2, 3, 5, 8, 13, 21, 34, 55]"
            ]
          },
          "metadata": {
            "tags": []
          },
          "execution_count": 7
        }
      ]
    },
    {
      "cell_type": "code",
      "metadata": {
        "id": "irKt_nQG_Kcj"
      },
      "source": [
        "# VERSIONE ITERTIVA\n",
        "\n",
        "def fibo_iter(n):\n",
        "  seq_fibo = [1,1]\n",
        "\n",
        "  for i in range(2,n):\n",
        "    seq_fibo.append(seq_fibo[-1] + seq_fibo[-2])\n",
        "\n",
        "  return seq_fibo"
      ],
      "execution_count": 8,
      "outputs": []
    },
    {
      "cell_type": "code",
      "metadata": {
        "id": "DrvknBnq_OZ4",
        "outputId": "a3948a9a-7d2d-494b-9e21-529589dda8b6",
        "colab": {
          "base_uri": "https://localhost:8080/"
        }
      },
      "source": [
        "fibo_iter(10)"
      ],
      "execution_count": 9,
      "outputs": [
        {
          "output_type": "execute_result",
          "data": {
            "text/plain": [
              "[1, 1, 2, 3, 5, 8, 13, 21, 34, 55]"
            ]
          },
          "metadata": {
            "tags": []
          },
          "execution_count": 9
        }
      ]
    },
    {
      "cell_type": "code",
      "metadata": {
        "id": "0lS6R_y8_RNF"
      },
      "source": [
        "# VERSIONE RICORSIVA\n",
        "\n",
        "def fibo_ric(n):\n",
        "  if n < 2 :\n",
        "    return n\n",
        "  else:\n",
        "    return fibo_ric(n-1) + fibo_ric(n-2)  #restituisco l'ultimo elemento"
      ],
      "execution_count": 10,
      "outputs": []
    },
    {
      "cell_type": "code",
      "metadata": {
        "id": "GYV85HGq_Wso",
        "outputId": "388b0c00-cfc5-4e57-fe97-350736455251",
        "colab": {
          "base_uri": "https://localhost:8080/"
        }
      },
      "source": [
        "fibo_ric(10)"
      ],
      "execution_count": 11,
      "outputs": [
        {
          "output_type": "execute_result",
          "data": {
            "text/plain": [
              "55"
            ]
          },
          "metadata": {
            "tags": []
          },
          "execution_count": 11
        }
      ]
    },
    {
      "cell_type": "code",
      "metadata": {
        "id": "dQgepHo6_YMI"
      },
      "source": [
        "def fib_it(n):\n",
        "  x,y = 0,1\n",
        "\n",
        "  for i in range(1,n):\n",
        "    x,y = y,x + y\n",
        "  return y"
      ],
      "execution_count": 12,
      "outputs": []
    },
    {
      "cell_type": "code",
      "metadata": {
        "id": "2QCHTScS_aob",
        "outputId": "e5274dad-5c3a-4e50-eef6-09669b019f79",
        "colab": {
          "base_uri": "https://localhost:8080/"
        }
      },
      "source": [
        "fib_it(10)"
      ],
      "execution_count": 13,
      "outputs": [
        {
          "output_type": "execute_result",
          "data": {
            "text/plain": [
              "55"
            ]
          },
          "metadata": {
            "tags": []
          },
          "execution_count": 13
        }
      ]
    },
    {
      "cell_type": "markdown",
      "metadata": {
        "id": "0348l103_f84"
      },
      "source": [
        "##**Ex 3**"
      ]
    },
    {
      "cell_type": "code",
      "metadata": {
        "id": "nIDvd0gM_fGJ"
      },
      "source": [
        "# Scambiare le due semiliste\n",
        "\n",
        "lista = [0,1,2,3,4,5,6,7]"
      ],
      "execution_count": 14,
      "outputs": []
    },
    {
      "cell_type": "code",
      "metadata": {
        "id": "Zu4IMS6a_juV",
        "outputId": "f7fcbfe0-a438-4cec-fe3e-783287de8032",
        "colab": {
          "base_uri": "https://localhost:8080/"
        }
      },
      "source": [
        "n = len(lista)\n",
        "n"
      ],
      "execution_count": 15,
      "outputs": [
        {
          "output_type": "execute_result",
          "data": {
            "text/plain": [
              "8"
            ]
          },
          "metadata": {
            "tags": []
          },
          "execution_count": 15
        }
      ]
    },
    {
      "cell_type": "code",
      "metadata": {
        "id": "Lr5TQuA__mNS",
        "outputId": "53433e40-f2ab-4324-f58c-c5e3da9d7066",
        "colab": {
          "base_uri": "https://localhost:8080/"
        }
      },
      "source": [
        "lista = lista[n//2:] + lista[:n//2]  #utilizzo dello slice e concatenazione delle due liste\n",
        "lista"
      ],
      "execution_count": 16,
      "outputs": [
        {
          "output_type": "execute_result",
          "data": {
            "text/plain": [
              "[4, 5, 6, 7, 0, 1, 2, 3]"
            ]
          },
          "metadata": {
            "tags": []
          },
          "execution_count": 16
        }
      ]
    },
    {
      "cell_type": "markdown",
      "metadata": {
        "id": "IPVifxeg_twB"
      },
      "source": [
        "##**Ex 4**"
      ]
    },
    {
      "cell_type": "code",
      "metadata": {
        "id": "w6wz-TbX_oa1"
      },
      "source": [
        "def cost(x):\n",
        "  return 1\n",
        "\n",
        "def lin(x):\n",
        "  return x\n",
        "\n",
        "def quad(x):\n",
        "  return x**2\n",
        "\n",
        "def cubo(x):\n",
        "  return x**3"
      ],
      "execution_count": 18,
      "outputs": []
    },
    {
      "cell_type": "code",
      "metadata": {
        "id": "6Ic_wBmE_v8y"
      },
      "source": [
        "lista_funz = [cost, lin, quad, cubo]"
      ],
      "execution_count": 20,
      "outputs": []
    },
    {
      "cell_type": "code",
      "metadata": {
        "id": "7jWN1S2L_yQz",
        "outputId": "a0417be6-8cd5-4068-9b14-cb4fe143a04a",
        "colab": {
          "base_uri": "https://localhost:8080/"
        }
      },
      "source": [
        "cubo(4)"
      ],
      "execution_count": 21,
      "outputs": [
        {
          "output_type": "execute_result",
          "data": {
            "text/plain": [
              "64"
            ]
          },
          "metadata": {
            "tags": []
          },
          "execution_count": 21
        }
      ]
    },
    {
      "cell_type": "code",
      "metadata": {
        "id": "YRns0hea_2og",
        "outputId": "2364fc0b-d585-470e-bb1e-db709f433a3e",
        "colab": {
          "base_uri": "https://localhost:8080/"
        }
      },
      "source": [
        "lista_funz[3](4)"
      ],
      "execution_count": 22,
      "outputs": [
        {
          "output_type": "execute_result",
          "data": {
            "text/plain": [
              "64"
            ]
          },
          "metadata": {
            "tags": []
          },
          "execution_count": 22
        }
      ]
    },
    {
      "cell_type": "code",
      "metadata": {
        "id": "GskoOaw8_6Oq"
      },
      "source": [
        "# DEFINIZIONE ANONIMA\n",
        "\n",
        "lista_funzioni = [lambda x: 1.,\n",
        "                  lambda x: x,\n",
        "                  lambda x: x**2,\n",
        "                  lambda x: x**3]"
      ],
      "execution_count": 23,
      "outputs": []
    },
    {
      "cell_type": "code",
      "metadata": {
        "id": "upUPYqgn_8OT",
        "outputId": "f9db388b-7ede-4aea-b0de-939ac9b400b8",
        "colab": {
          "base_uri": "https://localhost:8080/"
        }
      },
      "source": [
        "lista_funzioni[3](4)"
      ],
      "execution_count": 24,
      "outputs": [
        {
          "output_type": "execute_result",
          "data": {
            "text/plain": [
              "64"
            ]
          },
          "metadata": {
            "tags": []
          },
          "execution_count": 24
        }
      ]
    }
  ]
}