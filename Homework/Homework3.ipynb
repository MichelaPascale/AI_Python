{
  "nbformat": 4,
  "nbformat_minor": 0,
  "metadata": {
    "colab": {
      "name": "Untitled14.ipynb",
      "provenance": [],
      "authorship_tag": "ABX9TyOV9hEoK/Sj/8Mp3I4kfQPG",
      "include_colab_link": true
    },
    "kernelspec": {
      "name": "python3",
      "display_name": "Python 3"
    },
    "language_info": {
      "name": "python"
    }
  },
  "cells": [
    {
      "cell_type": "markdown",
      "metadata": {
        "id": "view-in-github",
        "colab_type": "text"
      },
      "source": [
        "<a href=\"https://colab.research.google.com/github/MichelaPascale/AI_Python/blob/main/Homework/Homework3.ipynb\" target=\"_parent\"><img src=\"https://colab.research.google.com/assets/colab-badge.svg\" alt=\"Open In Colab\"/></a>"
      ]
    },
    {
      "cell_type": "code",
      "metadata": {
        "id": "d5nWpNIVb5ok"
      },
      "source": [
        "def fattoriale(n):\n",
        "  if (n==0):\n",
        "    return 1\n",
        "  else:\n",
        "    return n*fattoriale(n-1)"
      ],
      "execution_count": 10,
      "outputs": []
    },
    {
      "cell_type": "code",
      "metadata": {
        "id": "NAPhyRVT71qr",
        "outputId": "f04aa9f9-50de-4e47-b791-e7da613de9bd",
        "colab": {
          "base_uri": "https://localhost:8080/"
        }
      },
      "source": [
        "# ESERCIZIO 1.\n",
        "# Dato un intero positivo n, scrivere una funzione Python che calcola il fattoriale dei numeri interi da 1 a n.\n",
        "\n",
        "n = int(input('Inserire il numero: '))\n",
        "\n",
        "lista_fattoriali_da_1_a_n = list()\n",
        "\n",
        "count = 1\n",
        "while(count <= n):\n",
        "  fatt = fattoriale(count)\n",
        "  print('Il fattoriale di ' + '%s' %count + ' è: '+ \"%s\" %fatt);\n",
        "  lista_fattoriali_da_1_a_n.append(fatt)\n",
        "  count = count + 1\n",
        "\n",
        "print('Ecco la lista dei fattoriali da 1 a ' + '%d' %n + ': %s' %lista_fattoriali_da_1_a_n);"
      ],
      "execution_count": 12,
      "outputs": [
        {
          "output_type": "stream",
          "text": [
            "Inserire il numero: 4\n",
            "Il fattoriale di 1 è: 1\n",
            "Il fattoriale di 2 è: 2\n",
            "Il fattoriale di 3 è: 6\n",
            "Il fattoriale di 4 è: 24\n",
            "Ecco la lista dei fattoriali da 1 a 4: [1, 2, 6, 24]\n"
          ],
          "name": "stdout"
        }
      ]
    }
  ]
}