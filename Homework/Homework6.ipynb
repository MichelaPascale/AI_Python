{
  "nbformat": 4,
  "nbformat_minor": 0,
  "metadata": {
    "colab": {
      "name": "Untitled20.ipynb",
      "provenance": [],
      "authorship_tag": "ABX9TyMd+Vcyaij5zVnN+/ptnr1Q",
      "include_colab_link": true
    },
    "kernelspec": {
      "name": "python3",
      "display_name": "Python 3"
    },
    "language_info": {
      "name": "python"
    }
  },
  "cells": [
    {
      "cell_type": "markdown",
      "metadata": {
        "id": "view-in-github",
        "colab_type": "text"
      },
      "source": [
        "<a href=\"https://colab.research.google.com/github/MichelaPascale/AI_Python/blob/main/Homework/Homework6.ipynb\" target=\"_parent\"><img src=\"https://colab.research.google.com/assets/colab-badge.svg\" alt=\"Open In Colab\"/></a>"
      ]
    },
    {
      "cell_type": "markdown",
      "metadata": {
        "id": "707WkFeRrw7H"
      },
      "source": [
        "#**Homework 6**"
      ]
    },
    {
      "cell_type": "markdown",
      "metadata": {
        "id": "j51fNrcwr1l0"
      },
      "source": [
        "##**Ex 1**"
      ]
    },
    {
      "cell_type": "markdown",
      "metadata": {
        "id": "j02FvxrWr8RW"
      },
      "source": [
        "Considerate una tabella 8 x 8 da usare come scacchiera in un gioco\n",
        "da tavolo. Definirla come array realizzato mediante liste Python.\n",
        "Usando due cicli annidati, inizializzare la tabella in modo che\n",
        "contenga valori 0 e 1 alternati, come le caselle bianche e nere nella\n",
        "scacchiera per il gioco degli scacchi. "
      ]
    },
    {
      "cell_type": "code",
      "metadata": {
        "id": "UI4y6HbAwEeV"
      },
      "source": [
        "import array"
      ],
      "execution_count": null,
      "outputs": []
    },
    {
      "cell_type": "code",
      "metadata": {
        "id": "cl7V42WpyFvY"
      },
      "source": [
        "def pari(x):\n",
        "  return x % 2 == 0"
      ],
      "execution_count": 9,
      "outputs": []
    },
    {
      "cell_type": "code",
      "metadata": {
        "colab": {
          "base_uri": "https://localhost:8080/"
        },
        "id": "xzz8ySTx2Nyj",
        "outputId": "6e9228f2-b770-4d31-ae8e-2527bea038db"
      },
      "source": [
        "scacchiera = list()\n",
        "\n",
        "round = 1\n",
        "riga = 0\n",
        "val = 0\n",
        "\n",
        "while riga <= 1:\n",
        "  righe = list()\n",
        "  colonna = 0\n",
        "\n",
        "  while colonna <= 7:\n",
        "\n",
        "    if pari(colonna):\n",
        "      if pari(round):\n",
        "        val = 1\n",
        "      else:\n",
        "        val = 0\n",
        "    else:\n",
        "      if pari(round):\n",
        "        val = 0\n",
        "      else:\n",
        "        val = 1\n",
        "    \n",
        "    righe.append(val)\n",
        "    colonna = colonna + 1\n",
        "  \n",
        "  round = round + 1\n",
        "  riga = riga + 1\n",
        "  scacchiera.append(righe)\n",
        "\n",
        "sc = scacchiera * 4\n",
        "print(sc)"
      ],
      "execution_count": 11,
      "outputs": [
        {
          "output_type": "stream",
          "text": [
            "[[0, 1, 0, 1, 0, 1, 0, 1], [1, 0, 1, 0, 1, 0, 1, 0], [0, 1, 0, 1, 0, 1, 0, 1], [1, 0, 1, 0, 1, 0, 1, 0], [0, 1, 0, 1, 0, 1, 0, 1], [1, 0, 1, 0, 1, 0, 1, 0], [0, 1, 0, 1, 0, 1, 0, 1], [1, 0, 1, 0, 1, 0, 1, 0]]\n"
          ],
          "name": "stdout"
        }
      ]
    },
    {
      "cell_type": "code",
      "metadata": {
        "colab": {
          "base_uri": "https://localhost:8080/"
        },
        "id": "nV-nCQAk1Pa3",
        "outputId": "82f906b9-caed-436c-905c-cc9990e59d59"
      },
      "source": [
        "scac = np.array(sc)\n",
        "scac.reshape(8,8)"
      ],
      "execution_count": null,
      "outputs": [
        {
          "output_type": "execute_result",
          "data": {
            "text/plain": [
              "array([[0, 1, 0, 1, 0, 1, 0, 1],\n",
              "       [1, 0, 1, 0, 1, 0, 1, 0],\n",
              "       [0, 1, 0, 1, 0, 1, 0, 1],\n",
              "       [1, 0, 1, 0, 1, 0, 1, 0],\n",
              "       [0, 1, 0, 1, 0, 1, 0, 1],\n",
              "       [1, 0, 1, 0, 1, 0, 1, 0],\n",
              "       [0, 1, 0, 1, 0, 1, 0, 1],\n",
              "       [1, 0, 1, 0, 1, 0, 1, 0]])"
            ]
          },
          "metadata": {
            "tags": []
          },
          "execution_count": 50
        }
      ]
    },
    {
      "cell_type": "code",
      "metadata": {
        "id": "RfZziQufcmkf"
      },
      "source": [
        "def scacchiera():\n",
        "  \n",
        "  scac = list()\n",
        "\n",
        "  for i in range(8):\n",
        "    row = list()\n",
        "    for j in range(8):\n",
        "      if ((i+j)%2 == 0):\n",
        "        row.append(0)\n",
        "      else:\n",
        "        row.append(1)\n",
        "    scac.append(row)\n",
        "  \n",
        "  return scac"
      ],
      "execution_count": 5,
      "outputs": []
    },
    {
      "cell_type": "code",
      "metadata": {
        "id": "kTkg3dnudhKI",
        "outputId": "e3d729b9-63b9-4259-9bed-ed247baf2263",
        "colab": {
          "base_uri": "https://localhost:8080/"
        }
      },
      "source": [
        "scacchiera()"
      ],
      "execution_count": 6,
      "outputs": [
        {
          "output_type": "execute_result",
          "data": {
            "text/plain": [
              "[[0, 1, 0, 1, 0, 1, 0, 1],\n",
              " [1, 0, 1, 0, 1, 0, 1, 0],\n",
              " [0, 1, 0, 1, 0, 1, 0, 1],\n",
              " [1, 0, 1, 0, 1, 0, 1, 0],\n",
              " [0, 1, 0, 1, 0, 1, 0, 1],\n",
              " [1, 0, 1, 0, 1, 0, 1, 0],\n",
              " [0, 1, 0, 1, 0, 1, 0, 1],\n",
              " [1, 0, 1, 0, 1, 0, 1, 0]]"
            ]
          },
          "metadata": {
            "tags": []
          },
          "execution_count": 6
        }
      ]
    },
    {
      "cell_type": "markdown",
      "metadata": {
        "id": "o0NnqEmo3iOf"
      },
      "source": [
        "##**Ex 2**"
      ]
    },
    {
      "cell_type": "markdown",
      "metadata": {
        "id": "8KQ0FNsx3kt7"
      },
      "source": [
        "Data una lista di numeri, sostituire il valore minimo con lo zero. Se\n",
        "lo stesso valore minimo ricorre più volte, sostituirne soltanto uno.\n",
        "Trovare una soluzione senza scandire esplicitamente la lista con cicli\n",
        "iterativi."
      ]
    },
    {
      "cell_type": "code",
      "metadata": {
        "id": "kdJpAa6u-AoW"
      },
      "source": [
        "def del_min(l):\n",
        "  l.remove(min(l))\n",
        "  print(l)"
      ],
      "execution_count": null,
      "outputs": []
    },
    {
      "cell_type": "code",
      "metadata": {
        "id": "uep8mHEr-OQn"
      },
      "source": [
        "lista = [4, 32, 5, 7, 2, 4, 5, 9, 8, 2, 30]\n",
        "\n",
        "del_min(lista)"
      ],
      "execution_count": null,
      "outputs": []
    },
    {
      "cell_type": "code",
      "metadata": {
        "id": "yqzJdO8j97qj",
        "colab": {
          "base_uri": "https://localhost:8080/"
        },
        "outputId": "54efd75c-8a29-46eb-fdff-53f821fc0c7b"
      },
      "source": [
        "lista = [4, 32, 5, 7, 2, 4, 5, 9, 8, 2, 30]\n",
        "\n",
        "min = min(lista)\n",
        "lista.remove(min)\n",
        "print(lista)"
      ],
      "execution_count": null,
      "outputs": [
        {
          "output_type": "stream",
          "text": [
            "[4, 32, 5, 7, 4, 5, 9, 8, 2, 30]\n"
          ],
          "name": "stdout"
        }
      ]
    },
    {
      "cell_type": "code",
      "metadata": {
        "id": "zQoi5EzHeFSW"
      },
      "source": [
        "# Funzione corretta\n",
        "\n",
        "# con scansione della lista\n",
        "def sost_min(lista):\n",
        "  \n",
        "  minimo = min(lista)  #prende solo il primo valore più piccolo\n",
        "\n",
        "  i = 0\n",
        "  for num in lista:\n",
        "    if num == minimo:\n",
        "      lista[i] = 0\n",
        "      break\n",
        "    i = i+1\n",
        "  \n",
        "  return lista"
      ],
      "execution_count": 17,
      "outputs": []
    },
    {
      "cell_type": "code",
      "metadata": {
        "id": "GvoHkQgWem2c",
        "outputId": "9791321b-3ab8-4c0a-f9e6-d2da3b243102",
        "colab": {
          "base_uri": "https://localhost:8080/"
        }
      },
      "source": [
        "lista = [4, 32, 5, 7, 2, 4, 5, 9, 8, 2, 30]\n",
        "\n",
        "sost_min(lista)"
      ],
      "execution_count": 18,
      "outputs": [
        {
          "output_type": "execute_result",
          "data": {
            "text/plain": [
              "[4, 32, 5, 7, 0, 4, 5, 9, 8, 2, 30]"
            ]
          },
          "metadata": {
            "tags": []
          },
          "execution_count": 18
        }
      ]
    },
    {
      "cell_type": "code",
      "metadata": {
        "id": "Ze-3D6uyfSGn",
        "outputId": "261c3301-6a76-42f7-89f7-4690572f7f91",
        "colab": {
          "base_uri": "https://localhost:8080/"
        }
      },
      "source": [
        "#senza scansione della lista\n",
        "l = [4, 32, 5, 7, 2, 4, 5, 9, 8, 2, 30]\n",
        "\n",
        "minimo = min(l)\n",
        "index = l.index(minimo)\n",
        "l[index] = 0\n",
        "print(l)"
      ],
      "execution_count": 19,
      "outputs": [
        {
          "output_type": "stream",
          "text": [
            "[4, 32, 5, 7, 0, 4, 5, 9, 8, 2, 30]\n"
          ],
          "name": "stdout"
        }
      ]
    },
    {
      "cell_type": "markdown",
      "metadata": {
        "id": "cTiowoAn_fhY"
      },
      "source": [
        "##**Ex 3**"
      ]
    },
    {
      "cell_type": "markdown",
      "metadata": {
        "id": "bEvceHlG_hhb"
      },
      "source": [
        "Descrivere l’obiettivo raggiunto dalla seguente funzione:"
      ]
    },
    {
      "cell_type": "code",
      "metadata": {
        "id": "Ju78NBs8_tqS"
      },
      "source": [
        "import random"
      ],
      "execution_count": null,
      "outputs": []
    },
    {
      "cell_type": "code",
      "metadata": {
        "id": "82ylTUSJ_0is"
      },
      "source": [
        "def mistero(l, n):\n",
        "  risultato = []\n",
        "  for i in range(l):\n",
        "    risultato.append(random.randint(0, n))\n",
        "  return risultato"
      ],
      "execution_count": null,
      "outputs": []
    },
    {
      "cell_type": "markdown",
      "metadata": {
        "id": "obFmgYqvAL2y"
      },
      "source": [
        "mistero(l,n) ritorna una lista di lunghezza l e con valori interi randomici nell'intervallo compreso tra 0 e n (0 e n compresi)"
      ]
    },
    {
      "cell_type": "code",
      "metadata": {
        "id": "FDqZqWfzAlkN",
        "colab": {
          "base_uri": "https://localhost:8080/"
        },
        "outputId": "46b7257b-dc54-4121-e2bd-ff68fdd525e2"
      },
      "source": [
        "mistero(4,5) #OK!"
      ],
      "execution_count": null,
      "outputs": [
        {
          "output_type": "execute_result",
          "data": {
            "text/plain": [
              "[0, 5, 5, 3]"
            ]
          },
          "metadata": {
            "tags": []
          },
          "execution_count": 16
        }
      ]
    },
    {
      "cell_type": "markdown",
      "metadata": {
        "id": "huKYbZEp_lHO"
      },
      "source": [
        "##**Ex 4**"
      ]
    },
    {
      "cell_type": "markdown",
      "metadata": {
        "id": "ptVZr6Bx_oS1"
      },
      "source": [
        "Scrivere una funzione riempi che assegni un valore dato a tutti gli\n",
        "elementi di una lista. Ad esempio, l’invocazione riempi(l, 6) deve\n",
        "assegnare il valore 6 a tutti gli elementi della lista l."
      ]
    },
    {
      "cell_type": "code",
      "metadata": {
        "id": "CIb4IB5cCD9v"
      },
      "source": [
        "def riempi(lista, n):\n",
        "  i = 0\n",
        "  while i < len(lista):\n",
        "    lista[i] = n\n",
        "    i = i+1\n",
        "  \n",
        "  print(lista)"
      ],
      "execution_count": null,
      "outputs": []
    },
    {
      "cell_type": "code",
      "metadata": {
        "id": "pnqa4Avp_pgn",
        "colab": {
          "base_uri": "https://localhost:8080/"
        },
        "outputId": "dad60676-fcd6-4004-a8c6-3539a271389f"
      },
      "source": [
        "lista = [1,2,4,6,8,7]\n",
        "\n",
        "riempi(lista, 5)"
      ],
      "execution_count": null,
      "outputs": [
        {
          "output_type": "stream",
          "text": [
            "[5, 5, 5, 5, 5, 5]\n"
          ],
          "name": "stdout"
        }
      ]
    }
  ]
}