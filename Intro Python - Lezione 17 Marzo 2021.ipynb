{
  "nbformat": 4,
  "nbformat_minor": 0,
  "metadata": {
    "colab": {
      "name": "Untitled13.ipynb",
      "provenance": [],
      "authorship_tag": "ABX9TyM3NxDILAGXiTpM+KUm2shr",
      "include_colab_link": true
    },
    "kernelspec": {
      "name": "python3",
      "display_name": "Python 3"
    },
    "language_info": {
      "name": "python"
    }
  },
  "cells": [
    {
      "cell_type": "markdown",
      "metadata": {
        "id": "view-in-github",
        "colab_type": "text"
      },
      "source": [
        "<a href=\"https://colab.research.google.com/github/MichelaPascale/AI_Python/blob/main/Intro%20Python%20-%20Lezione%2017%20Marzo%202021.ipynb\" target=\"_parent\"><img src=\"https://colab.research.google.com/assets/colab-badge.svg\" alt=\"Open In Colab\"/></a>"
      ]
    },
    {
      "cell_type": "markdown",
      "metadata": {
        "id": "yJ5JEFOp73va"
      },
      "source": [
        "**LEZIONE DEL 17 MARZO 2021 (INTRO PYTHON) - INTELLIGENZA ARTIFICIALE**"
      ]
    },
    {
      "cell_type": "code",
      "metadata": {
        "colab": {
          "base_uri": "https://localhost:8080/"
        },
        "id": "g-T-CnGJgTPR",
        "outputId": "26cde3b3-dbb0-49a3-f2dc-25bcd9ab0e38"
      },
      "source": [
        "print(59/4)\n",
        "print(59//4)\n",
        "\n",
        "quoziente = 7/3\n",
        "resto = 7%3\n",
        "\n",
        "print(quoziente)\n",
        "print(resto)"
      ],
      "execution_count": null,
      "outputs": [
        {
          "output_type": "stream",
          "text": [
            "14.75\n",
            "14\n",
            "2.3333333333333335\n",
            "1\n"
          ],
          "name": "stdout"
        }
      ]
    },
    {
      "cell_type": "code",
      "metadata": {
        "colab": {
          "base_uri": "https://localhost:8080/"
        },
        "id": "TJ5khIyZvc69",
        "outputId": "9821a2e1-cbce-47de-9bc9-e8c34b5de9ee"
      },
      "source": [
        "nome = input('Qual è il tuo nome ')\n",
        "print(nome)"
      ],
      "execution_count": null,
      "outputs": [
        {
          "output_type": "stream",
          "text": [
            "Qual è il tuo nomeMichela\n",
            "Michela\n"
          ],
          "name": "stdout"
        }
      ]
    },
    {
      "cell_type": "code",
      "metadata": {
        "colab": {
          "base_uri": "https://localhost:8080/"
        },
        "id": "A3Tv4p4wwKxR",
        "outputId": "6cd4ae5c-184c-4692-eed6-7d03dd680f30"
      },
      "source": [
        "prompt = 'Inserire la velocità: '\n",
        "\n",
        "speed = input(prompt)\n",
        "\n",
        "print(type(speed))\n",
        "\n",
        "#quindi devo mettere int\n",
        "print(int(speed))\n",
        "print(int(speed) + 10)\n"
      ],
      "execution_count": null,
      "outputs": [
        {
          "output_type": "stream",
          "text": [
            "Inserire la velocità: 40\n",
            "<class 'str'>\n",
            "40\n",
            "50\n"
          ],
          "name": "stdout"
        }
      ]
    },
    {
      "cell_type": "code",
      "metadata": {
        "id": "1dVQRnWBKCo8"
      },
      "source": [
        "x = 6\n",
        "y = 3"
      ],
      "execution_count": 1,
      "outputs": []
    },
    {
      "cell_type": "code",
      "metadata": {
        "colab": {
          "base_uri": "https://localhost:8080/"
        },
        "id": "8vLUdVu-KG78",
        "outputId": "bf90bc3c-c48f-402c-e21b-cc0ec545d68a"
      },
      "source": [
        "x == y"
      ],
      "execution_count": 2,
      "outputs": [
        {
          "output_type": "execute_result",
          "data": {
            "text/plain": [
              "False"
            ]
          },
          "metadata": {
            "tags": []
          },
          "execution_count": 2
        }
      ]
    },
    {
      "cell_type": "code",
      "metadata": {
        "colab": {
          "base_uri": "https://localhost:8080/"
        },
        "id": "TCTVYvasKLWx",
        "outputId": "5f2705d6-6a14-4a23-ac85-1ec4976cf5b9"
      },
      "source": [
        "x is y"
      ],
      "execution_count": 3,
      "outputs": [
        {
          "output_type": "execute_result",
          "data": {
            "text/plain": [
              "False"
            ]
          },
          "metadata": {
            "tags": []
          },
          "execution_count": 3
        }
      ]
    },
    {
      "cell_type": "code",
      "metadata": {
        "colab": {
          "base_uri": "https://localhost:8080/"
        },
        "id": "T2ez44iIKOmq",
        "outputId": "a87402bd-bfad-4d32-ff24-fd294820ad45"
      },
      "source": [
        "y = 6\n",
        "\n",
        "x == y"
      ],
      "execution_count": 5,
      "outputs": [
        {
          "output_type": "execute_result",
          "data": {
            "text/plain": [
              "True"
            ]
          },
          "metadata": {
            "tags": []
          },
          "execution_count": 5
        }
      ]
    },
    {
      "cell_type": "code",
      "metadata": {
        "colab": {
          "base_uri": "https://localhost:8080/"
        },
        "id": "3YSYZIpXKUfY",
        "outputId": "7cdf9c99-6976-487e-97b6-f102dfbc92e8"
      },
      "source": [
        "x is y"
      ],
      "execution_count": 6,
      "outputs": [
        {
          "output_type": "execute_result",
          "data": {
            "text/plain": [
              "True"
            ]
          },
          "metadata": {
            "tags": []
          },
          "execution_count": 6
        }
      ]
    },
    {
      "cell_type": "code",
      "metadata": {
        "colab": {
          "base_uri": "https://localhost:8080/"
        },
        "id": "pJVxXY9lxzAF",
        "outputId": "7db5e504-e00a-497c-bdd0-4127f769858e"
      },
      "source": [
        "x = 6\n",
        "\n",
        "x>0 and x<10"
      ],
      "execution_count": null,
      "outputs": [
        {
          "output_type": "execute_result",
          "data": {
            "text/plain": [
              "True"
            ]
          },
          "metadata": {
            "tags": []
          },
          "execution_count": 37
        }
      ]
    },
    {
      "cell_type": "code",
      "metadata": {
        "id": "SsDxcsQgKarR"
      },
      "source": [
        "str1 = 'abcd'\n",
        "str2 = 'efgh'"
      ],
      "execution_count": 7,
      "outputs": []
    },
    {
      "cell_type": "code",
      "metadata": {
        "colab": {
          "base_uri": "https://localhost:8080/"
        },
        "id": "-uRbldX2KgN-",
        "outputId": "05e943c2-88ec-4766-9d22-375c91760f6b"
      },
      "source": [
        "str1 is str2"
      ],
      "execution_count": 11,
      "outputs": [
        {
          "output_type": "execute_result",
          "data": {
            "text/plain": [
              "False"
            ]
          },
          "metadata": {
            "tags": []
          },
          "execution_count": 11
        }
      ]
    },
    {
      "cell_type": "code",
      "metadata": {
        "colab": {
          "base_uri": "https://localhost:8080/"
        },
        "id": "ZTjIJx0IKy9O",
        "outputId": "0ca5804f-8acc-46d9-cdf0-ef69405b6218"
      },
      "source": [
        "str1 is not str2"
      ],
      "execution_count": 12,
      "outputs": [
        {
          "output_type": "execute_result",
          "data": {
            "text/plain": [
              "True"
            ]
          },
          "metadata": {
            "tags": []
          },
          "execution_count": 12
        }
      ]
    },
    {
      "cell_type": "code",
      "metadata": {
        "colab": {
          "base_uri": "https://localhost:8080/"
        },
        "id": "3o0GIeHFKkjV",
        "outputId": "b564b4bf-da2d-48d2-91a9-2198ed8e5a53"
      },
      "source": [
        "str1 == str2"
      ],
      "execution_count": 9,
      "outputs": [
        {
          "output_type": "execute_result",
          "data": {
            "text/plain": [
              "False"
            ]
          },
          "metadata": {
            "tags": []
          },
          "execution_count": 9
        }
      ]
    },
    {
      "cell_type": "code",
      "metadata": {
        "colab": {
          "base_uri": "https://localhost:8080/"
        },
        "id": "6ujh7XKTyId4",
        "outputId": "3bf7fab0-fbaf-4422-8551-80327929167a"
      },
      "source": [
        "1 and True"
      ],
      "execution_count": null,
      "outputs": [
        {
          "output_type": "execute_result",
          "data": {
            "text/plain": [
              "True"
            ]
          },
          "metadata": {
            "tags": []
          },
          "execution_count": 40
        }
      ]
    },
    {
      "cell_type": "code",
      "metadata": {
        "colab": {
          "base_uri": "https://localhost:8080/"
        },
        "id": "n_p1M0t_zJZz",
        "outputId": "e040d1c4-497d-4fc8-be25-e12efe0db7f4"
      },
      "source": [
        "def fahToCel():\n",
        "  inp = input('Inserisci temperartura in Fahrenheit: ')\n",
        "\n",
        "  try:\n",
        "    fah = float(inp)\n",
        "    cel = (fah - 32.0) * 5.0/9.0\n",
        "    print('Ecco il rispettivo valore in gradi Celsius: ' + '%s' %cel)\n",
        "  except:\n",
        "    print('Inserisci un numero!')\n",
        "    fahToCel()\n",
        "\n",
        "#main\n",
        "fahToCel()"
      ],
      "execution_count": null,
      "outputs": [
        {
          "output_type": "stream",
          "text": [
            "Inserisci temperartura in Fahrenheit: pippo\n",
            "Inserisci un numero!\n",
            "Inserisci temperartura in Fahrenheit: 40\n",
            "Ecco il rispettivo valore in gradi Celsius: 4.444444444444445\n"
          ],
          "name": "stdout"
        }
      ]
    },
    {
      "cell_type": "code",
      "metadata": {
        "colab": {
          "base_uri": "https://localhost:8080/"
        },
        "id": "Y7Z8QsrH0ifp",
        "outputId": "1730b208-0012-4880-b81a-c3c0ac245dea"
      },
      "source": [
        "print(max([2,4,6,3,2,5,7,5]))\n",
        "\n",
        "print(max('Hello World'))\n",
        "print(min('Hello World'))\n",
        "\n",
        "len('Hello World')  #considera anche lo spazio"
      ],
      "execution_count": null,
      "outputs": [
        {
          "output_type": "stream",
          "text": [
            "7\n",
            "r\n",
            " \n"
          ],
          "name": "stdout"
        },
        {
          "output_type": "execute_result",
          "data": {
            "text/plain": [
              "11"
            ]
          },
          "metadata": {
            "tags": []
          },
          "execution_count": 55
        }
      ]
    },
    {
      "cell_type": "code",
      "metadata": {
        "colab": {
          "base_uri": "https://localhost:8080/"
        },
        "id": "T7rdwTie2NuE",
        "outputId": "7e5a092a-2e4b-4bbd-c236-e99914304594"
      },
      "source": [
        "import random\n",
        "\n",
        "print(random.random())  #random() restituisce valori tra 0.0 e 1.0 (con 1.0 escluso)"
      ],
      "execution_count": 15,
      "outputs": [
        {
          "output_type": "stream",
          "text": [
            "0.5613925858602881\n"
          ],
          "name": "stdout"
        }
      ]
    },
    {
      "cell_type": "code",
      "metadata": {
        "id": "0IQJMwvfM-6-",
        "outputId": "25f083eb-7bfd-443a-d7ef-b868b4b02b32",
        "colab": {
          "base_uri": "https://localhost:8080/"
        }
      },
      "source": [
        "for i in range(5):\n",
        "  print(random.randint(5,10))"
      ],
      "execution_count": 19,
      "outputs": [
        {
          "output_type": "stream",
          "text": [
            "5\n",
            "10\n",
            "6\n",
            "10\n",
            "7\n"
          ],
          "name": "stdout"
        }
      ]
    },
    {
      "cell_type": "code",
      "metadata": {
        "id": "9uZUTI5fNStc",
        "outputId": "2f9a3e69-d079-4750-ea35-73bf2f58ce28",
        "colab": {
          "base_uri": "https://localhost:8080/"
        }
      },
      "source": [
        "t = [1, 2, 5]\n",
        "random.choice(t)"
      ],
      "execution_count": 20,
      "outputs": [
        {
          "output_type": "execute_result",
          "data": {
            "text/plain": [
              "5"
            ]
          },
          "metadata": {
            "tags": []
          },
          "execution_count": 20
        }
      ]
    },
    {
      "cell_type": "code",
      "metadata": {
        "id": "_0aCTvL8MgG0",
        "outputId": "00fc6456-4635-497c-b8f7-676d73f2d602",
        "colab": {
          "base_uri": "https://localhost:8080/"
        }
      },
      "source": [
        "for i in range(10):\n",
        "  x = random.random()\n",
        "  print(x)"
      ],
      "execution_count": 16,
      "outputs": [
        {
          "output_type": "stream",
          "text": [
            "0.19651545048399555\n",
            "0.42520997443365427\n",
            "0.00728324482038456\n",
            "0.8285089144804583\n",
            "0.5085956901103964\n",
            "0.7992133238362192\n",
            "0.6330802502918905\n",
            "0.39340922600586015\n",
            "0.08871237051340286\n",
            "0.8242099254807262\n"
          ],
          "name": "stdout"
        }
      ]
    },
    {
      "cell_type": "code",
      "metadata": {
        "colab": {
          "base_uri": "https://localhost:8080/"
        },
        "id": "dO7N7yQi24g1",
        "outputId": "45492557-9b31-40fe-cbbd-762aa6ee7a76"
      },
      "source": [
        "import math\n",
        "\n",
        "print(int(math.pow(2,3)))  #senza int mi riporta un float"
      ],
      "execution_count": 14,
      "outputs": [
        {
          "output_type": "stream",
          "text": [
            "8\n"
          ],
          "name": "stdout"
        }
      ]
    },
    {
      "cell_type": "code",
      "metadata": {
        "colab": {
          "base_uri": "https://localhost:8080/"
        },
        "id": "KfBCNTUW3OPY",
        "outputId": "bb07e587-4009-43b8-c444-27505a5b701b"
      },
      "source": [
        "def print_twice(x):\n",
        "  print(x)\n",
        "  print(x)\n",
        "\n",
        "print_twice('Spam ' * 4)  #ripetizione della stringa 4 volte"
      ],
      "execution_count": null,
      "outputs": [
        {
          "output_type": "stream",
          "text": [
            "Spam Spam Spam Spam \n",
            "Spam Spam Spam Spam \n"
          ],
          "name": "stdout"
        }
      ]
    },
    {
      "cell_type": "code",
      "metadata": {
        "id": "yz_OwoAxPj05",
        "outputId": "54c488bf-8a31-4c24-ad87-c60e8bacbf8b",
        "colab": {
          "base_uri": "https://localhost:8080/"
        }
      },
      "source": [
        "while True:\n",
        "  line = input('> ')\n",
        "  \n",
        "  if line[0] == '#':\n",
        "    continue\n",
        "  if line == 'done':\n",
        "    break\n",
        "  print(line)\n",
        "\n",
        "print('Done!')"
      ],
      "execution_count": 24,
      "outputs": [
        {
          "output_type": "stream",
          "text": [
            "> #\n",
            "> #\n",
            "> #345\n",
            "> 34\n",
            "34\n",
            "> done\n",
            "Done!\n"
          ],
          "name": "stdout"
        }
      ]
    },
    {
      "cell_type": "code",
      "metadata": {
        "colab": {
          "base_uri": "https://localhost:8080/"
        },
        "id": "X-N7ec1a6yZO",
        "outputId": "035420e3-74c4-4b06-ea87-0bf43f0722de"
      },
      "source": [
        "largest = None\n",
        "\n",
        "print('Before: ', largest)\n",
        "\n",
        "for i in [3, 41, 12, 9, 74, 15]:\n",
        "  if (largest is None or i > largest):\n",
        "    largest = i\n",
        "  print('Loop: ', i, largest)\n",
        "\n",
        "print('Largest: ', largest)"
      ],
      "execution_count": null,
      "outputs": [
        {
          "output_type": "stream",
          "text": [
            "Before:  None\n",
            "Loop:  3 3\n",
            "Loop:  41 41\n",
            "Loop:  12 41\n",
            "Loop:  9 41\n",
            "Loop:  74 74\n",
            "Loop:  15 74\n",
            "Largest:  74\n"
          ],
          "name": "stdout"
        }
      ]
    }
  ]
}