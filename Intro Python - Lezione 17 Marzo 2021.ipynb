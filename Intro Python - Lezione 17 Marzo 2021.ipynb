{
  "nbformat": 4,
  "nbformat_minor": 0,
  "metadata": {
    "colab": {
      "name": "Untitled13.ipynb",
      "provenance": [],
      "authorship_tag": "ABX9TyMVuxKRKMaY8enNRcV09cja",
      "include_colab_link": true
    },
    "kernelspec": {
      "name": "python3",
      "display_name": "Python 3"
    },
    "language_info": {
      "name": "python"
    }
  },
  "cells": [
    {
      "cell_type": "markdown",
      "metadata": {
        "id": "view-in-github",
        "colab_type": "text"
      },
      "source": [
        "<a href=\"https://colab.research.google.com/github/MichelaPascale/AI_Python/blob/main/Intro%20Python%20-%20Lezione%2017%20Marzo%202021.ipynb\" target=\"_parent\"><img src=\"https://colab.research.google.com/assets/colab-badge.svg\" alt=\"Open In Colab\"/></a>"
      ]
    },
    {
      "cell_type": "markdown",
      "metadata": {
        "id": "yJ5JEFOp73va"
      },
      "source": [
        "**LEZIONE DEL 17 MARZO 2021 (INTRO PYTHON) - INTELLIGENZA ARTIFICIALE**"
      ]
    },
    {
      "cell_type": "code",
      "metadata": {
        "colab": {
          "base_uri": "https://localhost:8080/"
        },
        "id": "g-T-CnGJgTPR",
        "outputId": "26cde3b3-dbb0-49a3-f2dc-25bcd9ab0e38"
      },
      "source": [
        "print(59/4)\n",
        "print(59//4)\n",
        "\n",
        "quoziente = 7/3\n",
        "resto = 7%3\n",
        "\n",
        "print(quoziente)\n",
        "print(resto)"
      ],
      "execution_count": 17,
      "outputs": [
        {
          "output_type": "stream",
          "text": [
            "14.75\n",
            "14\n",
            "2.3333333333333335\n",
            "1\n"
          ],
          "name": "stdout"
        }
      ]
    },
    {
      "cell_type": "code",
      "metadata": {
        "colab": {
          "base_uri": "https://localhost:8080/"
        },
        "id": "TJ5khIyZvc69",
        "outputId": "9821a2e1-cbce-47de-9bc9-e8c34b5de9ee"
      },
      "source": [
        "nome = input('Qual è il tuo nome ')\n",
        "print(nome)"
      ],
      "execution_count": 20,
      "outputs": [
        {
          "output_type": "stream",
          "text": [
            "Qual è il tuo nomeMichela\n",
            "Michela\n"
          ],
          "name": "stdout"
        }
      ]
    },
    {
      "cell_type": "code",
      "metadata": {
        "colab": {
          "base_uri": "https://localhost:8080/"
        },
        "id": "A3Tv4p4wwKxR",
        "outputId": "6cd4ae5c-184c-4692-eed6-7d03dd680f30"
      },
      "source": [
        "prompt = 'Inserire la velocità: '\n",
        "\n",
        "speed = input(prompt)\n",
        "\n",
        "print(type(speed))\n",
        "\n",
        "#quindi devo mettere int\n",
        "print(int(speed))\n",
        "print(int(speed) + 10)\n"
      ],
      "execution_count": 31,
      "outputs": [
        {
          "output_type": "stream",
          "text": [
            "Inserire la velocità: 40\n",
            "<class 'str'>\n",
            "40\n",
            "50\n"
          ],
          "name": "stdout"
        }
      ]
    },
    {
      "cell_type": "code",
      "metadata": {
        "colab": {
          "base_uri": "https://localhost:8080/"
        },
        "id": "pJVxXY9lxzAF",
        "outputId": "7db5e504-e00a-497c-bdd0-4127f769858e"
      },
      "source": [
        "x = 6\n",
        "\n",
        "x>0 and x<10"
      ],
      "execution_count": 37,
      "outputs": [
        {
          "output_type": "execute_result",
          "data": {
            "text/plain": [
              "True"
            ]
          },
          "metadata": {
            "tags": []
          },
          "execution_count": 37
        }
      ]
    },
    {
      "cell_type": "code",
      "metadata": {
        "colab": {
          "base_uri": "https://localhost:8080/"
        },
        "id": "6ujh7XKTyId4",
        "outputId": "3bf7fab0-fbaf-4422-8551-80327929167a"
      },
      "source": [
        "1 and True"
      ],
      "execution_count": 40,
      "outputs": [
        {
          "output_type": "execute_result",
          "data": {
            "text/plain": [
              "True"
            ]
          },
          "metadata": {
            "tags": []
          },
          "execution_count": 40
        }
      ]
    },
    {
      "cell_type": "code",
      "metadata": {
        "colab": {
          "base_uri": "https://localhost:8080/"
        },
        "id": "n_p1M0t_zJZz",
        "outputId": "e040d1c4-497d-4fc8-be25-e12efe0db7f4"
      },
      "source": [
        "def fahToCel():\n",
        "  inp = input('Inserisci temperartura in Fahrenheit: ')\n",
        "\n",
        "  try:\n",
        "    fah = float(inp)\n",
        "    cel = (fah - 32.0) * 5.0/9.0\n",
        "    print('Ecco il rispettivo valore in gradi Celsius: ' + '%s' %cel)\n",
        "  except:\n",
        "    print('Inserisci un numero!')\n",
        "    fahToCel()\n",
        "\n",
        "#main\n",
        "fahToCel()"
      ],
      "execution_count": 48,
      "outputs": [
        {
          "output_type": "stream",
          "text": [
            "Inserisci temperartura in Fahrenheit: pippo\n",
            "Inserisci un numero!\n",
            "Inserisci temperartura in Fahrenheit: 40\n",
            "Ecco il rispettivo valore in gradi Celsius: 4.444444444444445\n"
          ],
          "name": "stdout"
        }
      ]
    },
    {
      "cell_type": "code",
      "metadata": {
        "colab": {
          "base_uri": "https://localhost:8080/"
        },
        "id": "Y7Z8QsrH0ifp",
        "outputId": "1730b208-0012-4880-b81a-c3c0ac245dea"
      },
      "source": [
        "print(max([2,4,6,3,2,5,7,5]))\n",
        "\n",
        "print(max('Hello World'))\n",
        "print(min('Hello World'))\n",
        "\n",
        "len('Hello World')  #considera anche lo spazio"
      ],
      "execution_count": 55,
      "outputs": [
        {
          "output_type": "stream",
          "text": [
            "7\n",
            "r\n",
            " \n"
          ],
          "name": "stdout"
        },
        {
          "output_type": "execute_result",
          "data": {
            "text/plain": [
              "11"
            ]
          },
          "metadata": {
            "tags": []
          },
          "execution_count": 55
        }
      ]
    },
    {
      "cell_type": "code",
      "metadata": {
        "colab": {
          "base_uri": "https://localhost:8080/"
        },
        "id": "T7rdwTie2NuE",
        "outputId": "c41f52da-a225-4f24-ce3e-47e3799d1d59"
      },
      "source": [
        "import random\n",
        "\n",
        "print(random.random())"
      ],
      "execution_count": 56,
      "outputs": [
        {
          "output_type": "stream",
          "text": [
            "0.2926192935264149\n"
          ],
          "name": "stdout"
        }
      ]
    },
    {
      "cell_type": "code",
      "metadata": {
        "colab": {
          "base_uri": "https://localhost:8080/"
        },
        "id": "dO7N7yQi24g1",
        "outputId": "6c9376ae-e03e-47d5-f81b-22c794bd233f"
      },
      "source": [
        "import math\n",
        "\n",
        "print(math.pow(2,3))"
      ],
      "execution_count": 57,
      "outputs": [
        {
          "output_type": "stream",
          "text": [
            "8.0\n"
          ],
          "name": "stdout"
        }
      ]
    },
    {
      "cell_type": "code",
      "metadata": {
        "colab": {
          "base_uri": "https://localhost:8080/"
        },
        "id": "KfBCNTUW3OPY",
        "outputId": "bb07e587-4009-43b8-c444-27505a5b701b"
      },
      "source": [
        "def print_twice(x):\n",
        "  print(x)\n",
        "  print(x)\n",
        "\n",
        "print_twice('Spam ' * 4)  #ripetizione della stringa 4 volte"
      ],
      "execution_count": 60,
      "outputs": [
        {
          "output_type": "stream",
          "text": [
            "Spam Spam Spam Spam \n",
            "Spam Spam Spam Spam \n"
          ],
          "name": "stdout"
        }
      ]
    },
    {
      "cell_type": "code",
      "metadata": {
        "colab": {
          "base_uri": "https://localhost:8080/"
        },
        "id": "X-N7ec1a6yZO",
        "outputId": "035420e3-74c4-4b06-ea87-0bf43f0722de"
      },
      "source": [
        "largest = None\n",
        "\n",
        "print('Before: ', largest)\n",
        "\n",
        "for i in [3, 41, 12, 9, 74, 15]:\n",
        "  if (largest is None or i > largest):\n",
        "    largest = i\n",
        "  print('Loop: ', i, largest)\n",
        "\n",
        "print('Largest: ', largest)"
      ],
      "execution_count": 65,
      "outputs": [
        {
          "output_type": "stream",
          "text": [
            "Before:  None\n",
            "Loop:  3 3\n",
            "Loop:  41 41\n",
            "Loop:  12 41\n",
            "Loop:  9 41\n",
            "Loop:  74 74\n",
            "Loop:  15 74\n",
            "Largest:  74\n"
          ],
          "name": "stdout"
        }
      ]
    }
  ]
}