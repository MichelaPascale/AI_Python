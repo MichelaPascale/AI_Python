{
  "nbformat": 4,
  "nbformat_minor": 0,
  "metadata": {
    "colab": {
      "name": "Untitled16.ipynb",
      "provenance": [],
      "authorship_tag": "ABX9TyNRj8/tB2pZ7q9Y3Tzkd7Ov",
      "include_colab_link": true
    },
    "kernelspec": {
      "name": "python3",
      "display_name": "Python 3"
    },
    "language_info": {
      "name": "python"
    }
  },
  "cells": [
    {
      "cell_type": "markdown",
      "metadata": {
        "id": "view-in-github",
        "colab_type": "text"
      },
      "source": [
        "<a href=\"https://colab.research.google.com/github/MichelaPascale/AI_Python/blob/main/NumPy%20-%20Lezione%2024%20Marzo%202021.ipynb\" target=\"_parent\"><img src=\"https://colab.research.google.com/assets/colab-badge.svg\" alt=\"Open In Colab\"/></a>"
      ]
    },
    {
      "cell_type": "markdown",
      "metadata": {
        "id": "ExYpgTkh79My"
      },
      "source": [
        "# **LEZIONE DEL 24 MARZO 2021 - (INTRO PYTHON) - INTELLIGENZA ARTIFICIALE**"
      ]
    },
    {
      "cell_type": "markdown",
      "metadata": {
        "id": "bqMVC5bI8bV4"
      },
      "source": [
        "##**NumPy**"
      ]
    },
    {
      "cell_type": "markdown",
      "metadata": {
        "id": "zPHt_q-A81jR"
      },
      "source": [
        "### **Calcolo numerico**"
      ]
    },
    {
      "cell_type": "code",
      "metadata": {
        "id": "tXuHovP175tg"
      },
      "source": [
        "a = [1, 4, 2, 8, 3]\n",
        "b = [3, 2, 4, 5, 6]"
      ],
      "execution_count": 1,
      "outputs": []
    },
    {
      "cell_type": "code",
      "metadata": {
        "colab": {
          "base_uri": "https://localhost:8080/"
        },
        "id": "9NcN6wNI9CPh",
        "outputId": "146119e4-1d32-40aa-abde-9c8d153146f2"
      },
      "source": [
        "# Voglio fare il prodotto tra gli elementi delle due liste\n",
        "\n",
        "# SENZA NUMPY\n",
        "c = []\n",
        "for i in range(5):\n",
        "  c.append(a[i]*b[i])\n",
        "\n",
        "print(c)"
      ],
      "execution_count": 2,
      "outputs": [
        {
          "output_type": "stream",
          "text": [
            "[3, 8, 8, 40, 18]\n"
          ],
          "name": "stdout"
        }
      ]
    },
    {
      "cell_type": "code",
      "metadata": {
        "id": "9aGnciIw9ZnD"
      },
      "source": [
        "# CON NUMPY\n",
        "import numpy as np"
      ],
      "execution_count": 3,
      "outputs": []
    },
    {
      "cell_type": "code",
      "metadata": {
        "colab": {
          "base_uri": "https://localhost:8080/"
        },
        "id": "1wmv9RuL9d6M",
        "outputId": "b0527c5c-a5dc-43b3-a293-68e0ca0a0724"
      },
      "source": [
        "a = np.array([1, 4, 2, 8, 3])\n",
        "b = np.array([3, 2, 4, 5, 6])\n",
        "\n",
        "c = a * b\n",
        "print(c)"
      ],
      "execution_count": 4,
      "outputs": [
        {
          "output_type": "stream",
          "text": [
            "[ 3  8  8 40 18]\n"
          ],
          "name": "stdout"
        }
      ]
    },
    {
      "cell_type": "markdown",
      "metadata": {
        "id": "IdMFRjQt9257"
      },
      "source": [
        "### **Array di Dati**"
      ]
    },
    {
      "cell_type": "markdown",
      "metadata": {
        "id": "G92AzydQ99Go"
      },
      "source": [
        "**Array mediante Liste Python**"
      ]
    },
    {
      "cell_type": "code",
      "metadata": {
        "colab": {
          "base_uri": "https://localhost:8080/"
        },
        "id": "LhQmkG8Y96ag",
        "outputId": "a97fa158-3b48-44c4-b00b-f38da75b7c96"
      },
      "source": [
        "v = [0.56, 0.75, 1.0, 1.5, 2.0]\n",
        "\n",
        "m = [v, v, v]\n",
        "print(m)"
      ],
      "execution_count": 5,
      "outputs": [
        {
          "output_type": "stream",
          "text": [
            "[[0.56, 0.75, 1.0, 1.5, 2.0], [0.56, 0.75, 1.0, 1.5, 2.0], [0.56, 0.75, 1.0, 1.5, 2.0]]\n"
          ],
          "name": "stdout"
        }
      ]
    },
    {
      "cell_type": "code",
      "metadata": {
        "colab": {
          "base_uri": "https://localhost:8080/"
        },
        "id": "TzcAcI5j_Bl1",
        "outputId": "9531fa78-55e8-43cd-e803-2aaed98dc914"
      },
      "source": [
        "m[1]"
      ],
      "execution_count": 6,
      "outputs": [
        {
          "output_type": "execute_result",
          "data": {
            "text/plain": [
              "[0.56, 0.75, 1.0, 1.5, 2.0]"
            ]
          },
          "metadata": {
            "tags": []
          },
          "execution_count": 6
        }
      ]
    },
    {
      "cell_type": "code",
      "metadata": {
        "colab": {
          "base_uri": "https://localhost:8080/"
        },
        "id": "BVwAAQNJ_E7F",
        "outputId": "e5de7c60-8574-4a4e-ab4f-fd87f8a077f5"
      },
      "source": [
        "m[1][0]"
      ],
      "execution_count": 7,
      "outputs": [
        {
          "output_type": "execute_result",
          "data": {
            "text/plain": [
              "0.56"
            ]
          },
          "metadata": {
            "tags": []
          },
          "execution_count": 7
        }
      ]
    },
    {
      "cell_type": "code",
      "metadata": {
        "colab": {
          "base_uri": "https://localhost:8080/"
        },
        "id": "v4E2KUkn_J0P",
        "outputId": "11ccd5b1-c0d5-4687-84ef-5bda074418a7"
      },
      "source": [
        "v1 = [0.5, 1.5]\n",
        "v2 = [1,2]\n",
        "\n",
        "m = [v1, v2]\n",
        "print(m)"
      ],
      "execution_count": 9,
      "outputs": [
        {
          "output_type": "stream",
          "text": [
            "[[0.5, 1.5], [1, 2]]\n"
          ],
          "name": "stdout"
        }
      ]
    },
    {
      "cell_type": "code",
      "metadata": {
        "colab": {
          "base_uri": "https://localhost:8080/"
        },
        "id": "OBXm2oXL_UV3",
        "outputId": "97af21ef-e4bf-4bcb-b937-386976e5f23c"
      },
      "source": [
        "c = [m, m]\n",
        "print(c)"
      ],
      "execution_count": 12,
      "outputs": [
        {
          "output_type": "stream",
          "text": [
            "[[[0.5, 1.5], [1, 2]], [[0.5, 1.5], [1, 2]]]\n"
          ],
          "name": "stdout"
        }
      ]
    },
    {
      "cell_type": "code",
      "metadata": {
        "colab": {
          "base_uri": "https://localhost:8080/"
        },
        "id": "zA_vd3ma_b7Y",
        "outputId": "6f884b17-3e8e-4067-dfbd-02ff91980365"
      },
      "source": [
        "c[1][0][1] #1.5"
      ],
      "execution_count": 13,
      "outputs": [
        {
          "output_type": "execute_result",
          "data": {
            "text/plain": [
              "1.5"
            ]
          },
          "metadata": {
            "tags": []
          },
          "execution_count": 13
        }
      ]
    },
    {
      "cell_type": "code",
      "metadata": {
        "colab": {
          "base_uri": "https://localhost:8080/"
        },
        "id": "LKfuTJhm_lQO",
        "outputId": "803aea3f-b291-49e3-e890-0475d06bd09a"
      },
      "source": [
        "v = [0.56, 0.75, 1.0, 1.5, 2.0]\n",
        "\n",
        "m = [v, v, v]\n",
        "print(m)"
      ],
      "execution_count": 14,
      "outputs": [
        {
          "output_type": "stream",
          "text": [
            "[[0.56, 0.75, 1.0, 1.5, 2.0], [0.56, 0.75, 1.0, 1.5, 2.0], [0.56, 0.75, 1.0, 1.5, 2.0]]\n"
          ],
          "name": "stdout"
        }
      ]
    },
    {
      "cell_type": "code",
      "metadata": {
        "colab": {
          "base_uri": "https://localhost:8080/"
        },
        "id": "-sipxSbi_r-m",
        "outputId": "23a6ffb8-f392-4a60-a615-f9f410ca2131"
      },
      "source": [
        "v[0]"
      ],
      "execution_count": 15,
      "outputs": [
        {
          "output_type": "execute_result",
          "data": {
            "text/plain": [
              "0.56"
            ]
          },
          "metadata": {
            "tags": []
          },
          "execution_count": 15
        }
      ]
    },
    {
      "cell_type": "code",
      "metadata": {
        "colab": {
          "base_uri": "https://localhost:8080/"
        },
        "id": "QwjISTv3_vB7",
        "outputId": "f08c441f-0529-4e58-893d-a36be37a1ea8"
      },
      "source": [
        "v[0] = 'Prova'\n",
        "\n",
        "print(v)\n",
        "print(m)  #la nuova assegnazione ha avuto le conseguenze anche su m, poiché il riferimento è sempre allo stesso oggetto "
      ],
      "execution_count": 17,
      "outputs": [
        {
          "output_type": "stream",
          "text": [
            "['Prova', 0.75, 1.0, 1.5, 2.0]\n",
            "[['Prova', 0.75, 1.0, 1.5, 2.0], ['Prova', 0.75, 1.0, 1.5, 2.0], ['Prova', 0.75, 1.0, 1.5, 2.0]]\n"
          ],
          "name": "stdout"
        }
      ]
    },
    {
      "cell_type": "code",
      "metadata": {
        "id": "L5gifSwWADpb"
      },
      "source": [
        "# Come evitare ciò? Ne faccio una copia\n",
        "\n",
        "from copy import deepcopy"
      ],
      "execution_count": 19,
      "outputs": []
    },
    {
      "cell_type": "code",
      "metadata": {
        "colab": {
          "base_uri": "https://localhost:8080/"
        },
        "id": "9TXCcySdAQpM",
        "outputId": "ead76916-4351-4062-9562-32abbb354140"
      },
      "source": [
        "v = [0.56, 0.75, 1.0, 1.5, 2.0]\n",
        "\n",
        "m = 3 * [deepcopy(v),]  #v ripetuto 3 volte\n",
        "print(m)"
      ],
      "execution_count": 20,
      "outputs": [
        {
          "output_type": "stream",
          "text": [
            "[[0.56, 0.75, 1.0, 1.5, 2.0], [0.56, 0.75, 1.0, 1.5, 2.0], [0.56, 0.75, 1.0, 1.5, 2.0]]\n"
          ],
          "name": "stdout"
        }
      ]
    },
    {
      "cell_type": "code",
      "metadata": {
        "colab": {
          "base_uri": "https://localhost:8080/"
        },
        "id": "w9RTRVeiAkjd",
        "outputId": "c9bf4552-0bfa-47c3-c16e-e842bf27913f"
      },
      "source": [
        "v[0] = 'Prova'\n",
        "\n",
        "print(v)\n",
        "print(m) #m in questo modo non viene cambiata"
      ],
      "execution_count": 21,
      "outputs": [
        {
          "output_type": "stream",
          "text": [
            "['Prova', 0.75, 1.0, 1.5, 2.0]\n",
            "[[0.56, 0.75, 1.0, 1.5, 2.0], [0.56, 0.75, 1.0, 1.5, 2.0], [0.56, 0.75, 1.0, 1.5, 2.0]]\n"
          ],
          "name": "stdout"
        }
      ]
    },
    {
      "cell_type": "markdown",
      "metadata": {
        "id": "nT16GL2VA3Mb"
      },
      "source": [
        "**Array Class in Python**"
      ]
    },
    {
      "cell_type": "code",
      "metadata": {
        "colab": {
          "base_uri": "https://localhost:8080/"
        },
        "id": "ltHoNX7aAnGw",
        "outputId": "8bb963d9-f58f-4047-ae21-817bab3119e3"
      },
      "source": [
        "v = [0.5, 0.75, 1.0, 1.5, 2.0]\n",
        "print(v)"
      ],
      "execution_count": 25,
      "outputs": [
        {
          "output_type": "stream",
          "text": [
            "[0.5, 0.75, 1.0, 1.5, 2.0]\n"
          ],
          "name": "stdout"
        }
      ]
    },
    {
      "cell_type": "code",
      "metadata": {
        "id": "1m2h7pV5A_eH"
      },
      "source": [
        "import array"
      ],
      "execution_count": 23,
      "outputs": []
    },
    {
      "cell_type": "code",
      "metadata": {
        "colab": {
          "base_uri": "https://localhost:8080/"
        },
        "id": "LaRF5hQEBA-L",
        "outputId": "82c62b47-c14a-4fcc-ccee-9cc8647eb324"
      },
      "source": [
        "a = array.array('f', v)\n",
        "print(a)"
      ],
      "execution_count": 26,
      "outputs": [
        {
          "output_type": "stream",
          "text": [
            "array('f', [0.5, 0.75, 1.0, 1.5, 2.0])\n"
          ],
          "name": "stdout"
        }
      ]
    },
    {
      "cell_type": "code",
      "metadata": {
        "colab": {
          "base_uri": "https://localhost:8080/"
        },
        "id": "8UPVB2nFBJIy",
        "outputId": "53ea690d-b1e3-4e01-88a9-f597582339e8"
      },
      "source": [
        "a.append(0.5)\n",
        "print(a)"
      ],
      "execution_count": 27,
      "outputs": [
        {
          "output_type": "stream",
          "text": [
            "array('f', [0.5, 0.75, 1.0, 1.5, 2.0, 0.5])\n"
          ],
          "name": "stdout"
        }
      ]
    },
    {
      "cell_type": "code",
      "metadata": {
        "colab": {
          "base_uri": "https://localhost:8080/"
        },
        "id": "txGrmPXNBUcs",
        "outputId": "1ca09972-b39c-4afd-ba13-b76a44e4980c"
      },
      "source": [
        "#Se voglio aggiungere gli elementi di un'altra lista\n",
        "# => concatenazione\n",
        "\n",
        "a.extend([5.0, 6.75])  #concatenazione \n",
        "print(a)"
      ],
      "execution_count": 29,
      "outputs": [
        {
          "output_type": "stream",
          "text": [
            "array('f', [0.5, 0.75, 1.0, 1.5, 2.0, 0.5, 5.0, 6.75])\n"
          ],
          "name": "stdout"
        }
      ]
    },
    {
      "cell_type": "code",
      "metadata": {
        "colab": {
          "base_uri": "https://localhost:8080/"
        },
        "id": "lmVQaCIqB-KY",
        "outputId": "a060ebf6-a090-4ca1-977c-e1bec96cc2d0"
      },
      "source": [
        "print(2*a)  #come le liste => duplicazione"
      ],
      "execution_count": 30,
      "outputs": [
        {
          "output_type": "stream",
          "text": [
            "array('f', [0.5, 0.75, 1.0, 1.5, 2.0, 0.5, 5.0, 6.75, 0.5, 0.75, 1.0, 1.5, 2.0, 0.5, 5.0, 6.75])\n"
          ],
          "name": "stdout"
        }
      ]
    },
    {
      "cell_type": "code",
      "metadata": {
        "colab": {
          "base_uri": "https://localhost:8080/",
          "height": 163
        },
        "id": "1Dl3LInWCFpl",
        "outputId": "a25b1b10-403a-479e-a897-31c5e239f669"
      },
      "source": [
        "a.append('string')"
      ],
      "execution_count": 31,
      "outputs": [
        {
          "output_type": "error",
          "ename": "TypeError",
          "evalue": "ignored",
          "traceback": [
            "\u001b[0;31m---------------------------------------------------------------------------\u001b[0m",
            "\u001b[0;31mTypeError\u001b[0m                                 Traceback (most recent call last)",
            "\u001b[0;32m<ipython-input-31-c22b4faee1fa>\u001b[0m in \u001b[0;36m<module>\u001b[0;34m()\u001b[0m\n\u001b[0;32m----> 1\u001b[0;31m \u001b[0ma\u001b[0m\u001b[0;34m.\u001b[0m\u001b[0mappend\u001b[0m\u001b[0;34m(\u001b[0m\u001b[0;34m'string'\u001b[0m\u001b[0;34m)\u001b[0m\u001b[0;34m\u001b[0m\u001b[0;34m\u001b[0m\u001b[0m\n\u001b[0m",
            "\u001b[0;31mTypeError\u001b[0m: must be real number, not str"
          ]
        }
      ]
    },
    {
      "cell_type": "code",
      "metadata": {
        "colab": {
          "base_uri": "https://localhost:8080/"
        },
        "id": "Qp85-7PCCd0H",
        "outputId": "9b956742-5c75-4b88-cd1b-f65a5004c568"
      },
      "source": [
        "a.tolist()"
      ],
      "execution_count": 33,
      "outputs": [
        {
          "output_type": "execute_result",
          "data": {
            "text/plain": [
              "[0.5, 0.75, 1.0, 1.5, 2.0, 0.5, 5.0, 6.75]"
            ]
          },
          "metadata": {
            "tags": []
          },
          "execution_count": 33
        }
      ]
    },
    {
      "cell_type": "markdown",
      "metadata": {
        "id": "9eZRS8WsC249"
      },
      "source": [
        "###**NumPy Arrays**"
      ]
    },
    {
      "cell_type": "code",
      "metadata": {
        "id": "aFs3W1R0Cs5o"
      },
      "source": [
        "import numpy as np"
      ],
      "execution_count": 34,
      "outputs": []
    },
    {
      "cell_type": "code",
      "metadata": {
        "colab": {
          "base_uri": "https://localhost:8080/"
        },
        "id": "0f1Y9NXZDKXc",
        "outputId": "b36482c6-d925-46be-d26e-38afd1909eb3"
      },
      "source": [
        "a = np.array([0, 0.5, 1.0, 1.5, 2.0])\n",
        "a"
      ],
      "execution_count": 35,
      "outputs": [
        {
          "output_type": "execute_result",
          "data": {
            "text/plain": [
              "array([0. , 0.5, 1. , 1.5, 2. ])"
            ]
          },
          "metadata": {
            "tags": []
          },
          "execution_count": 35
        }
      ]
    },
    {
      "cell_type": "code",
      "metadata": {
        "colab": {
          "base_uri": "https://localhost:8080/"
        },
        "id": "nPsAufbHDUBQ",
        "outputId": "004550f0-bb27-40e8-cd9f-1c82f2e1bf9d"
      },
      "source": [
        "type(a)"
      ],
      "execution_count": 36,
      "outputs": [
        {
          "output_type": "execute_result",
          "data": {
            "text/plain": [
              "numpy.ndarray"
            ]
          },
          "metadata": {
            "tags": []
          },
          "execution_count": 36
        }
      ]
    },
    {
      "cell_type": "code",
      "metadata": {
        "colab": {
          "base_uri": "https://localhost:8080/"
        },
        "id": "UXmzpRVyDV8A",
        "outputId": "c662b721-7007-4cf8-ad69-325d9c6447d6"
      },
      "source": [
        "a = np.array(['a', 'b', 'c'])\n",
        "type(a)"
      ],
      "execution_count": 37,
      "outputs": [
        {
          "output_type": "execute_result",
          "data": {
            "text/plain": [
              "numpy.ndarray"
            ]
          },
          "metadata": {
            "tags": []
          },
          "execution_count": 37
        }
      ]
    },
    {
      "cell_type": "code",
      "metadata": {
        "colab": {
          "base_uri": "https://localhost:8080/"
        },
        "id": "JQHvkc5wDkpt",
        "outputId": "470c6b02-0e97-4769-e6cb-3f34c257bc77"
      },
      "source": [
        "a = np.arange(2, 20, 2)  # da 2 (incluso) a 20 (escluso) con passo di 2\n",
        "print(a)"
      ],
      "execution_count": 38,
      "outputs": [
        {
          "output_type": "stream",
          "text": [
            "[ 2  4  6  8 10 12 14 16 18]\n"
          ],
          "name": "stdout"
        }
      ]
    },
    {
      "cell_type": "code",
      "metadata": {
        "colab": {
          "base_uri": "https://localhost:8080/"
        },
        "id": "KLMGruN3Dq4-",
        "outputId": "75be9ef7-dcbf-430e-82f6-3e2d8c495293"
      },
      "source": [
        "a = np.arange(8, dtype=np.float)\n",
        "a"
      ],
      "execution_count": 40,
      "outputs": [
        {
          "output_type": "execute_result",
          "data": {
            "text/plain": [
              "array([0., 1., 2., 3., 4., 5., 6., 7.])"
            ]
          },
          "metadata": {
            "tags": []
          },
          "execution_count": 40
        }
      ]
    },
    {
      "cell_type": "code",
      "metadata": {
        "colab": {
          "base_uri": "https://localhost:8080/"
        },
        "id": "HaTajdp9D7XW",
        "outputId": "f016e98e-5915-4b03-c39c-8397bd5655a6"
      },
      "source": [
        "a[5:]"
      ],
      "execution_count": 41,
      "outputs": [
        {
          "output_type": "execute_result",
          "data": {
            "text/plain": [
              "array([5., 6., 7.])"
            ]
          },
          "metadata": {
            "tags": []
          },
          "execution_count": 41
        }
      ]
    },
    {
      "cell_type": "code",
      "metadata": {
        "colab": {
          "base_uri": "https://localhost:8080/"
        },
        "id": "MUGSMuAWECM5",
        "outputId": "4eb24f24-ea73-4a4a-882e-b4667700f580"
      },
      "source": [
        "a[:2]"
      ],
      "execution_count": 42,
      "outputs": [
        {
          "output_type": "execute_result",
          "data": {
            "text/plain": [
              "array([0., 1.])"
            ]
          },
          "metadata": {
            "tags": []
          },
          "execution_count": 42
        }
      ]
    },
    {
      "cell_type": "code",
      "metadata": {
        "colab": {
          "base_uri": "https://localhost:8080/"
        },
        "id": "Xd-6xoTlEGeB",
        "outputId": "6a5c93dc-20f7-47db-ee4b-d3cb3d88b17e"
      },
      "source": [
        "a.sum()  #somma di tutti gli elementi di a"
      ],
      "execution_count": 43,
      "outputs": [
        {
          "output_type": "execute_result",
          "data": {
            "text/plain": [
              "28.0"
            ]
          },
          "metadata": {
            "tags": []
          },
          "execution_count": 43
        }
      ]
    },
    {
      "cell_type": "code",
      "metadata": {
        "colab": {
          "base_uri": "https://localhost:8080/"
        },
        "id": "gvxbF82gEMF4",
        "outputId": "cf9e8f81-022f-4b8d-b4f5-369fd8534732"
      },
      "source": [
        "a.std() #deviazione standard (?)"
      ],
      "execution_count": 44,
      "outputs": [
        {
          "output_type": "execute_result",
          "data": {
            "text/plain": [
              "2.29128784747792"
            ]
          },
          "metadata": {
            "tags": []
          },
          "execution_count": 44
        }
      ]
    },
    {
      "cell_type": "code",
      "metadata": {
        "colab": {
          "base_uri": "https://localhost:8080/"
        },
        "id": "A3EPgSOvENmK",
        "outputId": "c2cba466-5898-4384-da8f-b46ca71c82cc"
      },
      "source": [
        "# Somma comulativa\n",
        "a.cumsum()"
      ],
      "execution_count": 45,
      "outputs": [
        {
          "output_type": "execute_result",
          "data": {
            "text/plain": [
              "array([ 0.,  1.,  3.,  6., 10., 15., 21., 28.])"
            ]
          },
          "metadata": {
            "tags": []
          },
          "execution_count": 45
        }
      ]
    },
    {
      "cell_type": "code",
      "metadata": {
        "colab": {
          "base_uri": "https://localhost:8080/"
        },
        "id": "fZHjb3HtEfeP",
        "outputId": "ce543c5b-be58-4e60-a211-fbdaba499b66"
      },
      "source": [
        "l = [0, 0.5, 1.5, 3., 5.]\n",
        "l"
      ],
      "execution_count": 46,
      "outputs": [
        {
          "output_type": "execute_result",
          "data": {
            "text/plain": [
              "[0, 0.5, 1.5, 3.0, 5.0]"
            ]
          },
          "metadata": {
            "tags": []
          },
          "execution_count": 46
        }
      ]
    },
    {
      "cell_type": "code",
      "metadata": {
        "colab": {
          "base_uri": "https://localhost:8080/"
        },
        "id": "e3bHrR-qEnXg",
        "outputId": "60137dbc-bdb8-4d2b-8e2a-9c6ab4ec6827"
      },
      "source": [
        "2 * l"
      ],
      "execution_count": 47,
      "outputs": [
        {
          "output_type": "execute_result",
          "data": {
            "text/plain": [
              "[0, 0.5, 1.5, 3.0, 5.0, 0, 0.5, 1.5, 3.0, 5.0]"
            ]
          },
          "metadata": {
            "tags": []
          },
          "execution_count": 47
        }
      ]
    },
    {
      "cell_type": "code",
      "metadata": {
        "colab": {
          "base_uri": "https://localhost:8080/"
        },
        "id": "A8Vv-cFME7wE",
        "outputId": "3b4a3f59-2e10-4f10-a1e5-0a2b057194eb"
      },
      "source": [
        "print(a)"
      ],
      "execution_count": 50,
      "outputs": [
        {
          "output_type": "stream",
          "text": [
            "[0. 1. 2. 3. 4. 5. 6. 7.]\n"
          ],
          "name": "stdout"
        }
      ]
    },
    {
      "cell_type": "code",
      "metadata": {
        "colab": {
          "base_uri": "https://localhost:8080/"
        },
        "id": "Y4GLl5EbEpLJ",
        "outputId": "80b4aa39-fe31-4e75-c2ee-a17d226338a7"
      },
      "source": [
        "2 * a  #in questo caso moltiplico ogni elemento per 2 e non la duplicazione"
      ],
      "execution_count": 48,
      "outputs": [
        {
          "output_type": "execute_result",
          "data": {
            "text/plain": [
              "array([ 0.,  2.,  4.,  6.,  8., 10., 12., 14.])"
            ]
          },
          "metadata": {
            "tags": []
          },
          "execution_count": 48
        }
      ]
    },
    {
      "cell_type": "code",
      "metadata": {
        "colab": {
          "base_uri": "https://localhost:8080/"
        },
        "id": "rT62zhg1EryJ",
        "outputId": "fba8216a-b5d5-4b26-8cdd-bfbe0b3c7910"
      },
      "source": [
        "a ** 2"
      ],
      "execution_count": 49,
      "outputs": [
        {
          "output_type": "execute_result",
          "data": {
            "text/plain": [
              "array([ 0.,  1.,  4.,  9., 16., 25., 36., 49.])"
            ]
          },
          "metadata": {
            "tags": []
          },
          "execution_count": 49
        }
      ]
    },
    {
      "cell_type": "code",
      "metadata": {
        "colab": {
          "base_uri": "https://localhost:8080/"
        },
        "id": "1T9BC7vhE3IQ",
        "outputId": "e01edc90-698a-48b0-c0c0-683bafca1e85"
      },
      "source": [
        "2 ** a"
      ],
      "execution_count": 51,
      "outputs": [
        {
          "output_type": "execute_result",
          "data": {
            "text/plain": [
              "array([  1.,   2.,   4.,   8.,  16.,  32.,  64., 128.])"
            ]
          },
          "metadata": {
            "tags": []
          },
          "execution_count": 51
        }
      ]
    },
    {
      "cell_type": "code",
      "metadata": {
        "colab": {
          "base_uri": "https://localhost:8080/"
        },
        "id": "qOoRUQugFCJW",
        "outputId": "bae62ad5-aedf-4c85-d66b-c96090c89f3e"
      },
      "source": [
        "a ** a"
      ],
      "execution_count": 52,
      "outputs": [
        {
          "output_type": "execute_result",
          "data": {
            "text/plain": [
              "array([1.00000e+00, 1.00000e+00, 4.00000e+00, 2.70000e+01, 2.56000e+02,\n",
              "       3.12500e+03, 4.66560e+04, 8.23543e+05])"
            ]
          },
          "metadata": {
            "tags": []
          },
          "execution_count": 52
        }
      ]
    },
    {
      "cell_type": "code",
      "metadata": {
        "colab": {
          "base_uri": "https://localhost:8080/"
        },
        "id": "W710lJrfFFsC",
        "outputId": "ffe9f89a-abc9-4174-aa75-5285821de950"
      },
      "source": [
        "np.exp(a)"
      ],
      "execution_count": 53,
      "outputs": [
        {
          "output_type": "execute_result",
          "data": {
            "text/plain": [
              "array([1.00000000e+00, 2.71828183e+00, 7.38905610e+00, 2.00855369e+01,\n",
              "       5.45981500e+01, 1.48413159e+02, 4.03428793e+02, 1.09663316e+03])"
            ]
          },
          "metadata": {
            "tags": []
          },
          "execution_count": 53
        }
      ]
    },
    {
      "cell_type": "code",
      "metadata": {
        "colab": {
          "base_uri": "https://localhost:8080/"
        },
        "id": "SFy_XRyWFR9n",
        "outputId": "d0b01499-f5fe-41c2-d0ba-a5477638c2b2"
      },
      "source": [
        "np.sqrt(a)"
      ],
      "execution_count": 54,
      "outputs": [
        {
          "output_type": "execute_result",
          "data": {
            "text/plain": [
              "array([0.        , 1.        , 1.41421356, 1.73205081, 2.        ,\n",
              "       2.23606798, 2.44948974, 2.64575131])"
            ]
          },
          "metadata": {
            "tags": []
          },
          "execution_count": 54
        }
      ]
    },
    {
      "cell_type": "code",
      "metadata": {
        "colab": {
          "base_uri": "https://localhost:8080/"
        },
        "id": "02t_HutMFWcE",
        "outputId": "d44d393c-e05d-487d-ac9d-73c7325e17b3"
      },
      "source": [
        "np.sqrt(2.5)"
      ],
      "execution_count": 55,
      "outputs": [
        {
          "output_type": "execute_result",
          "data": {
            "text/plain": [
              "1.5811388300841898"
            ]
          },
          "metadata": {
            "tags": []
          },
          "execution_count": 55
        }
      ]
    },
    {
      "cell_type": "code",
      "metadata": {
        "id": "hULewADdFa8T"
      },
      "source": [
        "import math"
      ],
      "execution_count": 56,
      "outputs": []
    },
    {
      "cell_type": "code",
      "metadata": {
        "colab": {
          "base_uri": "https://localhost:8080/"
        },
        "id": "yZvmpkaYFc_0",
        "outputId": "8553e95e-4ce6-4f7e-9d1e-9ffc3a1fb29a"
      },
      "source": [
        "math.sqrt(2.5)  #ma math non posso applicarlo ad un array"
      ],
      "execution_count": 57,
      "outputs": [
        {
          "output_type": "execute_result",
          "data": {
            "text/plain": [
              "1.5811388300841898"
            ]
          },
          "metadata": {
            "tags": []
          },
          "execution_count": 57
        }
      ]
    },
    {
      "cell_type": "code",
      "metadata": {
        "colab": {
          "base_uri": "https://localhost:8080/"
        },
        "id": "p_gzNgCPFf3O",
        "outputId": "6ab7beb8-0ec0-4df5-feba-c608039d38f1"
      },
      "source": [
        "%timeit np.sqrt(2.5)"
      ],
      "execution_count": 58,
      "outputs": [
        {
          "output_type": "stream",
          "text": [
            "The slowest run took 92.41 times longer than the fastest. This could mean that an intermediate result is being cached.\n",
            "1000000 loops, best of 5: 836 ns per loop\n"
          ],
          "name": "stdout"
        }
      ]
    },
    {
      "cell_type": "code",
      "metadata": {
        "colab": {
          "base_uri": "https://localhost:8080/"
        },
        "id": "SccGzbFiFp_P",
        "outputId": "af88d3f9-2873-4091-a4b1-73d17aeda258"
      },
      "source": [
        "%timeit math.sqrt(2.5)  #vantaggio prestazionale"
      ],
      "execution_count": 59,
      "outputs": [
        {
          "output_type": "stream",
          "text": [
            "The slowest run took 35.58 times longer than the fastest. This could mean that an intermediate result is being cached.\n",
            "10000000 loops, best of 5: 93.2 ns per loop\n"
          ],
          "name": "stdout"
        }
      ]
    },
    {
      "cell_type": "markdown",
      "metadata": {
        "id": "ZG-_4oxVF75y"
      },
      "source": [
        "**Dimensioni multiple**"
      ]
    },
    {
      "cell_type": "code",
      "metadata": {
        "colab": {
          "base_uri": "https://localhost:8080/"
        },
        "id": "cElZuipsFzyw",
        "outputId": "0fa0801d-f54e-466c-e0e2-98c25020dc7e"
      },
      "source": [
        "a"
      ],
      "execution_count": 60,
      "outputs": [
        {
          "output_type": "execute_result",
          "data": {
            "text/plain": [
              "array([0., 1., 2., 3., 4., 5., 6., 7.])"
            ]
          },
          "metadata": {
            "tags": []
          },
          "execution_count": 60
        }
      ]
    },
    {
      "cell_type": "code",
      "metadata": {
        "colab": {
          "base_uri": "https://localhost:8080/"
        },
        "id": "LHPd9l9BGBM2",
        "outputId": "c3e24dac-9e35-4526-e871-61acc4fe6340"
      },
      "source": [
        "b = np.array([a, a*2])\n",
        "b"
      ],
      "execution_count": 62,
      "outputs": [
        {
          "output_type": "execute_result",
          "data": {
            "text/plain": [
              "array([[ 0.,  1.,  2.,  3.,  4.,  5.,  6.,  7.],\n",
              "       [ 0.,  2.,  4.,  6.,  8., 10., 12., 14.]])"
            ]
          },
          "metadata": {
            "tags": []
          },
          "execution_count": 62
        }
      ]
    },
    {
      "cell_type": "code",
      "metadata": {
        "colab": {
          "base_uri": "https://localhost:8080/"
        },
        "id": "NmPowy3vGMHQ",
        "outputId": "804bd299-2f29-43c8-a61c-35e74535ceff"
      },
      "source": [
        "b[0]"
      ],
      "execution_count": 63,
      "outputs": [
        {
          "output_type": "execute_result",
          "data": {
            "text/plain": [
              "array([0., 1., 2., 3., 4., 5., 6., 7.])"
            ]
          },
          "metadata": {
            "tags": []
          },
          "execution_count": 63
        }
      ]
    },
    {
      "cell_type": "code",
      "metadata": {
        "colab": {
          "base_uri": "https://localhost:8080/"
        },
        "id": "UWNiQlqhGO9w",
        "outputId": "328504e2-bc48-4a4b-e295-2ab6433060a8"
      },
      "source": [
        "b[1]"
      ],
      "execution_count": 64,
      "outputs": [
        {
          "output_type": "execute_result",
          "data": {
            "text/plain": [
              "array([ 0.,  2.,  4.,  6.,  8., 10., 12., 14.])"
            ]
          },
          "metadata": {
            "tags": []
          },
          "execution_count": 64
        }
      ]
    },
    {
      "cell_type": "code",
      "metadata": {
        "colab": {
          "base_uri": "https://localhost:8080/"
        },
        "id": "TJJ8Xki9GQaU",
        "outputId": "1c90a2b1-11ce-406a-9397-aa36c93e4e01"
      },
      "source": [
        "b[0, 2]"
      ],
      "execution_count": 65,
      "outputs": [
        {
          "output_type": "execute_result",
          "data": {
            "text/plain": [
              "2.0"
            ]
          },
          "metadata": {
            "tags": []
          },
          "execution_count": 65
        }
      ]
    },
    {
      "cell_type": "code",
      "metadata": {
        "colab": {
          "base_uri": "https://localhost:8080/"
        },
        "id": "n8ENJHbQGUVj",
        "outputId": "5817281d-1fca-410d-f599-bdb7d38ae2ab"
      },
      "source": [
        "b[0][2]"
      ],
      "execution_count": 66,
      "outputs": [
        {
          "output_type": "execute_result",
          "data": {
            "text/plain": [
              "2.0"
            ]
          },
          "metadata": {
            "tags": []
          },
          "execution_count": 66
        }
      ]
    },
    {
      "cell_type": "code",
      "metadata": {
        "colab": {
          "base_uri": "https://localhost:8080/"
        },
        "id": "Zb3cBs9SGXHa",
        "outputId": "b67fc242-cf8c-411f-feb1-de7a478c7016"
      },
      "source": [
        "b[:, 1]  #array con la prima colonna "
      ],
      "execution_count": 67,
      "outputs": [
        {
          "output_type": "execute_result",
          "data": {
            "text/plain": [
              "array([1., 2.])"
            ]
          },
          "metadata": {
            "tags": []
          },
          "execution_count": 67
        }
      ]
    },
    {
      "cell_type": "code",
      "metadata": {
        "colab": {
          "base_uri": "https://localhost:8080/"
        },
        "id": "2n1h5dMvGa6k",
        "outputId": "a257b398-38aa-4723-d54e-27b27ecbf0e3"
      },
      "source": [
        "b.sum()"
      ],
      "execution_count": 68,
      "outputs": [
        {
          "output_type": "execute_result",
          "data": {
            "text/plain": [
              "84.0"
            ]
          },
          "metadata": {
            "tags": []
          },
          "execution_count": 68
        }
      ]
    },
    {
      "cell_type": "code",
      "metadata": {
        "colab": {
          "base_uri": "https://localhost:8080/"
        },
        "id": "FufKm5yrGg-g",
        "outputId": "8fe3995c-65f2-4117-e245-cdcc4f7dc977"
      },
      "source": [
        "b.sum(axis=0)  #mi calcola la somma delle diverse colonne"
      ],
      "execution_count": 69,
      "outputs": [
        {
          "output_type": "execute_result",
          "data": {
            "text/plain": [
              "array([ 0.,  3.,  6.,  9., 12., 15., 18., 21.])"
            ]
          },
          "metadata": {
            "tags": []
          },
          "execution_count": 69
        }
      ]
    },
    {
      "cell_type": "code",
      "metadata": {
        "colab": {
          "base_uri": "https://localhost:8080/"
        },
        "id": "UDUjUmv9GnAx",
        "outputId": "793ac340-0ed9-423a-8c83-259c2834db86"
      },
      "source": [
        "b.sum(axis=1)  #mi calcola la somma delle diverse righe"
      ],
      "execution_count": 70,
      "outputs": [
        {
          "output_type": "execute_result",
          "data": {
            "text/plain": [
              "array([28., 56.])"
            ]
          },
          "metadata": {
            "tags": []
          },
          "execution_count": 70
        }
      ]
    },
    {
      "cell_type": "code",
      "metadata": {
        "colab": {
          "base_uri": "https://localhost:8080/"
        },
        "id": "KFsENhnPGsHj",
        "outputId": "e714aafe-a0eb-4bde-e176-fa9bac9ca459"
      },
      "source": [
        "c = np.zeros((2, 3), dtype='i', order='C') #array di zeri con 2 righe e 3 colonne, tipo intero, ordinamento linguaggio C (prima alloco gli elementi della prima riga e poi la seconda riga)\n",
        "#mentre se uso order=F ordino per colonna\n",
        "c"
      ],
      "execution_count": 72,
      "outputs": [
        {
          "output_type": "execute_result",
          "data": {
            "text/plain": [
              "array([[0, 0, 0],\n",
              "       [0, 0, 0]], dtype=int32)"
            ]
          },
          "metadata": {
            "tags": []
          },
          "execution_count": 72
        }
      ]
    },
    {
      "cell_type": "code",
      "metadata": {
        "colab": {
          "base_uri": "https://localhost:8080/"
        },
        "id": "TvYrNlukHB7g",
        "outputId": "63c918c9-8174-4323-ec6d-81f4e9e3d51c"
      },
      "source": [
        "c = np.ones((2,3,4), dtype='i', order='C')\n",
        "c"
      ],
      "execution_count": 73,
      "outputs": [
        {
          "output_type": "execute_result",
          "data": {
            "text/plain": [
              "array([[[1, 1, 1, 1],\n",
              "        [1, 1, 1, 1],\n",
              "        [1, 1, 1, 1]],\n",
              "\n",
              "       [[1, 1, 1, 1],\n",
              "        [1, 1, 1, 1],\n",
              "        [1, 1, 1, 1]]], dtype=int32)"
            ]
          },
          "metadata": {
            "tags": []
          },
          "execution_count": 73
        }
      ]
    },
    {
      "cell_type": "code",
      "metadata": {
        "colab": {
          "base_uri": "https://localhost:8080/"
        },
        "id": "oIZzxjLLHzj2",
        "outputId": "20fdca7c-2856-476b-b763-798de15b7fdd"
      },
      "source": [
        "#se voglio lo stesso shape di c\n",
        "d = np.zeros_like(c, dtype='f16', order='C')\n",
        "d"
      ],
      "execution_count": 74,
      "outputs": [
        {
          "output_type": "execute_result",
          "data": {
            "text/plain": [
              "array([[[0., 0., 0., 0.],\n",
              "        [0., 0., 0., 0.],\n",
              "        [0., 0., 0., 0.]],\n",
              "\n",
              "       [[0., 0., 0., 0.],\n",
              "        [0., 0., 0., 0.],\n",
              "        [0., 0., 0., 0.]]], dtype=float128)"
            ]
          },
          "metadata": {
            "tags": []
          },
          "execution_count": 74
        }
      ]
    },
    {
      "cell_type": "code",
      "metadata": {
        "colab": {
          "base_uri": "https://localhost:8080/"
        },
        "id": "e0StB3fMIAYx",
        "outputId": "716dca0b-8c2d-444d-9e11-a85ee02d62b2"
      },
      "source": [
        "d = np.ones_like(c, dtype='f16', order='C')\n",
        "d"
      ],
      "execution_count": 75,
      "outputs": [
        {
          "output_type": "execute_result",
          "data": {
            "text/plain": [
              "array([[[1., 1., 1., 1.],\n",
              "        [1., 1., 1., 1.],\n",
              "        [1., 1., 1., 1.]],\n",
              "\n",
              "       [[1., 1., 1., 1.],\n",
              "        [1., 1., 1., 1.],\n",
              "        [1., 1., 1., 1.]]], dtype=float128)"
            ]
          },
          "metadata": {
            "tags": []
          },
          "execution_count": 75
        }
      ]
    },
    {
      "cell_type": "code",
      "metadata": {
        "colab": {
          "base_uri": "https://localhost:8080/"
        },
        "id": "-PxgdALPIHKC",
        "outputId": "4362af53-b4fc-4163-e7d1-b17737f4d466"
      },
      "source": [
        "e = np.empty((2,3,2))\n",
        "e  #bit in quelle allocazioni di memoria, non sono valori random!!"
      ],
      "execution_count": 77,
      "outputs": [
        {
          "output_type": "execute_result",
          "data": {
            "text/plain": [
              "array([[[4.67126268e-310, 2.47032823e-322],\n",
              "        [0.00000000e+000, 0.00000000e+000],\n",
              "        [6.92195027e-310, 1.58817677e-052]],\n",
              "\n",
              "       [[5.33241631e-091, 1.31397851e-047],\n",
              "        [1.53389598e-052, 5.40050475e-062],\n",
              "        [3.99910963e+252, 1.46030983e-319]]])"
            ]
          },
          "metadata": {
            "tags": []
          },
          "execution_count": 77
        }
      ]
    },
    {
      "cell_type": "code",
      "metadata": {
        "colab": {
          "base_uri": "https://localhost:8080/"
        },
        "id": "DmdDKseWIPjI",
        "outputId": "82b11011-0619-4811-ebb3-313030e81496"
      },
      "source": [
        "e = np.empty_like((c))\n",
        "e"
      ],
      "execution_count": 79,
      "outputs": [
        {
          "output_type": "execute_result",
          "data": {
            "text/plain": [
              "array([[[-2000823168,       22013,          53,           0],\n",
              "        [          0,           0,           0,           0],\n",
              "        [          0,           0,  1953702523,  1937077345]],\n",
              "\n",
              "       [[ 1864514082,   573317739,  1635017060,  2105227810],\n",
              "        [ 1701650988,  1633968500,   975331700,   573341051],\n",
              "        [ 1853189990,  1715085924,  1702063201,       32125]]],\n",
              "      dtype=int32)"
            ]
          },
          "metadata": {
            "tags": []
          },
          "execution_count": 79
        }
      ]
    },
    {
      "cell_type": "code",
      "metadata": {
        "colab": {
          "base_uri": "https://localhost:8080/"
        },
        "id": "H8Qia1JPIgzS",
        "outputId": "9bc57a56-67af-4ec9-8ed0-91db4e80918b"
      },
      "source": [
        "# matrice quadrata 1 nella diagonale principale e tutti gli altri uguali a 0 => matrice identità\n",
        "np.eye(5)"
      ],
      "execution_count": 80,
      "outputs": [
        {
          "output_type": "execute_result",
          "data": {
            "text/plain": [
              "array([[1., 0., 0., 0., 0.],\n",
              "       [0., 1., 0., 0., 0.],\n",
              "       [0., 0., 1., 0., 0.],\n",
              "       [0., 0., 0., 1., 0.],\n",
              "       [0., 0., 0., 0., 1.]])"
            ]
          },
          "metadata": {
            "tags": []
          },
          "execution_count": 80
        }
      ]
    },
    {
      "cell_type": "code",
      "metadata": {
        "colab": {
          "base_uri": "https://localhost:8080/"
        },
        "id": "VEe8W1v8I1db",
        "outputId": "ebe0aa3e-a24d-4ede-c399-10cae8fecab7"
      },
      "source": [
        "g = np.linspace(5,15,12)  #da 5 a 15 (incluso) con 12 valori\n",
        "g"
      ],
      "execution_count": 81,
      "outputs": [
        {
          "output_type": "execute_result",
          "data": {
            "text/plain": [
              "array([ 5.        ,  5.90909091,  6.81818182,  7.72727273,  8.63636364,\n",
              "        9.54545455, 10.45454545, 11.36363636, 12.27272727, 13.18181818,\n",
              "       14.09090909, 15.        ])"
            ]
          },
          "metadata": {
            "tags": []
          },
          "execution_count": 81
        }
      ]
    },
    {
      "cell_type": "markdown",
      "metadata": {
        "id": "gFG0lAJ9JHwE"
      },
      "source": [
        "**Metainformazioni**"
      ]
    },
    {
      "cell_type": "code",
      "metadata": {
        "colab": {
          "base_uri": "https://localhost:8080/"
        },
        "id": "o3l4-IMQI6Vo",
        "outputId": "6045586f-58de-421e-d49b-17c8304c0198"
      },
      "source": [
        "g.size"
      ],
      "execution_count": 82,
      "outputs": [
        {
          "output_type": "execute_result",
          "data": {
            "text/plain": [
              "12"
            ]
          },
          "metadata": {
            "tags": []
          },
          "execution_count": 82
        }
      ]
    },
    {
      "cell_type": "code",
      "metadata": {
        "colab": {
          "base_uri": "https://localhost:8080/"
        },
        "id": "slo1zeOFJL6e",
        "outputId": "1f4f6cdf-d5f4-4875-d514-68854d9225d3"
      },
      "source": [
        "g.itemsize  #bit usati per ogni item"
      ],
      "execution_count": 83,
      "outputs": [
        {
          "output_type": "execute_result",
          "data": {
            "text/plain": [
              "8"
            ]
          },
          "metadata": {
            "tags": []
          },
          "execution_count": 83
        }
      ]
    },
    {
      "cell_type": "code",
      "metadata": {
        "colab": {
          "base_uri": "https://localhost:8080/"
        },
        "id": "iW3F9w9rJPnQ",
        "outputId": "bb36ab8b-c9d8-44ed-b32c-600a42abe0af"
      },
      "source": [
        "#numero dimensioni\n",
        "g.ndim"
      ],
      "execution_count": 84,
      "outputs": [
        {
          "output_type": "execute_result",
          "data": {
            "text/plain": [
              "1"
            ]
          },
          "metadata": {
            "tags": []
          },
          "execution_count": 84
        }
      ]
    },
    {
      "cell_type": "code",
      "metadata": {
        "colab": {
          "base_uri": "https://localhost:8080/"
        },
        "id": "vaQhiDtuJRQb",
        "outputId": "3feead42-9063-43fe-e3d3-b9ec709740c8"
      },
      "source": [
        "#tipo\n",
        "g.dtype"
      ],
      "execution_count": 87,
      "outputs": [
        {
          "output_type": "execute_result",
          "data": {
            "text/plain": [
              "dtype('float64')"
            ]
          },
          "metadata": {
            "tags": []
          },
          "execution_count": 87
        }
      ]
    },
    {
      "cell_type": "code",
      "metadata": {
        "colab": {
          "base_uri": "https://localhost:8080/"
        },
        "id": "P28KEcyxJXfE",
        "outputId": "049ed51a-9910-40f0-d761-e9170010b4ad"
      },
      "source": [
        "# numero di bytes usati per g\n",
        "g.nbytes"
      ],
      "execution_count": 88,
      "outputs": [
        {
          "output_type": "execute_result",
          "data": {
            "text/plain": [
              "96"
            ]
          },
          "metadata": {
            "tags": []
          },
          "execution_count": 88
        }
      ]
    },
    {
      "cell_type": "markdown",
      "metadata": {
        "id": "Ts5Qj1InJrSd"
      },
      "source": [
        "**Reshaping e Resizing**"
      ]
    },
    {
      "cell_type": "code",
      "metadata": {
        "colab": {
          "base_uri": "https://localhost:8080/"
        },
        "id": "AjlS_96cJeZM",
        "outputId": "f93edaaa-311f-499a-ba58-87a18e2fcb25"
      },
      "source": [
        "g = np.arange(15)\n",
        "g"
      ],
      "execution_count": 90,
      "outputs": [
        {
          "output_type": "execute_result",
          "data": {
            "text/plain": [
              "array([ 0,  1,  2,  3,  4,  5,  6,  7,  8,  9, 10, 11, 12, 13, 14])"
            ]
          },
          "metadata": {
            "tags": []
          },
          "execution_count": 90
        }
      ]
    },
    {
      "cell_type": "code",
      "metadata": {
        "colab": {
          "base_uri": "https://localhost:8080/"
        },
        "id": "CxZ4ANEpJyn9",
        "outputId": "ed3d2971-5fd4-472b-8c6a-b73037674d6c"
      },
      "source": [
        "g.shape"
      ],
      "execution_count": 91,
      "outputs": [
        {
          "output_type": "execute_result",
          "data": {
            "text/plain": [
              "(15,)"
            ]
          },
          "metadata": {
            "tags": []
          },
          "execution_count": 91
        }
      ]
    },
    {
      "cell_type": "code",
      "metadata": {
        "colab": {
          "base_uri": "https://localhost:8080/"
        },
        "id": "RzG4o1x5J3-O",
        "outputId": "8c906e70-393c-41bb-be7e-1fef5b73cdfe"
      },
      "source": [
        "np.shape(g)"
      ],
      "execution_count": 92,
      "outputs": [
        {
          "output_type": "execute_result",
          "data": {
            "text/plain": [
              "(15,)"
            ]
          },
          "metadata": {
            "tags": []
          },
          "execution_count": 92
        }
      ]
    },
    {
      "cell_type": "code",
      "metadata": {
        "colab": {
          "base_uri": "https://localhost:8080/"
        },
        "id": "KOC8JuFuJ-XW",
        "outputId": "30b229ea-92bc-4fa6-cfbc-cb9550262eeb"
      },
      "source": [
        "g.reshape((3,5))"
      ],
      "execution_count": 93,
      "outputs": [
        {
          "output_type": "execute_result",
          "data": {
            "text/plain": [
              "array([[ 0,  1,  2,  3,  4],\n",
              "       [ 5,  6,  7,  8,  9],\n",
              "       [10, 11, 12, 13, 14]])"
            ]
          },
          "metadata": {
            "tags": []
          },
          "execution_count": 93
        }
      ]
    },
    {
      "cell_type": "code",
      "metadata": {
        "colab": {
          "base_uri": "https://localhost:8080/"
        },
        "id": "626V0HFoKEF9",
        "outputId": "199030bc-3bd0-4c02-bddc-cf9e3049d995"
      },
      "source": [
        "h = g.reshape((5,3))\n",
        "h"
      ],
      "execution_count": 94,
      "outputs": [
        {
          "output_type": "execute_result",
          "data": {
            "text/plain": [
              "array([[ 0,  1,  2],\n",
              "       [ 3,  4,  5],\n",
              "       [ 6,  7,  8],\n",
              "       [ 9, 10, 11],\n",
              "       [12, 13, 14]])"
            ]
          },
          "metadata": {
            "tags": []
          },
          "execution_count": 94
        }
      ]
    },
    {
      "cell_type": "code",
      "metadata": {
        "colab": {
          "base_uri": "https://localhost:8080/"
        },
        "id": "6Ac7b9O5Kh_V",
        "outputId": "8982de92-0afc-4eee-944b-37e5b6c11aec"
      },
      "source": [
        "# trasposta\n",
        "h.T"
      ],
      "execution_count": 95,
      "outputs": [
        {
          "output_type": "execute_result",
          "data": {
            "text/plain": [
              "array([[ 0,  3,  6,  9, 12],\n",
              "       [ 1,  4,  7, 10, 13],\n",
              "       [ 2,  5,  8, 11, 14]])"
            ]
          },
          "metadata": {
            "tags": []
          },
          "execution_count": 95
        }
      ]
    },
    {
      "cell_type": "code",
      "metadata": {
        "colab": {
          "base_uri": "https://localhost:8080/"
        },
        "id": "Ixa1prkcKwYl",
        "outputId": "8db5901c-0c9b-4407-fab1-6f84b2791038"
      },
      "source": [
        "h.transpose()"
      ],
      "execution_count": 97,
      "outputs": [
        {
          "output_type": "execute_result",
          "data": {
            "text/plain": [
              "array([[ 0,  3,  6,  9, 12],\n",
              "       [ 1,  4,  7, 10, 13],\n",
              "       [ 2,  5,  8, 11, 14]])"
            ]
          },
          "metadata": {
            "tags": []
          },
          "execution_count": 97
        }
      ]
    },
    {
      "cell_type": "code",
      "metadata": {
        "colab": {
          "base_uri": "https://localhost:8080/"
        },
        "id": "2SirxUS6LSL6",
        "outputId": "605fca31-f954-4861-9217-ac1ed700651a"
      },
      "source": [
        "g"
      ],
      "execution_count": 100,
      "outputs": [
        {
          "output_type": "execute_result",
          "data": {
            "text/plain": [
              "array([ 0,  1,  2,  3,  4,  5,  6,  7,  8,  9, 10, 11, 12, 13, 14])"
            ]
          },
          "metadata": {
            "tags": []
          },
          "execution_count": 100
        }
      ]
    },
    {
      "cell_type": "code",
      "metadata": {
        "colab": {
          "base_uri": "https://localhost:8080/"
        },
        "id": "0fxqbEb8K2PN",
        "outputId": "5d161839-f329-4b9e-c691-48fbac9fc4ef"
      },
      "source": [
        "np.resize(g, (3,1))  #seleziono gli elementi di g, disponendoli in 3 righe e 1 colonna"
      ],
      "execution_count": 98,
      "outputs": [
        {
          "output_type": "execute_result",
          "data": {
            "text/plain": [
              "array([[0],\n",
              "       [1],\n",
              "       [2]])"
            ]
          },
          "metadata": {
            "tags": []
          },
          "execution_count": 98
        }
      ]
    },
    {
      "cell_type": "code",
      "metadata": {
        "colab": {
          "base_uri": "https://localhost:8080/"
        },
        "id": "ePmpYrSPLBFp",
        "outputId": "d32ce325-8d14-4269-cb12-9fc66e2124d7"
      },
      "source": [
        "np.resize(g, (1,5))  #seleziono gli elementi di g, disponendoli in 1 riga e 5 colonne"
      ],
      "execution_count": 99,
      "outputs": [
        {
          "output_type": "execute_result",
          "data": {
            "text/plain": [
              "array([[0, 1, 2, 3, 4]])"
            ]
          },
          "metadata": {
            "tags": []
          },
          "execution_count": 99
        }
      ]
    },
    {
      "cell_type": "code",
      "metadata": {
        "colab": {
          "base_uri": "https://localhost:8080/"
        },
        "id": "7pEP60y6LJW2",
        "outputId": "2868e81e-79cd-49c7-e7f7-0634a763a883"
      },
      "source": [
        "np.resize(g, (5,4))  #riparte ciclicamente "
      ],
      "execution_count": 101,
      "outputs": [
        {
          "output_type": "execute_result",
          "data": {
            "text/plain": [
              "array([[ 0,  1,  2,  3],\n",
              "       [ 4,  5,  6,  7],\n",
              "       [ 8,  9, 10, 11],\n",
              "       [12, 13, 14,  0],\n",
              "       [ 1,  2,  3,  4]])"
            ]
          },
          "metadata": {
            "tags": []
          },
          "execution_count": 101
        }
      ]
    },
    {
      "cell_type": "markdown",
      "metadata": {
        "id": "6svEq9MvMPR0"
      },
      "source": [
        "**Stacking**"
      ]
    },
    {
      "cell_type": "code",
      "metadata": {
        "colab": {
          "base_uri": "https://localhost:8080/"
        },
        "id": "y8HBEKSpMEjx",
        "outputId": "af796b25-1fd4-4dcc-a29f-cabd56db4cc9"
      },
      "source": [
        "h"
      ],
      "execution_count": 102,
      "outputs": [
        {
          "output_type": "execute_result",
          "data": {
            "text/plain": [
              "array([[ 0,  1,  2],\n",
              "       [ 3,  4,  5],\n",
              "       [ 6,  7,  8],\n",
              "       [ 9, 10, 11],\n",
              "       [12, 13, 14]])"
            ]
          },
          "metadata": {
            "tags": []
          },
          "execution_count": 102
        }
      ]
    },
    {
      "cell_type": "code",
      "metadata": {
        "colab": {
          "base_uri": "https://localhost:8080/"
        },
        "id": "rvArIP6IMWmB",
        "outputId": "0dc180d1-43ae-4c5c-f487-6eafe700089c"
      },
      "source": [
        "#stack orizzontale (horizzontal)\n",
        "np.hstack((h, 2*h))  #la h non c'entra con il nome dell'array"
      ],
      "execution_count": 103,
      "outputs": [
        {
          "output_type": "execute_result",
          "data": {
            "text/plain": [
              "array([[ 0,  1,  2,  0,  2,  4],\n",
              "       [ 3,  4,  5,  6,  8, 10],\n",
              "       [ 6,  7,  8, 12, 14, 16],\n",
              "       [ 9, 10, 11, 18, 20, 22],\n",
              "       [12, 13, 14, 24, 26, 28]])"
            ]
          },
          "metadata": {
            "tags": []
          },
          "execution_count": 103
        }
      ]
    },
    {
      "cell_type": "code",
      "metadata": {
        "colab": {
          "base_uri": "https://localhost:8080/"
        },
        "id": "cO2wzAjgMhuI",
        "outputId": "394493c0-5f15-4205-cb9b-7b5cdbc6deba"
      },
      "source": [
        "#stack verticale (vertical)\n",
        "np.vstack((h, 2*h))"
      ],
      "execution_count": 106,
      "outputs": [
        {
          "output_type": "execute_result",
          "data": {
            "text/plain": [
              "array([[ 0,  1,  2],\n",
              "       [ 3,  4,  5],\n",
              "       [ 6,  7,  8],\n",
              "       [ 9, 10, 11],\n",
              "       [12, 13, 14],\n",
              "       [ 0,  2,  4],\n",
              "       [ 6,  8, 10],\n",
              "       [12, 14, 16],\n",
              "       [18, 20, 22],\n",
              "       [24, 26, 28]])"
            ]
          },
          "metadata": {
            "tags": []
          },
          "execution_count": 106
        }
      ]
    },
    {
      "cell_type": "markdown",
      "metadata": {
        "id": "cX_wHosOMzYa"
      },
      "source": [
        "**Flattening**"
      ]
    },
    {
      "cell_type": "code",
      "metadata": {
        "colab": {
          "base_uri": "https://localhost:8080/"
        },
        "id": "ejRllIeYMvtd",
        "outputId": "dbe9e9d9-9c52-4dde-b8de-3c421b2378d6"
      },
      "source": [
        "h"
      ],
      "execution_count": 107,
      "outputs": [
        {
          "output_type": "execute_result",
          "data": {
            "text/plain": [
              "array([[ 0,  1,  2],\n",
              "       [ 3,  4,  5],\n",
              "       [ 6,  7,  8],\n",
              "       [ 9, 10, 11],\n",
              "       [12, 13, 14]])"
            ]
          },
          "metadata": {
            "tags": []
          },
          "execution_count": 107
        }
      ]
    },
    {
      "cell_type": "code",
      "metadata": {
        "colab": {
          "base_uri": "https://localhost:8080/"
        },
        "id": "ocEDqgUmM3IG",
        "outputId": "7825d73c-85d3-4c94-db24-00dd1d14b654"
      },
      "source": [
        "h.flatten()"
      ],
      "execution_count": 108,
      "outputs": [
        {
          "output_type": "execute_result",
          "data": {
            "text/plain": [
              "array([ 0,  1,  2,  3,  4,  5,  6,  7,  8,  9, 10, 11, 12, 13, 14])"
            ]
          },
          "metadata": {
            "tags": []
          },
          "execution_count": 108
        }
      ]
    },
    {
      "cell_type": "code",
      "metadata": {
        "colab": {
          "base_uri": "https://localhost:8080/"
        },
        "id": "gBhLide4M5SM",
        "outputId": "ff30a6d2-68ec-4b9a-a6eb-7037906c2509"
      },
      "source": [
        "h.flatten(order='F')"
      ],
      "execution_count": 109,
      "outputs": [
        {
          "output_type": "execute_result",
          "data": {
            "text/plain": [
              "array([ 0,  3,  6,  9, 12,  1,  4,  7, 10, 13,  2,  5,  8, 11, 14])"
            ]
          },
          "metadata": {
            "tags": []
          },
          "execution_count": 109
        }
      ]
    },
    {
      "cell_type": "code",
      "metadata": {
        "colab": {
          "base_uri": "https://localhost:8080/"
        },
        "id": "QZrSpwGUM9nP",
        "outputId": "6f1875c8-ce54-49aa-fb56-dd66d09b3993"
      },
      "source": [
        "h.flatten(order='C')"
      ],
      "execution_count": 110,
      "outputs": [
        {
          "output_type": "execute_result",
          "data": {
            "text/plain": [
              "array([ 0,  1,  2,  3,  4,  5,  6,  7,  8,  9, 10, 11, 12, 13, 14])"
            ]
          },
          "metadata": {
            "tags": []
          },
          "execution_count": 110
        }
      ]
    },
    {
      "cell_type": "code",
      "metadata": {
        "colab": {
          "base_uri": "https://localhost:8080/"
        },
        "id": "8yFhi3srNUES",
        "outputId": "513b3273-475b-4458-cf37-1ff0f09e3ff1"
      },
      "source": [
        "h"
      ],
      "execution_count": 111,
      "outputs": [
        {
          "output_type": "execute_result",
          "data": {
            "text/plain": [
              "array([[ 0,  1,  2],\n",
              "       [ 3,  4,  5],\n",
              "       [ 6,  7,  8],\n",
              "       [ 9, 10, 11],\n",
              "       [12, 13, 14]])"
            ]
          },
          "metadata": {
            "tags": []
          },
          "execution_count": 111
        }
      ]
    },
    {
      "cell_type": "code",
      "metadata": {
        "colab": {
          "base_uri": "https://localhost:8080/"
        },
        "id": "i_dYYqhuNiiO",
        "outputId": "7bec704d-caf1-47a3-b6e8-34b23fad39b7"
      },
      "source": [
        "for i in h.flat:\n",
        "  print(i, end=',')"
      ],
      "execution_count": 113,
      "outputs": [
        {
          "output_type": "stream",
          "text": [
            "0,1,2,3,4,5,6,7,8,9,10,11,12,13,14,"
          ],
          "name": "stdout"
        }
      ]
    },
    {
      "cell_type": "code",
      "metadata": {
        "colab": {
          "base_uri": "https://localhost:8080/"
        },
        "id": "_rMWyMt1NlN9",
        "outputId": "4f66eefd-19aa-442f-a41c-875943eed0de"
      },
      "source": [
        "for i in h.ravel(order='F'):\n",
        "   print(i, end=',')"
      ],
      "execution_count": 114,
      "outputs": [
        {
          "output_type": "stream",
          "text": [
            "0,3,6,9,12,1,4,7,10,13,2,5,8,11,14,"
          ],
          "name": "stdout"
        }
      ]
    },
    {
      "cell_type": "code",
      "metadata": {
        "colab": {
          "base_uri": "https://localhost:8080/"
        },
        "id": "xTKEK8wuNzX1",
        "outputId": "cd0c9685-4969-4795-9dbf-8866efd6be25"
      },
      "source": [
        "h > 8"
      ],
      "execution_count": 115,
      "outputs": [
        {
          "output_type": "execute_result",
          "data": {
            "text/plain": [
              "array([[False, False, False],\n",
              "       [False, False, False],\n",
              "       [False, False, False],\n",
              "       [ True,  True,  True],\n",
              "       [ True,  True,  True]])"
            ]
          },
          "metadata": {
            "tags": []
          },
          "execution_count": 115
        }
      ]
    },
    {
      "cell_type": "code",
      "metadata": {
        "colab": {
          "base_uri": "https://localhost:8080/"
        },
        "id": "Ef_SlriwN1wY",
        "outputId": "e1c1386f-9437-422d-d1b6-6230fddd2a05"
      },
      "source": [
        "h <= 7"
      ],
      "execution_count": 116,
      "outputs": [
        {
          "output_type": "execute_result",
          "data": {
            "text/plain": [
              "array([[ True,  True,  True],\n",
              "       [ True,  True,  True],\n",
              "       [ True,  True, False],\n",
              "       [False, False, False],\n",
              "       [False, False, False]])"
            ]
          },
          "metadata": {
            "tags": []
          },
          "execution_count": 116
        }
      ]
    },
    {
      "cell_type": "code",
      "metadata": {
        "colab": {
          "base_uri": "https://localhost:8080/"
        },
        "id": "DfT1Dw8LN3wK",
        "outputId": "1a90c6b5-4c7b-4ea9-98df-cdcc3ba20d9e"
      },
      "source": [
        "h == 5"
      ],
      "execution_count": 117,
      "outputs": [
        {
          "output_type": "execute_result",
          "data": {
            "text/plain": [
              "array([[False, False, False],\n",
              "       [False, False,  True],\n",
              "       [False, False, False],\n",
              "       [False, False, False],\n",
              "       [False, False, False]])"
            ]
          },
          "metadata": {
            "tags": []
          },
          "execution_count": 117
        }
      ]
    },
    {
      "cell_type": "code",
      "metadata": {
        "colab": {
          "base_uri": "https://localhost:8080/"
        },
        "id": "QGi_MC5_N5f7",
        "outputId": "1001b5d7-da57-4fbc-be0b-165a59f7e693"
      },
      "source": [
        "(h == 5).astype(int) #se non voglio la notazione in booleano"
      ],
      "execution_count": 118,
      "outputs": [
        {
          "output_type": "execute_result",
          "data": {
            "text/plain": [
              "array([[0, 0, 0],\n",
              "       [0, 0, 1],\n",
              "       [0, 0, 0],\n",
              "       [0, 0, 0],\n",
              "       [0, 0, 0]])"
            ]
          },
          "metadata": {
            "tags": []
          },
          "execution_count": 118
        }
      ]
    },
    {
      "cell_type": "code",
      "metadata": {
        "colab": {
          "base_uri": "https://localhost:8080/"
        },
        "id": "HSfqPdgSN_ZM",
        "outputId": "6bb46c6d-4112-4229-9270-5cc9dad25dc9"
      },
      "source": [
        "(h > 4) & (h <= 12)"
      ],
      "execution_count": 119,
      "outputs": [
        {
          "output_type": "execute_result",
          "data": {
            "text/plain": [
              "array([[False, False, False],\n",
              "       [False, False,  True],\n",
              "       [ True,  True,  True],\n",
              "       [ True,  True,  True],\n",
              "       [ True, False, False]])"
            ]
          },
          "metadata": {
            "tags": []
          },
          "execution_count": 119
        }
      ]
    },
    {
      "cell_type": "code",
      "metadata": {
        "colab": {
          "base_uri": "https://localhost:8080/"
        },
        "id": "Ncbm-A4tOI31",
        "outputId": "4b752152-6589-43f2-8149-7471d627c09b"
      },
      "source": [
        "h[h>8]   #se voglio un array con effettivamente i valori che soddisfano la mia condizione "
      ],
      "execution_count": 121,
      "outputs": [
        {
          "output_type": "execute_result",
          "data": {
            "text/plain": [
              "array([ 9, 10, 11, 12, 13, 14])"
            ]
          },
          "metadata": {
            "tags": []
          },
          "execution_count": 121
        }
      ]
    },
    {
      "cell_type": "code",
      "metadata": {
        "colab": {
          "base_uri": "https://localhost:8080/"
        },
        "id": "BG6Z2hsGOLJa",
        "outputId": "19fe7a35-b7b9-416a-cbdf-ea602bf33cd7"
      },
      "source": [
        "h[(h > 4) & (h <= 12)]"
      ],
      "execution_count": 122,
      "outputs": [
        {
          "output_type": "execute_result",
          "data": {
            "text/plain": [
              "array([ 5,  6,  7,  8,  9, 10, 11, 12])"
            ]
          },
          "metadata": {
            "tags": []
          },
          "execution_count": 122
        }
      ]
    },
    {
      "cell_type": "code",
      "metadata": {
        "colab": {
          "base_uri": "https://localhost:8080/"
        },
        "id": "9g6AVS7xOaOt",
        "outputId": "79c19215-e08a-4b0f-af6c-3e055f1ad3c4"
      },
      "source": [
        "np.where(h < 7, 1, 0)"
      ],
      "execution_count": 123,
      "outputs": [
        {
          "output_type": "execute_result",
          "data": {
            "text/plain": [
              "array([[1, 1, 1],\n",
              "       [1, 1, 1],\n",
              "       [1, 0, 0],\n",
              "       [0, 0, 0],\n",
              "       [0, 0, 0]])"
            ]
          },
          "metadata": {
            "tags": []
          },
          "execution_count": 123
        }
      ]
    },
    {
      "cell_type": "code",
      "metadata": {
        "colab": {
          "base_uri": "https://localhost:8080/"
        },
        "id": "qg50ADxZOoZy",
        "outputId": "536cb27a-e28d-4dd2-ef9f-bbdb1d8accf9"
      },
      "source": [
        "np.where(h % 2 == 0, 'pari', 'dispari')  #'pari' se soddisfo la condizione, 'dispari' altrimenti"
      ],
      "execution_count": 124,
      "outputs": [
        {
          "output_type": "execute_result",
          "data": {
            "text/plain": [
              "array([['pari', 'dispari', 'pari'],\n",
              "       ['dispari', 'pari', 'dispari'],\n",
              "       ['pari', 'dispari', 'pari'],\n",
              "       ['dispari', 'pari', 'dispari'],\n",
              "       ['pari', 'dispari', 'pari']], dtype='<U7')"
            ]
          },
          "metadata": {
            "tags": []
          },
          "execution_count": 124
        }
      ]
    },
    {
      "cell_type": "code",
      "metadata": {
        "colab": {
          "base_uri": "https://localhost:8080/"
        },
        "id": "cDPhysmqOwX5",
        "outputId": "806e3c79-d902-4332-c5f1-af719e146dda"
      },
      "source": [
        "np.where(h <= 7, h*2, h/2)"
      ],
      "execution_count": 125,
      "outputs": [
        {
          "output_type": "execute_result",
          "data": {
            "text/plain": [
              "array([[ 0. ,  2. ,  4. ],\n",
              "       [ 6. ,  8. , 10. ],\n",
              "       [12. , 14. ,  4. ],\n",
              "       [ 4.5,  5. ,  5.5],\n",
              "       [ 6. ,  6.5,  7. ]])"
            ]
          },
          "metadata": {
            "tags": []
          },
          "execution_count": 125
        }
      ]
    },
    {
      "cell_type": "code",
      "metadata": {
        "id": "kI8ezPhSPCLc"
      },
      "source": [
        "r = np.arange(12).reshape((4,3))\n",
        "s = np.arange(12).reshape(4,3) * 0.5"
      ],
      "execution_count": 127,
      "outputs": []
    },
    {
      "cell_type": "code",
      "metadata": {
        "colab": {
          "base_uri": "https://localhost:8080/"
        },
        "id": "V-lTevLlPUqN",
        "outputId": "4e2b0275-219e-4553-d2dd-b73cc10eeb2c"
      },
      "source": [
        "r"
      ],
      "execution_count": 128,
      "outputs": [
        {
          "output_type": "execute_result",
          "data": {
            "text/plain": [
              "array([[ 0,  1,  2],\n",
              "       [ 3,  4,  5],\n",
              "       [ 6,  7,  8],\n",
              "       [ 9, 10, 11]])"
            ]
          },
          "metadata": {
            "tags": []
          },
          "execution_count": 128
        }
      ]
    },
    {
      "cell_type": "code",
      "metadata": {
        "colab": {
          "base_uri": "https://localhost:8080/"
        },
        "id": "s3JfINPKPaPK",
        "outputId": "cc38232a-ea76-4810-e984-91f62883be0b"
      },
      "source": [
        "s"
      ],
      "execution_count": 129,
      "outputs": [
        {
          "output_type": "execute_result",
          "data": {
            "text/plain": [
              "array([[0. , 0.5, 1. ],\n",
              "       [1.5, 2. , 2.5],\n",
              "       [3. , 3.5, 4. ],\n",
              "       [4.5, 5. , 5.5]])"
            ]
          },
          "metadata": {
            "tags": []
          },
          "execution_count": 129
        }
      ]
    },
    {
      "cell_type": "code",
      "metadata": {
        "colab": {
          "base_uri": "https://localhost:8080/"
        },
        "id": "EUTZ3ZQDPdbV",
        "outputId": "db19c386-9834-4583-ceae-9cc5ada90d63"
      },
      "source": [
        "r + s"
      ],
      "execution_count": 130,
      "outputs": [
        {
          "output_type": "execute_result",
          "data": {
            "text/plain": [
              "array([[ 0. ,  1.5,  3. ],\n",
              "       [ 4.5,  6. ,  7.5],\n",
              "       [ 9. , 10.5, 12. ],\n",
              "       [13.5, 15. , 16.5]])"
            ]
          },
          "metadata": {
            "tags": []
          },
          "execution_count": 130
        }
      ]
    },
    {
      "cell_type": "code",
      "metadata": {
        "colab": {
          "base_uri": "https://localhost:8080/"
        },
        "id": "q1V4Nzn6Pgso",
        "outputId": "e8199cb5-c61d-41b3-838a-166a2cf29bb4"
      },
      "source": [
        "r + 3"
      ],
      "execution_count": 131,
      "outputs": [
        {
          "output_type": "execute_result",
          "data": {
            "text/plain": [
              "array([[ 3,  4,  5],\n",
              "       [ 6,  7,  8],\n",
              "       [ 9, 10, 11],\n",
              "       [12, 13, 14]])"
            ]
          },
          "metadata": {
            "tags": []
          },
          "execution_count": 131
        }
      ]
    },
    {
      "cell_type": "code",
      "metadata": {
        "colab": {
          "base_uri": "https://localhost:8080/"
        },
        "id": "clbJlAprPkM0",
        "outputId": "2a3713a5-faf0-4924-a789-dfc4e44513c8"
      },
      "source": [
        "2 * r"
      ],
      "execution_count": 132,
      "outputs": [
        {
          "output_type": "execute_result",
          "data": {
            "text/plain": [
              "array([[ 0,  2,  4],\n",
              "       [ 6,  8, 10],\n",
              "       [12, 14, 16],\n",
              "       [18, 20, 22]])"
            ]
          },
          "metadata": {
            "tags": []
          },
          "execution_count": 132
        }
      ]
    },
    {
      "cell_type": "code",
      "metadata": {
        "colab": {
          "base_uri": "https://localhost:8080/"
        },
        "id": "xQ-SWib4PmFy",
        "outputId": "e33fc742-8abc-421c-8f27-e1da91cea7f3"
      },
      "source": [
        "2 * r + 3"
      ],
      "execution_count": 133,
      "outputs": [
        {
          "output_type": "execute_result",
          "data": {
            "text/plain": [
              "array([[ 3,  5,  7],\n",
              "       [ 9, 11, 13],\n",
              "       [15, 17, 19],\n",
              "       [21, 23, 25]])"
            ]
          },
          "metadata": {
            "tags": []
          },
          "execution_count": 133
        }
      ]
    },
    {
      "cell_type": "code",
      "metadata": {
        "colab": {
          "base_uri": "https://localhost:8080/"
        },
        "id": "h9TN_87oP4eJ",
        "outputId": "79b8c5c1-afa2-405d-b8c7-9443268ac65a"
      },
      "source": [
        "r"
      ],
      "execution_count": 136,
      "outputs": [
        {
          "output_type": "execute_result",
          "data": {
            "text/plain": [
              "array([[ 0,  1,  2],\n",
              "       [ 3,  4,  5],\n",
              "       [ 6,  7,  8],\n",
              "       [ 9, 10, 11]])"
            ]
          },
          "metadata": {
            "tags": []
          },
          "execution_count": 136
        }
      ]
    },
    {
      "cell_type": "code",
      "metadata": {
        "colab": {
          "base_uri": "https://localhost:8080/"
        },
        "id": "GuG59iVuPr1y",
        "outputId": "8396d3b1-0e80-4729-c581-f4451b2b54e7"
      },
      "source": [
        "s = np.arange(0, 12, 4)  #da 0 a 12 con passo di 4 (con 12 escluso)\n",
        "s"
      ],
      "execution_count": 134,
      "outputs": [
        {
          "output_type": "execute_result",
          "data": {
            "text/plain": [
              "array([0, 4, 8])"
            ]
          },
          "metadata": {
            "tags": []
          },
          "execution_count": 134
        }
      ]
    },
    {
      "cell_type": "code",
      "metadata": {
        "colab": {
          "base_uri": "https://localhost:8080/"
        },
        "id": "0EzrvgiJPv62",
        "outputId": "f4cb24d1-6b35-4250-81b2-6a837971a8a0"
      },
      "source": [
        "r + s   #questo va bene poiché le colonne sono sempre 3"
      ],
      "execution_count": 135,
      "outputs": [
        {
          "output_type": "execute_result",
          "data": {
            "text/plain": [
              "array([[ 0,  5, 10],\n",
              "       [ 3,  8, 13],\n",
              "       [ 6, 11, 16],\n",
              "       [ 9, 14, 19]])"
            ]
          },
          "metadata": {
            "tags": []
          },
          "execution_count": 135
        }
      ]
    },
    {
      "cell_type": "markdown",
      "metadata": {
        "id": "ddHvy0VPQ46f"
      },
      "source": [
        "#Liste"
      ]
    },
    {
      "cell_type": "code",
      "metadata": {
        "colab": {
          "base_uri": "https://localhost:8080/"
        },
        "id": "UnESJP17PyF3",
        "outputId": "b110217a-75d5-4280-b88f-7d088d538681"
      },
      "source": [
        "m = [i ** 2 for i in range(5)]\n",
        "m"
      ],
      "execution_count": 137,
      "outputs": [
        {
          "output_type": "execute_result",
          "data": {
            "text/plain": [
              "[0, 1, 4, 9, 16]"
            ]
          },
          "metadata": {
            "tags": []
          },
          "execution_count": 137
        }
      ]
    },
    {
      "cell_type": "markdown",
      "metadata": {
        "id": "ctY7QRRERJE_"
      },
      "source": [
        "#Map"
      ]
    },
    {
      "cell_type": "code",
      "metadata": {
        "id": "CpSaPmsBRCwe"
      },
      "source": [
        "def even(x):\n",
        "  return x % 2 == 0"
      ],
      "execution_count": 139,
      "outputs": []
    },
    {
      "cell_type": "code",
      "metadata": {
        "colab": {
          "base_uri": "https://localhost:8080/"
        },
        "id": "Ok0qtSacRV3n",
        "outputId": "d1185f51-4509-4d2f-d2a7-94e8bb2d4d14"
      },
      "source": [
        "list(map(even, range(10)))  #in base ai valori degli indici"
      ],
      "execution_count": 140,
      "outputs": [
        {
          "output_type": "execute_result",
          "data": {
            "text/plain": [
              "[True, False, True, False, True, False, True, False, True, False]"
            ]
          },
          "metadata": {
            "tags": []
          },
          "execution_count": 140
        }
      ]
    },
    {
      "cell_type": "code",
      "metadata": {
        "colab": {
          "base_uri": "https://localhost:8080/"
        },
        "id": "HNhp8ZS0Rdju",
        "outputId": "e6843713-8916-46b8-a2d6-bc66ce8ca831"
      },
      "source": [
        "list(filter(even, range(10)))"
      ],
      "execution_count": 141,
      "outputs": [
        {
          "output_type": "execute_result",
          "data": {
            "text/plain": [
              "[0, 2, 4, 6, 8]"
            ]
          },
          "metadata": {
            "tags": []
          },
          "execution_count": 141
        }
      ]
    }
  ]
}