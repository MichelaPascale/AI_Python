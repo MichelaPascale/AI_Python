{
  "nbformat": 4,
  "nbformat_minor": 0,
  "metadata": {
    "colab": {
      "name": "Untitled17.ipynb",
      "provenance": [],
      "authorship_tag": "ABX9TyO+ULGcUXS2Gau4l+LFlT9/",
      "include_colab_link": true
    },
    "kernelspec": {
      "name": "python3",
      "display_name": "Python 3"
    },
    "language_info": {
      "name": "python"
    }
  },
  "cells": [
    {
      "cell_type": "markdown",
      "metadata": {
        "id": "view-in-github",
        "colab_type": "text"
      },
      "source": [
        "<a href=\"https://colab.research.google.com/github/MichelaPascale/AI_Python/blob/main/Pandas%20-%20Lezione%2025%20Marzo%202021.ipynb\" target=\"_parent\"><img src=\"https://colab.research.google.com/assets/colab-badge.svg\" alt=\"Open In Colab\"/></a>"
      ]
    },
    {
      "cell_type": "markdown",
      "metadata": {
        "id": "uEuEpWHGTMQd"
      },
      "source": [
        "#**LEZIONE DEL 25 MARZO 2021 - (PANDAS) - INTELLIGENZA ARTIFICIALE**"
      ]
    },
    {
      "cell_type": "markdown",
      "metadata": {
        "id": "cxREVaVUXUz9"
      },
      "source": [
        "##**La Classe DataFrame**"
      ]
    },
    {
      "cell_type": "code",
      "metadata": {
        "id": "po0-yXGrSYUJ"
      },
      "source": [
        "import pandas as pd"
      ],
      "execution_count": 1,
      "outputs": []
    },
    {
      "cell_type": "code",
      "metadata": {
        "colab": {
          "base_uri": "https://localhost:8080/",
          "height": 173
        },
        "id": "yLRU56l6YB_d",
        "outputId": "5c041434-171a-47f8-8bdc-9dc436ae0d18"
      },
      "source": [
        "df = pd.DataFrame([10, 20, 30, 40], columns=['numeri'], index=['a', 'b', 'c', 'd'])\n",
        "df"
      ],
      "execution_count": 3,
      "outputs": [
        {
          "output_type": "execute_result",
          "data": {
            "text/html": [
              "<div>\n",
              "<style scoped>\n",
              "    .dataframe tbody tr th:only-of-type {\n",
              "        vertical-align: middle;\n",
              "    }\n",
              "\n",
              "    .dataframe tbody tr th {\n",
              "        vertical-align: top;\n",
              "    }\n",
              "\n",
              "    .dataframe thead th {\n",
              "        text-align: right;\n",
              "    }\n",
              "</style>\n",
              "<table border=\"1\" class=\"dataframe\">\n",
              "  <thead>\n",
              "    <tr style=\"text-align: right;\">\n",
              "      <th></th>\n",
              "      <th>numeri</th>\n",
              "    </tr>\n",
              "  </thead>\n",
              "  <tbody>\n",
              "    <tr>\n",
              "      <th>a</th>\n",
              "      <td>10</td>\n",
              "    </tr>\n",
              "    <tr>\n",
              "      <th>b</th>\n",
              "      <td>20</td>\n",
              "    </tr>\n",
              "    <tr>\n",
              "      <th>c</th>\n",
              "      <td>30</td>\n",
              "    </tr>\n",
              "    <tr>\n",
              "      <th>d</th>\n",
              "      <td>40</td>\n",
              "    </tr>\n",
              "  </tbody>\n",
              "</table>\n",
              "</div>"
            ],
            "text/plain": [
              "   numeri\n",
              "a      10\n",
              "b      20\n",
              "c      30\n",
              "d      40"
            ]
          },
          "metadata": {
            "tags": []
          },
          "execution_count": 3
        }
      ]
    },
    {
      "cell_type": "code",
      "metadata": {
        "colab": {
          "base_uri": "https://localhost:8080/"
        },
        "id": "flvUTeLqYSMn",
        "outputId": "4f6b9078-1146-44f4-a53d-403139ad0f93"
      },
      "source": [
        "df.index"
      ],
      "execution_count": 4,
      "outputs": [
        {
          "output_type": "execute_result",
          "data": {
            "text/plain": [
              "Index(['a', 'b', 'c', 'd'], dtype='object')"
            ]
          },
          "metadata": {
            "tags": []
          },
          "execution_count": 4
        }
      ]
    },
    {
      "cell_type": "code",
      "metadata": {
        "colab": {
          "base_uri": "https://localhost:8080/"
        },
        "id": "TZo-O7XZYgaj",
        "outputId": "232df9c5-7f91-410d-88a7-7a0d94ed6829"
      },
      "source": [
        "df.columns"
      ],
      "execution_count": 5,
      "outputs": [
        {
          "output_type": "execute_result",
          "data": {
            "text/plain": [
              "Index(['numeri'], dtype='object')"
            ]
          },
          "metadata": {
            "tags": []
          },
          "execution_count": 5
        }
      ]
    },
    {
      "cell_type": "code",
      "metadata": {
        "colab": {
          "base_uri": "https://localhost:8080/"
        },
        "id": "CIDjD-Q3Yi4V",
        "outputId": "4bb168c1-5b01-4c8e-8b75-61d57d6e270a"
      },
      "source": [
        "df.loc['c']"
      ],
      "execution_count": 6,
      "outputs": [
        {
          "output_type": "execute_result",
          "data": {
            "text/plain": [
              "numeri    30\n",
              "Name: c, dtype: int64"
            ]
          },
          "metadata": {
            "tags": []
          },
          "execution_count": 6
        }
      ]
    },
    {
      "cell_type": "code",
      "metadata": {
        "colab": {
          "base_uri": "https://localhost:8080/",
          "height": 111
        },
        "id": "1pDHQpwgYnNk",
        "outputId": "f5d06dc4-10e3-4a62-e651-7ba272b57aef"
      },
      "source": [
        "df.loc[['a', 'd']]"
      ],
      "execution_count": 7,
      "outputs": [
        {
          "output_type": "execute_result",
          "data": {
            "text/html": [
              "<div>\n",
              "<style scoped>\n",
              "    .dataframe tbody tr th:only-of-type {\n",
              "        vertical-align: middle;\n",
              "    }\n",
              "\n",
              "    .dataframe tbody tr th {\n",
              "        vertical-align: top;\n",
              "    }\n",
              "\n",
              "    .dataframe thead th {\n",
              "        text-align: right;\n",
              "    }\n",
              "</style>\n",
              "<table border=\"1\" class=\"dataframe\">\n",
              "  <thead>\n",
              "    <tr style=\"text-align: right;\">\n",
              "      <th></th>\n",
              "      <th>numeri</th>\n",
              "    </tr>\n",
              "  </thead>\n",
              "  <tbody>\n",
              "    <tr>\n",
              "      <th>a</th>\n",
              "      <td>10</td>\n",
              "    </tr>\n",
              "    <tr>\n",
              "      <th>d</th>\n",
              "      <td>40</td>\n",
              "    </tr>\n",
              "  </tbody>\n",
              "</table>\n",
              "</div>"
            ],
            "text/plain": [
              "   numeri\n",
              "a      10\n",
              "d      40"
            ]
          },
          "metadata": {
            "tags": []
          },
          "execution_count": 7
        }
      ]
    },
    {
      "cell_type": "code",
      "metadata": {
        "colab": {
          "base_uri": "https://localhost:8080/",
          "height": 111
        },
        "id": "k_aaOD3eYtW8",
        "outputId": "418f8a9b-0664-4e6b-ce31-8dbf13b9227f"
      },
      "source": [
        "df.iloc[1:3]"
      ],
      "execution_count": 8,
      "outputs": [
        {
          "output_type": "execute_result",
          "data": {
            "text/html": [
              "<div>\n",
              "<style scoped>\n",
              "    .dataframe tbody tr th:only-of-type {\n",
              "        vertical-align: middle;\n",
              "    }\n",
              "\n",
              "    .dataframe tbody tr th {\n",
              "        vertical-align: top;\n",
              "    }\n",
              "\n",
              "    .dataframe thead th {\n",
              "        text-align: right;\n",
              "    }\n",
              "</style>\n",
              "<table border=\"1\" class=\"dataframe\">\n",
              "  <thead>\n",
              "    <tr style=\"text-align: right;\">\n",
              "      <th></th>\n",
              "      <th>numeri</th>\n",
              "    </tr>\n",
              "  </thead>\n",
              "  <tbody>\n",
              "    <tr>\n",
              "      <th>b</th>\n",
              "      <td>20</td>\n",
              "    </tr>\n",
              "    <tr>\n",
              "      <th>c</th>\n",
              "      <td>30</td>\n",
              "    </tr>\n",
              "  </tbody>\n",
              "</table>\n",
              "</div>"
            ],
            "text/plain": [
              "   numeri\n",
              "b      20\n",
              "c      30"
            ]
          },
          "metadata": {
            "tags": []
          },
          "execution_count": 8
        }
      ]
    },
    {
      "cell_type": "code",
      "metadata": {
        "colab": {
          "base_uri": "https://localhost:8080/"
        },
        "id": "eQLGaYxqY0et",
        "outputId": "340fc9f5-5b1b-402a-eb2a-f537c28b23e9"
      },
      "source": [
        "df.sum()"
      ],
      "execution_count": 9,
      "outputs": [
        {
          "output_type": "execute_result",
          "data": {
            "text/plain": [
              "numeri    100\n",
              "dtype: int64"
            ]
          },
          "metadata": {
            "tags": []
          },
          "execution_count": 9
        }
      ]
    },
    {
      "cell_type": "code",
      "metadata": {
        "colab": {
          "base_uri": "https://localhost:8080/",
          "height": 173
        },
        "id": "z_4KIXDWY30Q",
        "outputId": "f7a46973-df14-4257-f170-bc0550bed55d"
      },
      "source": [
        "df.apply(lambda x: x ** 2)"
      ],
      "execution_count": 10,
      "outputs": [
        {
          "output_type": "execute_result",
          "data": {
            "text/html": [
              "<div>\n",
              "<style scoped>\n",
              "    .dataframe tbody tr th:only-of-type {\n",
              "        vertical-align: middle;\n",
              "    }\n",
              "\n",
              "    .dataframe tbody tr th {\n",
              "        vertical-align: top;\n",
              "    }\n",
              "\n",
              "    .dataframe thead th {\n",
              "        text-align: right;\n",
              "    }\n",
              "</style>\n",
              "<table border=\"1\" class=\"dataframe\">\n",
              "  <thead>\n",
              "    <tr style=\"text-align: right;\">\n",
              "      <th></th>\n",
              "      <th>numeri</th>\n",
              "    </tr>\n",
              "  </thead>\n",
              "  <tbody>\n",
              "    <tr>\n",
              "      <th>a</th>\n",
              "      <td>100</td>\n",
              "    </tr>\n",
              "    <tr>\n",
              "      <th>b</th>\n",
              "      <td>400</td>\n",
              "    </tr>\n",
              "    <tr>\n",
              "      <th>c</th>\n",
              "      <td>900</td>\n",
              "    </tr>\n",
              "    <tr>\n",
              "      <th>d</th>\n",
              "      <td>1600</td>\n",
              "    </tr>\n",
              "  </tbody>\n",
              "</table>\n",
              "</div>"
            ],
            "text/plain": [
              "   numeri\n",
              "a     100\n",
              "b     400\n",
              "c     900\n",
              "d    1600"
            ]
          },
          "metadata": {
            "tags": []
          },
          "execution_count": 10
        }
      ]
    },
    {
      "cell_type": "code",
      "metadata": {
        "colab": {
          "base_uri": "https://localhost:8080/",
          "height": 173
        },
        "id": "Cw1_WWXlY_pB",
        "outputId": "c2ac5726-e196-41b7-ea52-dd46b45cb4f7"
      },
      "source": [
        "df ** 2"
      ],
      "execution_count": 11,
      "outputs": [
        {
          "output_type": "execute_result",
          "data": {
            "text/html": [
              "<div>\n",
              "<style scoped>\n",
              "    .dataframe tbody tr th:only-of-type {\n",
              "        vertical-align: middle;\n",
              "    }\n",
              "\n",
              "    .dataframe tbody tr th {\n",
              "        vertical-align: top;\n",
              "    }\n",
              "\n",
              "    .dataframe thead th {\n",
              "        text-align: right;\n",
              "    }\n",
              "</style>\n",
              "<table border=\"1\" class=\"dataframe\">\n",
              "  <thead>\n",
              "    <tr style=\"text-align: right;\">\n",
              "      <th></th>\n",
              "      <th>numeri</th>\n",
              "    </tr>\n",
              "  </thead>\n",
              "  <tbody>\n",
              "    <tr>\n",
              "      <th>a</th>\n",
              "      <td>100</td>\n",
              "    </tr>\n",
              "    <tr>\n",
              "      <th>b</th>\n",
              "      <td>400</td>\n",
              "    </tr>\n",
              "    <tr>\n",
              "      <th>c</th>\n",
              "      <td>900</td>\n",
              "    </tr>\n",
              "    <tr>\n",
              "      <th>d</th>\n",
              "      <td>1600</td>\n",
              "    </tr>\n",
              "  </tbody>\n",
              "</table>\n",
              "</div>"
            ],
            "text/plain": [
              "   numeri\n",
              "a     100\n",
              "b     400\n",
              "c     900\n",
              "d    1600"
            ]
          },
          "metadata": {
            "tags": []
          },
          "execution_count": 11
        }
      ]
    },
    {
      "cell_type": "code",
      "metadata": {
        "colab": {
          "base_uri": "https://localhost:8080/",
          "height": 173
        },
        "id": "lLOHGC6OZESE",
        "outputId": "fadd1161-e73c-4643-8060-6ccf46b64da7"
      },
      "source": [
        "df"
      ],
      "execution_count": 12,
      "outputs": [
        {
          "output_type": "execute_result",
          "data": {
            "text/html": [
              "<div>\n",
              "<style scoped>\n",
              "    .dataframe tbody tr th:only-of-type {\n",
              "        vertical-align: middle;\n",
              "    }\n",
              "\n",
              "    .dataframe tbody tr th {\n",
              "        vertical-align: top;\n",
              "    }\n",
              "\n",
              "    .dataframe thead th {\n",
              "        text-align: right;\n",
              "    }\n",
              "</style>\n",
              "<table border=\"1\" class=\"dataframe\">\n",
              "  <thead>\n",
              "    <tr style=\"text-align: right;\">\n",
              "      <th></th>\n",
              "      <th>numeri</th>\n",
              "    </tr>\n",
              "  </thead>\n",
              "  <tbody>\n",
              "    <tr>\n",
              "      <th>a</th>\n",
              "      <td>10</td>\n",
              "    </tr>\n",
              "    <tr>\n",
              "      <th>b</th>\n",
              "      <td>20</td>\n",
              "    </tr>\n",
              "    <tr>\n",
              "      <th>c</th>\n",
              "      <td>30</td>\n",
              "    </tr>\n",
              "    <tr>\n",
              "      <th>d</th>\n",
              "      <td>40</td>\n",
              "    </tr>\n",
              "  </tbody>\n",
              "</table>\n",
              "</div>"
            ],
            "text/plain": [
              "   numeri\n",
              "a      10\n",
              "b      20\n",
              "c      30\n",
              "d      40"
            ]
          },
          "metadata": {
            "tags": []
          },
          "execution_count": 12
        }
      ]
    },
    {
      "cell_type": "code",
      "metadata": {
        "colab": {
          "base_uri": "https://localhost:8080/",
          "height": 173
        },
        "id": "2XBWBL12ZJQr",
        "outputId": "e32899b3-469d-4ec3-e233-189c8ee908b5"
      },
      "source": [
        "# aggiunta di una colonna\n",
        "df['floats'] = (1.5, 2.5, 3.5, 4.5)\n",
        "df"
      ],
      "execution_count": 13,
      "outputs": [
        {
          "output_type": "execute_result",
          "data": {
            "text/html": [
              "<div>\n",
              "<style scoped>\n",
              "    .dataframe tbody tr th:only-of-type {\n",
              "        vertical-align: middle;\n",
              "    }\n",
              "\n",
              "    .dataframe tbody tr th {\n",
              "        vertical-align: top;\n",
              "    }\n",
              "\n",
              "    .dataframe thead th {\n",
              "        text-align: right;\n",
              "    }\n",
              "</style>\n",
              "<table border=\"1\" class=\"dataframe\">\n",
              "  <thead>\n",
              "    <tr style=\"text-align: right;\">\n",
              "      <th></th>\n",
              "      <th>numeri</th>\n",
              "      <th>floats</th>\n",
              "    </tr>\n",
              "  </thead>\n",
              "  <tbody>\n",
              "    <tr>\n",
              "      <th>a</th>\n",
              "      <td>10</td>\n",
              "      <td>1.5</td>\n",
              "    </tr>\n",
              "    <tr>\n",
              "      <th>b</th>\n",
              "      <td>20</td>\n",
              "      <td>2.5</td>\n",
              "    </tr>\n",
              "    <tr>\n",
              "      <th>c</th>\n",
              "      <td>30</td>\n",
              "      <td>3.5</td>\n",
              "    </tr>\n",
              "    <tr>\n",
              "      <th>d</th>\n",
              "      <td>40</td>\n",
              "      <td>4.5</td>\n",
              "    </tr>\n",
              "  </tbody>\n",
              "</table>\n",
              "</div>"
            ],
            "text/plain": [
              "   numeri  floats\n",
              "a      10     1.5\n",
              "b      20     2.5\n",
              "c      30     3.5\n",
              "d      40     4.5"
            ]
          },
          "metadata": {
            "tags": []
          },
          "execution_count": 13
        }
      ]
    },
    {
      "cell_type": "code",
      "metadata": {
        "colab": {
          "base_uri": "https://localhost:8080/"
        },
        "id": "Oi3mN0YoZR9i",
        "outputId": "0ebcd4ed-80ce-42c2-a748-eff9b9fd990c"
      },
      "source": [
        "df['floats']"
      ],
      "execution_count": 14,
      "outputs": [
        {
          "output_type": "execute_result",
          "data": {
            "text/plain": [
              "a    1.5\n",
              "b    2.5\n",
              "c    3.5\n",
              "d    4.5\n",
              "Name: floats, dtype: float64"
            ]
          },
          "metadata": {
            "tags": []
          },
          "execution_count": 14
        }
      ]
    },
    {
      "cell_type": "code",
      "metadata": {
        "id": "o2nU_aXaZXbQ"
      },
      "source": [
        "df['nomi'] = pd.DataFrame(['Marco', 'Laura', 'Paolo', 'Silvia'], index=['d', 'a', 'b', 'c'])"
      ],
      "execution_count": 15,
      "outputs": []
    },
    {
      "cell_type": "code",
      "metadata": {
        "colab": {
          "base_uri": "https://localhost:8080/",
          "height": 173
        },
        "id": "Rpzorl4iZv3Z",
        "outputId": "5f6cd8de-dfe6-471b-cfef-69fcc2d6ca03"
      },
      "source": [
        "df"
      ],
      "execution_count": 16,
      "outputs": [
        {
          "output_type": "execute_result",
          "data": {
            "text/html": [
              "<div>\n",
              "<style scoped>\n",
              "    .dataframe tbody tr th:only-of-type {\n",
              "        vertical-align: middle;\n",
              "    }\n",
              "\n",
              "    .dataframe tbody tr th {\n",
              "        vertical-align: top;\n",
              "    }\n",
              "\n",
              "    .dataframe thead th {\n",
              "        text-align: right;\n",
              "    }\n",
              "</style>\n",
              "<table border=\"1\" class=\"dataframe\">\n",
              "  <thead>\n",
              "    <tr style=\"text-align: right;\">\n",
              "      <th></th>\n",
              "      <th>numeri</th>\n",
              "      <th>floats</th>\n",
              "      <th>nomi</th>\n",
              "    </tr>\n",
              "  </thead>\n",
              "  <tbody>\n",
              "    <tr>\n",
              "      <th>a</th>\n",
              "      <td>10</td>\n",
              "      <td>1.5</td>\n",
              "      <td>Laura</td>\n",
              "    </tr>\n",
              "    <tr>\n",
              "      <th>b</th>\n",
              "      <td>20</td>\n",
              "      <td>2.5</td>\n",
              "      <td>Paolo</td>\n",
              "    </tr>\n",
              "    <tr>\n",
              "      <th>c</th>\n",
              "      <td>30</td>\n",
              "      <td>3.5</td>\n",
              "      <td>Silvia</td>\n",
              "    </tr>\n",
              "    <tr>\n",
              "      <th>d</th>\n",
              "      <td>40</td>\n",
              "      <td>4.5</td>\n",
              "      <td>Marco</td>\n",
              "    </tr>\n",
              "  </tbody>\n",
              "</table>\n",
              "</div>"
            ],
            "text/plain": [
              "   numeri  floats    nomi\n",
              "a      10     1.5   Laura\n",
              "b      20     2.5   Paolo\n",
              "c      30     3.5  Silvia\n",
              "d      40     4.5   Marco"
            ]
          },
          "metadata": {
            "tags": []
          },
          "execution_count": 16
        }
      ]
    },
    {
      "cell_type": "markdown",
      "metadata": {
        "id": "gQge_6cXZ4k7"
      },
      "source": [
        "**Append**"
      ]
    },
    {
      "cell_type": "code",
      "metadata": {
        "colab": {
          "base_uri": "https://localhost:8080/",
          "height": 204
        },
        "id": "3wD21srrZwoE",
        "outputId": "ac219090-216d-45c4-c9fa-2a3772ca4ad3"
      },
      "source": [
        "#le righe sotto forma di dizionario\n",
        "df.append({'numeri': 100, 'floats': 5.75, 'nomi': 'Pietro'}, ignore_index=True)\n",
        "\n",
        "#Ok, ma nel risultato gli indici vengono cambiati"
      ],
      "execution_count": 18,
      "outputs": [
        {
          "output_type": "execute_result",
          "data": {
            "text/html": [
              "<div>\n",
              "<style scoped>\n",
              "    .dataframe tbody tr th:only-of-type {\n",
              "        vertical-align: middle;\n",
              "    }\n",
              "\n",
              "    .dataframe tbody tr th {\n",
              "        vertical-align: top;\n",
              "    }\n",
              "\n",
              "    .dataframe thead th {\n",
              "        text-align: right;\n",
              "    }\n",
              "</style>\n",
              "<table border=\"1\" class=\"dataframe\">\n",
              "  <thead>\n",
              "    <tr style=\"text-align: right;\">\n",
              "      <th></th>\n",
              "      <th>numeri</th>\n",
              "      <th>floats</th>\n",
              "      <th>nomi</th>\n",
              "    </tr>\n",
              "  </thead>\n",
              "  <tbody>\n",
              "    <tr>\n",
              "      <th>0</th>\n",
              "      <td>10</td>\n",
              "      <td>1.50</td>\n",
              "      <td>Laura</td>\n",
              "    </tr>\n",
              "    <tr>\n",
              "      <th>1</th>\n",
              "      <td>20</td>\n",
              "      <td>2.50</td>\n",
              "      <td>Paolo</td>\n",
              "    </tr>\n",
              "    <tr>\n",
              "      <th>2</th>\n",
              "      <td>30</td>\n",
              "      <td>3.50</td>\n",
              "      <td>Silvia</td>\n",
              "    </tr>\n",
              "    <tr>\n",
              "      <th>3</th>\n",
              "      <td>40</td>\n",
              "      <td>4.50</td>\n",
              "      <td>Marco</td>\n",
              "    </tr>\n",
              "    <tr>\n",
              "      <th>4</th>\n",
              "      <td>100</td>\n",
              "      <td>5.75</td>\n",
              "      <td>Pietro</td>\n",
              "    </tr>\n",
              "  </tbody>\n",
              "</table>\n",
              "</div>"
            ],
            "text/plain": [
              "   numeri  floats    nomi\n",
              "0      10    1.50   Laura\n",
              "1      20    2.50   Paolo\n",
              "2      30    3.50  Silvia\n",
              "3      40    4.50   Marco\n",
              "4     100    5.75  Pietro"
            ]
          },
          "metadata": {
            "tags": []
          },
          "execution_count": 18
        }
      ]
    },
    {
      "cell_type": "code",
      "metadata": {
        "colab": {
          "base_uri": "https://localhost:8080/",
          "height": 173
        },
        "id": "TzrohAuzaPmH",
        "outputId": "bec6731a-dc18-4a7f-cd80-ed9a1a56e569"
      },
      "source": [
        "df   #df non viene modificata"
      ],
      "execution_count": 19,
      "outputs": [
        {
          "output_type": "execute_result",
          "data": {
            "text/html": [
              "<div>\n",
              "<style scoped>\n",
              "    .dataframe tbody tr th:only-of-type {\n",
              "        vertical-align: middle;\n",
              "    }\n",
              "\n",
              "    .dataframe tbody tr th {\n",
              "        vertical-align: top;\n",
              "    }\n",
              "\n",
              "    .dataframe thead th {\n",
              "        text-align: right;\n",
              "    }\n",
              "</style>\n",
              "<table border=\"1\" class=\"dataframe\">\n",
              "  <thead>\n",
              "    <tr style=\"text-align: right;\">\n",
              "      <th></th>\n",
              "      <th>numeri</th>\n",
              "      <th>floats</th>\n",
              "      <th>nomi</th>\n",
              "    </tr>\n",
              "  </thead>\n",
              "  <tbody>\n",
              "    <tr>\n",
              "      <th>a</th>\n",
              "      <td>10</td>\n",
              "      <td>1.5</td>\n",
              "      <td>Laura</td>\n",
              "    </tr>\n",
              "    <tr>\n",
              "      <th>b</th>\n",
              "      <td>20</td>\n",
              "      <td>2.5</td>\n",
              "      <td>Paolo</td>\n",
              "    </tr>\n",
              "    <tr>\n",
              "      <th>c</th>\n",
              "      <td>30</td>\n",
              "      <td>3.5</td>\n",
              "      <td>Silvia</td>\n",
              "    </tr>\n",
              "    <tr>\n",
              "      <th>d</th>\n",
              "      <td>40</td>\n",
              "      <td>4.5</td>\n",
              "      <td>Marco</td>\n",
              "    </tr>\n",
              "  </tbody>\n",
              "</table>\n",
              "</div>"
            ],
            "text/plain": [
              "   numeri  floats    nomi\n",
              "a      10     1.5   Laura\n",
              "b      20     2.5   Paolo\n",
              "c      30     3.5  Silvia\n",
              "d      40     4.5   Marco"
            ]
          },
          "metadata": {
            "tags": []
          },
          "execution_count": 19
        }
      ]
    },
    {
      "cell_type": "code",
      "metadata": {
        "id": "hrUzvhivaYcO"
      },
      "source": [
        "df = df.append(pd.DataFrame({'numeri': 100, 'floats': 5.75, 'nomi': 'Pietro'}, index=['y',]))"
      ],
      "execution_count": 26,
      "outputs": []
    },
    {
      "cell_type": "code",
      "metadata": {
        "colab": {
          "base_uri": "https://localhost:8080/",
          "height": 204
        },
        "id": "ZLhqN7fOa6z_",
        "outputId": "647a3c44-c320-4a43-b70a-3cf3b7e9ca78"
      },
      "source": [
        "df"
      ],
      "execution_count": 27,
      "outputs": [
        {
          "output_type": "execute_result",
          "data": {
            "text/html": [
              "<div>\n",
              "<style scoped>\n",
              "    .dataframe tbody tr th:only-of-type {\n",
              "        vertical-align: middle;\n",
              "    }\n",
              "\n",
              "    .dataframe tbody tr th {\n",
              "        vertical-align: top;\n",
              "    }\n",
              "\n",
              "    .dataframe thead th {\n",
              "        text-align: right;\n",
              "    }\n",
              "</style>\n",
              "<table border=\"1\" class=\"dataframe\">\n",
              "  <thead>\n",
              "    <tr style=\"text-align: right;\">\n",
              "      <th></th>\n",
              "      <th>numeri</th>\n",
              "      <th>floats</th>\n",
              "      <th>nomi</th>\n",
              "    </tr>\n",
              "  </thead>\n",
              "  <tbody>\n",
              "    <tr>\n",
              "      <th>a</th>\n",
              "      <td>10</td>\n",
              "      <td>1.50</td>\n",
              "      <td>Laura</td>\n",
              "    </tr>\n",
              "    <tr>\n",
              "      <th>b</th>\n",
              "      <td>20</td>\n",
              "      <td>2.50</td>\n",
              "      <td>Paolo</td>\n",
              "    </tr>\n",
              "    <tr>\n",
              "      <th>c</th>\n",
              "      <td>30</td>\n",
              "      <td>3.50</td>\n",
              "      <td>Silvia</td>\n",
              "    </tr>\n",
              "    <tr>\n",
              "      <th>d</th>\n",
              "      <td>40</td>\n",
              "      <td>4.50</td>\n",
              "      <td>Marco</td>\n",
              "    </tr>\n",
              "    <tr>\n",
              "      <th>y</th>\n",
              "      <td>100</td>\n",
              "      <td>5.75</td>\n",
              "      <td>Pietro</td>\n",
              "    </tr>\n",
              "  </tbody>\n",
              "</table>\n",
              "</div>"
            ],
            "text/plain": [
              "   numeri  floats    nomi\n",
              "a      10    1.50   Laura\n",
              "b      20    2.50   Paolo\n",
              "c      30    3.50  Silvia\n",
              "d      40    4.50   Marco\n",
              "y     100    5.75  Pietro"
            ]
          },
          "metadata": {
            "tags": []
          },
          "execution_count": 27
        }
      ]
    },
    {
      "cell_type": "code",
      "metadata": {
        "id": "x8jjRRMSbYZv"
      },
      "source": [
        "# Se non popolo tutti gli elementi? I valori nulli vengono sostiyuiti con Nan: \"Not a NUmber\"\n",
        "df = df.append(pd.DataFrame({'nomi': 'Francesca'}, index=['e',]), sort=True)"
      ],
      "execution_count": 30,
      "outputs": []
    },
    {
      "cell_type": "code",
      "metadata": {
        "colab": {
          "base_uri": "https://localhost:8080/",
          "height": 235
        },
        "id": "vcXJ1yZIbm8A",
        "outputId": "991346ab-7b18-4d21-ecc8-838ca82f6d00"
      },
      "source": [
        "df"
      ],
      "execution_count": 31,
      "outputs": [
        {
          "output_type": "execute_result",
          "data": {
            "text/html": [
              "<div>\n",
              "<style scoped>\n",
              "    .dataframe tbody tr th:only-of-type {\n",
              "        vertical-align: middle;\n",
              "    }\n",
              "\n",
              "    .dataframe tbody tr th {\n",
              "        vertical-align: top;\n",
              "    }\n",
              "\n",
              "    .dataframe thead th {\n",
              "        text-align: right;\n",
              "    }\n",
              "</style>\n",
              "<table border=\"1\" class=\"dataframe\">\n",
              "  <thead>\n",
              "    <tr style=\"text-align: right;\">\n",
              "      <th></th>\n",
              "      <th>floats</th>\n",
              "      <th>nomi</th>\n",
              "      <th>numeri</th>\n",
              "    </tr>\n",
              "  </thead>\n",
              "  <tbody>\n",
              "    <tr>\n",
              "      <th>a</th>\n",
              "      <td>1.50</td>\n",
              "      <td>Laura</td>\n",
              "      <td>10.0</td>\n",
              "    </tr>\n",
              "    <tr>\n",
              "      <th>b</th>\n",
              "      <td>2.50</td>\n",
              "      <td>Paolo</td>\n",
              "      <td>20.0</td>\n",
              "    </tr>\n",
              "    <tr>\n",
              "      <th>c</th>\n",
              "      <td>3.50</td>\n",
              "      <td>Silvia</td>\n",
              "      <td>30.0</td>\n",
              "    </tr>\n",
              "    <tr>\n",
              "      <th>d</th>\n",
              "      <td>4.50</td>\n",
              "      <td>Marco</td>\n",
              "      <td>40.0</td>\n",
              "    </tr>\n",
              "    <tr>\n",
              "      <th>y</th>\n",
              "      <td>5.75</td>\n",
              "      <td>Pietro</td>\n",
              "      <td>100.0</td>\n",
              "    </tr>\n",
              "    <tr>\n",
              "      <th>e</th>\n",
              "      <td>NaN</td>\n",
              "      <td>Francesca</td>\n",
              "      <td>NaN</td>\n",
              "    </tr>\n",
              "  </tbody>\n",
              "</table>\n",
              "</div>"
            ],
            "text/plain": [
              "   floats       nomi  numeri\n",
              "a    1.50      Laura    10.0\n",
              "b    2.50      Paolo    20.0\n",
              "c    3.50     Silvia    30.0\n",
              "d    4.50      Marco    40.0\n",
              "y    5.75     Pietro   100.0\n",
              "e     NaN  Francesca     NaN"
            ]
          },
          "metadata": {
            "tags": []
          },
          "execution_count": 31
        }
      ]
    },
    {
      "cell_type": "code",
      "metadata": {
        "colab": {
          "base_uri": "https://localhost:8080/"
        },
        "id": "bhqWKjSZbz4y",
        "outputId": "b7c6df34-032a-4eb6-9240-b93cd17c41c5"
      },
      "source": [
        "df.dtypes"
      ],
      "execution_count": 32,
      "outputs": [
        {
          "output_type": "execute_result",
          "data": {
            "text/plain": [
              "floats    float64\n",
              "nomi       object\n",
              "numeri    float64\n",
              "dtype: object"
            ]
          },
          "metadata": {
            "tags": []
          },
          "execution_count": 32
        }
      ]
    },
    {
      "cell_type": "code",
      "metadata": {
        "colab": {
          "base_uri": "https://localhost:8080/"
        },
        "id": "_FuYdwnub-pV",
        "outputId": "9091f5c1-e52a-47bd-975e-67cf88dcc480"
      },
      "source": [
        "#Calcolo della media\n",
        "\n",
        "df[['numeri', 'floats']].mean()  #il \"numero\" Nan non viene calcolato"
      ],
      "execution_count": 33,
      "outputs": [
        {
          "output_type": "execute_result",
          "data": {
            "text/plain": [
              "numeri    40.00\n",
              "floats     3.55\n",
              "dtype: float64"
            ]
          },
          "metadata": {
            "tags": []
          },
          "execution_count": 33
        }
      ]
    },
    {
      "cell_type": "code",
      "metadata": {
        "colab": {
          "base_uri": "https://localhost:8080/"
        },
        "id": "GRc0g4BgcHdb",
        "outputId": "d831e14c-fbde-429d-f0b0-c7b59fa88ddc"
      },
      "source": [
        "df[['numeri', 'floats']].std() "
      ],
      "execution_count": 34,
      "outputs": [
        {
          "output_type": "execute_result",
          "data": {
            "text/plain": [
              "numeri    35.355339\n",
              "floats     1.662077\n",
              "dtype: float64"
            ]
          },
          "metadata": {
            "tags": []
          },
          "execution_count": 34
        }
      ]
    },
    {
      "cell_type": "code",
      "metadata": {
        "id": "1IjNxyyScSF9"
      },
      "source": [
        "import numpy as np"
      ],
      "execution_count": 35,
      "outputs": []
    },
    {
      "cell_type": "code",
      "metadata": {
        "id": "NQwbHEVgcZWo"
      },
      "source": [
        "np.random.seed(100)"
      ],
      "execution_count": 36,
      "outputs": []
    },
    {
      "cell_type": "code",
      "metadata": {
        "id": "E_ATFvvqccBB"
      },
      "source": [
        "a = np.random.standard_normal((9,4)) #matrice 9 x 4 con valori normali"
      ],
      "execution_count": 37,
      "outputs": []
    },
    {
      "cell_type": "code",
      "metadata": {
        "colab": {
          "base_uri": "https://localhost:8080/"
        },
        "id": "kVX1M8AhcjpS",
        "outputId": "7a4c56c6-463c-48bf-b0ae-8e88db5ef3c7"
      },
      "source": [
        "a"
      ],
      "execution_count": 38,
      "outputs": [
        {
          "output_type": "execute_result",
          "data": {
            "text/plain": [
              "array([[-1.74976547,  0.3426804 ,  1.1530358 , -0.25243604],\n",
              "       [ 0.98132079,  0.51421884,  0.22117967, -1.07004333],\n",
              "       [-0.18949583,  0.25500144, -0.45802699,  0.43516349],\n",
              "       [-0.58359505,  0.81684707,  0.67272081, -0.10441114],\n",
              "       [-0.53128038,  1.02973269, -0.43813562, -1.11831825],\n",
              "       [ 1.61898166,  1.54160517, -0.25187914, -0.84243574],\n",
              "       [ 0.18451869,  0.9370822 ,  0.73100034,  1.36155613],\n",
              "       [-0.32623806,  0.05567601,  0.22239961, -1.443217  ],\n",
              "       [-0.75635231,  0.81645401,  0.75044476, -0.45594693]])"
            ]
          },
          "metadata": {
            "tags": []
          },
          "execution_count": 38
        }
      ]
    },
    {
      "cell_type": "code",
      "metadata": {
        "id": "Q8W3Z0jLcssD"
      },
      "source": [
        "df = pd.DataFrame(a)"
      ],
      "execution_count": 41,
      "outputs": []
    },
    {
      "cell_type": "code",
      "metadata": {
        "colab": {
          "base_uri": "https://localhost:8080/",
          "height": 328
        },
        "id": "yccBEeeGc073",
        "outputId": "1d3d5273-d128-40fd-da08-e7378a6814db"
      },
      "source": [
        "df"
      ],
      "execution_count": 42,
      "outputs": [
        {
          "output_type": "execute_result",
          "data": {
            "text/html": [
              "<div>\n",
              "<style scoped>\n",
              "    .dataframe tbody tr th:only-of-type {\n",
              "        vertical-align: middle;\n",
              "    }\n",
              "\n",
              "    .dataframe tbody tr th {\n",
              "        vertical-align: top;\n",
              "    }\n",
              "\n",
              "    .dataframe thead th {\n",
              "        text-align: right;\n",
              "    }\n",
              "</style>\n",
              "<table border=\"1\" class=\"dataframe\">\n",
              "  <thead>\n",
              "    <tr style=\"text-align: right;\">\n",
              "      <th></th>\n",
              "      <th>0</th>\n",
              "      <th>1</th>\n",
              "      <th>2</th>\n",
              "      <th>3</th>\n",
              "    </tr>\n",
              "  </thead>\n",
              "  <tbody>\n",
              "    <tr>\n",
              "      <th>0</th>\n",
              "      <td>-1.749765</td>\n",
              "      <td>0.342680</td>\n",
              "      <td>1.153036</td>\n",
              "      <td>-0.252436</td>\n",
              "    </tr>\n",
              "    <tr>\n",
              "      <th>1</th>\n",
              "      <td>0.981321</td>\n",
              "      <td>0.514219</td>\n",
              "      <td>0.221180</td>\n",
              "      <td>-1.070043</td>\n",
              "    </tr>\n",
              "    <tr>\n",
              "      <th>2</th>\n",
              "      <td>-0.189496</td>\n",
              "      <td>0.255001</td>\n",
              "      <td>-0.458027</td>\n",
              "      <td>0.435163</td>\n",
              "    </tr>\n",
              "    <tr>\n",
              "      <th>3</th>\n",
              "      <td>-0.583595</td>\n",
              "      <td>0.816847</td>\n",
              "      <td>0.672721</td>\n",
              "      <td>-0.104411</td>\n",
              "    </tr>\n",
              "    <tr>\n",
              "      <th>4</th>\n",
              "      <td>-0.531280</td>\n",
              "      <td>1.029733</td>\n",
              "      <td>-0.438136</td>\n",
              "      <td>-1.118318</td>\n",
              "    </tr>\n",
              "    <tr>\n",
              "      <th>5</th>\n",
              "      <td>1.618982</td>\n",
              "      <td>1.541605</td>\n",
              "      <td>-0.251879</td>\n",
              "      <td>-0.842436</td>\n",
              "    </tr>\n",
              "    <tr>\n",
              "      <th>6</th>\n",
              "      <td>0.184519</td>\n",
              "      <td>0.937082</td>\n",
              "      <td>0.731000</td>\n",
              "      <td>1.361556</td>\n",
              "    </tr>\n",
              "    <tr>\n",
              "      <th>7</th>\n",
              "      <td>-0.326238</td>\n",
              "      <td>0.055676</td>\n",
              "      <td>0.222400</td>\n",
              "      <td>-1.443217</td>\n",
              "    </tr>\n",
              "    <tr>\n",
              "      <th>8</th>\n",
              "      <td>-0.756352</td>\n",
              "      <td>0.816454</td>\n",
              "      <td>0.750445</td>\n",
              "      <td>-0.455947</td>\n",
              "    </tr>\n",
              "  </tbody>\n",
              "</table>\n",
              "</div>"
            ],
            "text/plain": [
              "          0         1         2         3\n",
              "0 -1.749765  0.342680  1.153036 -0.252436\n",
              "1  0.981321  0.514219  0.221180 -1.070043\n",
              "2 -0.189496  0.255001 -0.458027  0.435163\n",
              "3 -0.583595  0.816847  0.672721 -0.104411\n",
              "4 -0.531280  1.029733 -0.438136 -1.118318\n",
              "5  1.618982  1.541605 -0.251879 -0.842436\n",
              "6  0.184519  0.937082  0.731000  1.361556\n",
              "7 -0.326238  0.055676  0.222400 -1.443217\n",
              "8 -0.756352  0.816454  0.750445 -0.455947"
            ]
          },
          "metadata": {
            "tags": []
          },
          "execution_count": 42
        }
      ]
    },
    {
      "cell_type": "code",
      "metadata": {
        "id": "wE0tqq5Uc1sA"
      },
      "source": [
        "#Specificare i nomi delle colonne\n",
        "\n",
        "df.columns = ['No1', 'No2', 'No3', 'No4']"
      ],
      "execution_count": 43,
      "outputs": []
    },
    {
      "cell_type": "code",
      "metadata": {
        "colab": {
          "base_uri": "https://localhost:8080/",
          "height": 328
        },
        "id": "cCgDVdDHdEdy",
        "outputId": "31ea9c58-67c9-4dd1-8099-8f09bb05ff0d"
      },
      "source": [
        "df"
      ],
      "execution_count": 44,
      "outputs": [
        {
          "output_type": "execute_result",
          "data": {
            "text/html": [
              "<div>\n",
              "<style scoped>\n",
              "    .dataframe tbody tr th:only-of-type {\n",
              "        vertical-align: middle;\n",
              "    }\n",
              "\n",
              "    .dataframe tbody tr th {\n",
              "        vertical-align: top;\n",
              "    }\n",
              "\n",
              "    .dataframe thead th {\n",
              "        text-align: right;\n",
              "    }\n",
              "</style>\n",
              "<table border=\"1\" class=\"dataframe\">\n",
              "  <thead>\n",
              "    <tr style=\"text-align: right;\">\n",
              "      <th></th>\n",
              "      <th>No1</th>\n",
              "      <th>No2</th>\n",
              "      <th>No3</th>\n",
              "      <th>No4</th>\n",
              "    </tr>\n",
              "  </thead>\n",
              "  <tbody>\n",
              "    <tr>\n",
              "      <th>0</th>\n",
              "      <td>-1.749765</td>\n",
              "      <td>0.342680</td>\n",
              "      <td>1.153036</td>\n",
              "      <td>-0.252436</td>\n",
              "    </tr>\n",
              "    <tr>\n",
              "      <th>1</th>\n",
              "      <td>0.981321</td>\n",
              "      <td>0.514219</td>\n",
              "      <td>0.221180</td>\n",
              "      <td>-1.070043</td>\n",
              "    </tr>\n",
              "    <tr>\n",
              "      <th>2</th>\n",
              "      <td>-0.189496</td>\n",
              "      <td>0.255001</td>\n",
              "      <td>-0.458027</td>\n",
              "      <td>0.435163</td>\n",
              "    </tr>\n",
              "    <tr>\n",
              "      <th>3</th>\n",
              "      <td>-0.583595</td>\n",
              "      <td>0.816847</td>\n",
              "      <td>0.672721</td>\n",
              "      <td>-0.104411</td>\n",
              "    </tr>\n",
              "    <tr>\n",
              "      <th>4</th>\n",
              "      <td>-0.531280</td>\n",
              "      <td>1.029733</td>\n",
              "      <td>-0.438136</td>\n",
              "      <td>-1.118318</td>\n",
              "    </tr>\n",
              "    <tr>\n",
              "      <th>5</th>\n",
              "      <td>1.618982</td>\n",
              "      <td>1.541605</td>\n",
              "      <td>-0.251879</td>\n",
              "      <td>-0.842436</td>\n",
              "    </tr>\n",
              "    <tr>\n",
              "      <th>6</th>\n",
              "      <td>0.184519</td>\n",
              "      <td>0.937082</td>\n",
              "      <td>0.731000</td>\n",
              "      <td>1.361556</td>\n",
              "    </tr>\n",
              "    <tr>\n",
              "      <th>7</th>\n",
              "      <td>-0.326238</td>\n",
              "      <td>0.055676</td>\n",
              "      <td>0.222400</td>\n",
              "      <td>-1.443217</td>\n",
              "    </tr>\n",
              "    <tr>\n",
              "      <th>8</th>\n",
              "      <td>-0.756352</td>\n",
              "      <td>0.816454</td>\n",
              "      <td>0.750445</td>\n",
              "      <td>-0.455947</td>\n",
              "    </tr>\n",
              "  </tbody>\n",
              "</table>\n",
              "</div>"
            ],
            "text/plain": [
              "        No1       No2       No3       No4\n",
              "0 -1.749765  0.342680  1.153036 -0.252436\n",
              "1  0.981321  0.514219  0.221180 -1.070043\n",
              "2 -0.189496  0.255001 -0.458027  0.435163\n",
              "3 -0.583595  0.816847  0.672721 -0.104411\n",
              "4 -0.531280  1.029733 -0.438136 -1.118318\n",
              "5  1.618982  1.541605 -0.251879 -0.842436\n",
              "6  0.184519  0.937082  0.731000  1.361556\n",
              "7 -0.326238  0.055676  0.222400 -1.443217\n",
              "8 -0.756352  0.816454  0.750445 -0.455947"
            ]
          },
          "metadata": {
            "tags": []
          },
          "execution_count": 44
        }
      ]
    },
    {
      "cell_type": "code",
      "metadata": {
        "colab": {
          "base_uri": "https://localhost:8080/"
        },
        "id": "wt1oh7UUdFQS",
        "outputId": "c9084f2c-973f-464a-8825-a0d0767596ba"
      },
      "source": [
        "df['No2'].mean()"
      ],
      "execution_count": 46,
      "outputs": [
        {
          "output_type": "execute_result",
          "data": {
            "text/plain": [
              "0.701033094145646"
            ]
          },
          "metadata": {
            "tags": []
          },
          "execution_count": 46
        }
      ]
    },
    {
      "cell_type": "code",
      "metadata": {
        "id": "7e9UJCJ-dJgk"
      },
      "source": [
        "dates = pd.date_range('2019-1-1', periods=9, freq='M')"
      ],
      "execution_count": 48,
      "outputs": []
    },
    {
      "cell_type": "code",
      "metadata": {
        "colab": {
          "base_uri": "https://localhost:8080/"
        },
        "id": "ApEWgwgndZ5Q",
        "outputId": "7925bf5c-cec8-488a-d441-adf4b34637b0"
      },
      "source": [
        "dates"
      ],
      "execution_count": 49,
      "outputs": [
        {
          "output_type": "execute_result",
          "data": {
            "text/plain": [
              "DatetimeIndex(['2019-01-31', '2019-02-28', '2019-03-31', '2019-04-30',\n",
              "               '2019-05-31', '2019-06-30', '2019-07-31', '2019-08-31',\n",
              "               '2019-09-30'],\n",
              "              dtype='datetime64[ns]', freq='M')"
            ]
          },
          "metadata": {
            "tags": []
          },
          "execution_count": 49
        }
      ]
    },
    {
      "cell_type": "code",
      "metadata": {
        "id": "vMfEyAZKddS3"
      },
      "source": [
        "df.index = dates"
      ],
      "execution_count": 50,
      "outputs": []
    },
    {
      "cell_type": "code",
      "metadata": {
        "colab": {
          "base_uri": "https://localhost:8080/",
          "height": 328
        },
        "id": "0p_1gEEidtza",
        "outputId": "b7fe4988-0715-4a82-c762-7dc1dfaa2c47"
      },
      "source": [
        "df"
      ],
      "execution_count": 52,
      "outputs": [
        {
          "output_type": "execute_result",
          "data": {
            "text/html": [
              "<div>\n",
              "<style scoped>\n",
              "    .dataframe tbody tr th:only-of-type {\n",
              "        vertical-align: middle;\n",
              "    }\n",
              "\n",
              "    .dataframe tbody tr th {\n",
              "        vertical-align: top;\n",
              "    }\n",
              "\n",
              "    .dataframe thead th {\n",
              "        text-align: right;\n",
              "    }\n",
              "</style>\n",
              "<table border=\"1\" class=\"dataframe\">\n",
              "  <thead>\n",
              "    <tr style=\"text-align: right;\">\n",
              "      <th></th>\n",
              "      <th>No1</th>\n",
              "      <th>No2</th>\n",
              "      <th>No3</th>\n",
              "      <th>No4</th>\n",
              "    </tr>\n",
              "  </thead>\n",
              "  <tbody>\n",
              "    <tr>\n",
              "      <th>2019-01-31</th>\n",
              "      <td>-1.749765</td>\n",
              "      <td>0.342680</td>\n",
              "      <td>1.153036</td>\n",
              "      <td>-0.252436</td>\n",
              "    </tr>\n",
              "    <tr>\n",
              "      <th>2019-02-28</th>\n",
              "      <td>0.981321</td>\n",
              "      <td>0.514219</td>\n",
              "      <td>0.221180</td>\n",
              "      <td>-1.070043</td>\n",
              "    </tr>\n",
              "    <tr>\n",
              "      <th>2019-03-31</th>\n",
              "      <td>-0.189496</td>\n",
              "      <td>0.255001</td>\n",
              "      <td>-0.458027</td>\n",
              "      <td>0.435163</td>\n",
              "    </tr>\n",
              "    <tr>\n",
              "      <th>2019-04-30</th>\n",
              "      <td>-0.583595</td>\n",
              "      <td>0.816847</td>\n",
              "      <td>0.672721</td>\n",
              "      <td>-0.104411</td>\n",
              "    </tr>\n",
              "    <tr>\n",
              "      <th>2019-05-31</th>\n",
              "      <td>-0.531280</td>\n",
              "      <td>1.029733</td>\n",
              "      <td>-0.438136</td>\n",
              "      <td>-1.118318</td>\n",
              "    </tr>\n",
              "    <tr>\n",
              "      <th>2019-06-30</th>\n",
              "      <td>1.618982</td>\n",
              "      <td>1.541605</td>\n",
              "      <td>-0.251879</td>\n",
              "      <td>-0.842436</td>\n",
              "    </tr>\n",
              "    <tr>\n",
              "      <th>2019-07-31</th>\n",
              "      <td>0.184519</td>\n",
              "      <td>0.937082</td>\n",
              "      <td>0.731000</td>\n",
              "      <td>1.361556</td>\n",
              "    </tr>\n",
              "    <tr>\n",
              "      <th>2019-08-31</th>\n",
              "      <td>-0.326238</td>\n",
              "      <td>0.055676</td>\n",
              "      <td>0.222400</td>\n",
              "      <td>-1.443217</td>\n",
              "    </tr>\n",
              "    <tr>\n",
              "      <th>2019-09-30</th>\n",
              "      <td>-0.756352</td>\n",
              "      <td>0.816454</td>\n",
              "      <td>0.750445</td>\n",
              "      <td>-0.455947</td>\n",
              "    </tr>\n",
              "  </tbody>\n",
              "</table>\n",
              "</div>"
            ],
            "text/plain": [
              "                 No1       No2       No3       No4\n",
              "2019-01-31 -1.749765  0.342680  1.153036 -0.252436\n",
              "2019-02-28  0.981321  0.514219  0.221180 -1.070043\n",
              "2019-03-31 -0.189496  0.255001 -0.458027  0.435163\n",
              "2019-04-30 -0.583595  0.816847  0.672721 -0.104411\n",
              "2019-05-31 -0.531280  1.029733 -0.438136 -1.118318\n",
              "2019-06-30  1.618982  1.541605 -0.251879 -0.842436\n",
              "2019-07-31  0.184519  0.937082  0.731000  1.361556\n",
              "2019-08-31 -0.326238  0.055676  0.222400 -1.443217\n",
              "2019-09-30 -0.756352  0.816454  0.750445 -0.455947"
            ]
          },
          "metadata": {
            "tags": []
          },
          "execution_count": 52
        }
      ]
    },
    {
      "cell_type": "code",
      "metadata": {
        "colab": {
          "base_uri": "https://localhost:8080/"
        },
        "id": "_Gd5pZkjduWI",
        "outputId": "3973fd5f-e858-4f48-aecf-64c3f4461b97"
      },
      "source": [
        "#Se volessi tornare all'inizio?\n",
        "\n",
        "df.values"
      ],
      "execution_count": 53,
      "outputs": [
        {
          "output_type": "execute_result",
          "data": {
            "text/plain": [
              "array([[-1.74976547,  0.3426804 ,  1.1530358 , -0.25243604],\n",
              "       [ 0.98132079,  0.51421884,  0.22117967, -1.07004333],\n",
              "       [-0.18949583,  0.25500144, -0.45802699,  0.43516349],\n",
              "       [-0.58359505,  0.81684707,  0.67272081, -0.10441114],\n",
              "       [-0.53128038,  1.02973269, -0.43813562, -1.11831825],\n",
              "       [ 1.61898166,  1.54160517, -0.25187914, -0.84243574],\n",
              "       [ 0.18451869,  0.9370822 ,  0.73100034,  1.36155613],\n",
              "       [-0.32623806,  0.05567601,  0.22239961, -1.443217  ],\n",
              "       [-0.75635231,  0.81645401,  0.75044476, -0.45594693]])"
            ]
          },
          "metadata": {
            "tags": []
          },
          "execution_count": 53
        }
      ]
    },
    {
      "cell_type": "code",
      "metadata": {
        "colab": {
          "base_uri": "https://localhost:8080/"
        },
        "id": "VeCN8FUId5i8",
        "outputId": "ab975d81-b465-4e8d-b2e5-286d9df75460"
      },
      "source": [
        "np.array(df)"
      ],
      "execution_count": 54,
      "outputs": [
        {
          "output_type": "execute_result",
          "data": {
            "text/plain": [
              "array([[-1.74976547,  0.3426804 ,  1.1530358 , -0.25243604],\n",
              "       [ 0.98132079,  0.51421884,  0.22117967, -1.07004333],\n",
              "       [-0.18949583,  0.25500144, -0.45802699,  0.43516349],\n",
              "       [-0.58359505,  0.81684707,  0.67272081, -0.10441114],\n",
              "       [-0.53128038,  1.02973269, -0.43813562, -1.11831825],\n",
              "       [ 1.61898166,  1.54160517, -0.25187914, -0.84243574],\n",
              "       [ 0.18451869,  0.9370822 ,  0.73100034,  1.36155613],\n",
              "       [-0.32623806,  0.05567601,  0.22239961, -1.443217  ],\n",
              "       [-0.75635231,  0.81645401,  0.75044476, -0.45594693]])"
            ]
          },
          "metadata": {
            "tags": []
          },
          "execution_count": 54
        }
      ]
    },
    {
      "cell_type": "code",
      "metadata": {
        "colab": {
          "base_uri": "https://localhost:8080/"
        },
        "id": "kauu6A1-d8JV",
        "outputId": "c4ba972f-8f16-4064-a5dd-076258e716e9"
      },
      "source": [
        "df.info()"
      ],
      "execution_count": 55,
      "outputs": [
        {
          "output_type": "stream",
          "text": [
            "<class 'pandas.core.frame.DataFrame'>\n",
            "DatetimeIndex: 9 entries, 2019-01-31 to 2019-09-30\n",
            "Freq: M\n",
            "Data columns (total 4 columns):\n",
            " #   Column  Non-Null Count  Dtype  \n",
            "---  ------  --------------  -----  \n",
            " 0   No1     9 non-null      float64\n",
            " 1   No2     9 non-null      float64\n",
            " 2   No3     9 non-null      float64\n",
            " 3   No4     9 non-null      float64\n",
            "dtypes: float64(4)\n",
            "memory usage: 360.0 bytes\n"
          ],
          "name": "stdout"
        }
      ]
    },
    {
      "cell_type": "code",
      "metadata": {
        "colab": {
          "base_uri": "https://localhost:8080/",
          "height": 297
        },
        "id": "uR5By04PeA6Q",
        "outputId": "759b8d88-93fb-4411-cf85-98930fdd5499"
      },
      "source": [
        "df.describe()"
      ],
      "execution_count": 56,
      "outputs": [
        {
          "output_type": "execute_result",
          "data": {
            "text/html": [
              "<div>\n",
              "<style scoped>\n",
              "    .dataframe tbody tr th:only-of-type {\n",
              "        vertical-align: middle;\n",
              "    }\n",
              "\n",
              "    .dataframe tbody tr th {\n",
              "        vertical-align: top;\n",
              "    }\n",
              "\n",
              "    .dataframe thead th {\n",
              "        text-align: right;\n",
              "    }\n",
              "</style>\n",
              "<table border=\"1\" class=\"dataframe\">\n",
              "  <thead>\n",
              "    <tr style=\"text-align: right;\">\n",
              "      <th></th>\n",
              "      <th>No1</th>\n",
              "      <th>No2</th>\n",
              "      <th>No3</th>\n",
              "      <th>No4</th>\n",
              "    </tr>\n",
              "  </thead>\n",
              "  <tbody>\n",
              "    <tr>\n",
              "      <th>count</th>\n",
              "      <td>9.000000</td>\n",
              "      <td>9.000000</td>\n",
              "      <td>9.000000</td>\n",
              "      <td>9.000000</td>\n",
              "    </tr>\n",
              "    <tr>\n",
              "      <th>mean</th>\n",
              "      <td>-0.150212</td>\n",
              "      <td>0.701033</td>\n",
              "      <td>0.289193</td>\n",
              "      <td>-0.387788</td>\n",
              "    </tr>\n",
              "    <tr>\n",
              "      <th>std</th>\n",
              "      <td>0.988306</td>\n",
              "      <td>0.457685</td>\n",
              "      <td>0.579920</td>\n",
              "      <td>0.877532</td>\n",
              "    </tr>\n",
              "    <tr>\n",
              "      <th>min</th>\n",
              "      <td>-1.749765</td>\n",
              "      <td>0.055676</td>\n",
              "      <td>-0.458027</td>\n",
              "      <td>-1.443217</td>\n",
              "    </tr>\n",
              "    <tr>\n",
              "      <th>25%</th>\n",
              "      <td>-0.583595</td>\n",
              "      <td>0.342680</td>\n",
              "      <td>-0.251879</td>\n",
              "      <td>-1.070043</td>\n",
              "    </tr>\n",
              "    <tr>\n",
              "      <th>50%</th>\n",
              "      <td>-0.326238</td>\n",
              "      <td>0.816454</td>\n",
              "      <td>0.222400</td>\n",
              "      <td>-0.455947</td>\n",
              "    </tr>\n",
              "    <tr>\n",
              "      <th>75%</th>\n",
              "      <td>0.184519</td>\n",
              "      <td>0.937082</td>\n",
              "      <td>0.731000</td>\n",
              "      <td>-0.104411</td>\n",
              "    </tr>\n",
              "    <tr>\n",
              "      <th>max</th>\n",
              "      <td>1.618982</td>\n",
              "      <td>1.541605</td>\n",
              "      <td>1.153036</td>\n",
              "      <td>1.361556</td>\n",
              "    </tr>\n",
              "  </tbody>\n",
              "</table>\n",
              "</div>"
            ],
            "text/plain": [
              "            No1       No2       No3       No4\n",
              "count  9.000000  9.000000  9.000000  9.000000\n",
              "mean  -0.150212  0.701033  0.289193 -0.387788\n",
              "std    0.988306  0.457685  0.579920  0.877532\n",
              "min   -1.749765  0.055676 -0.458027 -1.443217\n",
              "25%   -0.583595  0.342680 -0.251879 -1.070043\n",
              "50%   -0.326238  0.816454  0.222400 -0.455947\n",
              "75%    0.184519  0.937082  0.731000 -0.104411\n",
              "max    1.618982  1.541605  1.153036  1.361556"
            ]
          },
          "metadata": {
            "tags": []
          },
          "execution_count": 56
        }
      ]
    },
    {
      "cell_type": "code",
      "metadata": {
        "colab": {
          "base_uri": "https://localhost:8080/"
        },
        "id": "Bxfy46d_eDNB",
        "outputId": "c78519d1-fe84-4e46-ab47-f8f3ba3dd3af"
      },
      "source": [
        "df.sum()"
      ],
      "execution_count": 57,
      "outputs": [
        {
          "output_type": "execute_result",
          "data": {
            "text/plain": [
              "No1   -1.351906\n",
              "No2    6.309298\n",
              "No3    2.602739\n",
              "No4   -3.490089\n",
              "dtype: float64"
            ]
          },
          "metadata": {
            "tags": []
          },
          "execution_count": 57
        }
      ]
    },
    {
      "cell_type": "code",
      "metadata": {
        "colab": {
          "base_uri": "https://localhost:8080/"
        },
        "id": "w8YUN56ceHTQ",
        "outputId": "09fb6490-a4b3-4255-9952-f04e89a14ef8"
      },
      "source": [
        "df.mean()"
      ],
      "execution_count": 58,
      "outputs": [
        {
          "output_type": "execute_result",
          "data": {
            "text/plain": [
              "No1   -0.150212\n",
              "No2    0.701033\n",
              "No3    0.289193\n",
              "No4   -0.387788\n",
              "dtype: float64"
            ]
          },
          "metadata": {
            "tags": []
          },
          "execution_count": 58
        }
      ]
    },
    {
      "cell_type": "code",
      "metadata": {
        "colab": {
          "base_uri": "https://localhost:8080/"
        },
        "id": "ALW5_Ao8eI-G",
        "outputId": "0463f02b-cb23-4c9d-be38-7d515c070e58"
      },
      "source": [
        "df.mean(axis=0) #per le colonne"
      ],
      "execution_count": 59,
      "outputs": [
        {
          "output_type": "execute_result",
          "data": {
            "text/plain": [
              "No1   -0.150212\n",
              "No2    0.701033\n",
              "No3    0.289193\n",
              "No4   -0.387788\n",
              "dtype: float64"
            ]
          },
          "metadata": {
            "tags": []
          },
          "execution_count": 59
        }
      ]
    },
    {
      "cell_type": "code",
      "metadata": {
        "colab": {
          "base_uri": "https://localhost:8080/"
        },
        "id": "P9N82zafeMUN",
        "outputId": "97924cd9-197c-40b7-e976-788a4a2fdab6"
      },
      "source": [
        "df.mean(axis=1) #per le righe"
      ],
      "execution_count": 60,
      "outputs": [
        {
          "output_type": "execute_result",
          "data": {
            "text/plain": [
              "2019-01-31   -0.126621\n",
              "2019-02-28    0.161669\n",
              "2019-03-31    0.010661\n",
              "2019-04-30    0.200390\n",
              "2019-05-31   -0.264500\n",
              "2019-06-30    0.516568\n",
              "2019-07-31    0.803539\n",
              "2019-08-31   -0.372845\n",
              "2019-09-30    0.088650\n",
              "Freq: M, dtype: float64"
            ]
          },
          "metadata": {
            "tags": []
          },
          "execution_count": 60
        }
      ]
    },
    {
      "cell_type": "code",
      "metadata": {
        "colab": {
          "base_uri": "https://localhost:8080/",
          "height": 328
        },
        "id": "TywKFybWePda",
        "outputId": "fbe31d5d-13f7-42dd-b2d5-6e9bb53adfcd"
      },
      "source": [
        "df.cumsum()"
      ],
      "execution_count": 61,
      "outputs": [
        {
          "output_type": "execute_result",
          "data": {
            "text/html": [
              "<div>\n",
              "<style scoped>\n",
              "    .dataframe tbody tr th:only-of-type {\n",
              "        vertical-align: middle;\n",
              "    }\n",
              "\n",
              "    .dataframe tbody tr th {\n",
              "        vertical-align: top;\n",
              "    }\n",
              "\n",
              "    .dataframe thead th {\n",
              "        text-align: right;\n",
              "    }\n",
              "</style>\n",
              "<table border=\"1\" class=\"dataframe\">\n",
              "  <thead>\n",
              "    <tr style=\"text-align: right;\">\n",
              "      <th></th>\n",
              "      <th>No1</th>\n",
              "      <th>No2</th>\n",
              "      <th>No3</th>\n",
              "      <th>No4</th>\n",
              "    </tr>\n",
              "  </thead>\n",
              "  <tbody>\n",
              "    <tr>\n",
              "      <th>2019-01-31</th>\n",
              "      <td>-1.749765</td>\n",
              "      <td>0.342680</td>\n",
              "      <td>1.153036</td>\n",
              "      <td>-0.252436</td>\n",
              "    </tr>\n",
              "    <tr>\n",
              "      <th>2019-02-28</th>\n",
              "      <td>-0.768445</td>\n",
              "      <td>0.856899</td>\n",
              "      <td>1.374215</td>\n",
              "      <td>-1.322479</td>\n",
              "    </tr>\n",
              "    <tr>\n",
              "      <th>2019-03-31</th>\n",
              "      <td>-0.957941</td>\n",
              "      <td>1.111901</td>\n",
              "      <td>0.916188</td>\n",
              "      <td>-0.887316</td>\n",
              "    </tr>\n",
              "    <tr>\n",
              "      <th>2019-04-30</th>\n",
              "      <td>-1.541536</td>\n",
              "      <td>1.928748</td>\n",
              "      <td>1.588909</td>\n",
              "      <td>-0.991727</td>\n",
              "    </tr>\n",
              "    <tr>\n",
              "      <th>2019-05-31</th>\n",
              "      <td>-2.072816</td>\n",
              "      <td>2.958480</td>\n",
              "      <td>1.150774</td>\n",
              "      <td>-2.110045</td>\n",
              "    </tr>\n",
              "    <tr>\n",
              "      <th>2019-06-30</th>\n",
              "      <td>-0.453834</td>\n",
              "      <td>4.500086</td>\n",
              "      <td>0.898895</td>\n",
              "      <td>-2.952481</td>\n",
              "    </tr>\n",
              "    <tr>\n",
              "      <th>2019-07-31</th>\n",
              "      <td>-0.269316</td>\n",
              "      <td>5.437168</td>\n",
              "      <td>1.629895</td>\n",
              "      <td>-1.590925</td>\n",
              "    </tr>\n",
              "    <tr>\n",
              "      <th>2019-08-31</th>\n",
              "      <td>-0.595554</td>\n",
              "      <td>5.492844</td>\n",
              "      <td>1.852294</td>\n",
              "      <td>-3.034142</td>\n",
              "    </tr>\n",
              "    <tr>\n",
              "      <th>2019-09-30</th>\n",
              "      <td>-1.351906</td>\n",
              "      <td>6.309298</td>\n",
              "      <td>2.602739</td>\n",
              "      <td>-3.490089</td>\n",
              "    </tr>\n",
              "  </tbody>\n",
              "</table>\n",
              "</div>"
            ],
            "text/plain": [
              "                 No1       No2       No3       No4\n",
              "2019-01-31 -1.749765  0.342680  1.153036 -0.252436\n",
              "2019-02-28 -0.768445  0.856899  1.374215 -1.322479\n",
              "2019-03-31 -0.957941  1.111901  0.916188 -0.887316\n",
              "2019-04-30 -1.541536  1.928748  1.588909 -0.991727\n",
              "2019-05-31 -2.072816  2.958480  1.150774 -2.110045\n",
              "2019-06-30 -0.453834  4.500086  0.898895 -2.952481\n",
              "2019-07-31 -0.269316  5.437168  1.629895 -1.590925\n",
              "2019-08-31 -0.595554  5.492844  1.852294 -3.034142\n",
              "2019-09-30 -1.351906  6.309298  2.602739 -3.490089"
            ]
          },
          "metadata": {
            "tags": []
          },
          "execution_count": 61
        }
      ]
    },
    {
      "cell_type": "code",
      "metadata": {
        "colab": {
          "base_uri": "https://localhost:8080/",
          "height": 382
        },
        "id": "TUmXRfQ6eWSC",
        "outputId": "2768afcb-9b4f-4245-dc0c-3b2b45ff5bab"
      },
      "source": [
        "np.log(df)"
      ],
      "execution_count": 62,
      "outputs": [
        {
          "output_type": "stream",
          "text": [
            "/usr/local/lib/python3.7/dist-packages/ipykernel_launcher.py:1: RuntimeWarning: invalid value encountered in log\n",
            "  \"\"\"Entry point for launching an IPython kernel.\n"
          ],
          "name": "stderr"
        },
        {
          "output_type": "execute_result",
          "data": {
            "text/html": [
              "<div>\n",
              "<style scoped>\n",
              "    .dataframe tbody tr th:only-of-type {\n",
              "        vertical-align: middle;\n",
              "    }\n",
              "\n",
              "    .dataframe tbody tr th {\n",
              "        vertical-align: top;\n",
              "    }\n",
              "\n",
              "    .dataframe thead th {\n",
              "        text-align: right;\n",
              "    }\n",
              "</style>\n",
              "<table border=\"1\" class=\"dataframe\">\n",
              "  <thead>\n",
              "    <tr style=\"text-align: right;\">\n",
              "      <th></th>\n",
              "      <th>No1</th>\n",
              "      <th>No2</th>\n",
              "      <th>No3</th>\n",
              "      <th>No4</th>\n",
              "    </tr>\n",
              "  </thead>\n",
              "  <tbody>\n",
              "    <tr>\n",
              "      <th>2019-01-31</th>\n",
              "      <td>NaN</td>\n",
              "      <td>-1.070957</td>\n",
              "      <td>0.142398</td>\n",
              "      <td>NaN</td>\n",
              "    </tr>\n",
              "    <tr>\n",
              "      <th>2019-02-28</th>\n",
              "      <td>-0.018856</td>\n",
              "      <td>-0.665106</td>\n",
              "      <td>-1.508780</td>\n",
              "      <td>NaN</td>\n",
              "    </tr>\n",
              "    <tr>\n",
              "      <th>2019-03-31</th>\n",
              "      <td>NaN</td>\n",
              "      <td>-1.366486</td>\n",
              "      <td>NaN</td>\n",
              "      <td>-0.832033</td>\n",
              "    </tr>\n",
              "    <tr>\n",
              "      <th>2019-04-30</th>\n",
              "      <td>NaN</td>\n",
              "      <td>-0.202303</td>\n",
              "      <td>-0.396425</td>\n",
              "      <td>NaN</td>\n",
              "    </tr>\n",
              "    <tr>\n",
              "      <th>2019-05-31</th>\n",
              "      <td>NaN</td>\n",
              "      <td>0.029299</td>\n",
              "      <td>NaN</td>\n",
              "      <td>NaN</td>\n",
              "    </tr>\n",
              "    <tr>\n",
              "      <th>2019-06-30</th>\n",
              "      <td>0.481797</td>\n",
              "      <td>0.432824</td>\n",
              "      <td>NaN</td>\n",
              "      <td>NaN</td>\n",
              "    </tr>\n",
              "    <tr>\n",
              "      <th>2019-07-31</th>\n",
              "      <td>-1.690005</td>\n",
              "      <td>-0.064984</td>\n",
              "      <td>-0.313341</td>\n",
              "      <td>0.308628</td>\n",
              "    </tr>\n",
              "    <tr>\n",
              "      <th>2019-08-31</th>\n",
              "      <td>NaN</td>\n",
              "      <td>-2.888206</td>\n",
              "      <td>-1.503279</td>\n",
              "      <td>NaN</td>\n",
              "    </tr>\n",
              "    <tr>\n",
              "      <th>2019-09-30</th>\n",
              "      <td>NaN</td>\n",
              "      <td>-0.202785</td>\n",
              "      <td>-0.287089</td>\n",
              "      <td>NaN</td>\n",
              "    </tr>\n",
              "  </tbody>\n",
              "</table>\n",
              "</div>"
            ],
            "text/plain": [
              "                 No1       No2       No3       No4\n",
              "2019-01-31       NaN -1.070957  0.142398       NaN\n",
              "2019-02-28 -0.018856 -0.665106 -1.508780       NaN\n",
              "2019-03-31       NaN -1.366486       NaN -0.832033\n",
              "2019-04-30       NaN -0.202303 -0.396425       NaN\n",
              "2019-05-31       NaN  0.029299       NaN       NaN\n",
              "2019-06-30  0.481797  0.432824       NaN       NaN\n",
              "2019-07-31 -1.690005 -0.064984 -0.313341  0.308628\n",
              "2019-08-31       NaN -2.888206 -1.503279       NaN\n",
              "2019-09-30       NaN -0.202785 -0.287089       NaN"
            ]
          },
          "metadata": {
            "tags": []
          },
          "execution_count": 62
        }
      ]
    },
    {
      "cell_type": "code",
      "metadata": {
        "colab": {
          "base_uri": "https://localhost:8080/",
          "height": 328
        },
        "id": "SzobfuyOeZnP",
        "outputId": "e80c62eb-7546-451d-bb02-e28d7179dec2"
      },
      "source": [
        "np.sqrt(abs(df))"
      ],
      "execution_count": 63,
      "outputs": [
        {
          "output_type": "execute_result",
          "data": {
            "text/html": [
              "<div>\n",
              "<style scoped>\n",
              "    .dataframe tbody tr th:only-of-type {\n",
              "        vertical-align: middle;\n",
              "    }\n",
              "\n",
              "    .dataframe tbody tr th {\n",
              "        vertical-align: top;\n",
              "    }\n",
              "\n",
              "    .dataframe thead th {\n",
              "        text-align: right;\n",
              "    }\n",
              "</style>\n",
              "<table border=\"1\" class=\"dataframe\">\n",
              "  <thead>\n",
              "    <tr style=\"text-align: right;\">\n",
              "      <th></th>\n",
              "      <th>No1</th>\n",
              "      <th>No2</th>\n",
              "      <th>No3</th>\n",
              "      <th>No4</th>\n",
              "    </tr>\n",
              "  </thead>\n",
              "  <tbody>\n",
              "    <tr>\n",
              "      <th>2019-01-31</th>\n",
              "      <td>1.322787</td>\n",
              "      <td>0.585389</td>\n",
              "      <td>1.073795</td>\n",
              "      <td>0.502430</td>\n",
              "    </tr>\n",
              "    <tr>\n",
              "      <th>2019-02-28</th>\n",
              "      <td>0.990616</td>\n",
              "      <td>0.717091</td>\n",
              "      <td>0.470297</td>\n",
              "      <td>1.034429</td>\n",
              "    </tr>\n",
              "    <tr>\n",
              "      <th>2019-03-31</th>\n",
              "      <td>0.435311</td>\n",
              "      <td>0.504977</td>\n",
              "      <td>0.676777</td>\n",
              "      <td>0.659669</td>\n",
              "    </tr>\n",
              "    <tr>\n",
              "      <th>2019-04-30</th>\n",
              "      <td>0.763934</td>\n",
              "      <td>0.903796</td>\n",
              "      <td>0.820196</td>\n",
              "      <td>0.323127</td>\n",
              "    </tr>\n",
              "    <tr>\n",
              "      <th>2019-05-31</th>\n",
              "      <td>0.728890</td>\n",
              "      <td>1.014757</td>\n",
              "      <td>0.661918</td>\n",
              "      <td>1.057506</td>\n",
              "    </tr>\n",
              "    <tr>\n",
              "      <th>2019-06-30</th>\n",
              "      <td>1.272392</td>\n",
              "      <td>1.241614</td>\n",
              "      <td>0.501876</td>\n",
              "      <td>0.917843</td>\n",
              "    </tr>\n",
              "    <tr>\n",
              "      <th>2019-07-31</th>\n",
              "      <td>0.429556</td>\n",
              "      <td>0.968030</td>\n",
              "      <td>0.854986</td>\n",
              "      <td>1.166857</td>\n",
              "    </tr>\n",
              "    <tr>\n",
              "      <th>2019-08-31</th>\n",
              "      <td>0.571173</td>\n",
              "      <td>0.235958</td>\n",
              "      <td>0.471593</td>\n",
              "      <td>1.201340</td>\n",
              "    </tr>\n",
              "    <tr>\n",
              "      <th>2019-09-30</th>\n",
              "      <td>0.869685</td>\n",
              "      <td>0.903578</td>\n",
              "      <td>0.866282</td>\n",
              "      <td>0.675238</td>\n",
              "    </tr>\n",
              "  </tbody>\n",
              "</table>\n",
              "</div>"
            ],
            "text/plain": [
              "                 No1       No2       No3       No4\n",
              "2019-01-31  1.322787  0.585389  1.073795  0.502430\n",
              "2019-02-28  0.990616  0.717091  0.470297  1.034429\n",
              "2019-03-31  0.435311  0.504977  0.676777  0.659669\n",
              "2019-04-30  0.763934  0.903796  0.820196  0.323127\n",
              "2019-05-31  0.728890  1.014757  0.661918  1.057506\n",
              "2019-06-30  1.272392  1.241614  0.501876  0.917843\n",
              "2019-07-31  0.429556  0.968030  0.854986  1.166857\n",
              "2019-08-31  0.571173  0.235958  0.471593  1.201340\n",
              "2019-09-30  0.869685  0.903578  0.866282  0.675238"
            ]
          },
          "metadata": {
            "tags": []
          },
          "execution_count": 63
        }
      ]
    },
    {
      "cell_type": "code",
      "metadata": {
        "colab": {
          "base_uri": "https://localhost:8080/"
        },
        "id": "JG5PIVkielV-",
        "outputId": "685f2771-f78d-4cea-e4ac-f93465b3e813"
      },
      "source": [
        "np.sqrt(abs(df)).sum()"
      ],
      "execution_count": 64,
      "outputs": [
        {
          "output_type": "execute_result",
          "data": {
            "text/plain": [
              "No1    7.384345\n",
              "No2    7.075190\n",
              "No3    6.397719\n",
              "No4    7.538440\n",
              "dtype: float64"
            ]
          },
          "metadata": {
            "tags": []
          },
          "execution_count": 64
        }
      ]
    },
    {
      "cell_type": "code",
      "metadata": {
        "colab": {
          "base_uri": "https://localhost:8080/",
          "height": 328
        },
        "id": "-bFk9MfmeqAl",
        "outputId": "0cf49583-51e4-4ebf-9b6b-f4efe2e95342"
      },
      "source": [
        "100 * df + 100"
      ],
      "execution_count": 65,
      "outputs": [
        {
          "output_type": "execute_result",
          "data": {
            "text/html": [
              "<div>\n",
              "<style scoped>\n",
              "    .dataframe tbody tr th:only-of-type {\n",
              "        vertical-align: middle;\n",
              "    }\n",
              "\n",
              "    .dataframe tbody tr th {\n",
              "        vertical-align: top;\n",
              "    }\n",
              "\n",
              "    .dataframe thead th {\n",
              "        text-align: right;\n",
              "    }\n",
              "</style>\n",
              "<table border=\"1\" class=\"dataframe\">\n",
              "  <thead>\n",
              "    <tr style=\"text-align: right;\">\n",
              "      <th></th>\n",
              "      <th>No1</th>\n",
              "      <th>No2</th>\n",
              "      <th>No3</th>\n",
              "      <th>No4</th>\n",
              "    </tr>\n",
              "  </thead>\n",
              "  <tbody>\n",
              "    <tr>\n",
              "      <th>2019-01-31</th>\n",
              "      <td>-74.976547</td>\n",
              "      <td>134.268040</td>\n",
              "      <td>215.303580</td>\n",
              "      <td>74.756396</td>\n",
              "    </tr>\n",
              "    <tr>\n",
              "      <th>2019-02-28</th>\n",
              "      <td>198.132079</td>\n",
              "      <td>151.421884</td>\n",
              "      <td>122.117967</td>\n",
              "      <td>-7.004333</td>\n",
              "    </tr>\n",
              "    <tr>\n",
              "      <th>2019-03-31</th>\n",
              "      <td>81.050417</td>\n",
              "      <td>125.500144</td>\n",
              "      <td>54.197301</td>\n",
              "      <td>143.516349</td>\n",
              "    </tr>\n",
              "    <tr>\n",
              "      <th>2019-04-30</th>\n",
              "      <td>41.640495</td>\n",
              "      <td>181.684707</td>\n",
              "      <td>167.272081</td>\n",
              "      <td>89.558886</td>\n",
              "    </tr>\n",
              "    <tr>\n",
              "      <th>2019-05-31</th>\n",
              "      <td>46.871962</td>\n",
              "      <td>202.973269</td>\n",
              "      <td>56.186438</td>\n",
              "      <td>-11.831825</td>\n",
              "    </tr>\n",
              "    <tr>\n",
              "      <th>2019-06-30</th>\n",
              "      <td>261.898166</td>\n",
              "      <td>254.160517</td>\n",
              "      <td>74.812086</td>\n",
              "      <td>15.756426</td>\n",
              "    </tr>\n",
              "    <tr>\n",
              "      <th>2019-07-31</th>\n",
              "      <td>118.451869</td>\n",
              "      <td>193.708220</td>\n",
              "      <td>173.100034</td>\n",
              "      <td>236.155613</td>\n",
              "    </tr>\n",
              "    <tr>\n",
              "      <th>2019-08-31</th>\n",
              "      <td>67.376194</td>\n",
              "      <td>105.567601</td>\n",
              "      <td>122.239961</td>\n",
              "      <td>-44.321700</td>\n",
              "    </tr>\n",
              "    <tr>\n",
              "      <th>2019-09-30</th>\n",
              "      <td>24.364769</td>\n",
              "      <td>181.645401</td>\n",
              "      <td>175.044476</td>\n",
              "      <td>54.405307</td>\n",
              "    </tr>\n",
              "  </tbody>\n",
              "</table>\n",
              "</div>"
            ],
            "text/plain": [
              "                   No1         No2         No3         No4\n",
              "2019-01-31  -74.976547  134.268040  215.303580   74.756396\n",
              "2019-02-28  198.132079  151.421884  122.117967   -7.004333\n",
              "2019-03-31   81.050417  125.500144   54.197301  143.516349\n",
              "2019-04-30   41.640495  181.684707  167.272081   89.558886\n",
              "2019-05-31   46.871962  202.973269   56.186438  -11.831825\n",
              "2019-06-30  261.898166  254.160517   74.812086   15.756426\n",
              "2019-07-31  118.451869  193.708220  173.100034  236.155613\n",
              "2019-08-31   67.376194  105.567601  122.239961  -44.321700\n",
              "2019-09-30   24.364769  181.645401  175.044476   54.405307"
            ]
          },
          "metadata": {
            "tags": []
          },
          "execution_count": 65
        }
      ]
    },
    {
      "cell_type": "markdown",
      "metadata": {
        "id": "P0x-R_IKe0sV"
      },
      "source": [
        "##**Matplotlib**"
      ]
    },
    {
      "cell_type": "code",
      "metadata": {
        "id": "BmMD-Ly1esaH"
      },
      "source": [
        "from pylab import plt, mpl\n",
        "plt.style.use('seaborn')\n",
        "mpl.rcParams['font.family']='serif'\n",
        "%matplotlib inline"
      ],
      "execution_count": 66,
      "outputs": []
    },
    {
      "cell_type": "code",
      "metadata": {
        "colab": {
          "base_uri": "https://localhost:8080/",
          "height": 328
        },
        "id": "LY4qUDdEfMdS",
        "outputId": "35a6164a-1184-4895-cb13-465773fcb4bb"
      },
      "source": [
        "df"
      ],
      "execution_count": 67,
      "outputs": [
        {
          "output_type": "execute_result",
          "data": {
            "text/html": [
              "<div>\n",
              "<style scoped>\n",
              "    .dataframe tbody tr th:only-of-type {\n",
              "        vertical-align: middle;\n",
              "    }\n",
              "\n",
              "    .dataframe tbody tr th {\n",
              "        vertical-align: top;\n",
              "    }\n",
              "\n",
              "    .dataframe thead th {\n",
              "        text-align: right;\n",
              "    }\n",
              "</style>\n",
              "<table border=\"1\" class=\"dataframe\">\n",
              "  <thead>\n",
              "    <tr style=\"text-align: right;\">\n",
              "      <th></th>\n",
              "      <th>No1</th>\n",
              "      <th>No2</th>\n",
              "      <th>No3</th>\n",
              "      <th>No4</th>\n",
              "    </tr>\n",
              "  </thead>\n",
              "  <tbody>\n",
              "    <tr>\n",
              "      <th>2019-01-31</th>\n",
              "      <td>-1.749765</td>\n",
              "      <td>0.342680</td>\n",
              "      <td>1.153036</td>\n",
              "      <td>-0.252436</td>\n",
              "    </tr>\n",
              "    <tr>\n",
              "      <th>2019-02-28</th>\n",
              "      <td>0.981321</td>\n",
              "      <td>0.514219</td>\n",
              "      <td>0.221180</td>\n",
              "      <td>-1.070043</td>\n",
              "    </tr>\n",
              "    <tr>\n",
              "      <th>2019-03-31</th>\n",
              "      <td>-0.189496</td>\n",
              "      <td>0.255001</td>\n",
              "      <td>-0.458027</td>\n",
              "      <td>0.435163</td>\n",
              "    </tr>\n",
              "    <tr>\n",
              "      <th>2019-04-30</th>\n",
              "      <td>-0.583595</td>\n",
              "      <td>0.816847</td>\n",
              "      <td>0.672721</td>\n",
              "      <td>-0.104411</td>\n",
              "    </tr>\n",
              "    <tr>\n",
              "      <th>2019-05-31</th>\n",
              "      <td>-0.531280</td>\n",
              "      <td>1.029733</td>\n",
              "      <td>-0.438136</td>\n",
              "      <td>-1.118318</td>\n",
              "    </tr>\n",
              "    <tr>\n",
              "      <th>2019-06-30</th>\n",
              "      <td>1.618982</td>\n",
              "      <td>1.541605</td>\n",
              "      <td>-0.251879</td>\n",
              "      <td>-0.842436</td>\n",
              "    </tr>\n",
              "    <tr>\n",
              "      <th>2019-07-31</th>\n",
              "      <td>0.184519</td>\n",
              "      <td>0.937082</td>\n",
              "      <td>0.731000</td>\n",
              "      <td>1.361556</td>\n",
              "    </tr>\n",
              "    <tr>\n",
              "      <th>2019-08-31</th>\n",
              "      <td>-0.326238</td>\n",
              "      <td>0.055676</td>\n",
              "      <td>0.222400</td>\n",
              "      <td>-1.443217</td>\n",
              "    </tr>\n",
              "    <tr>\n",
              "      <th>2019-09-30</th>\n",
              "      <td>-0.756352</td>\n",
              "      <td>0.816454</td>\n",
              "      <td>0.750445</td>\n",
              "      <td>-0.455947</td>\n",
              "    </tr>\n",
              "  </tbody>\n",
              "</table>\n",
              "</div>"
            ],
            "text/plain": [
              "                 No1       No2       No3       No4\n",
              "2019-01-31 -1.749765  0.342680  1.153036 -0.252436\n",
              "2019-02-28  0.981321  0.514219  0.221180 -1.070043\n",
              "2019-03-31 -0.189496  0.255001 -0.458027  0.435163\n",
              "2019-04-30 -0.583595  0.816847  0.672721 -0.104411\n",
              "2019-05-31 -0.531280  1.029733 -0.438136 -1.118318\n",
              "2019-06-30  1.618982  1.541605 -0.251879 -0.842436\n",
              "2019-07-31  0.184519  0.937082  0.731000  1.361556\n",
              "2019-08-31 -0.326238  0.055676  0.222400 -1.443217\n",
              "2019-09-30 -0.756352  0.816454  0.750445 -0.455947"
            ]
          },
          "metadata": {
            "tags": []
          },
          "execution_count": 67
        }
      ]
    },
    {
      "cell_type": "code",
      "metadata": {
        "colab": {
          "base_uri": "https://localhost:8080/",
          "height": 400
        },
        "id": "NgjUawvNfOnv",
        "outputId": "844a2a21-6bb2-4843-c03b-cd9b4350c7b4"
      },
      "source": [
        "df.cumsum().plot(lw=1.5, figsize=(10, 6))  #lw per lo spessore delle linee"
      ],
      "execution_count": 69,
      "outputs": [
        {
          "output_type": "execute_result",
          "data": {
            "text/plain": [
              "<matplotlib.axes._subplots.AxesSubplot at 0x7f24f74d9390>"
            ]
          },
          "metadata": {
            "tags": []
          },
          "execution_count": 69
        },
        {
          "output_type": "display_data",
          "data": {
            "image/png": "[encoded data removed]",
            "text/plain": [
              "<Figure size 720x432 with 1 Axes>"
            ]
          },
          "metadata": {
            "tags": [],
            "needs_background": "light"
          }
        }
      ]
    },
    {
      "cell_type": "code",
      "metadata": {
        "colab": {
          "base_uri": "https://localhost:8080/",
          "height": 417
        },
        "id": "CzObVJVifjLL",
        "outputId": "7d8a57e8-6b85-4f6a-866a-be21d1a33e1d"
      },
      "source": [
        "df.plot.bar(figsize=(10,6), rot=15)"
      ],
      "execution_count": 73,
      "outputs": [
        {
          "output_type": "execute_result",
          "data": {
            "text/plain": [
              "<matplotlib.axes._subplots.AxesSubplot at 0x7f24f6d3c690>"
            ]
          },
          "metadata": {
            "tags": []
          },
          "execution_count": 73
        },
        {
          "output_type": "display_data",
          "data": {
            "image/png": "[encoded data removed]",
            "text/plain": [
              "<Figure size 720x432 with 1 Axes>"
            ]
          },
          "metadata": {
            "tags": [],
            "needs_background": "light"
          }
        }
      ]
    },
    {
      "cell_type": "code",
      "metadata": {
        "colab": {
          "base_uri": "https://localhost:8080/",
          "height": 361
        },
        "id": "9iPPOqSNfo4a",
        "outputId": "b77e17d6-a769-4c7e-a652-436d34f7cce4"
      },
      "source": [
        "df.plot(kind='barh', figsize=(10,6), rot=15) #barh -> orizzontale, bar -> verticale"
      ],
      "execution_count": 74,
      "outputs": [
        {
          "output_type": "execute_result",
          "data": {
            "text/plain": [
              "<matplotlib.axes._subplots.AxesSubplot at 0x7f24f6c260d0>"
            ]
          },
          "metadata": {
            "tags": []
          },
          "execution_count": 74
        },
        {
          "output_type": "display_data",
          "data": {
            "image/png": "[encoded data removed]",
            "text/plain": [
              "<Figure size 720x432 with 1 Axes>"
            ]
          },
          "metadata": {
            "tags": [],
            "needs_background": "light"
          }
        }
      ]
    },
    {
      "cell_type": "code",
      "metadata": {
        "id": "ZuNz_5KNgZh6"
      },
      "source": [
        ""
      ],
      "execution_count": null,
      "outputs": []
    },
    {
      "cell_type": "markdown",
      "metadata": {
        "id": "W1bRGgwKgecu"
      },
      "source": [
        "##**Series**"
      ]
    },
    {
      "cell_type": "code",
      "metadata": {
        "colab": {
          "base_uri": "https://localhost:8080/",
          "height": 328
        },
        "id": "C6SYqDTSgiqJ",
        "outputId": "0e95b0a5-8345-4a16-e839-be0095e25302"
      },
      "source": [
        "df"
      ],
      "execution_count": 75,
      "outputs": [
        {
          "output_type": "execute_result",
          "data": {
            "text/html": [
              "<div>\n",
              "<style scoped>\n",
              "    .dataframe tbody tr th:only-of-type {\n",
              "        vertical-align: middle;\n",
              "    }\n",
              "\n",
              "    .dataframe tbody tr th {\n",
              "        vertical-align: top;\n",
              "    }\n",
              "\n",
              "    .dataframe thead th {\n",
              "        text-align: right;\n",
              "    }\n",
              "</style>\n",
              "<table border=\"1\" class=\"dataframe\">\n",
              "  <thead>\n",
              "    <tr style=\"text-align: right;\">\n",
              "      <th></th>\n",
              "      <th>No1</th>\n",
              "      <th>No2</th>\n",
              "      <th>No3</th>\n",
              "      <th>No4</th>\n",
              "    </tr>\n",
              "  </thead>\n",
              "  <tbody>\n",
              "    <tr>\n",
              "      <th>2019-01-31</th>\n",
              "      <td>-1.749765</td>\n",
              "      <td>0.342680</td>\n",
              "      <td>1.153036</td>\n",
              "      <td>-0.252436</td>\n",
              "    </tr>\n",
              "    <tr>\n",
              "      <th>2019-02-28</th>\n",
              "      <td>0.981321</td>\n",
              "      <td>0.514219</td>\n",
              "      <td>0.221180</td>\n",
              "      <td>-1.070043</td>\n",
              "    </tr>\n",
              "    <tr>\n",
              "      <th>2019-03-31</th>\n",
              "      <td>-0.189496</td>\n",
              "      <td>0.255001</td>\n",
              "      <td>-0.458027</td>\n",
              "      <td>0.435163</td>\n",
              "    </tr>\n",
              "    <tr>\n",
              "      <th>2019-04-30</th>\n",
              "      <td>-0.583595</td>\n",
              "      <td>0.816847</td>\n",
              "      <td>0.672721</td>\n",
              "      <td>-0.104411</td>\n",
              "    </tr>\n",
              "    <tr>\n",
              "      <th>2019-05-31</th>\n",
              "      <td>-0.531280</td>\n",
              "      <td>1.029733</td>\n",
              "      <td>-0.438136</td>\n",
              "      <td>-1.118318</td>\n",
              "    </tr>\n",
              "    <tr>\n",
              "      <th>2019-06-30</th>\n",
              "      <td>1.618982</td>\n",
              "      <td>1.541605</td>\n",
              "      <td>-0.251879</td>\n",
              "      <td>-0.842436</td>\n",
              "    </tr>\n",
              "    <tr>\n",
              "      <th>2019-07-31</th>\n",
              "      <td>0.184519</td>\n",
              "      <td>0.937082</td>\n",
              "      <td>0.731000</td>\n",
              "      <td>1.361556</td>\n",
              "    </tr>\n",
              "    <tr>\n",
              "      <th>2019-08-31</th>\n",
              "      <td>-0.326238</td>\n",
              "      <td>0.055676</td>\n",
              "      <td>0.222400</td>\n",
              "      <td>-1.443217</td>\n",
              "    </tr>\n",
              "    <tr>\n",
              "      <th>2019-09-30</th>\n",
              "      <td>-0.756352</td>\n",
              "      <td>0.816454</td>\n",
              "      <td>0.750445</td>\n",
              "      <td>-0.455947</td>\n",
              "    </tr>\n",
              "  </tbody>\n",
              "</table>\n",
              "</div>"
            ],
            "text/plain": [
              "                 No1       No2       No3       No4\n",
              "2019-01-31 -1.749765  0.342680  1.153036 -0.252436\n",
              "2019-02-28  0.981321  0.514219  0.221180 -1.070043\n",
              "2019-03-31 -0.189496  0.255001 -0.458027  0.435163\n",
              "2019-04-30 -0.583595  0.816847  0.672721 -0.104411\n",
              "2019-05-31 -0.531280  1.029733 -0.438136 -1.118318\n",
              "2019-06-30  1.618982  1.541605 -0.251879 -0.842436\n",
              "2019-07-31  0.184519  0.937082  0.731000  1.361556\n",
              "2019-08-31 -0.326238  0.055676  0.222400 -1.443217\n",
              "2019-09-30 -0.756352  0.816454  0.750445 -0.455947"
            ]
          },
          "metadata": {
            "tags": []
          },
          "execution_count": 75
        }
      ]
    },
    {
      "cell_type": "code",
      "metadata": {
        "id": "bnXj909Zgnla"
      },
      "source": [
        "S = pd.Series(np.linspace(0, 15, 7), name='series')"
      ],
      "execution_count": 76,
      "outputs": []
    },
    {
      "cell_type": "code",
      "metadata": {
        "colab": {
          "base_uri": "https://localhost:8080/"
        },
        "id": "7BWGwylNgy7H",
        "outputId": "03f14aa4-deb5-4e14-d709-b8d8de8cb795"
      },
      "source": [
        "S"
      ],
      "execution_count": 77,
      "outputs": [
        {
          "output_type": "execute_result",
          "data": {
            "text/plain": [
              "0     0.0\n",
              "1     2.5\n",
              "2     5.0\n",
              "3     7.5\n",
              "4    10.0\n",
              "5    12.5\n",
              "6    15.0\n",
              "Name: series, dtype: float64"
            ]
          },
          "metadata": {
            "tags": []
          },
          "execution_count": 77
        }
      ]
    },
    {
      "cell_type": "code",
      "metadata": {
        "id": "uFQhHpgKgz8G"
      },
      "source": [
        "s = df['No1']"
      ],
      "execution_count": 78,
      "outputs": []
    },
    {
      "cell_type": "code",
      "metadata": {
        "colab": {
          "base_uri": "https://localhost:8080/"
        },
        "id": "cQwyiNDchCXr",
        "outputId": "15f527d1-b054-4c56-bd5d-cca7210403f2"
      },
      "source": [
        "s"
      ],
      "execution_count": 79,
      "outputs": [
        {
          "output_type": "execute_result",
          "data": {
            "text/plain": [
              "2019-01-31   -1.749765\n",
              "2019-02-28    0.981321\n",
              "2019-03-31   -0.189496\n",
              "2019-04-30   -0.583595\n",
              "2019-05-31   -0.531280\n",
              "2019-06-30    1.618982\n",
              "2019-07-31    0.184519\n",
              "2019-08-31   -0.326238\n",
              "2019-09-30   -0.756352\n",
              "Freq: M, Name: No1, dtype: float64"
            ]
          },
          "metadata": {
            "tags": []
          },
          "execution_count": 79
        }
      ]
    },
    {
      "cell_type": "code",
      "metadata": {
        "colab": {
          "base_uri": "https://localhost:8080/"
        },
        "id": "8yMtIhBThEBw",
        "outputId": "f04e5463-6ed6-4cb1-a76d-58eb7d80b29a"
      },
      "source": [
        "type(s)"
      ],
      "execution_count": 80,
      "outputs": [
        {
          "output_type": "execute_result",
          "data": {
            "text/plain": [
              "pandas.core.series.Series"
            ]
          },
          "metadata": {
            "tags": []
          },
          "execution_count": 80
        }
      ]
    },
    {
      "cell_type": "code",
      "metadata": {
        "colab": {
          "base_uri": "https://localhost:8080/"
        },
        "id": "g5JPlMFXhFdg",
        "outputId": "4e2fd671-b670-4566-9102-058d0733dd86"
      },
      "source": [
        "s.mean()"
      ],
      "execution_count": 81,
      "outputs": [
        {
          "output_type": "execute_result",
          "data": {
            "text/plain": [
              "-0.15021177307319458"
            ]
          },
          "metadata": {
            "tags": []
          },
          "execution_count": 81
        }
      ]
    },
    {
      "cell_type": "code",
      "metadata": {
        "colab": {
          "base_uri": "https://localhost:8080/",
          "height": 400
        },
        "id": "CCJd1vf-hHd6",
        "outputId": "af31c835-ed32-41f1-de53-1e0c87a74d4b"
      },
      "source": [
        "s.plot(lw=1.0, figsize=(10,6))"
      ],
      "execution_count": 82,
      "outputs": [
        {
          "output_type": "execute_result",
          "data": {
            "text/plain": [
              "<matplotlib.axes._subplots.AxesSubplot at 0x7f24f6b6b390>"
            ]
          },
          "metadata": {
            "tags": []
          },
          "execution_count": 82
        },
        {
          "output_type": "display_data",
          "data": {
            "image/png": "[encoded data removed]",
            "text/plain": [
              "<Figure size 720x432 with 1 Axes>"
            ]
          },
          "metadata": {
            "tags": [],
            "needs_background": "light"
          }
        }
      ]
    },
    {
      "cell_type": "markdown",
      "metadata": {
        "id": "2H7zNp0ChTy7"
      },
      "source": [
        "##**GroupBy**"
      ]
    },
    {
      "cell_type": "code",
      "metadata": {
        "colab": {
          "base_uri": "https://localhost:8080/",
          "height": 328
        },
        "id": "m5B-TTrkhNZp",
        "outputId": "79eae20b-3d76-48d2-c9f5-0f5d3f69cf17"
      },
      "source": [
        "df"
      ],
      "execution_count": 83,
      "outputs": [
        {
          "output_type": "execute_result",
          "data": {
            "text/html": [
              "<div>\n",
              "<style scoped>\n",
              "    .dataframe tbody tr th:only-of-type {\n",
              "        vertical-align: middle;\n",
              "    }\n",
              "\n",
              "    .dataframe tbody tr th {\n",
              "        vertical-align: top;\n",
              "    }\n",
              "\n",
              "    .dataframe thead th {\n",
              "        text-align: right;\n",
              "    }\n",
              "</style>\n",
              "<table border=\"1\" class=\"dataframe\">\n",
              "  <thead>\n",
              "    <tr style=\"text-align: right;\">\n",
              "      <th></th>\n",
              "      <th>No1</th>\n",
              "      <th>No2</th>\n",
              "      <th>No3</th>\n",
              "      <th>No4</th>\n",
              "    </tr>\n",
              "  </thead>\n",
              "  <tbody>\n",
              "    <tr>\n",
              "      <th>2019-01-31</th>\n",
              "      <td>-1.749765</td>\n",
              "      <td>0.342680</td>\n",
              "      <td>1.153036</td>\n",
              "      <td>-0.252436</td>\n",
              "    </tr>\n",
              "    <tr>\n",
              "      <th>2019-02-28</th>\n",
              "      <td>0.981321</td>\n",
              "      <td>0.514219</td>\n",
              "      <td>0.221180</td>\n",
              "      <td>-1.070043</td>\n",
              "    </tr>\n",
              "    <tr>\n",
              "      <th>2019-03-31</th>\n",
              "      <td>-0.189496</td>\n",
              "      <td>0.255001</td>\n",
              "      <td>-0.458027</td>\n",
              "      <td>0.435163</td>\n",
              "    </tr>\n",
              "    <tr>\n",
              "      <th>2019-04-30</th>\n",
              "      <td>-0.583595</td>\n",
              "      <td>0.816847</td>\n",
              "      <td>0.672721</td>\n",
              "      <td>-0.104411</td>\n",
              "    </tr>\n",
              "    <tr>\n",
              "      <th>2019-05-31</th>\n",
              "      <td>-0.531280</td>\n",
              "      <td>1.029733</td>\n",
              "      <td>-0.438136</td>\n",
              "      <td>-1.118318</td>\n",
              "    </tr>\n",
              "    <tr>\n",
              "      <th>2019-06-30</th>\n",
              "      <td>1.618982</td>\n",
              "      <td>1.541605</td>\n",
              "      <td>-0.251879</td>\n",
              "      <td>-0.842436</td>\n",
              "    </tr>\n",
              "    <tr>\n",
              "      <th>2019-07-31</th>\n",
              "      <td>0.184519</td>\n",
              "      <td>0.937082</td>\n",
              "      <td>0.731000</td>\n",
              "      <td>1.361556</td>\n",
              "    </tr>\n",
              "    <tr>\n",
              "      <th>2019-08-31</th>\n",
              "      <td>-0.326238</td>\n",
              "      <td>0.055676</td>\n",
              "      <td>0.222400</td>\n",
              "      <td>-1.443217</td>\n",
              "    </tr>\n",
              "    <tr>\n",
              "      <th>2019-09-30</th>\n",
              "      <td>-0.756352</td>\n",
              "      <td>0.816454</td>\n",
              "      <td>0.750445</td>\n",
              "      <td>-0.455947</td>\n",
              "    </tr>\n",
              "  </tbody>\n",
              "</table>\n",
              "</div>"
            ],
            "text/plain": [
              "                 No1       No2       No3       No4\n",
              "2019-01-31 -1.749765  0.342680  1.153036 -0.252436\n",
              "2019-02-28  0.981321  0.514219  0.221180 -1.070043\n",
              "2019-03-31 -0.189496  0.255001 -0.458027  0.435163\n",
              "2019-04-30 -0.583595  0.816847  0.672721 -0.104411\n",
              "2019-05-31 -0.531280  1.029733 -0.438136 -1.118318\n",
              "2019-06-30  1.618982  1.541605 -0.251879 -0.842436\n",
              "2019-07-31  0.184519  0.937082  0.731000  1.361556\n",
              "2019-08-31 -0.326238  0.055676  0.222400 -1.443217\n",
              "2019-09-30 -0.756352  0.816454  0.750445 -0.455947"
            ]
          },
          "metadata": {
            "tags": []
          },
          "execution_count": 83
        }
      ]
    },
    {
      "cell_type": "code",
      "metadata": {
        "id": "whgLj9lEhY85"
      },
      "source": [
        "df['Quarter'] = ['Q1', 'Q1', 'Q1', 'Q2', 'Q2', 'Q2','Q3', 'Q3', 'Q3']"
      ],
      "execution_count": 84,
      "outputs": []
    },
    {
      "cell_type": "code",
      "metadata": {
        "colab": {
          "base_uri": "https://localhost:8080/",
          "height": 328
        },
        "id": "1c8zRvEihtlr",
        "outputId": "33582cb4-dd70-4d04-8237-33145c742d3c"
      },
      "source": [
        "df"
      ],
      "execution_count": 85,
      "outputs": [
        {
          "output_type": "execute_result",
          "data": {
            "text/html": [
              "<div>\n",
              "<style scoped>\n",
              "    .dataframe tbody tr th:only-of-type {\n",
              "        vertical-align: middle;\n",
              "    }\n",
              "\n",
              "    .dataframe tbody tr th {\n",
              "        vertical-align: top;\n",
              "    }\n",
              "\n",
              "    .dataframe thead th {\n",
              "        text-align: right;\n",
              "    }\n",
              "</style>\n",
              "<table border=\"1\" class=\"dataframe\">\n",
              "  <thead>\n",
              "    <tr style=\"text-align: right;\">\n",
              "      <th></th>\n",
              "      <th>No1</th>\n",
              "      <th>No2</th>\n",
              "      <th>No3</th>\n",
              "      <th>No4</th>\n",
              "      <th>Quarter</th>\n",
              "    </tr>\n",
              "  </thead>\n",
              "  <tbody>\n",
              "    <tr>\n",
              "      <th>2019-01-31</th>\n",
              "      <td>-1.749765</td>\n",
              "      <td>0.342680</td>\n",
              "      <td>1.153036</td>\n",
              "      <td>-0.252436</td>\n",
              "      <td>Q1</td>\n",
              "    </tr>\n",
              "    <tr>\n",
              "      <th>2019-02-28</th>\n",
              "      <td>0.981321</td>\n",
              "      <td>0.514219</td>\n",
              "      <td>0.221180</td>\n",
              "      <td>-1.070043</td>\n",
              "      <td>Q1</td>\n",
              "    </tr>\n",
              "    <tr>\n",
              "      <th>2019-03-31</th>\n",
              "      <td>-0.189496</td>\n",
              "      <td>0.255001</td>\n",
              "      <td>-0.458027</td>\n",
              "      <td>0.435163</td>\n",
              "      <td>Q1</td>\n",
              "    </tr>\n",
              "    <tr>\n",
              "      <th>2019-04-30</th>\n",
              "      <td>-0.583595</td>\n",
              "      <td>0.816847</td>\n",
              "      <td>0.672721</td>\n",
              "      <td>-0.104411</td>\n",
              "      <td>Q2</td>\n",
              "    </tr>\n",
              "    <tr>\n",
              "      <th>2019-05-31</th>\n",
              "      <td>-0.531280</td>\n",
              "      <td>1.029733</td>\n",
              "      <td>-0.438136</td>\n",
              "      <td>-1.118318</td>\n",
              "      <td>Q2</td>\n",
              "    </tr>\n",
              "    <tr>\n",
              "      <th>2019-06-30</th>\n",
              "      <td>1.618982</td>\n",
              "      <td>1.541605</td>\n",
              "      <td>-0.251879</td>\n",
              "      <td>-0.842436</td>\n",
              "      <td>Q2</td>\n",
              "    </tr>\n",
              "    <tr>\n",
              "      <th>2019-07-31</th>\n",
              "      <td>0.184519</td>\n",
              "      <td>0.937082</td>\n",
              "      <td>0.731000</td>\n",
              "      <td>1.361556</td>\n",
              "      <td>Q3</td>\n",
              "    </tr>\n",
              "    <tr>\n",
              "      <th>2019-08-31</th>\n",
              "      <td>-0.326238</td>\n",
              "      <td>0.055676</td>\n",
              "      <td>0.222400</td>\n",
              "      <td>-1.443217</td>\n",
              "      <td>Q3</td>\n",
              "    </tr>\n",
              "    <tr>\n",
              "      <th>2019-09-30</th>\n",
              "      <td>-0.756352</td>\n",
              "      <td>0.816454</td>\n",
              "      <td>0.750445</td>\n",
              "      <td>-0.455947</td>\n",
              "      <td>Q3</td>\n",
              "    </tr>\n",
              "  </tbody>\n",
              "</table>\n",
              "</div>"
            ],
            "text/plain": [
              "                 No1       No2       No3       No4 Quarter\n",
              "2019-01-31 -1.749765  0.342680  1.153036 -0.252436      Q1\n",
              "2019-02-28  0.981321  0.514219  0.221180 -1.070043      Q1\n",
              "2019-03-31 -0.189496  0.255001 -0.458027  0.435163      Q1\n",
              "2019-04-30 -0.583595  0.816847  0.672721 -0.104411      Q2\n",
              "2019-05-31 -0.531280  1.029733 -0.438136 -1.118318      Q2\n",
              "2019-06-30  1.618982  1.541605 -0.251879 -0.842436      Q2\n",
              "2019-07-31  0.184519  0.937082  0.731000  1.361556      Q3\n",
              "2019-08-31 -0.326238  0.055676  0.222400 -1.443217      Q3\n",
              "2019-09-30 -0.756352  0.816454  0.750445 -0.455947      Q3"
            ]
          },
          "metadata": {
            "tags": []
          },
          "execution_count": 85
        }
      ]
    },
    {
      "cell_type": "code",
      "metadata": {
        "id": "HeJnijhAhuxy"
      },
      "source": [
        "groups = df.groupby('Quarter')"
      ],
      "execution_count": 86,
      "outputs": []
    },
    {
      "cell_type": "code",
      "metadata": {
        "id": "4F4Yk29Yh6jn"
      },
      "source": [
        ""
      ],
      "execution_count": null,
      "outputs": []
    },
    {
      "cell_type": "code",
      "metadata": {
        "colab": {
          "base_uri": "https://localhost:8080/"
        },
        "id": "J-vo87nch3H7",
        "outputId": "0e83c767-1da6-4500-f029-e2fe0a802af0"
      },
      "source": [
        "groups.size()"
      ],
      "execution_count": 87,
      "outputs": [
        {
          "output_type": "execute_result",
          "data": {
            "text/plain": [
              "Quarter\n",
              "Q1    3\n",
              "Q2    3\n",
              "Q3    3\n",
              "dtype: int64"
            ]
          },
          "metadata": {
            "tags": []
          },
          "execution_count": 87
        }
      ]
    },
    {
      "cell_type": "code",
      "metadata": {
        "colab": {
          "base_uri": "https://localhost:8080/",
          "height": 173
        },
        "id": "qwxuz5IAh5o6",
        "outputId": "21ba3a17-3539-4ddb-8e93-59b066afd982"
      },
      "source": [
        "groups.mean()"
      ],
      "execution_count": 88,
      "outputs": [
        {
          "output_type": "execute_result",
          "data": {
            "text/html": [
              "<div>\n",
              "<style scoped>\n",
              "    .dataframe tbody tr th:only-of-type {\n",
              "        vertical-align: middle;\n",
              "    }\n",
              "\n",
              "    .dataframe tbody tr th {\n",
              "        vertical-align: top;\n",
              "    }\n",
              "\n",
              "    .dataframe thead th {\n",
              "        text-align: right;\n",
              "    }\n",
              "</style>\n",
              "<table border=\"1\" class=\"dataframe\">\n",
              "  <thead>\n",
              "    <tr style=\"text-align: right;\">\n",
              "      <th></th>\n",
              "      <th>No1</th>\n",
              "      <th>No2</th>\n",
              "      <th>No3</th>\n",
              "      <th>No4</th>\n",
              "    </tr>\n",
              "    <tr>\n",
              "      <th>Quarter</th>\n",
              "      <th></th>\n",
              "      <th></th>\n",
              "      <th></th>\n",
              "      <th></th>\n",
              "    </tr>\n",
              "  </thead>\n",
              "  <tbody>\n",
              "    <tr>\n",
              "      <th>Q1</th>\n",
              "      <td>-0.319314</td>\n",
              "      <td>0.370634</td>\n",
              "      <td>0.305396</td>\n",
              "      <td>-0.295772</td>\n",
              "    </tr>\n",
              "    <tr>\n",
              "      <th>Q2</th>\n",
              "      <td>0.168035</td>\n",
              "      <td>1.129395</td>\n",
              "      <td>-0.005765</td>\n",
              "      <td>-0.688388</td>\n",
              "    </tr>\n",
              "    <tr>\n",
              "      <th>Q3</th>\n",
              "      <td>-0.299357</td>\n",
              "      <td>0.603071</td>\n",
              "      <td>0.567948</td>\n",
              "      <td>-0.179203</td>\n",
              "    </tr>\n",
              "  </tbody>\n",
              "</table>\n",
              "</div>"
            ],
            "text/plain": [
              "              No1       No2       No3       No4\n",
              "Quarter                                        \n",
              "Q1      -0.319314  0.370634  0.305396 -0.295772\n",
              "Q2       0.168035  1.129395 -0.005765 -0.688388\n",
              "Q3      -0.299357  0.603071  0.567948 -0.179203"
            ]
          },
          "metadata": {
            "tags": []
          },
          "execution_count": 88
        }
      ]
    },
    {
      "cell_type": "code",
      "metadata": {
        "colab": {
          "base_uri": "https://localhost:8080/",
          "height": 173
        },
        "id": "sxuNdevKh9p3",
        "outputId": "2ff4058b-3dea-465a-f014-802cb22f3a69"
      },
      "source": [
        "groups.max()"
      ],
      "execution_count": 89,
      "outputs": [
        {
          "output_type": "execute_result",
          "data": {
            "text/html": [
              "<div>\n",
              "<style scoped>\n",
              "    .dataframe tbody tr th:only-of-type {\n",
              "        vertical-align: middle;\n",
              "    }\n",
              "\n",
              "    .dataframe tbody tr th {\n",
              "        vertical-align: top;\n",
              "    }\n",
              "\n",
              "    .dataframe thead th {\n",
              "        text-align: right;\n",
              "    }\n",
              "</style>\n",
              "<table border=\"1\" class=\"dataframe\">\n",
              "  <thead>\n",
              "    <tr style=\"text-align: right;\">\n",
              "      <th></th>\n",
              "      <th>No1</th>\n",
              "      <th>No2</th>\n",
              "      <th>No3</th>\n",
              "      <th>No4</th>\n",
              "    </tr>\n",
              "    <tr>\n",
              "      <th>Quarter</th>\n",
              "      <th></th>\n",
              "      <th></th>\n",
              "      <th></th>\n",
              "      <th></th>\n",
              "    </tr>\n",
              "  </thead>\n",
              "  <tbody>\n",
              "    <tr>\n",
              "      <th>Q1</th>\n",
              "      <td>0.981321</td>\n",
              "      <td>0.514219</td>\n",
              "      <td>1.153036</td>\n",
              "      <td>0.435163</td>\n",
              "    </tr>\n",
              "    <tr>\n",
              "      <th>Q2</th>\n",
              "      <td>1.618982</td>\n",
              "      <td>1.541605</td>\n",
              "      <td>0.672721</td>\n",
              "      <td>-0.104411</td>\n",
              "    </tr>\n",
              "    <tr>\n",
              "      <th>Q3</th>\n",
              "      <td>0.184519</td>\n",
              "      <td>0.937082</td>\n",
              "      <td>0.750445</td>\n",
              "      <td>1.361556</td>\n",
              "    </tr>\n",
              "  </tbody>\n",
              "</table>\n",
              "</div>"
            ],
            "text/plain": [
              "              No1       No2       No3       No4\n",
              "Quarter                                        \n",
              "Q1       0.981321  0.514219  1.153036  0.435163\n",
              "Q2       1.618982  1.541605  0.672721 -0.104411\n",
              "Q3       0.184519  0.937082  0.750445  1.361556"
            ]
          },
          "metadata": {
            "tags": []
          },
          "execution_count": 89
        }
      ]
    },
    {
      "cell_type": "code",
      "metadata": {
        "colab": {
          "base_uri": "https://localhost:8080/",
          "height": 204
        },
        "id": "yb0VmlckiCGA",
        "outputId": "bd234228-978c-4ce6-90fc-12c3a2ecaecb"
      },
      "source": [
        "groups.aggregate([min,max]).round(2)"
      ],
      "execution_count": 90,
      "outputs": [
        {
          "output_type": "execute_result",
          "data": {
            "text/html": [
              "<div>\n",
              "<style scoped>\n",
              "    .dataframe tbody tr th:only-of-type {\n",
              "        vertical-align: middle;\n",
              "    }\n",
              "\n",
              "    .dataframe tbody tr th {\n",
              "        vertical-align: top;\n",
              "    }\n",
              "\n",
              "    .dataframe thead tr th {\n",
              "        text-align: left;\n",
              "    }\n",
              "\n",
              "    .dataframe thead tr:last-of-type th {\n",
              "        text-align: right;\n",
              "    }\n",
              "</style>\n",
              "<table border=\"1\" class=\"dataframe\">\n",
              "  <thead>\n",
              "    <tr>\n",
              "      <th></th>\n",
              "      <th colspan=\"2\" halign=\"left\">No1</th>\n",
              "      <th colspan=\"2\" halign=\"left\">No2</th>\n",
              "      <th colspan=\"2\" halign=\"left\">No3</th>\n",
              "      <th colspan=\"2\" halign=\"left\">No4</th>\n",
              "    </tr>\n",
              "    <tr>\n",
              "      <th></th>\n",
              "      <th>min</th>\n",
              "      <th>max</th>\n",
              "      <th>min</th>\n",
              "      <th>max</th>\n",
              "      <th>min</th>\n",
              "      <th>max</th>\n",
              "      <th>min</th>\n",
              "      <th>max</th>\n",
              "    </tr>\n",
              "    <tr>\n",
              "      <th>Quarter</th>\n",
              "      <th></th>\n",
              "      <th></th>\n",
              "      <th></th>\n",
              "      <th></th>\n",
              "      <th></th>\n",
              "      <th></th>\n",
              "      <th></th>\n",
              "      <th></th>\n",
              "    </tr>\n",
              "  </thead>\n",
              "  <tbody>\n",
              "    <tr>\n",
              "      <th>Q1</th>\n",
              "      <td>-1.75</td>\n",
              "      <td>0.98</td>\n",
              "      <td>0.26</td>\n",
              "      <td>0.51</td>\n",
              "      <td>-0.46</td>\n",
              "      <td>1.15</td>\n",
              "      <td>-1.07</td>\n",
              "      <td>0.44</td>\n",
              "    </tr>\n",
              "    <tr>\n",
              "      <th>Q2</th>\n",
              "      <td>-0.58</td>\n",
              "      <td>1.62</td>\n",
              "      <td>0.82</td>\n",
              "      <td>1.54</td>\n",
              "      <td>-0.44</td>\n",
              "      <td>0.67</td>\n",
              "      <td>-1.12</td>\n",
              "      <td>-0.10</td>\n",
              "    </tr>\n",
              "    <tr>\n",
              "      <th>Q3</th>\n",
              "      <td>-0.76</td>\n",
              "      <td>0.18</td>\n",
              "      <td>0.06</td>\n",
              "      <td>0.94</td>\n",
              "      <td>0.22</td>\n",
              "      <td>0.75</td>\n",
              "      <td>-1.44</td>\n",
              "      <td>1.36</td>\n",
              "    </tr>\n",
              "  </tbody>\n",
              "</table>\n",
              "</div>"
            ],
            "text/plain": [
              "          No1         No2         No3         No4      \n",
              "          min   max   min   max   min   max   min   max\n",
              "Quarter                                                \n",
              "Q1      -1.75  0.98  0.26  0.51 -0.46  1.15 -1.07  0.44\n",
              "Q2      -0.58  1.62  0.82  1.54 -0.44  0.67 -1.12 -0.10\n",
              "Q3      -0.76  0.18  0.06  0.94  0.22  0.75 -1.44  1.36"
            ]
          },
          "metadata": {
            "tags": []
          },
          "execution_count": 90
        }
      ]
    },
    {
      "cell_type": "code",
      "metadata": {
        "id": "LrCjzjIfiJD7"
      },
      "source": [
        "df['Dispari_Pari'] = ['Dispari', 'Pari', 'Dispari', 'Pari', 'Dispari', 'Pari', 'Dispari', 'Pari', 'Dispari']"
      ],
      "execution_count": 93,
      "outputs": []
    },
    {
      "cell_type": "code",
      "metadata": {
        "colab": {
          "base_uri": "https://localhost:8080/",
          "height": 328
        },
        "id": "5c5eR99yikGa",
        "outputId": "926d15c6-3d13-495f-9c91-490c618adfc1"
      },
      "source": [
        "df"
      ],
      "execution_count": 94,
      "outputs": [
        {
          "output_type": "execute_result",
          "data": {
            "text/html": [
              "<div>\n",
              "<style scoped>\n",
              "    .dataframe tbody tr th:only-of-type {\n",
              "        vertical-align: middle;\n",
              "    }\n",
              "\n",
              "    .dataframe tbody tr th {\n",
              "        vertical-align: top;\n",
              "    }\n",
              "\n",
              "    .dataframe thead th {\n",
              "        text-align: right;\n",
              "    }\n",
              "</style>\n",
              "<table border=\"1\" class=\"dataframe\">\n",
              "  <thead>\n",
              "    <tr style=\"text-align: right;\">\n",
              "      <th></th>\n",
              "      <th>No1</th>\n",
              "      <th>No2</th>\n",
              "      <th>No3</th>\n",
              "      <th>No4</th>\n",
              "      <th>Quarter</th>\n",
              "      <th>Dispari_Pari</th>\n",
              "    </tr>\n",
              "  </thead>\n",
              "  <tbody>\n",
              "    <tr>\n",
              "      <th>2019-01-31</th>\n",
              "      <td>-1.749765</td>\n",
              "      <td>0.342680</td>\n",
              "      <td>1.153036</td>\n",
              "      <td>-0.252436</td>\n",
              "      <td>Q1</td>\n",
              "      <td>Dispari</td>\n",
              "    </tr>\n",
              "    <tr>\n",
              "      <th>2019-02-28</th>\n",
              "      <td>0.981321</td>\n",
              "      <td>0.514219</td>\n",
              "      <td>0.221180</td>\n",
              "      <td>-1.070043</td>\n",
              "      <td>Q1</td>\n",
              "      <td>Pari</td>\n",
              "    </tr>\n",
              "    <tr>\n",
              "      <th>2019-03-31</th>\n",
              "      <td>-0.189496</td>\n",
              "      <td>0.255001</td>\n",
              "      <td>-0.458027</td>\n",
              "      <td>0.435163</td>\n",
              "      <td>Q1</td>\n",
              "      <td>Dispari</td>\n",
              "    </tr>\n",
              "    <tr>\n",
              "      <th>2019-04-30</th>\n",
              "      <td>-0.583595</td>\n",
              "      <td>0.816847</td>\n",
              "      <td>0.672721</td>\n",
              "      <td>-0.104411</td>\n",
              "      <td>Q2</td>\n",
              "      <td>Pari</td>\n",
              "    </tr>\n",
              "    <tr>\n",
              "      <th>2019-05-31</th>\n",
              "      <td>-0.531280</td>\n",
              "      <td>1.029733</td>\n",
              "      <td>-0.438136</td>\n",
              "      <td>-1.118318</td>\n",
              "      <td>Q2</td>\n",
              "      <td>Dispari</td>\n",
              "    </tr>\n",
              "    <tr>\n",
              "      <th>2019-06-30</th>\n",
              "      <td>1.618982</td>\n",
              "      <td>1.541605</td>\n",
              "      <td>-0.251879</td>\n",
              "      <td>-0.842436</td>\n",
              "      <td>Q2</td>\n",
              "      <td>Pari</td>\n",
              "    </tr>\n",
              "    <tr>\n",
              "      <th>2019-07-31</th>\n",
              "      <td>0.184519</td>\n",
              "      <td>0.937082</td>\n",
              "      <td>0.731000</td>\n",
              "      <td>1.361556</td>\n",
              "      <td>Q3</td>\n",
              "      <td>Dispari</td>\n",
              "    </tr>\n",
              "    <tr>\n",
              "      <th>2019-08-31</th>\n",
              "      <td>-0.326238</td>\n",
              "      <td>0.055676</td>\n",
              "      <td>0.222400</td>\n",
              "      <td>-1.443217</td>\n",
              "      <td>Q3</td>\n",
              "      <td>Pari</td>\n",
              "    </tr>\n",
              "    <tr>\n",
              "      <th>2019-09-30</th>\n",
              "      <td>-0.756352</td>\n",
              "      <td>0.816454</td>\n",
              "      <td>0.750445</td>\n",
              "      <td>-0.455947</td>\n",
              "      <td>Q3</td>\n",
              "      <td>Dispari</td>\n",
              "    </tr>\n",
              "  </tbody>\n",
              "</table>\n",
              "</div>"
            ],
            "text/plain": [
              "                 No1       No2       No3       No4 Quarter Dispari_Pari\n",
              "2019-01-31 -1.749765  0.342680  1.153036 -0.252436      Q1      Dispari\n",
              "2019-02-28  0.981321  0.514219  0.221180 -1.070043      Q1         Pari\n",
              "2019-03-31 -0.189496  0.255001 -0.458027  0.435163      Q1      Dispari\n",
              "2019-04-30 -0.583595  0.816847  0.672721 -0.104411      Q2         Pari\n",
              "2019-05-31 -0.531280  1.029733 -0.438136 -1.118318      Q2      Dispari\n",
              "2019-06-30  1.618982  1.541605 -0.251879 -0.842436      Q2         Pari\n",
              "2019-07-31  0.184519  0.937082  0.731000  1.361556      Q3      Dispari\n",
              "2019-08-31 -0.326238  0.055676  0.222400 -1.443217      Q3         Pari\n",
              "2019-09-30 -0.756352  0.816454  0.750445 -0.455947      Q3      Dispari"
            ]
          },
          "metadata": {
            "tags": []
          },
          "execution_count": 94
        }
      ]
    },
    {
      "cell_type": "code",
      "metadata": {
        "id": "CtdYgGRoinBQ"
      },
      "source": [
        "groups = df.groupby(['Quarter', 'Dispari_Pari'])"
      ],
      "execution_count": 95,
      "outputs": []
    },
    {
      "cell_type": "code",
      "metadata": {
        "colab": {
          "base_uri": "https://localhost:8080/"
        },
        "id": "NNqkgQQxiutd",
        "outputId": "8c48a6e0-f03d-434e-9801-5093e58c3888"
      },
      "source": [
        "groups.size()"
      ],
      "execution_count": 96,
      "outputs": [
        {
          "output_type": "execute_result",
          "data": {
            "text/plain": [
              "Quarter  Dispari_Pari\n",
              "Q1       Dispari         2\n",
              "         Pari            1\n",
              "Q2       Dispari         1\n",
              "         Pari            2\n",
              "Q3       Dispari         2\n",
              "         Pari            1\n",
              "dtype: int64"
            ]
          },
          "metadata": {
            "tags": []
          },
          "execution_count": 96
        }
      ]
    },
    {
      "cell_type": "code",
      "metadata": {
        "colab": {
          "base_uri": "https://localhost:8080/",
          "height": 297
        },
        "id": "IxutsxbUjKWO",
        "outputId": "74c347c0-8fe0-49d1-ab3d-85d87063e3cc"
      },
      "source": [
        "groups[['No1', 'No4']].aggregate([sum, np.mean]).round(2)"
      ],
      "execution_count": 98,
      "outputs": [
        {
          "output_type": "execute_result",
          "data": {
            "text/html": [
              "<div>\n",
              "<style scoped>\n",
              "    .dataframe tbody tr th:only-of-type {\n",
              "        vertical-align: middle;\n",
              "    }\n",
              "\n",
              "    .dataframe tbody tr th {\n",
              "        vertical-align: top;\n",
              "    }\n",
              "\n",
              "    .dataframe thead tr th {\n",
              "        text-align: left;\n",
              "    }\n",
              "\n",
              "    .dataframe thead tr:last-of-type th {\n",
              "        text-align: right;\n",
              "    }\n",
              "</style>\n",
              "<table border=\"1\" class=\"dataframe\">\n",
              "  <thead>\n",
              "    <tr>\n",
              "      <th></th>\n",
              "      <th></th>\n",
              "      <th colspan=\"2\" halign=\"left\">No1</th>\n",
              "      <th colspan=\"2\" halign=\"left\">No4</th>\n",
              "    </tr>\n",
              "    <tr>\n",
              "      <th></th>\n",
              "      <th></th>\n",
              "      <th>sum</th>\n",
              "      <th>mean</th>\n",
              "      <th>sum</th>\n",
              "      <th>mean</th>\n",
              "    </tr>\n",
              "    <tr>\n",
              "      <th>Quarter</th>\n",
              "      <th>Dispari_Pari</th>\n",
              "      <th></th>\n",
              "      <th></th>\n",
              "      <th></th>\n",
              "      <th></th>\n",
              "    </tr>\n",
              "  </thead>\n",
              "  <tbody>\n",
              "    <tr>\n",
              "      <th rowspan=\"2\" valign=\"top\">Q1</th>\n",
              "      <th>Dispari</th>\n",
              "      <td>-1.94</td>\n",
              "      <td>-0.97</td>\n",
              "      <td>0.18</td>\n",
              "      <td>0.09</td>\n",
              "    </tr>\n",
              "    <tr>\n",
              "      <th>Pari</th>\n",
              "      <td>0.98</td>\n",
              "      <td>0.98</td>\n",
              "      <td>-1.07</td>\n",
              "      <td>-1.07</td>\n",
              "    </tr>\n",
              "    <tr>\n",
              "      <th rowspan=\"2\" valign=\"top\">Q2</th>\n",
              "      <th>Dispari</th>\n",
              "      <td>-0.53</td>\n",
              "      <td>-0.53</td>\n",
              "      <td>-1.12</td>\n",
              "      <td>-1.12</td>\n",
              "    </tr>\n",
              "    <tr>\n",
              "      <th>Pari</th>\n",
              "      <td>1.04</td>\n",
              "      <td>0.52</td>\n",
              "      <td>-0.95</td>\n",
              "      <td>-0.47</td>\n",
              "    </tr>\n",
              "    <tr>\n",
              "      <th rowspan=\"2\" valign=\"top\">Q3</th>\n",
              "      <th>Dispari</th>\n",
              "      <td>-0.57</td>\n",
              "      <td>-0.29</td>\n",
              "      <td>0.91</td>\n",
              "      <td>0.45</td>\n",
              "    </tr>\n",
              "    <tr>\n",
              "      <th>Pari</th>\n",
              "      <td>-0.33</td>\n",
              "      <td>-0.33</td>\n",
              "      <td>-1.44</td>\n",
              "      <td>-1.44</td>\n",
              "    </tr>\n",
              "  </tbody>\n",
              "</table>\n",
              "</div>"
            ],
            "text/plain": [
              "                       No1         No4      \n",
              "                       sum  mean   sum  mean\n",
              "Quarter Dispari_Pari                        \n",
              "Q1      Dispari      -1.94 -0.97  0.18  0.09\n",
              "        Pari          0.98  0.98 -1.07 -1.07\n",
              "Q2      Dispari      -0.53 -0.53 -1.12 -1.12\n",
              "        Pari          1.04  0.52 -0.95 -0.47\n",
              "Q3      Dispari      -0.57 -0.29  0.91  0.45\n",
              "        Pari         -0.33 -0.33 -1.44 -1.44"
            ]
          },
          "metadata": {
            "tags": []
          },
          "execution_count": 98
        }
      ]
    }
  ]
}