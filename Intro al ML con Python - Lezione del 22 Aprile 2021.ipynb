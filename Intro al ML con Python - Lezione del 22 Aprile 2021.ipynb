{
  "nbformat": 4,
  "nbformat_minor": 0,
  "metadata": {
    "colab": {
      "name": "Untitled19.ipynb",
      "provenance": [],
      "authorship_tag": "ABX9TyPeV7ma5dayGF1Nsfa8Ikpw",
      "include_colab_link": true
    },
    "kernelspec": {
      "name": "python3",
      "display_name": "Python 3"
    },
    "language_info": {
      "name": "python"
    }
  },
  "cells": [
    {
      "cell_type": "markdown",
      "metadata": {
        "id": "view-in-github",
        "colab_type": "text"
      },
      "source": [
        "<a href=\"https://colab.research.google.com/github/MichelaPascale/AI_Python/blob/main/Intro%20al%20ML%20con%20Python%20-%20Lezione%20del%2022%20Aprile%202021.ipynb\" target=\"_parent\"><img src=\"https://colab.research.google.com/assets/colab-badge.svg\" alt=\"Open In Colab\"/></a>"
      ]
    },
    {
      "cell_type": "markdown",
      "metadata": {
        "id": "qLGfZvg6CqIW"
      },
      "source": [
        "##**Introduzione al Machine Learning con Python**"
      ]
    },
    {
      "cell_type": "code",
      "metadata": {
        "id": "mdRJS7YxCpVb"
      },
      "source": [
        "#Scikit-learn è uno dei package più utilizzati per il machine learning"
      ],
      "execution_count": null,
      "outputs": []
    },
    {
      "cell_type": "markdown",
      "metadata": {
        "id": "l31n9Ek7EzJS"
      },
      "source": [
        "###**Iris**"
      ]
    },
    {
      "cell_type": "markdown",
      "metadata": {
        "id": "m3kVecV-FXgB"
      },
      "source": [
        "Dataset che contiene 150 esempi di fiori Iris descritti da 4 features\n"
      ]
    },
    {
      "cell_type": "code",
      "metadata": {
        "id": "K6EeUya1En39"
      },
      "source": [
        "#Iris è incluso in Scikit-learn nel modulo datasets\n",
        "from sklearn.datasets import load_iris\n",
        "iris_dataset = load_iris()  #una sorta di dizionario"
      ],
      "execution_count": 3,
      "outputs": []
    },
    {
      "cell_type": "code",
      "metadata": {
        "colab": {
          "base_uri": "https://localhost:8080/"
        },
        "id": "rEfdInreFvsC",
        "outputId": "3bcc491a-2ee8-4567-b8aa-5b37aaed3e66"
      },
      "source": [
        "print(\"Keys of iris_dataset: \\n\", iris_dataset.keys())"
      ],
      "execution_count": 6,
      "outputs": [
        {
          "output_type": "stream",
          "text": [
            "Keys of iris_dataset: \n",
            " dict_keys(['data', 'target', 'target_names', 'DESCR', 'feature_names', 'filename'])\n"
          ],
          "name": "stdout"
        }
      ]
    },
    {
      "cell_type": "code",
      "metadata": {
        "colab": {
          "base_uri": "https://localhost:8080/"
        },
        "id": "Uw6TVuw8F60I",
        "outputId": "ea356f68-5f50-45ae-cb3a-2fff98b24b5b"
      },
      "source": [
        "print(iris_dataset['DESCR'][:193] + \"\\n...\")  #stampiamo solo i primi 193"
      ],
      "execution_count": 8,
      "outputs": [
        {
          "output_type": "stream",
          "text": [
            ".. _iris_dataset:\n",
            "\n",
            "Iris plants dataset\n",
            "--------------------\n",
            "\n",
            "**Data Set Characteristics:**\n",
            "\n",
            "    :Number of Instances: 150 (50 in each of three classes)\n",
            "    :Number of Attributes: 4 numeric, pre\n",
            "...\n"
          ],
          "name": "stdout"
        }
      ]
    },
    {
      "cell_type": "code",
      "metadata": {
        "colab": {
          "base_uri": "https://localhost:8080/"
        },
        "id": "xlerNKKRGh7Y",
        "outputId": "dd087da2-7aeb-4c9d-a7cd-23a31075ace9"
      },
      "source": [
        "print('Target names: ', iris_dataset['target_names'])"
      ],
      "execution_count": 17,
      "outputs": [
        {
          "output_type": "stream",
          "text": [
            "Target names:  ['setosa' 'versicolor' 'virginica']\n"
          ],
          "name": "stdout"
        }
      ]
    },
    {
      "cell_type": "code",
      "metadata": {
        "colab": {
          "base_uri": "https://localhost:8080/"
        },
        "id": "5fezmMlEGZHA",
        "outputId": "01596fb0-74e6-4857-fdac-3fcfc24ad62a"
      },
      "source": [
        "print('Features name: \\n', iris_dataset['feature_names'])"
      ],
      "execution_count": 16,
      "outputs": [
        {
          "output_type": "stream",
          "text": [
            "Features name: \n",
            " ['sepal length (cm)', 'sepal width (cm)', 'petal length (cm)', 'petal width (cm)']\n"
          ],
          "name": "stdout"
        }
      ]
    },
    {
      "cell_type": "code",
      "metadata": {
        "colab": {
          "base_uri": "https://localhost:8080/"
        },
        "id": "E-y_0LD9G3YE",
        "outputId": "65336ea2-4fb4-4451-bd56-cf737e755e46"
      },
      "source": [
        "print('Type of data: ', type(iris_dataset['data'])) #un array con 150n righe e 4 colonne"
      ],
      "execution_count": 12,
      "outputs": [
        {
          "output_type": "stream",
          "text": [
            "Type of data:  <class 'numpy.ndarray'>\n"
          ],
          "name": "stdout"
        }
      ]
    },
    {
      "cell_type": "code",
      "metadata": {
        "colab": {
          "base_uri": "https://localhost:8080/"
        },
        "id": "f8-m4UIKHK2R",
        "outputId": "f17a5452-afbe-4c72-a86a-42ef4cb913be"
      },
      "source": [
        "print('Shape of data: ', iris_dataset['data'].shape)"
      ],
      "execution_count": 13,
      "outputs": [
        {
          "output_type": "stream",
          "text": [
            "Shape of data:  (150, 4)\n"
          ],
          "name": "stdout"
        }
      ]
    },
    {
      "cell_type": "code",
      "metadata": {
        "colab": {
          "base_uri": "https://localhost:8080/"
        },
        "id": "6SJI22gUHP-0",
        "outputId": "4b1e924b-ee8b-4523-f568-803d5101b754"
      },
      "source": [
        "print('First five rows of data: \\n', iris_dataset['data'][:5])"
      ],
      "execution_count": 15,
      "outputs": [
        {
          "output_type": "stream",
          "text": [
            "First five rows of data: \n",
            " [[5.1 3.5 1.4 0.2]\n",
            " [4.9 3.  1.4 0.2]\n",
            " [4.7 3.2 1.3 0.2]\n",
            " [4.6 3.1 1.5 0.2]\n",
            " [5.  3.6 1.4 0.2]]\n"
          ],
          "name": "stdout"
        }
      ]
    },
    {
      "cell_type": "code",
      "metadata": {
        "colab": {
          "base_uri": "https://localhost:8080/"
        },
        "id": "SMLxHboaHXSt",
        "outputId": "5ba0d1c7-afee-445b-c721-643541647897"
      },
      "source": [
        "print('Shape of target: ', iris_dataset['target'].shape)"
      ],
      "execution_count": 18,
      "outputs": [
        {
          "output_type": "stream",
          "text": [
            "Shape of target:  (150,)\n"
          ],
          "name": "stdout"
        }
      ]
    },
    {
      "cell_type": "code",
      "metadata": {
        "colab": {
          "base_uri": "https://localhost:8080/"
        },
        "id": "p9yDlzTcHvJZ",
        "outputId": "6bc46c83-c468-439f-ecfe-29687bfa4ac1"
      },
      "source": [
        "print('Target: ', iris_dataset['target'])"
      ],
      "execution_count": 19,
      "outputs": [
        {
          "output_type": "stream",
          "text": [
            "Target:  [0 0 0 0 0 0 0 0 0 0 0 0 0 0 0 0 0 0 0 0 0 0 0 0 0 0 0 0 0 0 0 0 0 0 0 0 0\n",
            " 0 0 0 0 0 0 0 0 0 0 0 0 0 1 1 1 1 1 1 1 1 1 1 1 1 1 1 1 1 1 1 1 1 1 1 1 1\n",
            " 1 1 1 1 1 1 1 1 1 1 1 1 1 1 1 1 1 1 1 1 1 1 1 1 1 1 2 2 2 2 2 2 2 2 2 2 2\n",
            " 2 2 2 2 2 2 2 2 2 2 2 2 2 2 2 2 2 2 2 2 2 2 2 2 2 2 2 2 2 2 2 2 2 2 2 2 2\n",
            " 2 2]\n"
          ],
          "name": "stdout"
        }
      ]
    },
    {
      "cell_type": "markdown",
      "metadata": {
        "id": "KMPchtYmKTD7"
      },
      "source": [
        "####**Split**"
      ]
    },
    {
      "cell_type": "code",
      "metadata": {
        "id": "FA9A9B5VH0v3"
      },
      "source": [
        "from sklearn.model_selection import train_test_split\n",
        "x_train, x_test, y_train, y_test = train_test_split(\n",
        "    iris_dataset['data'], iris_dataset['target'], random_state=0)  \n",
        "#questa funzione fa il mescolamento e il 75% lo mette nel training set e il 25% nel test set"
      ],
      "execution_count": 20,
      "outputs": []
    },
    {
      "cell_type": "code",
      "metadata": {
        "colab": {
          "base_uri": "https://localhost:8080/"
        },
        "id": "SthKTafIJj4i",
        "outputId": "232b9be7-f9c3-4e33-a6a8-2b58289fe1bd"
      },
      "source": [
        "print('x_train shape: ', x_train.shape)\n",
        "print('y_train shape: ', y_train.shape)"
      ],
      "execution_count": 23,
      "outputs": [
        {
          "output_type": "stream",
          "text": [
            "x_train shape:  (112, 4)\n",
            "y_train shape:  (112,)\n"
          ],
          "name": "stdout"
        }
      ]
    },
    {
      "cell_type": "code",
      "metadata": {
        "colab": {
          "base_uri": "https://localhost:8080/"
        },
        "id": "vRLDpvj_Jp5u",
        "outputId": "08dd8a9d-6dd4-4507-effd-c28b99470cdf"
      },
      "source": [
        "print('x_test shape: ', x_test.shape)\n",
        "print('y_test shape: ', y_test.shape)"
      ],
      "execution_count": 24,
      "outputs": [
        {
          "output_type": "stream",
          "text": [
            "x_test shape:  (38, 4)\n",
            "y_test shape:  (38,)\n"
          ],
          "name": "stdout"
        }
      ]
    },
    {
      "cell_type": "code",
      "metadata": {
        "colab": {
          "base_uri": "https://localhost:8080/"
        },
        "id": "h6USkrU0Jwl7",
        "outputId": "b0dddbc0-3ee9-46f5-a6a8-71c124b328d7"
      },
      "source": [
        "x_train[:5]"
      ],
      "execution_count": 25,
      "outputs": [
        {
          "output_type": "execute_result",
          "data": {
            "text/plain": [
              "array([[5.9, 3. , 4.2, 1.5],\n",
              "       [5.8, 2.6, 4. , 1.2],\n",
              "       [6.8, 3. , 5.5, 2.1],\n",
              "       [4.7, 3.2, 1.3, 0.2],\n",
              "       [6.9, 3.1, 5.1, 2.3]])"
            ]
          },
          "metadata": {
            "tags": []
          },
          "execution_count": 25
        }
      ]
    },
    {
      "cell_type": "code",
      "metadata": {
        "colab": {
          "base_uri": "https://localhost:8080/"
        },
        "id": "j9EnYH20KEZx",
        "outputId": "a146f2dd-182e-474c-9183-4a6985d8ecf6"
      },
      "source": [
        "y_test[:5]"
      ],
      "execution_count": 27,
      "outputs": [
        {
          "output_type": "execute_result",
          "data": {
            "text/plain": [
              "array([2, 1, 0, 2, 0])"
            ]
          },
          "metadata": {
            "tags": []
          },
          "execution_count": 27
        }
      ]
    },
    {
      "cell_type": "markdown",
      "metadata": {
        "id": "URw7ss-OKa96"
      },
      "source": [
        "####**K-Nearest Neighbors**"
      ]
    },
    {
      "cell_type": "code",
      "metadata": {
        "id": "xiAfDWpQKKIB"
      },
      "source": [
        "from sklearn.neighbors import KNeighborsClassifier\n",
        "knn = KNeighborsClassifier(n_neighbors=1)  #specifico il numero dei neighbors e istanzio knn nella variabile"
      ],
      "execution_count": 28,
      "outputs": []
    },
    {
      "cell_type": "code",
      "metadata": {
        "colab": {
          "base_uri": "https://localhost:8080/"
        },
        "id": "rvtelZRaL2l1",
        "outputId": "5b2cf8ac-509d-449c-b5c7-fe89f3a428f7"
      },
      "source": [
        "#addestramento del modello -> funzione fit\n",
        "knn.fit(x_train, y_train)"
      ],
      "execution_count": 29,
      "outputs": [
        {
          "output_type": "execute_result",
          "data": {
            "text/plain": [
              "KNeighborsClassifier(algorithm='auto', leaf_size=30, metric='minkowski',\n",
              "                     metric_params=None, n_jobs=None, n_neighbors=1, p=2,\n",
              "                     weights='uniform')"
            ]
          },
          "metadata": {
            "tags": []
          },
          "execution_count": 29
        }
      ]
    },
    {
      "cell_type": "code",
      "metadata": {
        "id": "lDlc6lpFMMTO"
      },
      "source": [
        "import numpy as np\n",
        "\n",
        "#voglio capire se è in rado di fare una classificazione di un nuovo fiore\n",
        "x_new = np.array([[5, 2.9, 1, 0.2]])  #nuovo fiore con questi valori"
      ],
      "execution_count": 32,
      "outputs": []
    },
    {
      "cell_type": "code",
      "metadata": {
        "colab": {
          "base_uri": "https://localhost:8080/"
        },
        "id": "qc5duT3KMziE",
        "outputId": "5394cae3-3695-4291-db3d-fe45f2210db9"
      },
      "source": [
        "prediction = knn.predict(x_new)  #predizione della classe\n",
        "print('Prediction: ', prediction)\n",
        "print('Predicted target name: ', iris_dataset['target_names'][prediction])"
      ],
      "execution_count": 33,
      "outputs": [
        {
          "output_type": "stream",
          "text": [
            "Prediction:  [0]\n",
            "Predicted target name:  ['setosa']\n"
          ],
          "name": "stdout"
        }
      ]
    },
    {
      "cell_type": "markdown",
      "metadata": {
        "id": "sRB37TBXNc11"
      },
      "source": [
        "#####**Valutazione del modello**"
      ]
    },
    {
      "cell_type": "code",
      "metadata": {
        "colab": {
          "base_uri": "https://localhost:8080/"
        },
        "id": "1Zf2ybGrNEU9",
        "outputId": "acdae53c-dc7d-4ef7-8b5c-6a8f04c46b9f"
      },
      "source": [
        "y_pred = knn.predict(x_test)\n",
        "print('Test set prediction: \\n', y_pred)"
      ],
      "execution_count": 34,
      "outputs": [
        {
          "output_type": "stream",
          "text": [
            "Test set prediction: \n",
            " [2 1 0 2 0 2 0 1 1 1 2 1 1 1 1 0 1 1 0 0 2 1 0 0 2 0 0 1 1 0 2 1 0 2 2 1 0\n",
            " 2]\n"
          ],
          "name": "stdout"
        }
      ]
    },
    {
      "cell_type": "code",
      "metadata": {
        "colab": {
          "base_uri": "https://localhost:8080/"
        },
        "id": "1Y10sbe-NYb2",
        "outputId": "38db06ad-db14-4ec3-ecde-83d40c233f57"
      },
      "source": [
        "#per valutare la bontà tocca confrontare y_pred con x_test\n",
        "\n",
        "print('Test set score: {:.2f}'.format(np.mean(y_pred == y_test)))  \n",
        "#faccio la media di tutti i casi ottenendo la percentualoe degli esempi del test set che sono stati classificati correttamente "
      ],
      "execution_count": 36,
      "outputs": [
        {
          "output_type": "stream",
          "text": [
            "Test set score: 0.97\n"
          ],
          "name": "stdout"
        }
      ]
    },
    {
      "cell_type": "code",
      "metadata": {
        "colab": {
          "base_uri": "https://localhost:8080/"
        },
        "id": "QpQAagWIOYLM",
        "outputId": "0a63adaf-dc87-4947-a736-732b84d11753"
      },
      "source": [
        "print('Test set score: {:.2f}'.format(knn.score(x_test, y_test)))  #lo score fa tutti i conti da solo e valuta l'accuratezza del classificatore"
      ],
      "execution_count": 37,
      "outputs": [
        {
          "output_type": "stream",
          "text": [
            "Test set score: 0.97\n"
          ],
          "name": "stdout"
        }
      ]
    }
  ]
}