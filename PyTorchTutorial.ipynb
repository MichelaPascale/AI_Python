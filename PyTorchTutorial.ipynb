{
  "nbformat": 4,
  "nbformat_minor": 0,
  "metadata": {
    "colab": {
      "name": "PyTorchTutorial.ipynb",
      "provenance": [],
      "authorship_tag": "ABX9TyOZf08t7MSsoRvXa4VY6GWR",
      "include_colab_link": true
    },
    "kernelspec": {
      "name": "python3",
      "display_name": "Python 3"
    },
    "language_info": {
      "name": "python"
    }
  },
  "cells": [
    {
      "cell_type": "markdown",
      "metadata": {
        "id": "view-in-github",
        "colab_type": "text"
      },
      "source": [
        "<a href=\"https://colab.research.google.com/github/MichelaPascale/AI_Python/blob/main/PyTorchTutorial.ipynb\" target=\"_parent\"><img src=\"https://colab.research.google.com/assets/colab-badge.svg\" alt=\"Open In Colab\"/></a>"
      ]
    },
    {
      "cell_type": "markdown",
      "source": [
        "## **PyTorch Basics**"
      ],
      "metadata": {
        "id": "3N2w45ELhbSP"
      }
    },
    {
      "cell_type": "code",
      "execution_count": 1,
      "metadata": {
        "id": "BsUGavzDWeGU"
      },
      "outputs": [],
      "source": [
        "import torch"
      ]
    },
    {
      "cell_type": "code",
      "source": [
        "x = torch.empty(1)  # 1 è la size del tensor\n",
        "print(x)"
      ],
      "metadata": {
        "colab": {
          "base_uri": "https://localhost:8080/"
        },
        "id": "bmDTnK2eWjd2",
        "outputId": "c048c77e-8dc0-4da4-ed4c-9aacdd925583"
      },
      "execution_count": 2,
      "outputs": [
        {
          "output_type": "stream",
          "name": "stdout",
          "text": [
            "tensor([-2.2954e+18])\n"
          ]
        }
      ]
    },
    {
      "cell_type": "code",
      "source": [
        "#Possiamo cambiare la size\n",
        "x = torch.empty(3)  #quindi avremo un vettore a 1 dimensione e con 3 elementi\n",
        "print(x)"
      ],
      "metadata": {
        "colab": {
          "base_uri": "https://localhost:8080/"
        },
        "id": "kmj9cwhgW2ny",
        "outputId": "f81b26d9-63e0-4f42-95a0-be5b60c4a871"
      },
      "execution_count": 3,
      "outputs": [
        {
          "output_type": "stream",
          "name": "stdout",
          "text": [
            "tensor([-2.2956e+18,  3.0796e-41,  0.0000e+00])\n"
          ]
        }
      ]
    },
    {
      "cell_type": "code",
      "source": [
        "# 2d\n",
        "x = torch.empty(2, 3) # 2 dimensioni con 3 elementi\n",
        "x"
      ],
      "metadata": {
        "colab": {
          "base_uri": "https://localhost:8080/"
        },
        "id": "jf7rd4y_XMgR",
        "outputId": "5fa4168d-6ce7-4ba7-abe8-b30868e782b8"
      },
      "execution_count": 4,
      "outputs": [
        {
          "output_type": "execute_result",
          "data": {
            "text/plain": [
              "tensor([[-2.2956e+18,  3.0796e-41,  1.5975e-43],\n",
              "        [ 1.3873e-43,  1.4574e-43,  6.4460e-44]])"
            ]
          },
          "metadata": {},
          "execution_count": 4
        }
      ]
    },
    {
      "cell_type": "code",
      "source": [
        "# 3d\n",
        "x = torch.empty(2, 2, 3)\n",
        "x"
      ],
      "metadata": {
        "colab": {
          "base_uri": "https://localhost:8080/"
        },
        "id": "KjI8uZIpXWcS",
        "outputId": "7fbf71bc-b50d-4c2c-e2d6-32e2d13f3d3f"
      },
      "execution_count": 7,
      "outputs": [
        {
          "output_type": "execute_result",
          "data": {
            "text/plain": [
              "tensor([[[-2.2957e+18,  3.0796e-41,  1.5975e-43],\n",
              "         [ 1.3873e-43,  1.4574e-43,  6.4460e-44]],\n",
              "\n",
              "        [[ 1.4153e-43,  1.5274e-43,  1.5695e-43],\n",
              "         [ 1.6255e-43,  1.6956e-43,  0.0000e+00]]])"
            ]
          },
          "metadata": {},
          "execution_count": 7
        }
      ]
    },
    {
      "cell_type": "code",
      "source": [
        "# tensor con random values\n",
        "x = torch.rand(2, 2)\n",
        "x"
      ],
      "metadata": {
        "colab": {
          "base_uri": "https://localhost:8080/"
        },
        "id": "rMnXywA1XhBS",
        "outputId": "ec870da4-9f5d-4fb5-e78c-b3cb4172c088"
      },
      "execution_count": 8,
      "outputs": [
        {
          "output_type": "execute_result",
          "data": {
            "text/plain": [
              "tensor([[0.8100, 0.8361],\n",
              "        [0.8280, 0.6544]])"
            ]
          },
          "metadata": {},
          "execution_count": 8
        }
      ]
    },
    {
      "cell_type": "code",
      "source": [
        "# tensor con tutti zero\n",
        "x = torch.zeros(2,2)\n",
        "x"
      ],
      "metadata": {
        "colab": {
          "base_uri": "https://localhost:8080/"
        },
        "id": "ZyMvn8EbX1Un",
        "outputId": "dbf68a01-e4f6-4ac5-b7c7-60d7224d22cc"
      },
      "execution_count": 9,
      "outputs": [
        {
          "output_type": "execute_result",
          "data": {
            "text/plain": [
              "tensor([[0., 0.],\n",
              "        [0., 0.]])"
            ]
          },
          "metadata": {},
          "execution_count": 9
        }
      ]
    },
    {
      "cell_type": "code",
      "source": [
        "# tensor con tutti uno\n",
        "x = torch.ones(2,2)\n",
        "x"
      ],
      "metadata": {
        "colab": {
          "base_uri": "https://localhost:8080/"
        },
        "id": "EC8Db6CTX9aT",
        "outputId": "5894529c-1aa6-4139-a401-a291dbfd9414"
      },
      "execution_count": 10,
      "outputs": [
        {
          "output_type": "execute_result",
          "data": {
            "text/plain": [
              "tensor([[1., 1.],\n",
              "        [1., 1.]])"
            ]
          },
          "metadata": {},
          "execution_count": 10
        }
      ]
    },
    {
      "cell_type": "code",
      "source": [
        "x.dtype"
      ],
      "metadata": {
        "colab": {
          "base_uri": "https://localhost:8080/"
        },
        "id": "uFjOyWc4YB5J",
        "outputId": "8f8be79d-3cd2-4787-83c7-47d6be01a5c3"
      },
      "execution_count": 11,
      "outputs": [
        {
          "output_type": "execute_result",
          "data": {
            "text/plain": [
              "torch.float32"
            ]
          },
          "metadata": {},
          "execution_count": 11
        }
      ]
    },
    {
      "cell_type": "code",
      "source": [
        "# per cambiare il tipo degli elementi del tensore\n",
        "x = torch.ones(2, 2, dtype = torch.int) # anche torch.doubles, torch.float16\n",
        "x"
      ],
      "metadata": {
        "colab": {
          "base_uri": "https://localhost:8080/"
        },
        "id": "1ZkdAefUYIkR",
        "outputId": "7004bee7-a657-4bad-de96-f5db13568a3e"
      },
      "execution_count": 14,
      "outputs": [
        {
          "output_type": "execute_result",
          "data": {
            "text/plain": [
              "tensor([[1, 1],\n",
              "        [1, 1]], dtype=torch.int32)"
            ]
          },
          "metadata": {},
          "execution_count": 14
        }
      ]
    },
    {
      "cell_type": "code",
      "source": [
        "x.size()"
      ],
      "metadata": {
        "colab": {
          "base_uri": "https://localhost:8080/"
        },
        "id": "t-XR4fCEYTRU",
        "outputId": "5979c5ca-b9dd-4099-e1ad-e9dcc7dc371c"
      },
      "execution_count": 15,
      "outputs": [
        {
          "output_type": "execute_result",
          "data": {
            "text/plain": [
              "torch.Size([2, 2])"
            ]
          },
          "metadata": {},
          "execution_count": 15
        }
      ]
    },
    {
      "cell_type": "code",
      "source": [
        "# Possiamo costruire un tensore da una lista di dati\n",
        "x = torch.tensor([2.5, 0.1])\n",
        "x"
      ],
      "metadata": {
        "colab": {
          "base_uri": "https://localhost:8080/"
        },
        "id": "XaRTOZFYYj2_",
        "outputId": "47413726-868c-4282-d3f0-95f0caac5f47"
      },
      "execution_count": 16,
      "outputs": [
        {
          "output_type": "execute_result",
          "data": {
            "text/plain": [
              "tensor([2.5000, 0.1000])"
            ]
          },
          "metadata": {},
          "execution_count": 16
        }
      ]
    },
    {
      "cell_type": "markdown",
      "source": [
        "**Somma** tra gli elementi di tensori diversi"
      ],
      "metadata": {
        "id": "SgbGYHMkZ40m"
      }
    },
    {
      "cell_type": "code",
      "source": [
        "x = torch.rand(2,2)\n",
        "y = torch.rand(2,2)\n",
        "print(x)\n",
        "print(y)\n",
        "\n",
        "print('------------------------')\n",
        "z = x + y\n",
        "print('Sum:')\n",
        "print(z)"
      ],
      "metadata": {
        "colab": {
          "base_uri": "https://localhost:8080/"
        },
        "id": "Gc2UvdZ7ZPtS",
        "outputId": "35fb3f03-1be9-4366-da6a-850c546b0e45"
      },
      "execution_count": 21,
      "outputs": [
        {
          "output_type": "stream",
          "name": "stdout",
          "text": [
            "tensor([[0.0356, 0.8010],\n",
            "        [0.1820, 0.8882]])\n",
            "tensor([[0.3740, 0.6978],\n",
            "        [0.0204, 0.7253]])\n",
            "------------------------\n",
            "Sum:\n",
            "tensor([[0.4096, 1.4988],\n",
            "        [0.2024, 1.6135]])\n"
          ]
        }
      ]
    },
    {
      "cell_type": "code",
      "source": [
        "# Oppure\n",
        "z = torch.add(x,y)\n",
        "z"
      ],
      "metadata": {
        "colab": {
          "base_uri": "https://localhost:8080/"
        },
        "id": "3yDFenNSZcQw",
        "outputId": "1a7366b9-7605-4ae5-9e64-de9ddae2d4e7"
      },
      "execution_count": 22,
      "outputs": [
        {
          "output_type": "execute_result",
          "data": {
            "text/plain": [
              "tensor([[0.4096, 1.4988],\n",
              "        [0.2024, 1.6135]])"
            ]
          },
          "metadata": {},
          "execution_count": 22
        }
      ]
    },
    {
      "cell_type": "code",
      "source": [
        "# Se invece voglio modificare y con la somma di x e y\n",
        "y.add_(x)   \n",
        "y\n",
        "\n",
        "'''\n",
        "ATTENZIONE!!\n",
        "Tutte le funzioni di Torch con un underscore (_) vanno a modificare gli \n",
        "elementi della variabile corrente, quella a cui è applicata la funzione\n",
        "'''"
      ],
      "metadata": {
        "colab": {
          "base_uri": "https://localhost:8080/"
        },
        "id": "hCvtT6ziaI_F",
        "outputId": "a429bf11-d68d-47e2-ad33-cd47b62519e3"
      },
      "execution_count": 23,
      "outputs": [
        {
          "output_type": "execute_result",
          "data": {
            "text/plain": [
              "tensor([[0.4096, 1.4988],\n",
              "        [0.2024, 1.6135]])"
            ]
          },
          "metadata": {},
          "execution_count": 23
        }
      ]
    },
    {
      "cell_type": "markdown",
      "source": [
        "**Differenza**"
      ],
      "metadata": {
        "id": "nyBah2T_az00"
      }
    },
    {
      "cell_type": "code",
      "source": [
        "z = x - y\n",
        "z"
      ],
      "metadata": {
        "colab": {
          "base_uri": "https://localhost:8080/"
        },
        "id": "PYwkUBO_aWFG",
        "outputId": "87dc87bb-f3ae-471a-c7ce-f27e59e92ec6"
      },
      "execution_count": 24,
      "outputs": [
        {
          "output_type": "execute_result",
          "data": {
            "text/plain": [
              "tensor([[-0.3740, -0.6978],\n",
              "        [-0.0204, -0.7253]])"
            ]
          },
          "metadata": {},
          "execution_count": 24
        }
      ]
    },
    {
      "cell_type": "code",
      "source": [
        "# Oppure\n",
        "z = torch.sub(x,y)\n",
        "z"
      ],
      "metadata": {
        "colab": {
          "base_uri": "https://localhost:8080/"
        },
        "id": "ODIQs0XDa478",
        "outputId": "01ea3028-5a86-487a-b0e0-bc9a125ebe37"
      },
      "execution_count": 26,
      "outputs": [
        {
          "output_type": "execute_result",
          "data": {
            "text/plain": [
              "tensor([[-0.3740, -0.6978],\n",
              "        [-0.0204, -0.7253]])"
            ]
          },
          "metadata": {},
          "execution_count": 26
        }
      ]
    },
    {
      "cell_type": "markdown",
      "source": [
        "**Moltiplicazione**"
      ],
      "metadata": {
        "id": "k3xcKd68bCpD"
      }
    },
    {
      "cell_type": "code",
      "source": [
        "z = x * y\n",
        "z"
      ],
      "metadata": {
        "colab": {
          "base_uri": "https://localhost:8080/"
        },
        "id": "x3H_xA_-a_75",
        "outputId": "e3c1b060-7b90-4791-899c-52cbc71cb894"
      },
      "execution_count": 27,
      "outputs": [
        {
          "output_type": "execute_result",
          "data": {
            "text/plain": [
              "tensor([[0.0146, 1.2006],\n",
              "        [0.0368, 1.4331]])"
            ]
          },
          "metadata": {},
          "execution_count": 27
        }
      ]
    },
    {
      "cell_type": "code",
      "source": [
        "# Oppure\n",
        "z = torch.mul(x,y)\n",
        "z"
      ],
      "metadata": {
        "colab": {
          "base_uri": "https://localhost:8080/"
        },
        "id": "KpcZX4PObKL8",
        "outputId": "a84c6692-d611-41c7-8f0a-5587d68f0385"
      },
      "execution_count": 29,
      "outputs": [
        {
          "output_type": "execute_result",
          "data": {
            "text/plain": [
              "tensor([[0.0146, 1.2006],\n",
              "        [0.0368, 1.4331]])"
            ]
          },
          "metadata": {},
          "execution_count": 29
        }
      ]
    },
    {
      "cell_type": "code",
      "source": [
        "# Se voglio modificare il valore di y\n",
        "y.mul_(x)\n",
        "y"
      ],
      "metadata": {
        "id": "HAC7DUSXbNXv"
      },
      "execution_count": null,
      "outputs": []
    },
    {
      "cell_type": "markdown",
      "source": [
        "**Divisione**"
      ],
      "metadata": {
        "id": "KM3vK6LybVet"
      }
    },
    {
      "cell_type": "code",
      "source": [
        "z = x / y\n",
        "z"
      ],
      "metadata": {
        "colab": {
          "base_uri": "https://localhost:8080/"
        },
        "id": "uMadafuMbVK3",
        "outputId": "ef7d8f7f-c551-4085-92cb-fde06017f28b"
      },
      "execution_count": 31,
      "outputs": [
        {
          "output_type": "execute_result",
          "data": {
            "text/plain": [
              "tensor([[0.0869, 0.5344],\n",
              "        [0.8992, 0.5505]])"
            ]
          },
          "metadata": {},
          "execution_count": 31
        }
      ]
    },
    {
      "cell_type": "code",
      "source": [
        "# Oppure\n",
        "z = torch.div(x,y)\n",
        "z"
      ],
      "metadata": {
        "colab": {
          "base_uri": "https://localhost:8080/"
        },
        "id": "_9nWh6tsbZOS",
        "outputId": "34b1753b-7ae2-4392-b674-52d0102fc86a"
      },
      "execution_count": 33,
      "outputs": [
        {
          "output_type": "execute_result",
          "data": {
            "text/plain": [
              "tensor([[0.0869, 0.5344],\n",
              "        [0.8992, 0.5505]])"
            ]
          },
          "metadata": {},
          "execution_count": 33
        }
      ]
    },
    {
      "cell_type": "markdown",
      "source": [
        "**Slicing**"
      ],
      "metadata": {
        "id": "PNHqTVk0bkfI"
      }
    },
    {
      "cell_type": "code",
      "source": [
        "x = torch.rand(5,3)\n",
        "x"
      ],
      "metadata": {
        "colab": {
          "base_uri": "https://localhost:8080/"
        },
        "id": "rwBW0RqNbggo",
        "outputId": "09bb9fe9-bb85-4678-816f-175ae381a9b0"
      },
      "execution_count": 34,
      "outputs": [
        {
          "output_type": "execute_result",
          "data": {
            "text/plain": [
              "tensor([[0.3558, 0.5236, 0.1870],\n",
              "        [0.7372, 0.5362, 0.5993],\n",
              "        [0.7570, 0.7813, 0.4668],\n",
              "        [0.7151, 0.3361, 0.1061],\n",
              "        [0.9069, 0.2347, 0.7425]])"
            ]
          },
          "metadata": {},
          "execution_count": 34
        }
      ]
    },
    {
      "cell_type": "code",
      "source": [
        "print(x[:, 0])  # considero tutte le righe ma solo la colonna 0"
      ],
      "metadata": {
        "colab": {
          "base_uri": "https://localhost:8080/"
        },
        "id": "gTU99zAxbpIJ",
        "outputId": "c1edc7c6-cfe0-4c98-9257-a1d3195f29c9"
      },
      "execution_count": 35,
      "outputs": [
        {
          "output_type": "stream",
          "name": "stdout",
          "text": [
            "tensor([0.3558, 0.7372, 0.7570, 0.7151, 0.9069])\n"
          ]
        }
      ]
    },
    {
      "cell_type": "code",
      "source": [
        "print(x[1, :])  # considero tutta la seconda riga"
      ],
      "metadata": {
        "colab": {
          "base_uri": "https://localhost:8080/"
        },
        "id": "YmE0LT56byAd",
        "outputId": "32e52d3b-6e14-4b53-f4e4-4885d194fe6c"
      },
      "execution_count": 36,
      "outputs": [
        {
          "output_type": "stream",
          "name": "stdout",
          "text": [
            "tensor([0.7372, 0.5362, 0.5993])\n"
          ]
        }
      ]
    },
    {
      "cell_type": "code",
      "source": [
        "print(x[1, 1])  # considero solo l'elemento alla seconda riga e alla seconda colonna"
      ],
      "metadata": {
        "colab": {
          "base_uri": "https://localhost:8080/"
        },
        "id": "jEEFZf6mb3aT",
        "outputId": "efbac8d3-6226-4021-d8af-3ac2ec93bc51"
      },
      "execution_count": 37,
      "outputs": [
        {
          "output_type": "stream",
          "name": "stdout",
          "text": [
            "tensor(0.5362)\n"
          ]
        }
      ]
    },
    {
      "cell_type": "code",
      "source": [
        "# Se ho un tensore con un solo elemento posso richiamarlo con la funzione item()\n",
        "x = torch.rand(1,1)\n",
        "print(x)\n",
        "print(x.item())"
      ],
      "metadata": {
        "colab": {
          "base_uri": "https://localhost:8080/"
        },
        "id": "-l-7F_L8cFCg",
        "outputId": "4e9468df-f829-4299-df7a-9883a497b68c"
      },
      "execution_count": 41,
      "outputs": [
        {
          "output_type": "stream",
          "name": "stdout",
          "text": [
            "tensor([[0.9412]])\n",
            "0.9412114024162292\n"
          ]
        }
      ]
    },
    {
      "cell_type": "markdown",
      "source": [
        "**Reshape**"
      ],
      "metadata": {
        "id": "vRFP8BrScpef"
      }
    },
    {
      "cell_type": "code",
      "source": [
        "x = torch.rand(4,4)\n",
        "x"
      ],
      "metadata": {
        "colab": {
          "base_uri": "https://localhost:8080/"
        },
        "id": "Zx9SCTC9ccNO",
        "outputId": "dab3e559-ecc6-40e4-957c-a738820890ef"
      },
      "execution_count": 42,
      "outputs": [
        {
          "output_type": "execute_result",
          "data": {
            "text/plain": [
              "tensor([[0.9959, 0.3180, 0.4926, 0.1627],\n",
              "        [0.1343, 0.1344, 0.3133, 0.4280],\n",
              "        [0.4634, 0.3646, 0.0405, 0.5498],\n",
              "        [0.8055, 0.0622, 0.8510, 0.1624]])"
            ]
          },
          "metadata": {},
          "execution_count": 42
        }
      ]
    },
    {
      "cell_type": "code",
      "source": [
        "y = x.view(16)  # con una sola dimensione\n",
        "y"
      ],
      "metadata": {
        "colab": {
          "base_uri": "https://localhost:8080/"
        },
        "id": "9k41D2xVcfIL",
        "outputId": "c6d82ad4-172f-43d5-a3c4-250683679c33"
      },
      "execution_count": 44,
      "outputs": [
        {
          "output_type": "execute_result",
          "data": {
            "text/plain": [
              "tensor([0.9959, 0.3180, 0.4926, 0.1627, 0.1343, 0.1344, 0.3133, 0.4280, 0.4634,\n",
              "        0.3646, 0.0405, 0.5498, 0.8055, 0.0622, 0.8510, 0.1624])"
            ]
          },
          "metadata": {},
          "execution_count": 44
        }
      ]
    },
    {
      "cell_type": "code",
      "source": [
        "# Se non voglio inserire la dimensione o mettere i valori in una dimensione\n",
        "y = x.view(-1, 8)  # quindi in questo caso ho 2 dimensioni da 8\n",
        "y"
      ],
      "metadata": {
        "colab": {
          "base_uri": "https://localhost:8080/"
        },
        "id": "DywS5D4sc0Ih",
        "outputId": "e28da5a1-c2cb-4a9d-d16c-835df093c05d"
      },
      "execution_count": 45,
      "outputs": [
        {
          "output_type": "execute_result",
          "data": {
            "text/plain": [
              "tensor([[0.9959, 0.3180, 0.4926, 0.1627, 0.1343, 0.1344, 0.3133, 0.4280],\n",
              "        [0.4634, 0.3646, 0.0405, 0.5498, 0.8055, 0.0622, 0.8510, 0.1624]])"
            ]
          },
          "metadata": {},
          "execution_count": 45
        }
      ]
    },
    {
      "cell_type": "code",
      "source": [
        "y.size()"
      ],
      "metadata": {
        "colab": {
          "base_uri": "https://localhost:8080/"
        },
        "id": "jxBoBLa3dXTb",
        "outputId": "aec1f3ba-40d0-4280-df41-2c6cbe6f05d2"
      },
      "execution_count": 46,
      "outputs": [
        {
          "output_type": "execute_result",
          "data": {
            "text/plain": [
              "torch.Size([2, 8])"
            ]
          },
          "metadata": {},
          "execution_count": 46
        }
      ]
    },
    {
      "cell_type": "markdown",
      "source": [
        "**Torch to Numpy**"
      ],
      "metadata": {
        "id": "2e66FeBMdlSK"
      }
    },
    {
      "cell_type": "code",
      "source": [
        "import numpy as np"
      ],
      "metadata": {
        "id": "sbjxE3F_dg5p"
      },
      "execution_count": 47,
      "outputs": []
    },
    {
      "cell_type": "code",
      "source": [
        "a = torch.ones(5)\n",
        "a"
      ],
      "metadata": {
        "colab": {
          "base_uri": "https://localhost:8080/"
        },
        "id": "LY1MSpbjdpNl",
        "outputId": "8e0fa977-35e0-458a-f5f1-d9c82b3d47ab"
      },
      "execution_count": 48,
      "outputs": [
        {
          "output_type": "execute_result",
          "data": {
            "text/plain": [
              "tensor([1., 1., 1., 1., 1.])"
            ]
          },
          "metadata": {},
          "execution_count": 48
        }
      ]
    },
    {
      "cell_type": "code",
      "source": [
        "b = a.numpy()\n",
        "b"
      ],
      "metadata": {
        "colab": {
          "base_uri": "https://localhost:8080/"
        },
        "id": "Lebt4zeddtZR",
        "outputId": "e4ab27f2-2803-4d04-cee2-d66eb284df04"
      },
      "execution_count": 50,
      "outputs": [
        {
          "output_type": "execute_result",
          "data": {
            "text/plain": [
              "array([1., 1., 1., 1., 1.], dtype=float32)"
            ]
          },
          "metadata": {},
          "execution_count": 50
        }
      ]
    },
    {
      "cell_type": "code",
      "source": [
        "type(b)"
      ],
      "metadata": {
        "colab": {
          "base_uri": "https://localhost:8080/"
        },
        "id": "__uanbeedwfi",
        "outputId": "381016d4-347c-4b6b-efe1-aa8a63e0fc00"
      },
      "execution_count": 51,
      "outputs": [
        {
          "output_type": "execute_result",
          "data": {
            "text/plain": [
              "numpy.ndarray"
            ]
          },
          "metadata": {},
          "execution_count": 51
        }
      ]
    },
    {
      "cell_type": "code",
      "source": [
        "'''\n",
        "ATTENZIONE!!\n",
        "Se il tensore e l'array sono salvati sulla CPU e non sulla GPU, condivideranno la stessa memoria\n",
        "=> se modifico uno modifico anche l'altro\n",
        "'''\n",
        "\n",
        "# Per esempio\n",
        "a.add_(1)\n",
        "a"
      ],
      "metadata": {
        "colab": {
          "base_uri": "https://localhost:8080/"
        },
        "id": "gbdxaXt1dzgu",
        "outputId": "a587a80b-8355-4d4c-b4fc-3a27097765ed"
      },
      "execution_count": 52,
      "outputs": [
        {
          "output_type": "execute_result",
          "data": {
            "text/plain": [
              "tensor([2., 2., 2., 2., 2.])"
            ]
          },
          "metadata": {},
          "execution_count": 52
        }
      ]
    },
    {
      "cell_type": "code",
      "source": [
        "b  # => anche l'array è stato modificato"
      ],
      "metadata": {
        "colab": {
          "base_uri": "https://localhost:8080/"
        },
        "id": "TIeBBco-eR-L",
        "outputId": "1ea9152a-5ac0-43dd-910d-667fc38065ad"
      },
      "execution_count": 53,
      "outputs": [
        {
          "output_type": "execute_result",
          "data": {
            "text/plain": [
              "array([2., 2., 2., 2., 2.], dtype=float32)"
            ]
          },
          "metadata": {},
          "execution_count": 53
        }
      ]
    },
    {
      "cell_type": "markdown",
      "source": [
        "**Numpy to Torch**"
      ],
      "metadata": {
        "id": "-frYAtaie-4v"
      }
    },
    {
      "cell_type": "code",
      "source": [
        "a = np.ones(5)\n",
        "a"
      ],
      "metadata": {
        "colab": {
          "base_uri": "https://localhost:8080/"
        },
        "id": "KDys-t27eagB",
        "outputId": "1b766cdf-3cda-48a2-ccd7-abcfa594db83"
      },
      "execution_count": 55,
      "outputs": [
        {
          "output_type": "execute_result",
          "data": {
            "text/plain": [
              "array([1., 1., 1., 1., 1.])"
            ]
          },
          "metadata": {},
          "execution_count": 55
        }
      ]
    },
    {
      "cell_type": "code",
      "source": [
        "b = torch.from_numpy(a)\n",
        "b"
      ],
      "metadata": {
        "colab": {
          "base_uri": "https://localhost:8080/"
        },
        "id": "TKPWmBGCejcC",
        "outputId": "0f8227d6-8b6d-46aa-82b9-9aa3c3581896"
      },
      "execution_count": 56,
      "outputs": [
        {
          "output_type": "execute_result",
          "data": {
            "text/plain": [
              "tensor([1., 1., 1., 1., 1.], dtype=torch.float64)"
            ]
          },
          "metadata": {},
          "execution_count": 56
        }
      ]
    },
    {
      "cell_type": "code",
      "source": [
        "'''\n",
        "ATTENZIONE!!\n",
        "Anche in questo caso se modifico uno modifico anche l'altro\n",
        "'''\n",
        "\n",
        "a += 1\n",
        "print(a)\n",
        "print(b)"
      ],
      "metadata": {
        "colab": {
          "base_uri": "https://localhost:8080/"
        },
        "id": "yyZoPoGCe017",
        "outputId": "8fb2495c-2b42-4dc7-9e19-6d08b88d3ab4"
      },
      "execution_count": 59,
      "outputs": [
        {
          "output_type": "stream",
          "name": "stdout",
          "text": [
            "[2. 2. 2. 2. 2.]\n",
            "tensor([2., 2., 2., 2., 2.], dtype=torch.float64)\n"
          ]
        }
      ]
    },
    {
      "cell_type": "markdown",
      "source": [
        "**Per una variabile da ottimizzare**"
      ],
      "metadata": {
        "id": "MpayG-GTg9nW"
      }
    },
    {
      "cell_type": "code",
      "source": [
        "# Se ho una variabile che voglio otimizzare allora è necessario specificare requires_grad = True\n",
        "# questa dice che è necessario il calcolo dei gradienti\n",
        "x = torch.ones(5, requires_grad=True)\n",
        "x"
      ],
      "metadata": {
        "colab": {
          "base_uri": "https://localhost:8080/"
        },
        "id": "oGzIFHqTfI9n",
        "outputId": "7f505a3b-5815-4516-b12b-792ed020a4a1"
      },
      "execution_count": 60,
      "outputs": [
        {
          "output_type": "execute_result",
          "data": {
            "text/plain": [
              "tensor([1., 1., 1., 1., 1.], requires_grad=True)"
            ]
          },
          "metadata": {},
          "execution_count": 60
        }
      ]
    },
    {
      "cell_type": "markdown",
      "source": [
        "## **Autograd**\n",
        "Gradient Computation"
      ],
      "metadata": {
        "id": "BCfq9zY7hhuG"
      }
    },
    {
      "cell_type": "code",
      "source": [
        ""
      ],
      "metadata": {
        "id": "QTyVXDl3hmWc"
      },
      "execution_count": null,
      "outputs": []
    }
  ]
}